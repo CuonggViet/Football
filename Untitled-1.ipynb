{
 "cells": [
  {
   "cell_type": "code",
   "execution_count": 44,
   "metadata": {},
   "outputs": [],
   "source": [
    "import time\n",
    "import pandas as pd\n",
    "from nerodia.browser import Browser\n",
    "from selenium.webdriver.chrome.options import Options\n",
    "\n",
    "options = Options()\n",
    "options.add_argument('--headless')\n",
    "options.add_argument('--no-sandbox')\n",
    "browser = Browser('chrome', options=options)\n",
    "\n",
    "tags = ['goals', 'total_pass', 'touches', 'total_scoring_att', 'big_chance_missed', 'appearances', 'total_offside', 'dispossessed', 'total_cross', 'total_through_ball','goal_assist']\n",
    "se = '?se=489'\n",
    "urls = [f'https://www.premierleague.com/stats/top/players/{tag}{se}' for tag in tags]\n",
    "\n",
    "def create_df(url, stat_col):\n",
    "    def read_table_page():\n",
    "        time.sleep(6)  # time delay for data reload\n",
    "        # Create dataframe by reading from html table\n",
    "        return pd.read_html(browser.html)[0]\n",
    "\n",
    "    browser.goto(url)\n",
    "\n",
    "    df = read_table_page()\n",
    "\n",
    "    # Iterate through pages, appending data to the dataframe\n",
    "    while not browser.div(class_name=['paginationBtn', 'paginationNextContainer', 'inactive']).exists:\n",
    "        # Fire onClick event on page next element\n",
    "        browser.div(class_name=['paginationBtn', 'paginationNextContainer']).fire_event('onClick')\n",
    "\n",
    "        # Append the table from this page with the existing dataframe\n",
    "        df = pd.concat([df, read_table_page()], ignore_index=True)  # Replace append with pd.concat and ignore_index=True\n",
    "\n",
    "    # Data preprocessing\n",
    "    df = df.rename(columns={\"Stat\": stat_col})\n",
    "    df = df.iloc[:, :-1]  # Drop last \"nan\" column\n",
    "    df = df.drop(columns='Rank')  # Drop \"rank\" column\n",
    "\n",
    "    return df\n",
    "\n",
    "\n",
    "\n",
    "goals_df = create_df(urls[0], 'Goals')\n",
    "total_pass_df = create_df(urls[1], 'Total Pass')\n",
    "touches_df = create_df(urls[2], 'Touches')\n",
    "total_scoring_att_df = create_df(urls[3], 'Shots')\n",
    "big_chance_missed_df = create_df(urls[4], 'Big Chance Missed')\n",
    "appearances_df = create_df(urls[5], 'Appearances')\n",
    "total_offside_df = create_df(urls[6], 'Total Offside')\n",
    "dispossessed_df = create_df(urls[7], 'Dispossessed')\n",
    "total_cross_df = create_df(urls[8], 'Total Cross')\n",
    "total_through_ball_df = create_df(urls[9], 'Total Through Ball')\n",
    "assists_df = create_df(urls[10],'Assists')\n",
    "browser.quit()\n",
    "\n"
   ]
  },
  {
   "cell_type": "code",
   "execution_count": 76,
   "metadata": {},
   "outputs": [
    {
     "data": {
      "text/html": [
       "<div>\n",
       "<style scoped>\n",
       "    .dataframe tbody tr th:only-of-type {\n",
       "        vertical-align: middle;\n",
       "    }\n",
       "\n",
       "    .dataframe tbody tr th {\n",
       "        vertical-align: top;\n",
       "    }\n",
       "\n",
       "    .dataframe thead th {\n",
       "        text-align: right;\n",
       "    }\n",
       "</style>\n",
       "<table border=\"1\" class=\"dataframe\">\n",
       "  <thead>\n",
       "    <tr style=\"text-align: right;\">\n",
       "      <th></th>\n",
       "      <th>Player</th>\n",
       "      <th>Club</th>\n",
       "      <th>Nationality</th>\n",
       "      <th>Goals</th>\n",
       "      <th>Total Pass</th>\n",
       "      <th>Touches</th>\n",
       "      <th>Shots</th>\n",
       "      <th>Big Chance Missed</th>\n",
       "      <th>Appearances</th>\n",
       "      <th>Total Offside</th>\n",
       "      <th>Dispossessed</th>\n",
       "      <th>Total Cross</th>\n",
       "      <th>Total Through Ball</th>\n",
       "      <th>Assists</th>\n",
       "    </tr>\n",
       "  </thead>\n",
       "  <tbody>\n",
       "    <tr>\n",
       "      <th>0</th>\n",
       "      <td>Erling Haaland</td>\n",
       "      <td>Manchester City</td>\n",
       "      <td>Norway</td>\n",
       "      <td>35.0</td>\n",
       "      <td>429.0</td>\n",
       "      <td>739.0</td>\n",
       "      <td>108.0</td>\n",
       "      <td>23.0</td>\n",
       "      <td>31</td>\n",
       "      <td>7.0</td>\n",
       "      <td>24.0</td>\n",
       "      <td>11.0</td>\n",
       "      <td>4.0</td>\n",
       "      <td>7.0</td>\n",
       "    </tr>\n",
       "    <tr>\n",
       "      <th>1</th>\n",
       "      <td>Harry Kane</td>\n",
       "      <td>Tottenham Hotspur</td>\n",
       "      <td>England</td>\n",
       "      <td>25.0</td>\n",
       "      <td>742.0</td>\n",
       "      <td>1307.0</td>\n",
       "      <td>120.0</td>\n",
       "      <td>11.0</td>\n",
       "      <td>34</td>\n",
       "      <td>15.0</td>\n",
       "      <td>57.0</td>\n",
       "      <td>36.0</td>\n",
       "      <td>16.0</td>\n",
       "      <td>3.0</td>\n",
       "    </tr>\n",
       "    <tr>\n",
       "      <th>2</th>\n",
       "      <td>Ivan Toney</td>\n",
       "      <td>Brentford</td>\n",
       "      <td>England</td>\n",
       "      <td>20.0</td>\n",
       "      <td>718.0</td>\n",
       "      <td>1309.0</td>\n",
       "      <td>93.0</td>\n",
       "      <td>16.0</td>\n",
       "      <td>32</td>\n",
       "      <td>27.0</td>\n",
       "      <td>46.0</td>\n",
       "      <td>33.0</td>\n",
       "      <td>12.0</td>\n",
       "      <td>4.0</td>\n",
       "    </tr>\n",
       "    <tr>\n",
       "      <th>3</th>\n",
       "      <td>Mohamed Salah</td>\n",
       "      <td>Liverpool</td>\n",
       "      <td>Egypt</td>\n",
       "      <td>18.0</td>\n",
       "      <td>981.0</td>\n",
       "      <td>1547.0</td>\n",
       "      <td>107.0</td>\n",
       "      <td>17.0</td>\n",
       "      <td>34</td>\n",
       "      <td>20.0</td>\n",
       "      <td>62.0</td>\n",
       "      <td>25.0</td>\n",
       "      <td>11.0</td>\n",
       "      <td>7.0</td>\n",
       "    </tr>\n",
       "    <tr>\n",
       "      <th>4</th>\n",
       "      <td>Marcus Rashford</td>\n",
       "      <td>Manchester United</td>\n",
       "      <td>England</td>\n",
       "      <td>16.0</td>\n",
       "      <td>694.0</td>\n",
       "      <td>1196.0</td>\n",
       "      <td>92.0</td>\n",
       "      <td>19.0</td>\n",
       "      <td>32</td>\n",
       "      <td>15.0</td>\n",
       "      <td>42.0</td>\n",
       "      <td>23.0</td>\n",
       "      <td>2.0</td>\n",
       "      <td>5.0</td>\n",
       "    </tr>\n",
       "    <tr>\n",
       "      <th>5</th>\n",
       "      <td>Gabriel Martinelli</td>\n",
       "      <td>Arsenal</td>\n",
       "      <td>Brazil</td>\n",
       "      <td>15.0</td>\n",
       "      <td>960.0</td>\n",
       "      <td>1593.0</td>\n",
       "      <td>76.0</td>\n",
       "      <td>5.0</td>\n",
       "      <td>34</td>\n",
       "      <td>8.0</td>\n",
       "      <td>53.0</td>\n",
       "      <td>112.0</td>\n",
       "      <td>8.0</td>\n",
       "      <td>5.0</td>\n",
       "    </tr>\n",
       "    <tr>\n",
       "      <th>6</th>\n",
       "      <td>Callum Wilson</td>\n",
       "      <td>Newcastle United</td>\n",
       "      <td>England</td>\n",
       "      <td>15.0</td>\n",
       "      <td>201.0</td>\n",
       "      <td>462.0</td>\n",
       "      <td>60.0</td>\n",
       "      <td>12.0</td>\n",
       "      <td>26</td>\n",
       "      <td>14.0</td>\n",
       "      <td>28.0</td>\n",
       "      <td>5.0</td>\n",
       "      <td>2.0</td>\n",
       "      <td>4.0</td>\n",
       "    </tr>\n",
       "    <tr>\n",
       "      <th>7</th>\n",
       "      <td>Ollie Watkins</td>\n",
       "      <td>Aston Villa</td>\n",
       "      <td>England</td>\n",
       "      <td>14.0</td>\n",
       "      <td>504.0</td>\n",
       "      <td>923.0</td>\n",
       "      <td>79.0</td>\n",
       "      <td>17.0</td>\n",
       "      <td>33</td>\n",
       "      <td>17.0</td>\n",
       "      <td>36.0</td>\n",
       "      <td>9.0</td>\n",
       "      <td>NaN</td>\n",
       "      <td>6.0</td>\n",
       "    </tr>\n",
       "    <tr>\n",
       "      <th>8</th>\n",
       "      <td>Martin Ødegaard</td>\n",
       "      <td>Arsenal</td>\n",
       "      <td>Norway</td>\n",
       "      <td>14.0</td>\n",
       "      <td>1508.0</td>\n",
       "      <td>2011.0</td>\n",
       "      <td>86.0</td>\n",
       "      <td>3.0</td>\n",
       "      <td>33</td>\n",
       "      <td>1.0</td>\n",
       "      <td>43.0</td>\n",
       "      <td>87.0</td>\n",
       "      <td>21.0</td>\n",
       "      <td>7.0</td>\n",
       "    </tr>\n",
       "    <tr>\n",
       "      <th>9</th>\n",
       "      <td>Bukayo Saka</td>\n",
       "      <td>Arsenal</td>\n",
       "      <td>England</td>\n",
       "      <td>13.0</td>\n",
       "      <td>1123.0</td>\n",
       "      <td>1869.0</td>\n",
       "      <td>81.0</td>\n",
       "      <td>3.0</td>\n",
       "      <td>34</td>\n",
       "      <td>9.0</td>\n",
       "      <td>50.0</td>\n",
       "      <td>153.0</td>\n",
       "      <td>2.0</td>\n",
       "      <td>11.0</td>\n",
       "    </tr>\n",
       "    <tr>\n",
       "      <th>10</th>\n",
       "      <td>Miguel Almirón</td>\n",
       "      <td>Newcastle United</td>\n",
       "      <td>Paraguay</td>\n",
       "      <td>11.0</td>\n",
       "      <td>800.0</td>\n",
       "      <td>1180.0</td>\n",
       "      <td>54.0</td>\n",
       "      <td>4.0</td>\n",
       "      <td>29</td>\n",
       "      <td>9.0</td>\n",
       "      <td>20.0</td>\n",
       "      <td>21.0</td>\n",
       "      <td>1.0</td>\n",
       "      <td>1.0</td>\n",
       "    </tr>\n",
       "    <tr>\n",
       "      <th>11</th>\n",
       "      <td>Aleksandar Mitrovic</td>\n",
       "      <td>Fulham</td>\n",
       "      <td>Serbia</td>\n",
       "      <td>11.0</td>\n",
       "      <td>442.0</td>\n",
       "      <td>852.0</td>\n",
       "      <td>86.0</td>\n",
       "      <td>10.0</td>\n",
       "      <td>21</td>\n",
       "      <td>14.0</td>\n",
       "      <td>53.0</td>\n",
       "      <td>4.0</td>\n",
       "      <td>4.0</td>\n",
       "      <td>1.0</td>\n",
       "    </tr>\n",
       "    <tr>\n",
       "      <th>12</th>\n",
       "      <td>Rodrigo</td>\n",
       "      <td>Leeds United</td>\n",
       "      <td>Spain</td>\n",
       "      <td>11.0</td>\n",
       "      <td>467.0</td>\n",
       "      <td>747.0</td>\n",
       "      <td>61.0</td>\n",
       "      <td>4.0</td>\n",
       "      <td>27</td>\n",
       "      <td>8.0</td>\n",
       "      <td>21.0</td>\n",
       "      <td>16.0</td>\n",
       "      <td>4.0</td>\n",
       "      <td>1.0</td>\n",
       "    </tr>\n",
       "    <tr>\n",
       "      <th>13</th>\n",
       "      <td>Harvey Barnes</td>\n",
       "      <td>Leicester City</td>\n",
       "      <td>England</td>\n",
       "      <td>10.0</td>\n",
       "      <td>664.0</td>\n",
       "      <td>1125.0</td>\n",
       "      <td>65.0</td>\n",
       "      <td>8.0</td>\n",
       "      <td>30</td>\n",
       "      <td>7.0</td>\n",
       "      <td>38.0</td>\n",
       "      <td>40.0</td>\n",
       "      <td>4.0</td>\n",
       "      <td>1.0</td>\n",
       "    </tr>\n",
       "    <tr>\n",
       "      <th>14</th>\n",
       "      <td>Gabriel Jesus</td>\n",
       "      <td>Arsenal</td>\n",
       "      <td>Brazil</td>\n",
       "      <td>10.0</td>\n",
       "      <td>580.0</td>\n",
       "      <td>1057.0</td>\n",
       "      <td>68.0</td>\n",
       "      <td>16.0</td>\n",
       "      <td>22</td>\n",
       "      <td>15.0</td>\n",
       "      <td>55.0</td>\n",
       "      <td>8.0</td>\n",
       "      <td>4.0</td>\n",
       "      <td>5.0</td>\n",
       "    </tr>\n",
       "    <tr>\n",
       "      <th>15</th>\n",
       "      <td>Phil Foden</td>\n",
       "      <td>Manchester City</td>\n",
       "      <td>England</td>\n",
       "      <td>10.0</td>\n",
       "      <td>771.0</td>\n",
       "      <td>1110.0</td>\n",
       "      <td>37.0</td>\n",
       "      <td>3.0</td>\n",
       "      <td>27</td>\n",
       "      <td>4.0</td>\n",
       "      <td>27.0</td>\n",
       "      <td>79.0</td>\n",
       "      <td>2.0</td>\n",
       "      <td>5.0</td>\n",
       "    </tr>\n",
       "    <tr>\n",
       "      <th>16</th>\n",
       "      <td>Alexander Isak</td>\n",
       "      <td>Newcastle United</td>\n",
       "      <td>Sweden</td>\n",
       "      <td>10.0</td>\n",
       "      <td>227.0</td>\n",
       "      <td>442.0</td>\n",
       "      <td>38.0</td>\n",
       "      <td>4.0</td>\n",
       "      <td>17</td>\n",
       "      <td>4.0</td>\n",
       "      <td>16.0</td>\n",
       "      <td>4.0</td>\n",
       "      <td>8.0</td>\n",
       "      <td>1.0</td>\n",
       "    </tr>\n",
       "    <tr>\n",
       "      <th>17</th>\n",
       "      <td>Son Heung-Min</td>\n",
       "      <td>Tottenham Hotspur</td>\n",
       "      <td>South Korea</td>\n",
       "      <td>10.0</td>\n",
       "      <td>686.0</td>\n",
       "      <td>1187.0</td>\n",
       "      <td>76.0</td>\n",
       "      <td>7.0</td>\n",
       "      <td>32</td>\n",
       "      <td>14.0</td>\n",
       "      <td>51.0</td>\n",
       "      <td>104.0</td>\n",
       "      <td>5.0</td>\n",
       "      <td>5.0</td>\n",
       "    </tr>\n",
       "    <tr>\n",
       "      <th>18</th>\n",
       "      <td>Roberto Firmino</td>\n",
       "      <td>Liverpool</td>\n",
       "      <td>Brazil</td>\n",
       "      <td>9.0</td>\n",
       "      <td>521.0</td>\n",
       "      <td>747.0</td>\n",
       "      <td>37.0</td>\n",
       "      <td>6.0</td>\n",
       "      <td>23</td>\n",
       "      <td>4.0</td>\n",
       "      <td>22.0</td>\n",
       "      <td>12.0</td>\n",
       "      <td>7.0</td>\n",
       "      <td>4.0</td>\n",
       "    </tr>\n",
       "    <tr>\n",
       "      <th>19</th>\n",
       "      <td>Alexis Mac Allister</td>\n",
       "      <td>Brighton &amp; Hove Albion</td>\n",
       "      <td>Argentina</td>\n",
       "      <td>9.0</td>\n",
       "      <td>1523.0</td>\n",
       "      <td>1967.0</td>\n",
       "      <td>77.0</td>\n",
       "      <td>5.0</td>\n",
       "      <td>29</td>\n",
       "      <td>NaN</td>\n",
       "      <td>32.0</td>\n",
       "      <td>26.0</td>\n",
       "      <td>12.0</td>\n",
       "      <td>1.0</td>\n",
       "    </tr>\n",
       "    <tr>\n",
       "      <th>20</th>\n",
       "      <td>James Maddison</td>\n",
       "      <td>Leicester City</td>\n",
       "      <td>England</td>\n",
       "      <td>9.0</td>\n",
       "      <td>894.0</td>\n",
       "      <td>1392.0</td>\n",
       "      <td>73.0</td>\n",
       "      <td>4.0</td>\n",
       "      <td>26</td>\n",
       "      <td>5.0</td>\n",
       "      <td>25.0</td>\n",
       "      <td>108.0</td>\n",
       "      <td>9.0</td>\n",
       "      <td>8.0</td>\n",
       "    </tr>\n",
       "    <tr>\n",
       "      <th>21</th>\n",
       "      <td>Darwin Núñez</td>\n",
       "      <td>Liverpool</td>\n",
       "      <td>Uruguay</td>\n",
       "      <td>9.0</td>\n",
       "      <td>360.0</td>\n",
       "      <td>673.0</td>\n",
       "      <td>82.0</td>\n",
       "      <td>19.0</td>\n",
       "      <td>28</td>\n",
       "      <td>16.0</td>\n",
       "      <td>27.0</td>\n",
       "      <td>17.0</td>\n",
       "      <td>2.0</td>\n",
       "      <td>3.0</td>\n",
       "    </tr>\n",
       "    <tr>\n",
       "      <th>22</th>\n",
       "      <td>Julián Álvarez</td>\n",
       "      <td>Manchester City</td>\n",
       "      <td>Argentina</td>\n",
       "      <td>8.0</td>\n",
       "      <td>338.0</td>\n",
       "      <td>519.0</td>\n",
       "      <td>36.0</td>\n",
       "      <td>4.0</td>\n",
       "      <td>26</td>\n",
       "      <td>2.0</td>\n",
       "      <td>15.0</td>\n",
       "      <td>18.0</td>\n",
       "      <td>6.0</td>\n",
       "      <td>NaN</td>\n",
       "    </tr>\n",
       "    <tr>\n",
       "      <th>23</th>\n",
       "      <td>Eberechi Eze</td>\n",
       "      <td>Crystal Palace</td>\n",
       "      <td>England</td>\n",
       "      <td>8.0</td>\n",
       "      <td>941.0</td>\n",
       "      <td>1475.0</td>\n",
       "      <td>59.0</td>\n",
       "      <td>1.0</td>\n",
       "      <td>34</td>\n",
       "      <td>3.0</td>\n",
       "      <td>47.0</td>\n",
       "      <td>65.0</td>\n",
       "      <td>7.0</td>\n",
       "      <td>3.0</td>\n",
       "    </tr>\n",
       "    <tr>\n",
       "      <th>24</th>\n",
       "      <td>Pascal Groß</td>\n",
       "      <td>Brighton &amp; Hove Albion</td>\n",
       "      <td>Germany</td>\n",
       "      <td>8.0</td>\n",
       "      <td>1705.0</td>\n",
       "      <td>2240.0</td>\n",
       "      <td>32.0</td>\n",
       "      <td>3.0</td>\n",
       "      <td>31</td>\n",
       "      <td>9.0</td>\n",
       "      <td>17.0</td>\n",
       "      <td>192.0</td>\n",
       "      <td>9.0</td>\n",
       "      <td>6.0</td>\n",
       "    </tr>\n",
       "    <tr>\n",
       "      <th>25</th>\n",
       "      <td>Danny Ings</td>\n",
       "      <td>West Ham United</td>\n",
       "      <td>England</td>\n",
       "      <td>8.0</td>\n",
       "      <td>251.0</td>\n",
       "      <td>467.0</td>\n",
       "      <td>36.0</td>\n",
       "      <td>5.0</td>\n",
       "      <td>32</td>\n",
       "      <td>14.0</td>\n",
       "      <td>25.0</td>\n",
       "      <td>4.0</td>\n",
       "      <td>6.0</td>\n",
       "      <td>NaN</td>\n",
       "    </tr>\n",
       "    <tr>\n",
       "      <th>26</th>\n",
       "      <td>Brennan Johnson</td>\n",
       "      <td>Nottingham Forest</td>\n",
       "      <td>Wales</td>\n",
       "      <td>8.0</td>\n",
       "      <td>411.0</td>\n",
       "      <td>825.0</td>\n",
       "      <td>53.0</td>\n",
       "      <td>7.0</td>\n",
       "      <td>34</td>\n",
       "      <td>17.0</td>\n",
       "      <td>24.0</td>\n",
       "      <td>58.0</td>\n",
       "      <td>NaN</td>\n",
       "      <td>2.0</td>\n",
       "    </tr>\n",
       "    <tr>\n",
       "      <th>27</th>\n",
       "      <td>Leandro Trossard</td>\n",
       "      <td>Arsenal</td>\n",
       "      <td>Belgium</td>\n",
       "      <td>8.0</td>\n",
       "      <td>789.0</td>\n",
       "      <td>1228.0</td>\n",
       "      <td>49.0</td>\n",
       "      <td>3.0</td>\n",
       "      <td>32</td>\n",
       "      <td>7.0</td>\n",
       "      <td>44.0</td>\n",
       "      <td>82.0</td>\n",
       "      <td>14.0</td>\n",
       "      <td>10.0</td>\n",
       "    </tr>\n",
       "    <tr>\n",
       "      <th>28</th>\n",
       "      <td>Philip Billing</td>\n",
       "      <td>Bournemouth</td>\n",
       "      <td>Denmark</td>\n",
       "      <td>7.0</td>\n",
       "      <td>908.0</td>\n",
       "      <td>1375.0</td>\n",
       "      <td>37.0</td>\n",
       "      <td>3.0</td>\n",
       "      <td>33</td>\n",
       "      <td>3.0</td>\n",
       "      <td>32.0</td>\n",
       "      <td>35.0</td>\n",
       "      <td>5.0</td>\n",
       "      <td>1.0</td>\n",
       "    </tr>\n",
       "    <tr>\n",
       "      <th>29</th>\n",
       "      <td>Kevin De Bruyne</td>\n",
       "      <td>Manchester City</td>\n",
       "      <td>Belgium</td>\n",
       "      <td>7.0</td>\n",
       "      <td>1230.0</td>\n",
       "      <td>1791.0</td>\n",
       "      <td>64.0</td>\n",
       "      <td>3.0</td>\n",
       "      <td>29</td>\n",
       "      <td>5.0</td>\n",
       "      <td>27.0</td>\n",
       "      <td>213.0</td>\n",
       "      <td>27.0</td>\n",
       "      <td>16.0</td>\n",
       "    </tr>\n",
       "    <tr>\n",
       "      <th>30</th>\n",
       "      <td>Kai Havertz</td>\n",
       "      <td>Chelsea</td>\n",
       "      <td>Germany</td>\n",
       "      <td>7.0</td>\n",
       "      <td>747.0</td>\n",
       "      <td>1193.0</td>\n",
       "      <td>64.0</td>\n",
       "      <td>13.0</td>\n",
       "      <td>30</td>\n",
       "      <td>27.0</td>\n",
       "      <td>34.0</td>\n",
       "      <td>13.0</td>\n",
       "      <td>2.0</td>\n",
       "      <td>1.0</td>\n",
       "    </tr>\n",
       "    <tr>\n",
       "      <th>31</th>\n",
       "      <td>Solly March</td>\n",
       "      <td>Brighton &amp; Hove Albion</td>\n",
       "      <td>England</td>\n",
       "      <td>7.0</td>\n",
       "      <td>1075.0</td>\n",
       "      <td>1759.0</td>\n",
       "      <td>72.0</td>\n",
       "      <td>10.0</td>\n",
       "      <td>32</td>\n",
       "      <td>12.0</td>\n",
       "      <td>32.0</td>\n",
       "      <td>152.0</td>\n",
       "      <td>3.0</td>\n",
       "      <td>7.0</td>\n",
       "    </tr>\n",
       "    <tr>\n",
       "      <th>32</th>\n",
       "      <td>Kaoru Mitoma</td>\n",
       "      <td>Brighton &amp; Hove Albion</td>\n",
       "      <td>Japan</td>\n",
       "      <td>7.0</td>\n",
       "      <td>757.0</td>\n",
       "      <td>1154.0</td>\n",
       "      <td>40.0</td>\n",
       "      <td>7.0</td>\n",
       "      <td>27</td>\n",
       "      <td>5.0</td>\n",
       "      <td>24.0</td>\n",
       "      <td>31.0</td>\n",
       "      <td>4.0</td>\n",
       "      <td>4.0</td>\n",
       "    </tr>\n",
       "    <tr>\n",
       "      <th>33</th>\n",
       "      <td>James Ward-Prowse</td>\n",
       "      <td>Southampton</td>\n",
       "      <td>England</td>\n",
       "      <td>7.0</td>\n",
       "      <td>1742.0</td>\n",
       "      <td>2316.0</td>\n",
       "      <td>39.0</td>\n",
       "      <td>2.0</td>\n",
       "      <td>34</td>\n",
       "      <td>NaN</td>\n",
       "      <td>21.0</td>\n",
       "      <td>220.0</td>\n",
       "      <td>2.0</td>\n",
       "      <td>2.0</td>\n",
       "    </tr>\n",
       "    <tr>\n",
       "      <th>34</th>\n",
       "      <td>Wilfried Zaha</td>\n",
       "      <td>Crystal Palace</td>\n",
       "      <td>Cote D’Ivoire</td>\n",
       "      <td>7.0</td>\n",
       "      <td>543.0</td>\n",
       "      <td>1129.0</td>\n",
       "      <td>62.0</td>\n",
       "      <td>5.0</td>\n",
       "      <td>25</td>\n",
       "      <td>14.0</td>\n",
       "      <td>81.0</td>\n",
       "      <td>33.0</td>\n",
       "      <td>3.0</td>\n",
       "      <td>2.0</td>\n",
       "    </tr>\n",
       "    <tr>\n",
       "      <th>35</th>\n",
       "      <td>Joelinton</td>\n",
       "      <td>Newcastle United</td>\n",
       "      <td>Brazil</td>\n",
       "      <td>6.0</td>\n",
       "      <td>1116.0</td>\n",
       "      <td>1697.0</td>\n",
       "      <td>48.0</td>\n",
       "      <td>3.0</td>\n",
       "      <td>29</td>\n",
       "      <td>1.0</td>\n",
       "      <td>49.0</td>\n",
       "      <td>16.0</td>\n",
       "      <td>3.0</td>\n",
       "      <td>1.0</td>\n",
       "    </tr>\n",
       "    <tr>\n",
       "      <th>36</th>\n",
       "      <td>Bruno Fernandes</td>\n",
       "      <td>Manchester United</td>\n",
       "      <td>Portugal</td>\n",
       "      <td>6.0</td>\n",
       "      <td>1612.0</td>\n",
       "      <td>2198.0</td>\n",
       "      <td>73.0</td>\n",
       "      <td>6.0</td>\n",
       "      <td>32</td>\n",
       "      <td>14.0</td>\n",
       "      <td>37.0</td>\n",
       "      <td>122.0</td>\n",
       "      <td>30.0</td>\n",
       "      <td>7.0</td>\n",
       "    </tr>\n",
       "    <tr>\n",
       "      <th>37</th>\n",
       "      <td>Daniel Podence</td>\n",
       "      <td>Wolverhampton Wanderers</td>\n",
       "      <td>Portugal</td>\n",
       "      <td>6.0</td>\n",
       "      <td>567.0</td>\n",
       "      <td>933.0</td>\n",
       "      <td>40.0</td>\n",
       "      <td>3.0</td>\n",
       "      <td>30</td>\n",
       "      <td>4.0</td>\n",
       "      <td>30.0</td>\n",
       "      <td>55.0</td>\n",
       "      <td>8.0</td>\n",
       "      <td>NaN</td>\n",
       "    </tr>\n",
       "    <tr>\n",
       "      <th>38</th>\n",
       "      <td>Rúben Neves</td>\n",
       "      <td>Wolverhampton Wanderers</td>\n",
       "      <td>Portugal</td>\n",
       "      <td>6.0</td>\n",
       "      <td>1872.0</td>\n",
       "      <td>2351.0</td>\n",
       "      <td>65.0</td>\n",
       "      <td>NaN</td>\n",
       "      <td>31</td>\n",
       "      <td>NaN</td>\n",
       "      <td>11.0</td>\n",
       "      <td>38.0</td>\n",
       "      <td>7.0</td>\n",
       "      <td>NaN</td>\n",
       "    </tr>\n",
       "    <tr>\n",
       "      <th>39</th>\n",
       "      <td>Cody Gakpo</td>\n",
       "      <td>Liverpool</td>\n",
       "      <td>Netherlands</td>\n",
       "      <td>6.0</td>\n",
       "      <td>294.0</td>\n",
       "      <td>517.0</td>\n",
       "      <td>33.0</td>\n",
       "      <td>3.0</td>\n",
       "      <td>17</td>\n",
       "      <td>7.0</td>\n",
       "      <td>22.0</td>\n",
       "      <td>14.0</td>\n",
       "      <td>1.0</td>\n",
       "      <td>2.0</td>\n",
       "    </tr>\n",
       "    <tr>\n",
       "      <th>40</th>\n",
       "      <td>Bryan Mbeumo</td>\n",
       "      <td>Brentford</td>\n",
       "      <td>Cameroon</td>\n",
       "      <td>6.0</td>\n",
       "      <td>704.0</td>\n",
       "      <td>1254.0</td>\n",
       "      <td>57.0</td>\n",
       "      <td>9.0</td>\n",
       "      <td>34</td>\n",
       "      <td>4.0</td>\n",
       "      <td>48.0</td>\n",
       "      <td>137.0</td>\n",
       "      <td>6.0</td>\n",
       "      <td>6.0</td>\n",
       "    </tr>\n",
       "    <tr>\n",
       "      <th>41</th>\n",
       "      <td>Dominic Solanke</td>\n",
       "      <td>Bournemouth</td>\n",
       "      <td>England</td>\n",
       "      <td>6.0</td>\n",
       "      <td>443.0</td>\n",
       "      <td>1019.0</td>\n",
       "      <td>70.0</td>\n",
       "      <td>5.0</td>\n",
       "      <td>29</td>\n",
       "      <td>10.0</td>\n",
       "      <td>64.0</td>\n",
       "      <td>13.0</td>\n",
       "      <td>2.0</td>\n",
       "      <td>7.0</td>\n",
       "    </tr>\n",
       "    <tr>\n",
       "      <th>42</th>\n",
       "      <td>Danny Welbeck</td>\n",
       "      <td>Brighton &amp; Hove Albion</td>\n",
       "      <td>England</td>\n",
       "      <td>6.0</td>\n",
       "      <td>378.0</td>\n",
       "      <td>659.0</td>\n",
       "      <td>54.0</td>\n",
       "      <td>10.0</td>\n",
       "      <td>26</td>\n",
       "      <td>4.0</td>\n",
       "      <td>18.0</td>\n",
       "      <td>NaN</td>\n",
       "      <td>6.0</td>\n",
       "      <td>3.0</td>\n",
       "    </tr>\n",
       "    <tr>\n",
       "      <th>43</th>\n",
       "      <td>Ché Adams</td>\n",
       "      <td>Southampton</td>\n",
       "      <td>Scotland</td>\n",
       "      <td>5.0</td>\n",
       "      <td>466.0</td>\n",
       "      <td>761.0</td>\n",
       "      <td>42.0</td>\n",
       "      <td>10.0</td>\n",
       "      <td>27</td>\n",
       "      <td>13.0</td>\n",
       "      <td>24.0</td>\n",
       "      <td>11.0</td>\n",
       "      <td>6.0</td>\n",
       "      <td>3.0</td>\n",
       "    </tr>\n",
       "    <tr>\n",
       "      <th>44</th>\n",
       "      <td>Michail Antonio</td>\n",
       "      <td>-</td>\n",
       "      <td>Jamaica</td>\n",
       "      <td>5.0</td>\n",
       "      <td>276.0</td>\n",
       "      <td>640.0</td>\n",
       "      <td>34.0</td>\n",
       "      <td>5.0</td>\n",
       "      <td>31</td>\n",
       "      <td>12.0</td>\n",
       "      <td>43.0</td>\n",
       "      <td>31.0</td>\n",
       "      <td>1.0</td>\n",
       "      <td>3.0</td>\n",
       "    </tr>\n",
       "    <tr>\n",
       "      <th>45</th>\n",
       "      <td>Saïd Benrahma</td>\n",
       "      <td>West Ham United</td>\n",
       "      <td>Algeria</td>\n",
       "      <td>5.0</td>\n",
       "      <td>617.0</td>\n",
       "      <td>1073.0</td>\n",
       "      <td>67.0</td>\n",
       "      <td>1.0</td>\n",
       "      <td>32</td>\n",
       "      <td>7.0</td>\n",
       "      <td>38.0</td>\n",
       "      <td>71.0</td>\n",
       "      <td>5.0</td>\n",
       "      <td>3.0</td>\n",
       "    </tr>\n",
       "    <tr>\n",
       "      <th>46</th>\n",
       "      <td>Rodrigo Bentancur</td>\n",
       "      <td>Tottenham Hotspur</td>\n",
       "      <td>Uruguay</td>\n",
       "      <td>5.0</td>\n",
       "      <td>857.0</td>\n",
       "      <td>1128.0</td>\n",
       "      <td>15.0</td>\n",
       "      <td>1.0</td>\n",
       "      <td>18</td>\n",
       "      <td>NaN</td>\n",
       "      <td>17.0</td>\n",
       "      <td>16.0</td>\n",
       "      <td>3.0</td>\n",
       "      <td>2.0</td>\n",
       "    </tr>\n",
       "    <tr>\n",
       "      <th>47</th>\n",
       "      <td>Jarrod Bowen</td>\n",
       "      <td>West Ham United</td>\n",
       "      <td>England</td>\n",
       "      <td>5.0</td>\n",
       "      <td>657.0</td>\n",
       "      <td>1351.0</td>\n",
       "      <td>69.0</td>\n",
       "      <td>5.0</td>\n",
       "      <td>34</td>\n",
       "      <td>9.0</td>\n",
       "      <td>52.0</td>\n",
       "      <td>146.0</td>\n",
       "      <td>6.0</td>\n",
       "      <td>4.0</td>\n",
       "    </tr>\n",
       "    <tr>\n",
       "      <th>48</th>\n",
       "      <td>Emiliano Buendía</td>\n",
       "      <td>Aston Villa</td>\n",
       "      <td>Argentina</td>\n",
       "      <td>5.0</td>\n",
       "      <td>931.0</td>\n",
       "      <td>1354.0</td>\n",
       "      <td>41.0</td>\n",
       "      <td>1.0</td>\n",
       "      <td>34</td>\n",
       "      <td>1.0</td>\n",
       "      <td>55.0</td>\n",
       "      <td>18.0</td>\n",
       "      <td>10.0</td>\n",
       "      <td>2.0</td>\n",
       "    </tr>\n",
       "    <tr>\n",
       "      <th>49</th>\n",
       "      <td>Jack Grealish</td>\n",
       "      <td>Manchester City</td>\n",
       "      <td>England</td>\n",
       "      <td>5.0</td>\n",
       "      <td>985.0</td>\n",
       "      <td>1416.0</td>\n",
       "      <td>41.0</td>\n",
       "      <td>2.0</td>\n",
       "      <td>27</td>\n",
       "      <td>3.0</td>\n",
       "      <td>26.0</td>\n",
       "      <td>53.0</td>\n",
       "      <td>6.0</td>\n",
       "      <td>7.0</td>\n",
       "    </tr>\n",
       "    <tr>\n",
       "      <th>50</th>\n",
       "      <td>Kelechi Iheanacho</td>\n",
       "      <td>Leicester City</td>\n",
       "      <td>Nigeria</td>\n",
       "      <td>5.0</td>\n",
       "      <td>267.0</td>\n",
       "      <td>462.0</td>\n",
       "      <td>37.0</td>\n",
       "      <td>6.0</td>\n",
       "      <td>26</td>\n",
       "      <td>11.0</td>\n",
       "      <td>33.0</td>\n",
       "      <td>6.0</td>\n",
       "      <td>4.0</td>\n",
       "      <td>4.0</td>\n",
       "    </tr>\n",
       "    <tr>\n",
       "      <th>51</th>\n",
       "      <td>Mathias Jensen</td>\n",
       "      <td>Brentford</td>\n",
       "      <td>Denmark</td>\n",
       "      <td>5.0</td>\n",
       "      <td>1096.0</td>\n",
       "      <td>1806.0</td>\n",
       "      <td>21.0</td>\n",
       "      <td>NaN</td>\n",
       "      <td>34</td>\n",
       "      <td>1.0</td>\n",
       "      <td>30.0</td>\n",
       "      <td>150.0</td>\n",
       "      <td>5.0</td>\n",
       "      <td>5.0</td>\n",
       "    </tr>\n",
       "    <tr>\n",
       "      <th>52</th>\n",
       "      <td>Jefferson Lerma</td>\n",
       "      <td>Bournemouth</td>\n",
       "      <td>Colombia</td>\n",
       "      <td>5.0</td>\n",
       "      <td>1396.0</td>\n",
       "      <td>1783.0</td>\n",
       "      <td>33.0</td>\n",
       "      <td>3.0</td>\n",
       "      <td>33</td>\n",
       "      <td>2.0</td>\n",
       "      <td>15.0</td>\n",
       "      <td>11.0</td>\n",
       "      <td>7.0</td>\n",
       "      <td>NaN</td>\n",
       "    </tr>\n",
       "    <tr>\n",
       "      <th>53</th>\n",
       "      <td>Riyad Mahrez</td>\n",
       "      <td>Manchester City</td>\n",
       "      <td>Algeria</td>\n",
       "      <td>5.0</td>\n",
       "      <td>821.0</td>\n",
       "      <td>1174.0</td>\n",
       "      <td>37.0</td>\n",
       "      <td>4.0</td>\n",
       "      <td>25</td>\n",
       "      <td>6.0</td>\n",
       "      <td>17.0</td>\n",
       "      <td>78.0</td>\n",
       "      <td>8.0</td>\n",
       "      <td>7.0</td>\n",
       "    </tr>\n",
       "    <tr>\n",
       "      <th>54</th>\n",
       "      <td>Dwight McNeil</td>\n",
       "      <td>Everton</td>\n",
       "      <td>England</td>\n",
       "      <td>5.0</td>\n",
       "      <td>636.0</td>\n",
       "      <td>1258.0</td>\n",
       "      <td>41.0</td>\n",
       "      <td>1.0</td>\n",
       "      <td>32</td>\n",
       "      <td>1.0</td>\n",
       "      <td>39.0</td>\n",
       "      <td>164.0</td>\n",
       "      <td>3.0</td>\n",
       "      <td>2.0</td>\n",
       "    </tr>\n",
       "    <tr>\n",
       "      <th>55</th>\n",
       "      <td>Jadon Sancho</td>\n",
       "      <td>Manchester United</td>\n",
       "      <td>England</td>\n",
       "      <td>5.0</td>\n",
       "      <td>585.0</td>\n",
       "      <td>819.0</td>\n",
       "      <td>17.0</td>\n",
       "      <td>2.0</td>\n",
       "      <td>21</td>\n",
       "      <td>7.0</td>\n",
       "      <td>18.0</td>\n",
       "      <td>16.0</td>\n",
       "      <td>3.0</td>\n",
       "      <td>2.0</td>\n",
       "    </tr>\n",
       "    <tr>\n",
       "      <th>56</th>\n",
       "      <td>Luis Sinisterra</td>\n",
       "      <td>Leeds United</td>\n",
       "      <td>Colombia</td>\n",
       "      <td>5.0</td>\n",
       "      <td>329.0</td>\n",
       "      <td>523.0</td>\n",
       "      <td>28.0</td>\n",
       "      <td>2.0</td>\n",
       "      <td>19</td>\n",
       "      <td>5.0</td>\n",
       "      <td>23.0</td>\n",
       "      <td>7.0</td>\n",
       "      <td>2.0</td>\n",
       "      <td>NaN</td>\n",
       "    </tr>\n",
       "    <tr>\n",
       "      <th>57</th>\n",
       "      <td>Marcus Tavernier</td>\n",
       "      <td>Bournemouth</td>\n",
       "      <td>England</td>\n",
       "      <td>5.0</td>\n",
       "      <td>596.0</td>\n",
       "      <td>1114.0</td>\n",
       "      <td>37.0</td>\n",
       "      <td>1.0</td>\n",
       "      <td>23</td>\n",
       "      <td>4.0</td>\n",
       "      <td>40.0</td>\n",
       "      <td>93.0</td>\n",
       "      <td>5.0</td>\n",
       "      <td>4.0</td>\n",
       "    </tr>\n",
       "    <tr>\n",
       "      <th>58</th>\n",
       "      <td>Diogo Jota</td>\n",
       "      <td>Liverpool</td>\n",
       "      <td>Portugal</td>\n",
       "      <td>5.0</td>\n",
       "      <td>315.0</td>\n",
       "      <td>507.0</td>\n",
       "      <td>29.0</td>\n",
       "      <td>10.0</td>\n",
       "      <td>18</td>\n",
       "      <td>3.0</td>\n",
       "      <td>17.0</td>\n",
       "      <td>7.0</td>\n",
       "      <td>2.0</td>\n",
       "      <td>4.0</td>\n",
       "    </tr>\n",
       "    <tr>\n",
       "      <th>59</th>\n",
       "      <td>Yoane Wissa</td>\n",
       "      <td>Brentford</td>\n",
       "      <td>DR Congo</td>\n",
       "      <td>5.0</td>\n",
       "      <td>276.0</td>\n",
       "      <td>502.0</td>\n",
       "      <td>25.0</td>\n",
       "      <td>3.0</td>\n",
       "      <td>34</td>\n",
       "      <td>16.0</td>\n",
       "      <td>24.0</td>\n",
       "      <td>12.0</td>\n",
       "      <td>4.0</td>\n",
       "      <td>2.0</td>\n",
       "    </tr>\n",
       "    <tr>\n",
       "      <th>60</th>\n",
       "      <td>Granit Xhaka</td>\n",
       "      <td>Arsenal</td>\n",
       "      <td>Switzerland</td>\n",
       "      <td>5.0</td>\n",
       "      <td>1468.0</td>\n",
       "      <td>1845.0</td>\n",
       "      <td>36.0</td>\n",
       "      <td>3.0</td>\n",
       "      <td>33</td>\n",
       "      <td>3.0</td>\n",
       "      <td>25.0</td>\n",
       "      <td>39.0</td>\n",
       "      <td>5.0</td>\n",
       "      <td>7.0</td>\n",
       "    </tr>\n",
       "    <tr>\n",
       "      <th>61</th>\n",
       "      <td>Taiwo Awoniyi</td>\n",
       "      <td>Nottingham Forest</td>\n",
       "      <td>Nigeria</td>\n",
       "      <td>4.0</td>\n",
       "      <td>174.0</td>\n",
       "      <td>386.0</td>\n",
       "      <td>28.0</td>\n",
       "      <td>8.0</td>\n",
       "      <td>23</td>\n",
       "      <td>11.0</td>\n",
       "      <td>23.0</td>\n",
       "      <td>3.0</td>\n",
       "      <td>2.0</td>\n",
       "      <td>1.0</td>\n",
       "    </tr>\n",
       "    <tr>\n",
       "      <th>62</th>\n",
       "      <td>Jordan Ayew</td>\n",
       "      <td>Crystal Palace</td>\n",
       "      <td>Ghana</td>\n",
       "      <td>4.0</td>\n",
       "      <td>724.0</td>\n",
       "      <td>1375.0</td>\n",
       "      <td>27.0</td>\n",
       "      <td>NaN</td>\n",
       "      <td>34</td>\n",
       "      <td>3.0</td>\n",
       "      <td>75.0</td>\n",
       "      <td>43.0</td>\n",
       "      <td>5.0</td>\n",
       "      <td>2.0</td>\n",
       "    </tr>\n",
       "    <tr>\n",
       "      <th>63</th>\n",
       "      <td>Leon Bailey</td>\n",
       "      <td>Aston Villa</td>\n",
       "      <td>Jamaica</td>\n",
       "      <td>4.0</td>\n",
       "      <td>399.0</td>\n",
       "      <td>818.0</td>\n",
       "      <td>46.0</td>\n",
       "      <td>3.0</td>\n",
       "      <td>29</td>\n",
       "      <td>8.0</td>\n",
       "      <td>51.0</td>\n",
       "      <td>87.0</td>\n",
       "      <td>3.0</td>\n",
       "      <td>3.0</td>\n",
       "    </tr>\n",
       "    <tr>\n",
       "      <th>64</th>\n",
       "      <td>Patrick Bamford</td>\n",
       "      <td>Leeds United</td>\n",
       "      <td>England</td>\n",
       "      <td>4.0</td>\n",
       "      <td>290.0</td>\n",
       "      <td>540.0</td>\n",
       "      <td>44.0</td>\n",
       "      <td>12.0</td>\n",
       "      <td>25</td>\n",
       "      <td>15.0</td>\n",
       "      <td>18.0</td>\n",
       "      <td>2.0</td>\n",
       "      <td>1.0</td>\n",
       "      <td>2.0</td>\n",
       "    </tr>\n",
       "    <tr>\n",
       "      <th>65</th>\n",
       "      <td>Patson Daka</td>\n",
       "      <td>Leicester City</td>\n",
       "      <td>Zambia</td>\n",
       "      <td>4.0</td>\n",
       "      <td>252.0</td>\n",
       "      <td>445.0</td>\n",
       "      <td>30.0</td>\n",
       "      <td>5.0</td>\n",
       "      <td>27</td>\n",
       "      <td>7.0</td>\n",
       "      <td>19.0</td>\n",
       "      <td>7.0</td>\n",
       "      <td>5.0</td>\n",
       "      <td>3.0</td>\n",
       "    </tr>\n",
       "    <tr>\n",
       "      <th>66</th>\n",
       "      <td>Josh Dasilva</td>\n",
       "      <td>Brentford</td>\n",
       "      <td>England</td>\n",
       "      <td>4.0</td>\n",
       "      <td>545.0</td>\n",
       "      <td>815.0</td>\n",
       "      <td>17.0</td>\n",
       "      <td>1.0</td>\n",
       "      <td>32</td>\n",
       "      <td>NaN</td>\n",
       "      <td>27.0</td>\n",
       "      <td>33.0</td>\n",
       "      <td>1.0</td>\n",
       "      <td>2.0</td>\n",
       "    </tr>\n",
       "    <tr>\n",
       "      <th>67</th>\n",
       "      <td>Bobby De Cordova-Reid</td>\n",
       "      <td>-</td>\n",
       "      <td>Jamaica</td>\n",
       "      <td>4.0</td>\n",
       "      <td>770.0</td>\n",
       "      <td>1252.0</td>\n",
       "      <td>31.0</td>\n",
       "      <td>2.0</td>\n",
       "      <td>33</td>\n",
       "      <td>11.0</td>\n",
       "      <td>32.0</td>\n",
       "      <td>53.0</td>\n",
       "      <td>1.0</td>\n",
       "      <td>1.0</td>\n",
       "    </tr>\n",
       "    <tr>\n",
       "      <th>68</th>\n",
       "      <td>Luis Díaz</td>\n",
       "      <td>Liverpool</td>\n",
       "      <td>Colombia</td>\n",
       "      <td>4.0</td>\n",
       "      <td>343.0</td>\n",
       "      <td>548.0</td>\n",
       "      <td>21.0</td>\n",
       "      <td>2.0</td>\n",
       "      <td>13</td>\n",
       "      <td>2.0</td>\n",
       "      <td>30.0</td>\n",
       "      <td>7.0</td>\n",
       "      <td>NaN</td>\n",
       "      <td>2.0</td>\n",
       "    </tr>\n",
       "    <tr>\n",
       "      <th>69</th>\n",
       "      <td>Antony</td>\n",
       "      <td>Manchester United</td>\n",
       "      <td>Brazil</td>\n",
       "      <td>4.0</td>\n",
       "      <td>640.0</td>\n",
       "      <td>947.0</td>\n",
       "      <td>58.0</td>\n",
       "      <td>3.0</td>\n",
       "      <td>21</td>\n",
       "      <td>2.0</td>\n",
       "      <td>10.0</td>\n",
       "      <td>30.0</td>\n",
       "      <td>3.0</td>\n",
       "      <td>1.0</td>\n",
       "    </tr>\n",
       "    <tr>\n",
       "      <th>70</th>\n",
       "      <td>Odsonne Édouard</td>\n",
       "      <td>Crystal Palace</td>\n",
       "      <td>France</td>\n",
       "      <td>4.0</td>\n",
       "      <td>370.0</td>\n",
       "      <td>689.0</td>\n",
       "      <td>36.0</td>\n",
       "      <td>3.0</td>\n",
       "      <td>31</td>\n",
       "      <td>11.0</td>\n",
       "      <td>50.0</td>\n",
       "      <td>4.0</td>\n",
       "      <td>NaN</td>\n",
       "      <td>2.0</td>\n",
       "    </tr>\n",
       "    <tr>\n",
       "      <th>71</th>\n",
       "      <td>Evan Ferguson</td>\n",
       "      <td>Brighton &amp; Hove Albion</td>\n",
       "      <td>Ireland</td>\n",
       "      <td>4.0</td>\n",
       "      <td>155.0</td>\n",
       "      <td>257.0</td>\n",
       "      <td>23.0</td>\n",
       "      <td>3.0</td>\n",
       "      <td>13</td>\n",
       "      <td>1.0</td>\n",
       "      <td>12.0</td>\n",
       "      <td>0.0</td>\n",
       "      <td>1.0</td>\n",
       "      <td>2.0</td>\n",
       "    </tr>\n",
       "    <tr>\n",
       "      <th>72</th>\n",
       "      <td>Morgan Gibbs-White</td>\n",
       "      <td>Nottingham Forest</td>\n",
       "      <td>England</td>\n",
       "      <td>4.0</td>\n",
       "      <td>889.0</td>\n",
       "      <td>1542.0</td>\n",
       "      <td>57.0</td>\n",
       "      <td>4.0</td>\n",
       "      <td>33</td>\n",
       "      <td>5.0</td>\n",
       "      <td>42.0</td>\n",
       "      <td>157.0</td>\n",
       "      <td>16.0</td>\n",
       "      <td>6.0</td>\n",
       "    </tr>\n",
       "    <tr>\n",
       "      <th>73</th>\n",
       "      <td>Demarai Gray</td>\n",
       "      <td>Everton</td>\n",
       "      <td>England</td>\n",
       "      <td>4.0</td>\n",
       "      <td>629.0</td>\n",
       "      <td>1250.0</td>\n",
       "      <td>52.0</td>\n",
       "      <td>4.0</td>\n",
       "      <td>30</td>\n",
       "      <td>13.0</td>\n",
       "      <td>63.0</td>\n",
       "      <td>160.0</td>\n",
       "      <td>2.0</td>\n",
       "      <td>1.0</td>\n",
       "    </tr>\n",
       "    <tr>\n",
       "      <th>74</th>\n",
       "      <td>Ilkay Gündogan</td>\n",
       "      <td>Manchester City</td>\n",
       "      <td>Germany</td>\n",
       "      <td>4.0</td>\n",
       "      <td>1235.0</td>\n",
       "      <td>1535.0</td>\n",
       "      <td>48.0</td>\n",
       "      <td>8.0</td>\n",
       "      <td>28</td>\n",
       "      <td>6.0</td>\n",
       "      <td>25.0</td>\n",
       "      <td>27.0</td>\n",
       "      <td>15.0</td>\n",
       "      <td>3.0</td>\n",
       "    </tr>\n",
       "    <tr>\n",
       "      <th>75</th>\n",
       "      <td>Jack Harrison</td>\n",
       "      <td>Leeds United</td>\n",
       "      <td>England</td>\n",
       "      <td>4.0</td>\n",
       "      <td>866.0</td>\n",
       "      <td>1569.0</td>\n",
       "      <td>35.0</td>\n",
       "      <td>4.0</td>\n",
       "      <td>32</td>\n",
       "      <td>3.0</td>\n",
       "      <td>54.0</td>\n",
       "      <td>161.0</td>\n",
       "      <td>4.0</td>\n",
       "      <td>7.0</td>\n",
       "    </tr>\n",
       "    <tr>\n",
       "      <th>76</th>\n",
       "      <td>Andreas Pereira</td>\n",
       "      <td>Fulham</td>\n",
       "      <td>Brazil</td>\n",
       "      <td>4.0</td>\n",
       "      <td>855.0</td>\n",
       "      <td>1405.0</td>\n",
       "      <td>62.0</td>\n",
       "      <td>4.0</td>\n",
       "      <td>33</td>\n",
       "      <td>2.0</td>\n",
       "      <td>51.0</td>\n",
       "      <td>196.0</td>\n",
       "      <td>1.0</td>\n",
       "      <td>6.0</td>\n",
       "    </tr>\n",
       "    <tr>\n",
       "      <th>77</th>\n",
       "      <td>Pierre-Emile Højbjerg</td>\n",
       "      <td>Tottenham Hotspur</td>\n",
       "      <td>Denmark</td>\n",
       "      <td>4.0</td>\n",
       "      <td>2145.0</td>\n",
       "      <td>2629.0</td>\n",
       "      <td>32.0</td>\n",
       "      <td>NaN</td>\n",
       "      <td>33</td>\n",
       "      <td>1.0</td>\n",
       "      <td>35.0</td>\n",
       "      <td>14.0</td>\n",
       "      <td>8.0</td>\n",
       "      <td>5.0</td>\n",
       "    </tr>\n",
       "    <tr>\n",
       "      <th>78</th>\n",
       "      <td>Anthony Martial</td>\n",
       "      <td>Manchester United</td>\n",
       "      <td>France</td>\n",
       "      <td>4.0</td>\n",
       "      <td>219.0</td>\n",
       "      <td>333.0</td>\n",
       "      <td>18.0</td>\n",
       "      <td>7.0</td>\n",
       "      <td>16</td>\n",
       "      <td>6.0</td>\n",
       "      <td>14.0</td>\n",
       "      <td>3.0</td>\n",
       "      <td>3.0</td>\n",
       "      <td>2.0</td>\n",
       "    </tr>\n",
       "    <tr>\n",
       "      <th>79</th>\n",
       "      <td>Kieffer Moore</td>\n",
       "      <td>Bournemouth</td>\n",
       "      <td>Wales</td>\n",
       "      <td>4.0</td>\n",
       "      <td>331.0</td>\n",
       "      <td>545.0</td>\n",
       "      <td>21.0</td>\n",
       "      <td>5.0</td>\n",
       "      <td>24</td>\n",
       "      <td>NaN</td>\n",
       "      <td>32.0</td>\n",
       "      <td>6.0</td>\n",
       "      <td>NaN</td>\n",
       "      <td>NaN</td>\n",
       "    </tr>\n",
       "    <tr>\n",
       "      <th>80</th>\n",
       "      <td>Bernardo Silva</td>\n",
       "      <td>Manchester City</td>\n",
       "      <td>Portugal</td>\n",
       "      <td>4.0</td>\n",
       "      <td>1329.0</td>\n",
       "      <td>1747.0</td>\n",
       "      <td>25.0</td>\n",
       "      <td>1.0</td>\n",
       "      <td>31</td>\n",
       "      <td>2.0</td>\n",
       "      <td>31.0</td>\n",
       "      <td>73.0</td>\n",
       "      <td>3.0</td>\n",
       "      <td>5.0</td>\n",
       "    </tr>\n",
       "    <tr>\n",
       "      <th>81</th>\n",
       "      <td>Jacob Murphy</td>\n",
       "      <td>Newcastle United</td>\n",
       "      <td>England</td>\n",
       "      <td>4.0</td>\n",
       "      <td>356.0</td>\n",
       "      <td>590.0</td>\n",
       "      <td>28.0</td>\n",
       "      <td>1.0</td>\n",
       "      <td>33</td>\n",
       "      <td>2.0</td>\n",
       "      <td>20.0</td>\n",
       "      <td>51.0</td>\n",
       "      <td>6.0</td>\n",
       "      <td>2.0</td>\n",
       "    </tr>\n",
       "    <tr>\n",
       "      <th>82</th>\n",
       "      <td>Eddie Nketiah</td>\n",
       "      <td>Arsenal</td>\n",
       "      <td>England</td>\n",
       "      <td>4.0</td>\n",
       "      <td>236.0</td>\n",
       "      <td>436.0</td>\n",
       "      <td>40.0</td>\n",
       "      <td>10.0</td>\n",
       "      <td>26</td>\n",
       "      <td>8.0</td>\n",
       "      <td>18.0</td>\n",
       "      <td>5.0</td>\n",
       "      <td>NaN</td>\n",
       "      <td>1.0</td>\n",
       "    </tr>\n",
       "    <tr>\n",
       "      <th>83</th>\n",
       "      <td>Jacob Ramsey</td>\n",
       "      <td>Aston Villa</td>\n",
       "      <td>England</td>\n",
       "      <td>4.0</td>\n",
       "      <td>782.0</td>\n",
       "      <td>1219.0</td>\n",
       "      <td>27.0</td>\n",
       "      <td>1.0</td>\n",
       "      <td>31</td>\n",
       "      <td>2.0</td>\n",
       "      <td>34.0</td>\n",
       "      <td>12.0</td>\n",
       "      <td>2.0</td>\n",
       "      <td>5.0</td>\n",
       "    </tr>\n",
       "    <tr>\n",
       "      <th>84</th>\n",
       "      <td>Douglas Luiz</td>\n",
       "      <td>Aston Villa</td>\n",
       "      <td>Brazil</td>\n",
       "      <td>4.0</td>\n",
       "      <td>1506.0</td>\n",
       "      <td>1989.0</td>\n",
       "      <td>29.0</td>\n",
       "      <td>NaN</td>\n",
       "      <td>33</td>\n",
       "      <td>2.0</td>\n",
       "      <td>27.0</td>\n",
       "      <td>86.0</td>\n",
       "      <td>4.0</td>\n",
       "      <td>5.0</td>\n",
       "    </tr>\n",
       "    <tr>\n",
       "      <th>85</th>\n",
       "      <td>Manor Solomon</td>\n",
       "      <td>Fulham</td>\n",
       "      <td>Israel</td>\n",
       "      <td>4.0</td>\n",
       "      <td>176.0</td>\n",
       "      <td>296.0</td>\n",
       "      <td>8.0</td>\n",
       "      <td>NaN</td>\n",
       "      <td>15</td>\n",
       "      <td>2.0</td>\n",
       "      <td>10.0</td>\n",
       "      <td>4.0</td>\n",
       "      <td>1.0</td>\n",
       "      <td>NaN</td>\n",
       "    </tr>\n",
       "    <tr>\n",
       "      <th>86</th>\n",
       "      <td>Raheem Sterling</td>\n",
       "      <td>Chelsea</td>\n",
       "      <td>England</td>\n",
       "      <td>4.0</td>\n",
       "      <td>545.0</td>\n",
       "      <td>872.0</td>\n",
       "      <td>30.0</td>\n",
       "      <td>7.0</td>\n",
       "      <td>24</td>\n",
       "      <td>9.0</td>\n",
       "      <td>45.0</td>\n",
       "      <td>40.0</td>\n",
       "      <td>6.0</td>\n",
       "      <td>2.0</td>\n",
       "    </tr>\n",
       "    <tr>\n",
       "      <th>87</th>\n",
       "      <td>Crysencio Summerville</td>\n",
       "      <td>Leeds United</td>\n",
       "      <td>Netherlands</td>\n",
       "      <td>4.0</td>\n",
       "      <td>386.0</td>\n",
       "      <td>705.0</td>\n",
       "      <td>26.0</td>\n",
       "      <td>2.0</td>\n",
       "      <td>26</td>\n",
       "      <td>8.0</td>\n",
       "      <td>35.0</td>\n",
       "      <td>14.0</td>\n",
       "      <td>1.0</td>\n",
       "      <td>2.0</td>\n",
       "    </tr>\n",
       "    <tr>\n",
       "      <th>88</th>\n",
       "      <td>Lucas Paquetá</td>\n",
       "      <td>West Ham United</td>\n",
       "      <td>Brazil</td>\n",
       "      <td>4.0</td>\n",
       "      <td>962.0</td>\n",
       "      <td>1371.0</td>\n",
       "      <td>46.0</td>\n",
       "      <td>2.0</td>\n",
       "      <td>25</td>\n",
       "      <td>1.0</td>\n",
       "      <td>37.0</td>\n",
       "      <td>21.0</td>\n",
       "      <td>12.0</td>\n",
       "      <td>2.0</td>\n",
       "    </tr>\n",
       "    <tr>\n",
       "      <th>89</th>\n",
       "      <td>Carlos Alcaraz</td>\n",
       "      <td>Southampton</td>\n",
       "      <td>Argentina</td>\n",
       "      <td>3.0</td>\n",
       "      <td>204.0</td>\n",
       "      <td>344.0</td>\n",
       "      <td>19.0</td>\n",
       "      <td>NaN</td>\n",
       "      <td>14</td>\n",
       "      <td>1.0</td>\n",
       "      <td>19.0</td>\n",
       "      <td>3.0</td>\n",
       "      <td>1.0</td>\n",
       "      <td>1.0</td>\n",
       "    </tr>\n",
       "    <tr>\n",
       "      <th>90</th>\n",
       "      <td>Carlos Vinícius</td>\n",
       "      <td>Fulham</td>\n",
       "      <td>Brazil</td>\n",
       "      <td>3.0</td>\n",
       "      <td>151.0</td>\n",
       "      <td>311.0</td>\n",
       "      <td>17.0</td>\n",
       "      <td>3.0</td>\n",
       "      <td>25</td>\n",
       "      <td>4.0</td>\n",
       "      <td>17.0</td>\n",
       "      <td>5.0</td>\n",
       "      <td>3.0</td>\n",
       "      <td>1.0</td>\n",
       "    </tr>\n",
       "    <tr>\n",
       "      <th>91</th>\n",
       "      <td>Willian</td>\n",
       "      <td>Fulham</td>\n",
       "      <td>Brazil</td>\n",
       "      <td>3.0</td>\n",
       "      <td>703.0</td>\n",
       "      <td>998.0</td>\n",
       "      <td>35.0</td>\n",
       "      <td>2.0</td>\n",
       "      <td>23</td>\n",
       "      <td>3.0</td>\n",
       "      <td>21.0</td>\n",
       "      <td>43.0</td>\n",
       "      <td>3.0</td>\n",
       "      <td>3.0</td>\n",
       "    </tr>\n",
       "    <tr>\n",
       "      <th>92</th>\n",
       "      <td>Gabriel Magalhães</td>\n",
       "      <td>Arsenal</td>\n",
       "      <td>Brazil</td>\n",
       "      <td>3.0</td>\n",
       "      <td>2166.0</td>\n",
       "      <td>2560.0</td>\n",
       "      <td>30.0</td>\n",
       "      <td>2.0</td>\n",
       "      <td>34</td>\n",
       "      <td>1.0</td>\n",
       "      <td>4.0</td>\n",
       "      <td>4.0</td>\n",
       "      <td>1.0</td>\n",
       "      <td>NaN</td>\n",
       "    </tr>\n",
       "    <tr>\n",
       "      <th>93</th>\n",
       "      <td>Anthony Gordon</td>\n",
       "      <td>Newcastle United</td>\n",
       "      <td>England</td>\n",
       "      <td>3.0</td>\n",
       "      <td>405.0</td>\n",
       "      <td>758.0</td>\n",
       "      <td>33.0</td>\n",
       "      <td>5.0</td>\n",
       "      <td>27</td>\n",
       "      <td>4.0</td>\n",
       "      <td>27.0</td>\n",
       "      <td>33.0</td>\n",
       "      <td>2.0</td>\n",
       "      <td>NaN</td>\n",
       "    </tr>\n",
       "    <tr>\n",
       "      <th>94</th>\n",
       "      <td>Bruno Guimarães</td>\n",
       "      <td>Newcastle United</td>\n",
       "      <td>Brazil</td>\n",
       "      <td>3.0</td>\n",
       "      <td>1350.0</td>\n",
       "      <td>1809.0</td>\n",
       "      <td>23.0</td>\n",
       "      <td>2.0</td>\n",
       "      <td>27</td>\n",
       "      <td>1.0</td>\n",
       "      <td>53.0</td>\n",
       "      <td>19.0</td>\n",
       "      <td>22.0</td>\n",
       "      <td>5.0</td>\n",
       "    </tr>\n",
       "    <tr>\n",
       "      <th>95</th>\n",
       "      <td>Vitaly Janelt</td>\n",
       "      <td>Brentford</td>\n",
       "      <td>Germany</td>\n",
       "      <td>3.0</td>\n",
       "      <td>827.0</td>\n",
       "      <td>1109.0</td>\n",
       "      <td>11.0</td>\n",
       "      <td>NaN</td>\n",
       "      <td>31</td>\n",
       "      <td>2.0</td>\n",
       "      <td>11.0</td>\n",
       "      <td>19.0</td>\n",
       "      <td>3.0</td>\n",
       "      <td>1.0</td>\n",
       "    </tr>\n",
       "    <tr>\n",
       "      <th>96</th>\n",
       "      <td>João Palhinha</td>\n",
       "      <td>Fulham</td>\n",
       "      <td>Portugal</td>\n",
       "      <td>3.0</td>\n",
       "      <td>1108.0</td>\n",
       "      <td>1616.0</td>\n",
       "      <td>37.0</td>\n",
       "      <td>1.0</td>\n",
       "      <td>31</td>\n",
       "      <td>1.0</td>\n",
       "      <td>24.0</td>\n",
       "      <td>3.0</td>\n",
       "      <td>NaN</td>\n",
       "      <td>NaN</td>\n",
       "    </tr>\n",
       "    <tr>\n",
       "      <th>97</th>\n",
       "      <td>Ben Mee</td>\n",
       "      <td>Brentford</td>\n",
       "      <td>England</td>\n",
       "      <td>3.0</td>\n",
       "      <td>1481.0</td>\n",
       "      <td>1933.0</td>\n",
       "      <td>22.0</td>\n",
       "      <td>1.0</td>\n",
       "      <td>33</td>\n",
       "      <td>1.0</td>\n",
       "      <td>1.0</td>\n",
       "      <td>7.0</td>\n",
       "      <td>0.0</td>\n",
       "      <td>1.0</td>\n",
       "    </tr>\n",
       "    <tr>\n",
       "      <th>98</th>\n",
       "      <td>Mason Mount</td>\n",
       "      <td>Chelsea</td>\n",
       "      <td>England</td>\n",
       "      <td>3.0</td>\n",
       "      <td>705.0</td>\n",
       "      <td>1050.0</td>\n",
       "      <td>33.0</td>\n",
       "      <td>NaN</td>\n",
       "      <td>24</td>\n",
       "      <td>1.0</td>\n",
       "      <td>29.0</td>\n",
       "      <td>64.0</td>\n",
       "      <td>6.0</td>\n",
       "      <td>2.0</td>\n",
       "    </tr>\n",
       "    <tr>\n",
       "      <th>99</th>\n",
       "      <td>Reiss Nelson</td>\n",
       "      <td>Arsenal</td>\n",
       "      <td>England</td>\n",
       "      <td>3.0</td>\n",
       "      <td>87.0</td>\n",
       "      <td>135.0</td>\n",
       "      <td>8.0</td>\n",
       "      <td>1.0</td>\n",
       "      <td>8</td>\n",
       "      <td>NaN</td>\n",
       "      <td>8.0</td>\n",
       "      <td>11.0</td>\n",
       "      <td>NaN</td>\n",
       "      <td>2.0</td>\n",
       "    </tr>\n",
       "    <tr>\n",
       "      <th>100</th>\n",
       "      <td>Thomas Partey</td>\n",
       "      <td>Arsenal</td>\n",
       "      <td>Ghana</td>\n",
       "      <td>3.0</td>\n",
       "      <td>1749.0</td>\n",
       "      <td>2121.0</td>\n",
       "      <td>28.0</td>\n",
       "      <td>1.0</td>\n",
       "      <td>29</td>\n",
       "      <td>NaN</td>\n",
       "      <td>17.0</td>\n",
       "      <td>7.0</td>\n",
       "      <td>11.0</td>\n",
       "      <td>NaN</td>\n",
       "    </tr>\n",
       "    <tr>\n",
       "      <th>101</th>\n",
       "      <td>Harrison Reed</td>\n",
       "      <td>Fulham</td>\n",
       "      <td>England</td>\n",
       "      <td>3.0</td>\n",
       "      <td>1073.0</td>\n",
       "      <td>1460.0</td>\n",
       "      <td>18.0</td>\n",
       "      <td>1.0</td>\n",
       "      <td>33</td>\n",
       "      <td>3.0</td>\n",
       "      <td>22.0</td>\n",
       "      <td>47.0</td>\n",
       "      <td>NaN</td>\n",
       "      <td>2.0</td>\n",
       "    </tr>\n",
       "    <tr>\n",
       "      <th>102</th>\n",
       "      <td>Declan Rice</td>\n",
       "      <td>West Ham United</td>\n",
       "      <td>England</td>\n",
       "      <td>3.0</td>\n",
       "      <td>1859.0</td>\n",
       "      <td>2320.0</td>\n",
       "      <td>32.0</td>\n",
       "      <td>1.0</td>\n",
       "      <td>33</td>\n",
       "      <td>1.0</td>\n",
       "      <td>25.0</td>\n",
       "      <td>41.0</td>\n",
       "      <td>4.0</td>\n",
       "      <td>2.0</td>\n",
       "    </tr>\n",
       "    <tr>\n",
       "      <th>103</th>\n",
       "      <td>Gianluca Scamacca</td>\n",
       "      <td>West Ham United</td>\n",
       "      <td>Italy</td>\n",
       "      <td>3.0</td>\n",
       "      <td>175.0</td>\n",
       "      <td>311.0</td>\n",
       "      <td>30.0</td>\n",
       "      <td>3.0</td>\n",
       "      <td>16</td>\n",
       "      <td>6.0</td>\n",
       "      <td>18.0</td>\n",
       "      <td>1.0</td>\n",
       "      <td>NaN</td>\n",
       "      <td>NaN</td>\n",
       "    </tr>\n",
       "    <tr>\n",
       "      <th>104</th>\n",
       "      <td>Jeffrey Schlupp</td>\n",
       "      <td>Crystal Palace</td>\n",
       "      <td>Ghana</td>\n",
       "      <td>3.0</td>\n",
       "      <td>834.0</td>\n",
       "      <td>1277.0</td>\n",
       "      <td>28.0</td>\n",
       "      <td>2.0</td>\n",
       "      <td>33</td>\n",
       "      <td>NaN</td>\n",
       "      <td>30.0</td>\n",
       "      <td>16.0</td>\n",
       "      <td>1.0</td>\n",
       "      <td>1.0</td>\n",
       "    </tr>\n",
       "    <tr>\n",
       "      <th>105</th>\n",
       "      <td>Youri Tielemans</td>\n",
       "      <td>Leicester City</td>\n",
       "      <td>Belgium</td>\n",
       "      <td>3.0</td>\n",
       "      <td>1367.0</td>\n",
       "      <td>1714.0</td>\n",
       "      <td>27.0</td>\n",
       "      <td>1.0</td>\n",
       "      <td>27</td>\n",
       "      <td>1.0</td>\n",
       "      <td>14.0</td>\n",
       "      <td>37.0</td>\n",
       "      <td>10.0</td>\n",
       "      <td>1.0</td>\n",
       "    </tr>\n",
       "    <tr>\n",
       "      <th>106</th>\n",
       "      <td>Virgil van Dijk</td>\n",
       "      <td>Liverpool</td>\n",
       "      <td>Netherlands</td>\n",
       "      <td>3.0</td>\n",
       "      <td>2363.0</td>\n",
       "      <td>2642.0</td>\n",
       "      <td>29.0</td>\n",
       "      <td>4.0</td>\n",
       "      <td>29</td>\n",
       "      <td>2.0</td>\n",
       "      <td>NaN</td>\n",
       "      <td>1.0</td>\n",
       "      <td>1.0</td>\n",
       "      <td>NaN</td>\n",
       "    </tr>\n",
       "    <tr>\n",
       "      <th>107</th>\n",
       "      <td>Jamie Vardy</td>\n",
       "      <td>Leicester City</td>\n",
       "      <td>England</td>\n",
       "      <td>3.0</td>\n",
       "      <td>227.0</td>\n",
       "      <td>410.0</td>\n",
       "      <td>23.0</td>\n",
       "      <td>8.0</td>\n",
       "      <td>33</td>\n",
       "      <td>25.0</td>\n",
       "      <td>15.0</td>\n",
       "      <td>6.0</td>\n",
       "      <td>3.0</td>\n",
       "      <td>4.0</td>\n",
       "    </tr>\n",
       "    <tr>\n",
       "      <th>108</th>\n",
       "      <td>Joe Willock</td>\n",
       "      <td>Newcastle United</td>\n",
       "      <td>England</td>\n",
       "      <td>3.0</td>\n",
       "      <td>835.0</td>\n",
       "      <td>1310.0</td>\n",
       "      <td>53.0</td>\n",
       "      <td>8.0</td>\n",
       "      <td>32</td>\n",
       "      <td>3.0</td>\n",
       "      <td>24.0</td>\n",
       "      <td>46.0</td>\n",
       "      <td>4.0</td>\n",
       "      <td>6.0</td>\n",
       "    </tr>\n",
       "    <tr>\n",
       "      <th>109</th>\n",
       "      <td>Chris Wood</td>\n",
       "      <td>Nottingham Forest</td>\n",
       "      <td>New Zealand</td>\n",
       "      <td>3.0</td>\n",
       "      <td>176.0</td>\n",
       "      <td>265.0</td>\n",
       "      <td>12.0</td>\n",
       "      <td>3.0</td>\n",
       "      <td>25</td>\n",
       "      <td>6.0</td>\n",
       "      <td>11.0</td>\n",
       "      <td>NaN</td>\n",
       "      <td>1.0</td>\n",
       "      <td>NaN</td>\n",
       "    </tr>\n",
       "    <tr>\n",
       "      <th>110</th>\n",
       "      <td>Nayef Aguerd</td>\n",
       "      <td>West Ham United</td>\n",
       "      <td>Morocco</td>\n",
       "      <td>2.0</td>\n",
       "      <td>612.0</td>\n",
       "      <td>795.0</td>\n",
       "      <td>9.0</td>\n",
       "      <td>3.0</td>\n",
       "      <td>15</td>\n",
       "      <td>1.0</td>\n",
       "      <td>7.0</td>\n",
       "      <td>NaN</td>\n",
       "      <td>NaN</td>\n",
       "      <td>NaN</td>\n",
       "    </tr>\n",
       "    <tr>\n",
       "      <th>111</th>\n",
       "      <td>Jaidon Anthony</td>\n",
       "      <td>Bournemouth</td>\n",
       "      <td>England</td>\n",
       "      <td>2.0</td>\n",
       "      <td>407.0</td>\n",
       "      <td>689.0</td>\n",
       "      <td>21.0</td>\n",
       "      <td>1.0</td>\n",
       "      <td>26</td>\n",
       "      <td>5.0</td>\n",
       "      <td>17.0</td>\n",
       "      <td>40.0</td>\n",
       "      <td>2.0</td>\n",
       "      <td>1.0</td>\n",
       "    </tr>\n",
       "    <tr>\n",
       "      <th>112</th>\n",
       "      <td>Joe Aribo</td>\n",
       "      <td>Southampton</td>\n",
       "      <td>Nigeria</td>\n",
       "      <td>2.0</td>\n",
       "      <td>359.0</td>\n",
       "      <td>587.0</td>\n",
       "      <td>14.0</td>\n",
       "      <td>1.0</td>\n",
       "      <td>20</td>\n",
       "      <td>NaN</td>\n",
       "      <td>20.0</td>\n",
       "      <td>8.0</td>\n",
       "      <td>NaN</td>\n",
       "      <td>NaN</td>\n",
       "    </tr>\n",
       "    <tr>\n",
       "      <th>113</th>\n",
       "      <td>Stuart Armstrong</td>\n",
       "      <td>Southampton</td>\n",
       "      <td>Scotland</td>\n",
       "      <td>2.0</td>\n",
       "      <td>545.0</td>\n",
       "      <td>810.0</td>\n",
       "      <td>22.0</td>\n",
       "      <td>NaN</td>\n",
       "      <td>28</td>\n",
       "      <td>1.0</td>\n",
       "      <td>23.0</td>\n",
       "      <td>29.0</td>\n",
       "      <td>2.0</td>\n",
       "      <td>0.0</td>\n",
       "    </tr>\n",
       "    <tr>\n",
       "      <th>114</th>\n",
       "      <td>Dominic Calvert-Lewin</td>\n",
       "      <td>Everton</td>\n",
       "      <td>England</td>\n",
       "      <td>2.0</td>\n",
       "      <td>180.0</td>\n",
       "      <td>342.0</td>\n",
       "      <td>27.0</td>\n",
       "      <td>5.0</td>\n",
       "      <td>14</td>\n",
       "      <td>19.0</td>\n",
       "      <td>11.0</td>\n",
       "      <td>4.0</td>\n",
       "      <td>NaN</td>\n",
       "      <td>NaN</td>\n",
       "    </tr>\n",
       "    <tr>\n",
       "      <th>115</th>\n",
       "      <td>Casemiro</td>\n",
       "      <td>Manchester United</td>\n",
       "      <td>Brazil</td>\n",
       "      <td>2.0</td>\n",
       "      <td>1116.0</td>\n",
       "      <td>1452.0</td>\n",
       "      <td>23.0</td>\n",
       "      <td>2.0</td>\n",
       "      <td>23</td>\n",
       "      <td>1.0</td>\n",
       "      <td>12.0</td>\n",
       "      <td>18.0</td>\n",
       "      <td>10.0</td>\n",
       "      <td>3.0</td>\n",
       "    </tr>\n",
       "    <tr>\n",
       "      <th>116</th>\n",
       "      <td>Timothy Castagne</td>\n",
       "      <td>Leicester City</td>\n",
       "      <td>Belgium</td>\n",
       "      <td>2.0</td>\n",
       "      <td>1395.0</td>\n",
       "      <td>2119.0</td>\n",
       "      <td>17.0</td>\n",
       "      <td>2.0</td>\n",
       "      <td>33</td>\n",
       "      <td>6.0</td>\n",
       "      <td>16.0</td>\n",
       "      <td>54.0</td>\n",
       "      <td>3.0</td>\n",
       "      <td>3.0</td>\n",
       "    </tr>\n",
       "    <tr>\n",
       "      <th>117</th>\n",
       "      <td>João Cancelo</td>\n",
       "      <td>-</td>\n",
       "      <td>Portugal</td>\n",
       "      <td>2.0</td>\n",
       "      <td>1095.0</td>\n",
       "      <td>1432.0</td>\n",
       "      <td>17.0</td>\n",
       "      <td>NaN</td>\n",
       "      <td>17</td>\n",
       "      <td>4.0</td>\n",
       "      <td>14.0</td>\n",
       "      <td>45.0</td>\n",
       "      <td>2.0</td>\n",
       "      <td>1.0</td>\n",
       "    </tr>\n",
       "    <tr>\n",
       "      <th>118</th>\n",
       "      <td>Ben Chilwell</td>\n",
       "      <td>Chelsea</td>\n",
       "      <td>England</td>\n",
       "      <td>2.0</td>\n",
       "      <td>736.0</td>\n",
       "      <td>1147.0</td>\n",
       "      <td>16.0</td>\n",
       "      <td>2.0</td>\n",
       "      <td>22</td>\n",
       "      <td>3.0</td>\n",
       "      <td>17.0</td>\n",
       "      <td>86.0</td>\n",
       "      <td>2.0</td>\n",
       "      <td>2.0</td>\n",
       "    </tr>\n",
       "    <tr>\n",
       "      <th>119</th>\n",
       "      <td>Ben Davies</td>\n",
       "      <td>Tottenham Hotspur</td>\n",
       "      <td>Wales</td>\n",
       "      <td>2.0</td>\n",
       "      <td>1033.0</td>\n",
       "      <td>1297.0</td>\n",
       "      <td>14.0</td>\n",
       "      <td>NaN</td>\n",
       "      <td>27</td>\n",
       "      <td>NaN</td>\n",
       "      <td>5.0</td>\n",
       "      <td>29.0</td>\n",
       "      <td>NaN</td>\n",
       "      <td>2.0</td>\n",
       "    </tr>\n",
       "    <tr>\n",
       "      <th>120</th>\n",
       "      <td>Emmanuel Dennis</td>\n",
       "      <td>Nottingham Forest</td>\n",
       "      <td>Nigeria</td>\n",
       "      <td>2.0</td>\n",
       "      <td>162.0</td>\n",
       "      <td>388.0</td>\n",
       "      <td>20.0</td>\n",
       "      <td>NaN</td>\n",
       "      <td>18</td>\n",
       "      <td>4.0</td>\n",
       "      <td>23.0</td>\n",
       "      <td>11.0</td>\n",
       "      <td>NaN</td>\n",
       "      <td>2.0</td>\n",
       "    </tr>\n",
       "    <tr>\n",
       "      <th>121</th>\n",
       "      <td>Kiernan Dewsbury-Hall</td>\n",
       "      <td>Leicester City</td>\n",
       "      <td>England</td>\n",
       "      <td>2.0</td>\n",
       "      <td>1043.0</td>\n",
       "      <td>1532.0</td>\n",
       "      <td>25.0</td>\n",
       "      <td>3.0</td>\n",
       "      <td>29</td>\n",
       "      <td>1.0</td>\n",
       "      <td>30.0</td>\n",
       "      <td>46.0</td>\n",
       "      <td>9.0</td>\n",
       "      <td>2.0</td>\n",
       "    </tr>\n",
       "    <tr>\n",
       "      <th>122</th>\n",
       "      <td>Eric Dier</td>\n",
       "      <td>Tottenham Hotspur</td>\n",
       "      <td>England</td>\n",
       "      <td>2.0</td>\n",
       "      <td>1978.0</td>\n",
       "      <td>2298.0</td>\n",
       "      <td>17.0</td>\n",
       "      <td>1.0</td>\n",
       "      <td>32</td>\n",
       "      <td>1.0</td>\n",
       "      <td>3.0</td>\n",
       "      <td>11.0</td>\n",
       "      <td>2.0</td>\n",
       "      <td>1.0</td>\n",
       "    </tr>\n",
       "    <tr>\n",
       "      <th>123</th>\n",
       "      <td>Danilo</td>\n",
       "      <td>Nottingham Forest</td>\n",
       "      <td>Brazil</td>\n",
       "      <td>2.0</td>\n",
       "      <td>183.0</td>\n",
       "      <td>325.0</td>\n",
       "      <td>11.0</td>\n",
       "      <td>NaN</td>\n",
       "      <td>10</td>\n",
       "      <td>2.0</td>\n",
       "      <td>7.0</td>\n",
       "      <td>1.0</td>\n",
       "      <td>1.0</td>\n",
       "      <td>1.0</td>\n",
       "    </tr>\n",
       "    <tr>\n",
       "      <th>124</th>\n",
       "      <td>Abdoulaye Doucouré</td>\n",
       "      <td>Everton</td>\n",
       "      <td>Mali</td>\n",
       "      <td>2.0</td>\n",
       "      <td>446.0</td>\n",
       "      <td>620.0</td>\n",
       "      <td>15.0</td>\n",
       "      <td>2.0</td>\n",
       "      <td>21</td>\n",
       "      <td>7.0</td>\n",
       "      <td>11.0</td>\n",
       "      <td>5.0</td>\n",
       "      <td>1.0</td>\n",
       "      <td>2.0</td>\n",
       "    </tr>\n",
       "    <tr>\n",
       "      <th>125</th>\n",
       "      <td>Julio Enciso</td>\n",
       "      <td>Brighton &amp; Hove Albion</td>\n",
       "      <td>Paraguay</td>\n",
       "      <td>2.0</td>\n",
       "      <td>156.0</td>\n",
       "      <td>280.0</td>\n",
       "      <td>28.0</td>\n",
       "      <td>2.0</td>\n",
       "      <td>14</td>\n",
       "      <td>1.0</td>\n",
       "      <td>17.0</td>\n",
       "      <td>4.0</td>\n",
       "      <td>2.0</td>\n",
       "      <td>2.0</td>\n",
       "    </tr>\n",
       "    <tr>\n",
       "      <th>126</th>\n",
       "      <td>João Félix</td>\n",
       "      <td>Chelsea</td>\n",
       "      <td>Portugal</td>\n",
       "      <td>2.0</td>\n",
       "      <td>277.0</td>\n",
       "      <td>467.0</td>\n",
       "      <td>36.0</td>\n",
       "      <td>3.0</td>\n",
       "      <td>12</td>\n",
       "      <td>6.0</td>\n",
       "      <td>8.0</td>\n",
       "      <td>19.0</td>\n",
       "      <td>2.0</td>\n",
       "      <td>NaN</td>\n",
       "    </tr>\n",
       "    <tr>\n",
       "      <th>127</th>\n",
       "      <td>Pablo Fornals</td>\n",
       "      <td>West Ham United</td>\n",
       "      <td>Spain</td>\n",
       "      <td>2.0</td>\n",
       "      <td>578.0</td>\n",
       "      <td>799.0</td>\n",
       "      <td>22.0</td>\n",
       "      <td>0.0</td>\n",
       "      <td>28</td>\n",
       "      <td>1.0</td>\n",
       "      <td>13.0</td>\n",
       "      <td>50.0</td>\n",
       "      <td>5.0</td>\n",
       "      <td>1.0</td>\n",
       "    </tr>\n",
       "    <tr>\n",
       "      <th>128</th>\n",
       "      <td>Fábio Carvalho</td>\n",
       "      <td>Liverpool</td>\n",
       "      <td>Portugal</td>\n",
       "      <td>2.0</td>\n",
       "      <td>135.0</td>\n",
       "      <td>212.0</td>\n",
       "      <td>11.0</td>\n",
       "      <td>1.0</td>\n",
       "      <td>12</td>\n",
       "      <td>NaN</td>\n",
       "      <td>15.0</td>\n",
       "      <td>2.0</td>\n",
       "      <td>NaN</td>\n",
       "      <td>NaN</td>\n",
       "    </tr>\n",
       "    <tr>\n",
       "      <th>129</th>\n",
       "      <td>Jorginho</td>\n",
       "      <td>Arsenal</td>\n",
       "      <td>Italy</td>\n",
       "      <td>2.0</td>\n",
       "      <td>1348.0</td>\n",
       "      <td>1597.0</td>\n",
       "      <td>8.0</td>\n",
       "      <td>NaN</td>\n",
       "      <td>28</td>\n",
       "      <td>NaN</td>\n",
       "      <td>15.0</td>\n",
       "      <td>4.0</td>\n",
       "      <td>6.0</td>\n",
       "      <td>NaN</td>\n",
       "    </tr>\n",
       "    <tr>\n",
       "      <th>130</th>\n",
       "      <td>Conor Gallagher</td>\n",
       "      <td>Chelsea</td>\n",
       "      <td>England</td>\n",
       "      <td>2.0</td>\n",
       "      <td>622.0</td>\n",
       "      <td>966.0</td>\n",
       "      <td>19.0</td>\n",
       "      <td>NaN</td>\n",
       "      <td>30</td>\n",
       "      <td>2.0</td>\n",
       "      <td>28.0</td>\n",
       "      <td>45.0</td>\n",
       "      <td>1.0</td>\n",
       "      <td>1.0</td>\n",
       "    </tr>\n",
       "    <tr>\n",
       "      <th>131</th>\n",
       "      <td>Alejandro Garnacho</td>\n",
       "      <td>Manchester United</td>\n",
       "      <td>Argentina</td>\n",
       "      <td>2.0</td>\n",
       "      <td>142.0</td>\n",
       "      <td>260.0</td>\n",
       "      <td>16.0</td>\n",
       "      <td>2.0</td>\n",
       "      <td>15</td>\n",
       "      <td>3.0</td>\n",
       "      <td>12.0</td>\n",
       "      <td>1.0</td>\n",
       "      <td>NaN</td>\n",
       "      <td>2.0</td>\n",
       "    </tr>\n",
       "    <tr>\n",
       "      <th>132</th>\n",
       "      <td>Wilfried Gnonto</td>\n",
       "      <td>Leeds United</td>\n",
       "      <td>Italy</td>\n",
       "      <td>2.0</td>\n",
       "      <td>412.0</td>\n",
       "      <td>722.0</td>\n",
       "      <td>22.0</td>\n",
       "      <td>1.0</td>\n",
       "      <td>20</td>\n",
       "      <td>3.0</td>\n",
       "      <td>18.0</td>\n",
       "      <td>37.0</td>\n",
       "      <td>4.0</td>\n",
       "      <td>4.0</td>\n",
       "    </tr>\n",
       "    <tr>\n",
       "      <th>133</th>\n",
       "      <td>Rodri</td>\n",
       "      <td>Manchester City</td>\n",
       "      <td>Spain</td>\n",
       "      <td>2.0</td>\n",
       "      <td>2799.0</td>\n",
       "      <td>3169.0</td>\n",
       "      <td>49.0</td>\n",
       "      <td>4.0</td>\n",
       "      <td>32</td>\n",
       "      <td>3.0</td>\n",
       "      <td>18.0</td>\n",
       "      <td>6.0</td>\n",
       "      <td>2.0</td>\n",
       "      <td>6.0</td>\n",
       "    </tr>\n",
       "    <tr>\n",
       "      <th>134</th>\n",
       "      <td>Hwang Hee-Chan</td>\n",
       "      <td>Wolverhampton Wanderers</td>\n",
       "      <td>South Korea</td>\n",
       "      <td>2.0</td>\n",
       "      <td>211.0</td>\n",
       "      <td>390.0</td>\n",
       "      <td>15.0</td>\n",
       "      <td>NaN</td>\n",
       "      <td>23</td>\n",
       "      <td>1.0</td>\n",
       "      <td>18.0</td>\n",
       "      <td>10.0</td>\n",
       "      <td>2.0</td>\n",
       "      <td>1.0</td>\n",
       "    </tr>\n",
       "    <tr>\n",
       "      <th>135</th>\n",
       "      <td>Alex Iwobi</td>\n",
       "      <td>Everton</td>\n",
       "      <td>Nigeria</td>\n",
       "      <td>2.0</td>\n",
       "      <td>1272.0</td>\n",
       "      <td>1861.0</td>\n",
       "      <td>37.0</td>\n",
       "      <td>3.0</td>\n",
       "      <td>34</td>\n",
       "      <td>4.0</td>\n",
       "      <td>39.0</td>\n",
       "      <td>93.0</td>\n",
       "      <td>13.0</td>\n",
       "      <td>6.0</td>\n",
       "    </tr>\n",
       "    <tr>\n",
       "      <th>136</th>\n",
       "      <td>Dan James</td>\n",
       "      <td>Fulham</td>\n",
       "      <td>Wales</td>\n",
       "      <td>2.0</td>\n",
       "      <td>189.0</td>\n",
       "      <td>349.0</td>\n",
       "      <td>17.0</td>\n",
       "      <td>NaN</td>\n",
       "      <td>23</td>\n",
       "      <td>2.0</td>\n",
       "      <td>13.0</td>\n",
       "      <td>30.0</td>\n",
       "      <td>NaN</td>\n",
       "      <td>1.0</td>\n",
       "    </tr>\n",
       "    <tr>\n",
       "      <th>137</th>\n",
       "      <td>Kalidou Koulibaly</td>\n",
       "      <td>Chelsea</td>\n",
       "      <td>Senegal</td>\n",
       "      <td>2.0</td>\n",
       "      <td>1444.0</td>\n",
       "      <td>1706.0</td>\n",
       "      <td>11.0</td>\n",
       "      <td>NaN</td>\n",
       "      <td>22</td>\n",
       "      <td>NaN</td>\n",
       "      <td>2.0</td>\n",
       "      <td>4.0</td>\n",
       "      <td>NaN</td>\n",
       "      <td>1.0</td>\n",
       "    </tr>\n",
       "    <tr>\n",
       "      <th>138</th>\n",
       "      <td>Rasmus Kristensen</td>\n",
       "      <td>Leeds United</td>\n",
       "      <td>Denmark</td>\n",
       "      <td>2.0</td>\n",
       "      <td>695.0</td>\n",
       "      <td>1124.0</td>\n",
       "      <td>11.0</td>\n",
       "      <td>1.0</td>\n",
       "      <td>22</td>\n",
       "      <td>1.0</td>\n",
       "      <td>4.0</td>\n",
       "      <td>32.0</td>\n",
       "      <td>NaN</td>\n",
       "      <td>1.0</td>\n",
       "    </tr>\n",
       "    <tr>\n",
       "      <th>139</th>\n",
       "      <td>Dejan Kulusevski</td>\n",
       "      <td>Tottenham Hotspur</td>\n",
       "      <td>Sweden</td>\n",
       "      <td>2.0</td>\n",
       "      <td>620.0</td>\n",
       "      <td>1079.0</td>\n",
       "      <td>39.0</td>\n",
       "      <td>1.0</td>\n",
       "      <td>26</td>\n",
       "      <td>1.0</td>\n",
       "      <td>47.0</td>\n",
       "      <td>53.0</td>\n",
       "      <td>3.0</td>\n",
       "      <td>6.0</td>\n",
       "    </tr>\n",
       "    <tr>\n",
       "      <th>140</th>\n",
       "      <td>Adam Lallana</td>\n",
       "      <td>Brighton &amp; Hove Albion</td>\n",
       "      <td>England</td>\n",
       "      <td>2.0</td>\n",
       "      <td>310.0</td>\n",
       "      <td>394.0</td>\n",
       "      <td>8.0</td>\n",
       "      <td>1.0</td>\n",
       "      <td>16</td>\n",
       "      <td>NaN</td>\n",
       "      <td>11.0</td>\n",
       "      <td>3.0</td>\n",
       "      <td>0.0</td>\n",
       "      <td>1.0</td>\n",
       "    </tr>\n",
       "    <tr>\n",
       "      <th>141</th>\n",
       "      <td>Emerson Royal</td>\n",
       "      <td>Tottenham Hotspur</td>\n",
       "      <td>Brazil</td>\n",
       "      <td>2.0</td>\n",
       "      <td>657.0</td>\n",
       "      <td>1094.0</td>\n",
       "      <td>15.0</td>\n",
       "      <td>1.0</td>\n",
       "      <td>22</td>\n",
       "      <td>NaN</td>\n",
       "      <td>15.0</td>\n",
       "      <td>44.0</td>\n",
       "      <td>NaN</td>\n",
       "      <td>1.0</td>\n",
       "    </tr>\n",
       "    <tr>\n",
       "      <th>142</th>\n",
       "      <td>Jean-Philippe Mateta</td>\n",
       "      <td>Crystal Palace</td>\n",
       "      <td>France</td>\n",
       "      <td>2.0</td>\n",
       "      <td>141.0</td>\n",
       "      <td>276.0</td>\n",
       "      <td>26.0</td>\n",
       "      <td>3.0</td>\n",
       "      <td>27</td>\n",
       "      <td>7.0</td>\n",
       "      <td>16.0</td>\n",
       "      <td>1.0</td>\n",
       "      <td>NaN</td>\n",
       "      <td>NaN</td>\n",
       "    </tr>\n",
       "    <tr>\n",
       "      <th>143</th>\n",
       "      <td>Michael Olise</td>\n",
       "      <td>Crystal Palace</td>\n",
       "      <td>France</td>\n",
       "      <td>2.0</td>\n",
       "      <td>1005.0</td>\n",
       "      <td>1751.0</td>\n",
       "      <td>42.0</td>\n",
       "      <td>1.0</td>\n",
       "      <td>33</td>\n",
       "      <td>7.0</td>\n",
       "      <td>43.0</td>\n",
       "      <td>206.0</td>\n",
       "      <td>3.0</td>\n",
       "      <td>9.0</td>\n",
       "    </tr>\n",
       "    <tr>\n",
       "      <th>144</th>\n",
       "      <td>Romain Perraud</td>\n",
       "      <td>Southampton</td>\n",
       "      <td>France</td>\n",
       "      <td>2.0</td>\n",
       "      <td>660.0</td>\n",
       "      <td>1206.0</td>\n",
       "      <td>30.0</td>\n",
       "      <td>NaN</td>\n",
       "      <td>29</td>\n",
       "      <td>3.0</td>\n",
       "      <td>14.0</td>\n",
       "      <td>77.0</td>\n",
       "      <td>1.0</td>\n",
       "      <td>2.0</td>\n",
       "    </tr>\n",
       "    <tr>\n",
       "      <th>145</th>\n",
       "      <td>Ethan Pinnock</td>\n",
       "      <td>-</td>\n",
       "      <td>Jamaica</td>\n",
       "      <td>2.0</td>\n",
       "      <td>938.0</td>\n",
       "      <td>1370.0</td>\n",
       "      <td>12.0</td>\n",
       "      <td>3.0</td>\n",
       "      <td>26</td>\n",
       "      <td>NaN</td>\n",
       "      <td>7.0</td>\n",
       "      <td>9.0</td>\n",
       "      <td>NaN</td>\n",
       "      <td>NaN</td>\n",
       "    </tr>\n",
       "    <tr>\n",
       "      <th>146</th>\n",
       "      <td>Pedro Porro</td>\n",
       "      <td>Tottenham Hotspur</td>\n",
       "      <td>Spain</td>\n",
       "      <td>2.0</td>\n",
       "      <td>343.0</td>\n",
       "      <td>633.0</td>\n",
       "      <td>19.0</td>\n",
       "      <td>0.0</td>\n",
       "      <td>11</td>\n",
       "      <td>NaN</td>\n",
       "      <td>6.0</td>\n",
       "      <td>50.0</td>\n",
       "      <td>2.0</td>\n",
       "      <td>1.0</td>\n",
       "    </tr>\n",
       "    <tr>\n",
       "      <th>147</th>\n",
       "      <td>Fred</td>\n",
       "      <td>Manchester United</td>\n",
       "      <td>Brazil</td>\n",
       "      <td>2.0</td>\n",
       "      <td>681.0</td>\n",
       "      <td>951.0</td>\n",
       "      <td>25.0</td>\n",
       "      <td>2.0</td>\n",
       "      <td>30</td>\n",
       "      <td>1.0</td>\n",
       "      <td>15.0</td>\n",
       "      <td>14.0</td>\n",
       "      <td>6.0</td>\n",
       "      <td>1.0</td>\n",
       "    </tr>\n",
       "    <tr>\n",
       "      <th>148</th>\n",
       "      <td>William Saliba</td>\n",
       "      <td>-</td>\n",
       "      <td>France</td>\n",
       "      <td>2.0</td>\n",
       "      <td>1864.0</td>\n",
       "      <td>2095.0</td>\n",
       "      <td>6.0</td>\n",
       "      <td>1.0</td>\n",
       "      <td>27</td>\n",
       "      <td>NaN</td>\n",
       "      <td>6.0</td>\n",
       "      <td>1.0</td>\n",
       "      <td>NaN</td>\n",
       "      <td>1.0</td>\n",
       "    </tr>\n",
       "    <tr>\n",
       "      <th>149</th>\n",
       "      <td>Matheus Cunha</td>\n",
       "      <td>Wolverhampton Wanderers</td>\n",
       "      <td>Brazil</td>\n",
       "      <td>2.0</td>\n",
       "      <td>192.0</td>\n",
       "      <td>368.0</td>\n",
       "      <td>24.0</td>\n",
       "      <td>1.0</td>\n",
       "      <td>14</td>\n",
       "      <td>3.0</td>\n",
       "      <td>11.0</td>\n",
       "      <td>7.0</td>\n",
       "      <td>NaN</td>\n",
       "      <td>NaN</td>\n",
       "    </tr>\n",
       "    <tr>\n",
       "      <th>150</th>\n",
       "      <td>Marcos Senesi</td>\n",
       "      <td>Bournemouth</td>\n",
       "      <td>Argentina</td>\n",
       "      <td>2.0</td>\n",
       "      <td>1090.0</td>\n",
       "      <td>1453.0</td>\n",
       "      <td>6.0</td>\n",
       "      <td>1.0</td>\n",
       "      <td>28</td>\n",
       "      <td>NaN</td>\n",
       "      <td>4.0</td>\n",
       "      <td>8.0</td>\n",
       "      <td>1.0</td>\n",
       "      <td>NaN</td>\n",
       "    </tr>\n",
       "    <tr>\n",
       "      <th>151</th>\n",
       "      <td>Ryan Sessegnon</td>\n",
       "      <td>Tottenham Hotspur</td>\n",
       "      <td>England</td>\n",
       "      <td>2.0</td>\n",
       "      <td>290.0</td>\n",
       "      <td>510.0</td>\n",
       "      <td>18.0</td>\n",
       "      <td>3.0</td>\n",
       "      <td>17</td>\n",
       "      <td>7.0</td>\n",
       "      <td>10.0</td>\n",
       "      <td>30.0</td>\n",
       "      <td>2.0</td>\n",
       "      <td>0.0</td>\n",
       "    </tr>\n",
       "    <tr>\n",
       "      <th>152</th>\n",
       "      <td>Tomás Soucek</td>\n",
       "      <td>West Ham United</td>\n",
       "      <td>[object Object]</td>\n",
       "      <td>2.0</td>\n",
       "      <td>862.0</td>\n",
       "      <td>1267.0</td>\n",
       "      <td>30.0</td>\n",
       "      <td>2.0</td>\n",
       "      <td>33</td>\n",
       "      <td>1.0</td>\n",
       "      <td>18.0</td>\n",
       "      <td>17.0</td>\n",
       "      <td>NaN</td>\n",
       "      <td>3.0</td>\n",
       "    </tr>\n",
       "    <tr>\n",
       "      <th>153</th>\n",
       "      <td>John Stones</td>\n",
       "      <td>Manchester City</td>\n",
       "      <td>England</td>\n",
       "      <td>2.0</td>\n",
       "      <td>1407.0</td>\n",
       "      <td>1601.0</td>\n",
       "      <td>11.0</td>\n",
       "      <td>2.0</td>\n",
       "      <td>21</td>\n",
       "      <td>1.0</td>\n",
       "      <td>4.0</td>\n",
       "      <td>6.0</td>\n",
       "      <td>1.0</td>\n",
       "      <td>2.0</td>\n",
       "    </tr>\n",
       "    <tr>\n",
       "      <th>154</th>\n",
       "      <td>Pascal Struijk</td>\n",
       "      <td>Leeds United</td>\n",
       "      <td>Netherlands</td>\n",
       "      <td>2.0</td>\n",
       "      <td>1010.0</td>\n",
       "      <td>1576.0</td>\n",
       "      <td>14.0</td>\n",
       "      <td>1.0</td>\n",
       "      <td>25</td>\n",
       "      <td>NaN</td>\n",
       "      <td>10.0</td>\n",
       "      <td>17.0</td>\n",
       "      <td>NaN</td>\n",
       "      <td>1.0</td>\n",
       "    </tr>\n",
       "    <tr>\n",
       "      <th>155</th>\n",
       "      <td>Bertrand Traoré</td>\n",
       "      <td>Aston Villa</td>\n",
       "      <td>Burkina Faso</td>\n",
       "      <td>2.0</td>\n",
       "      <td>54.0</td>\n",
       "      <td>99.0</td>\n",
       "      <td>7.0</td>\n",
       "      <td>NaN</td>\n",
       "      <td>7</td>\n",
       "      <td>2.0</td>\n",
       "      <td>6.0</td>\n",
       "      <td>3.0</td>\n",
       "      <td>NaN</td>\n",
       "      <td>NaN</td>\n",
       "    </tr>\n",
       "    <tr>\n",
       "      <th>156</th>\n",
       "      <td>Adama Traoré</td>\n",
       "      <td>Wolverhampton Wanderers</td>\n",
       "      <td>Spain</td>\n",
       "      <td>2.0</td>\n",
       "      <td>364.0</td>\n",
       "      <td>720.0</td>\n",
       "      <td>17.0</td>\n",
       "      <td>NaN</td>\n",
       "      <td>30</td>\n",
       "      <td>6.0</td>\n",
       "      <td>24.0</td>\n",
       "      <td>72.0</td>\n",
       "      <td>3.0</td>\n",
       "      <td>1.0</td>\n",
       "    </tr>\n",
       "    <tr>\n",
       "      <th>157</th>\n",
       "      <td>Deniz Undav</td>\n",
       "      <td>Brighton &amp; Hove Albion</td>\n",
       "      <td>Germany</td>\n",
       "      <td>2.0</td>\n",
       "      <td>96.0</td>\n",
       "      <td>147.0</td>\n",
       "      <td>18.0</td>\n",
       "      <td>5.0</td>\n",
       "      <td>16</td>\n",
       "      <td>5.0</td>\n",
       "      <td>6.0</td>\n",
       "      <td>1.0</td>\n",
       "      <td>1.0</td>\n",
       "      <td>NaN</td>\n",
       "    </tr>\n",
       "    <tr>\n",
       "      <th>158</th>\n",
       "      <td>Theo Walcott</td>\n",
       "      <td>Southampton</td>\n",
       "      <td>England</td>\n",
       "      <td>2.0</td>\n",
       "      <td>171.0</td>\n",
       "      <td>308.0</td>\n",
       "      <td>17.0</td>\n",
       "      <td>2.0</td>\n",
       "      <td>16</td>\n",
       "      <td>13.0</td>\n",
       "      <td>10.0</td>\n",
       "      <td>14.0</td>\n",
       "      <td>NaN</td>\n",
       "      <td>1.0</td>\n",
       "    </tr>\n",
       "    <tr>\n",
       "      <th>159</th>\n",
       "      <td>Ben White</td>\n",
       "      <td>Arsenal</td>\n",
       "      <td>England</td>\n",
       "      <td>2.0</td>\n",
       "      <td>1730.0</td>\n",
       "      <td>2330.0</td>\n",
       "      <td>10.0</td>\n",
       "      <td>NaN</td>\n",
       "      <td>34</td>\n",
       "      <td>1.0</td>\n",
       "      <td>7.0</td>\n",
       "      <td>55.0</td>\n",
       "      <td>5.0</td>\n",
       "      <td>5.0</td>\n",
       "    </tr>\n",
       "    <tr>\n",
       "      <th>160</th>\n",
       "      <td>Harry Wilson</td>\n",
       "      <td>Fulham</td>\n",
       "      <td>Wales</td>\n",
       "      <td>2.0</td>\n",
       "      <td>271.0</td>\n",
       "      <td>439.0</td>\n",
       "      <td>16.0</td>\n",
       "      <td>1.0</td>\n",
       "      <td>25</td>\n",
       "      <td>2.0</td>\n",
       "      <td>12.0</td>\n",
       "      <td>19.0</td>\n",
       "      <td>NaN</td>\n",
       "      <td>1.0</td>\n",
       "    </tr>\n",
       "    <tr>\n",
       "      <th>161</th>\n",
       "      <td>Kurt Zouma</td>\n",
       "      <td>West Ham United</td>\n",
       "      <td>France</td>\n",
       "      <td>2.0</td>\n",
       "      <td>812.0</td>\n",
       "      <td>1045.0</td>\n",
       "      <td>19.0</td>\n",
       "      <td>1.0</td>\n",
       "      <td>24</td>\n",
       "      <td>NaN</td>\n",
       "      <td>1.0</td>\n",
       "      <td>NaN</td>\n",
       "      <td>NaN</td>\n",
       "      <td>NaN</td>\n",
       "    </tr>\n",
       "    <tr>\n",
       "      <th>162</th>\n",
       "      <td>Brenden Aaronson</td>\n",
       "      <td>Leeds United</td>\n",
       "      <td>United States</td>\n",
       "      <td>1.0</td>\n",
       "      <td>693.0</td>\n",
       "      <td>1264.0</td>\n",
       "      <td>40.0</td>\n",
       "      <td>2.0</td>\n",
       "      <td>32</td>\n",
       "      <td>6.0</td>\n",
       "      <td>79.0</td>\n",
       "      <td>70.0</td>\n",
       "      <td>8.0</td>\n",
       "      <td>3.0</td>\n",
       "    </tr>\n",
       "    <tr>\n",
       "      <th>163</th>\n",
       "      <td>Tosin Adarabioyo</td>\n",
       "      <td>Fulham</td>\n",
       "      <td>England</td>\n",
       "      <td>1.0</td>\n",
       "      <td>1041.0</td>\n",
       "      <td>1280.0</td>\n",
       "      <td>9.0</td>\n",
       "      <td>NaN</td>\n",
       "      <td>21</td>\n",
       "      <td>2.0</td>\n",
       "      <td>4.0</td>\n",
       "      <td>2.0</td>\n",
       "      <td>2.0</td>\n",
       "      <td>NaN</td>\n",
       "    </tr>\n",
       "    <tr>\n",
       "      <th>164</th>\n",
       "      <td>Rayan Aït-Nouri</td>\n",
       "      <td>Wolverhampton Wanderers</td>\n",
       "      <td>Algeria</td>\n",
       "      <td>1.0</td>\n",
       "      <td>451.0</td>\n",
       "      <td>756.0</td>\n",
       "      <td>10.0</td>\n",
       "      <td>NaN</td>\n",
       "      <td>20</td>\n",
       "      <td>3.0</td>\n",
       "      <td>10.0</td>\n",
       "      <td>21.0</td>\n",
       "      <td>NaN</td>\n",
       "      <td>NaN</td>\n",
       "    </tr>\n",
       "    <tr>\n",
       "      <th>165</th>\n",
       "      <td>Nathan Aké</td>\n",
       "      <td>Manchester City</td>\n",
       "      <td>Netherlands</td>\n",
       "      <td>1.0</td>\n",
       "      <td>1590.0</td>\n",
       "      <td>1855.0</td>\n",
       "      <td>9.0</td>\n",
       "      <td>1.0</td>\n",
       "      <td>24</td>\n",
       "      <td>1.0</td>\n",
       "      <td>NaN</td>\n",
       "      <td>15.0</td>\n",
       "      <td>1.0</td>\n",
       "      <td>NaN</td>\n",
       "    </tr>\n",
       "    <tr>\n",
       "      <th>166</th>\n",
       "      <td>Marc Albrighton</td>\n",
       "      <td>-</td>\n",
       "      <td>England</td>\n",
       "      <td>1.0</td>\n",
       "      <td>112.0</td>\n",
       "      <td>179.0</td>\n",
       "      <td>2.0</td>\n",
       "      <td>NaN</td>\n",
       "      <td>6</td>\n",
       "      <td>1.0</td>\n",
       "      <td>2.0</td>\n",
       "      <td>28.0</td>\n",
       "      <td>1.0</td>\n",
       "      <td>NaN</td>\n",
       "    </tr>\n",
       "    <tr>\n",
       "      <th>167</th>\n",
       "      <td>Trent Alexander-Arnold</td>\n",
       "      <td>Liverpool</td>\n",
       "      <td>England</td>\n",
       "      <td>1.0</td>\n",
       "      <td>2032.0</td>\n",
       "      <td>2868.0</td>\n",
       "      <td>32.0</td>\n",
       "      <td>1.0</td>\n",
       "      <td>33</td>\n",
       "      <td>5.0</td>\n",
       "      <td>17.0</td>\n",
       "      <td>218.0</td>\n",
       "      <td>20.0</td>\n",
       "      <td>8.0</td>\n",
       "    </tr>\n",
       "    <tr>\n",
       "      <th>168</th>\n",
       "      <td>Joachim Andersen</td>\n",
       "      <td>Crystal Palace</td>\n",
       "      <td>Denmark</td>\n",
       "      <td>1.0</td>\n",
       "      <td>1613.0</td>\n",
       "      <td>1976.0</td>\n",
       "      <td>21.0</td>\n",
       "      <td>2.0</td>\n",
       "      <td>28</td>\n",
       "      <td>1.0</td>\n",
       "      <td>2.0</td>\n",
       "      <td>9.0</td>\n",
       "      <td>2.0</td>\n",
       "      <td>NaN</td>\n",
       "    </tr>\n",
       "    <tr>\n",
       "      <th>169</th>\n",
       "      <td>Adam Armstrong</td>\n",
       "      <td>Southampton</td>\n",
       "      <td>England</td>\n",
       "      <td>1.0</td>\n",
       "      <td>276.0</td>\n",
       "      <td>479.0</td>\n",
       "      <td>23.0</td>\n",
       "      <td>1.0</td>\n",
       "      <td>27</td>\n",
       "      <td>2.0</td>\n",
       "      <td>22.0</td>\n",
       "      <td>14.0</td>\n",
       "      <td>NaN</td>\n",
       "      <td>1.0</td>\n",
       "    </tr>\n",
       "    <tr>\n",
       "      <th>170</th>\n",
       "      <td>Pierre-Emerick Aubameyang</td>\n",
       "      <td>Chelsea</td>\n",
       "      <td>Gabon</td>\n",
       "      <td>1.0</td>\n",
       "      <td>108.0</td>\n",
       "      <td>170.0</td>\n",
       "      <td>16.0</td>\n",
       "      <td>3.0</td>\n",
       "      <td>15</td>\n",
       "      <td>NaN</td>\n",
       "      <td>4.0</td>\n",
       "      <td>3.0</td>\n",
       "      <td>NaN</td>\n",
       "      <td>NaN</td>\n",
       "    </tr>\n",
       "    <tr>\n",
       "      <th>171</th>\n",
       "      <td>Sèrge Aurier</td>\n",
       "      <td>Nottingham Forest</td>\n",
       "      <td>Cote D’Ivoire</td>\n",
       "      <td>1.0</td>\n",
       "      <td>638.0</td>\n",
       "      <td>1147.0</td>\n",
       "      <td>8.0</td>\n",
       "      <td>1.0</td>\n",
       "      <td>20</td>\n",
       "      <td>NaN</td>\n",
       "      <td>16.0</td>\n",
       "      <td>37.0</td>\n",
       "      <td>1.0</td>\n",
       "      <td>NaN</td>\n",
       "    </tr>\n",
       "    <tr>\n",
       "      <th>172</th>\n",
       "      <td>Luke Ayling</td>\n",
       "      <td>Leeds United</td>\n",
       "      <td>England</td>\n",
       "      <td>1.0</td>\n",
       "      <td>740.0</td>\n",
       "      <td>1273.0</td>\n",
       "      <td>20.0</td>\n",
       "      <td>1.0</td>\n",
       "      <td>25</td>\n",
       "      <td>1.0</td>\n",
       "      <td>10.0</td>\n",
       "      <td>49.0</td>\n",
       "      <td>NaN</td>\n",
       "      <td>1.0</td>\n",
       "    </tr>\n",
       "    <tr>\n",
       "      <th>173</th>\n",
       "      <td>Stefan Bajcetic</td>\n",
       "      <td>Liverpool</td>\n",
       "      <td>Spain</td>\n",
       "      <td>1.0</td>\n",
       "      <td>253.0</td>\n",
       "      <td>344.0</td>\n",
       "      <td>6.0</td>\n",
       "      <td>NaN</td>\n",
       "      <td>11</td>\n",
       "      <td>NaN</td>\n",
       "      <td>6.0</td>\n",
       "      <td>5.0</td>\n",
       "      <td>NaN</td>\n",
       "      <td>NaN</td>\n",
       "    </tr>\n",
       "    <tr>\n",
       "      <th>174</th>\n",
       "      <td>Ricardo Pereira</td>\n",
       "      <td>Leicester City</td>\n",
       "      <td>Portugal</td>\n",
       "      <td>1.0</td>\n",
       "      <td>228.0</td>\n",
       "      <td>345.0</td>\n",
       "      <td>2.0</td>\n",
       "      <td>NaN</td>\n",
       "      <td>8</td>\n",
       "      <td>NaN</td>\n",
       "      <td>3.0</td>\n",
       "      <td>16.0</td>\n",
       "      <td>NaN</td>\n",
       "      <td>1.0</td>\n",
       "    </tr>\n",
       "    <tr>\n",
       "      <th>175</th>\n",
       "      <td>Armando Broja</td>\n",
       "      <td>Chelsea</td>\n",
       "      <td>Albania</td>\n",
       "      <td>1.0</td>\n",
       "      <td>53.0</td>\n",
       "      <td>129.0</td>\n",
       "      <td>6.0</td>\n",
       "      <td>3.0</td>\n",
       "      <td>12</td>\n",
       "      <td>3.0</td>\n",
       "      <td>9.0</td>\n",
       "      <td>NaN</td>\n",
       "      <td>NaN</td>\n",
       "      <td>NaN</td>\n",
       "    </tr>\n",
       "    <tr>\n",
       "      <th>176</th>\n",
       "      <td>Facundo Buonanotte</td>\n",
       "      <td>Brighton &amp; Hove Albion</td>\n",
       "      <td>Argentina</td>\n",
       "      <td>1.0</td>\n",
       "      <td>90.0</td>\n",
       "      <td>128.0</td>\n",
       "      <td>6.0</td>\n",
       "      <td>NaN</td>\n",
       "      <td>7</td>\n",
       "      <td>1.0</td>\n",
       "      <td>1.0</td>\n",
       "      <td>4.0</td>\n",
       "      <td>NaN</td>\n",
       "      <td>1.0</td>\n",
       "    </tr>\n",
       "    <tr>\n",
       "      <th>177</th>\n",
       "      <td>Moisés Caicedo</td>\n",
       "      <td>Brighton &amp; Hove Albion</td>\n",
       "      <td>Ecuador</td>\n",
       "      <td>1.0</td>\n",
       "      <td>1871.0</td>\n",
       "      <td>2302.0</td>\n",
       "      <td>23.0</td>\n",
       "      <td>NaN</td>\n",
       "      <td>31</td>\n",
       "      <td>NaN</td>\n",
       "      <td>22.0</td>\n",
       "      <td>11.0</td>\n",
       "      <td>10.0</td>\n",
       "      <td>1.0</td>\n",
       "    </tr>\n",
       "    <tr>\n",
       "      <th>178</th>\n",
       "      <td>Duje Caleta-Car</td>\n",
       "      <td>Southampton</td>\n",
       "      <td>Croatia</td>\n",
       "      <td>1.0</td>\n",
       "      <td>562.0</td>\n",
       "      <td>702.0</td>\n",
       "      <td>5.0</td>\n",
       "      <td>1.0</td>\n",
       "      <td>13</td>\n",
       "      <td>NaN</td>\n",
       "      <td>2.0</td>\n",
       "      <td>1.0</td>\n",
       "      <td>NaN</td>\n",
       "      <td>NaN</td>\n",
       "    </tr>\n",
       "    <tr>\n",
       "      <th>179</th>\n",
       "      <td>Tetê</td>\n",
       "      <td>Leicester City</td>\n",
       "      <td>Brazil</td>\n",
       "      <td>1.0</td>\n",
       "      <td>208.0</td>\n",
       "      <td>351.0</td>\n",
       "      <td>14.0</td>\n",
       "      <td>1.0</td>\n",
       "      <td>11</td>\n",
       "      <td>4.0</td>\n",
       "      <td>12.0</td>\n",
       "      <td>19.0</td>\n",
       "      <td>NaN</td>\n",
       "      <td>NaN</td>\n",
       "    </tr>\n",
       "    <tr>\n",
       "      <th>180</th>\n",
       "      <td>Jonny</td>\n",
       "      <td>Wolverhampton Wanderers</td>\n",
       "      <td>Spain</td>\n",
       "      <td>1.0</td>\n",
       "      <td>692.0</td>\n",
       "      <td>1052.0</td>\n",
       "      <td>9.0</td>\n",
       "      <td>NaN</td>\n",
       "      <td>18</td>\n",
       "      <td>1.0</td>\n",
       "      <td>13.0</td>\n",
       "      <td>18.0</td>\n",
       "      <td>3.0</td>\n",
       "      <td>NaN</td>\n",
       "    </tr>\n",
       "    <tr>\n",
       "      <th>181</th>\n",
       "      <td>Ryan Christie</td>\n",
       "      <td>Bournemouth</td>\n",
       "      <td>Scotland</td>\n",
       "      <td>1.0</td>\n",
       "      <td>518.0</td>\n",
       "      <td>904.0</td>\n",
       "      <td>28.0</td>\n",
       "      <td>1.0</td>\n",
       "      <td>28</td>\n",
       "      <td>NaN</td>\n",
       "      <td>31.0</td>\n",
       "      <td>27.0</td>\n",
       "      <td>5.0</td>\n",
       "      <td>NaN</td>\n",
       "    </tr>\n",
       "    <tr>\n",
       "      <th>182</th>\n",
       "      <td>Conor Coady</td>\n",
       "      <td>Everton</td>\n",
       "      <td>England</td>\n",
       "      <td>1.0</td>\n",
       "      <td>1140.0</td>\n",
       "      <td>1321.0</td>\n",
       "      <td>4.0</td>\n",
       "      <td>1.0</td>\n",
       "      <td>22</td>\n",
       "      <td>2.0</td>\n",
       "      <td>2.0</td>\n",
       "      <td>1.0</td>\n",
       "      <td>1.0</td>\n",
       "      <td>1.0</td>\n",
       "    </tr>\n",
       "    <tr>\n",
       "      <th>183</th>\n",
       "      <td>Séamus Coleman</td>\n",
       "      <td>-</td>\n",
       "      <td>Ireland</td>\n",
       "      <td>1.0</td>\n",
       "      <td>603.0</td>\n",
       "      <td>1039.0</td>\n",
       "      <td>7.0</td>\n",
       "      <td>NaN</td>\n",
       "      <td>23</td>\n",
       "      <td>2.0</td>\n",
       "      <td>6.0</td>\n",
       "      <td>22.0</td>\n",
       "      <td>NaN</td>\n",
       "      <td>NaN</td>\n",
       "    </tr>\n",
       "    <tr>\n",
       "      <th>184</th>\n",
       "      <td>Liam Cooper</td>\n",
       "      <td>Leeds United</td>\n",
       "      <td>Scotland</td>\n",
       "      <td>1.0</td>\n",
       "      <td>726.0</td>\n",
       "      <td>925.0</td>\n",
       "      <td>10.0</td>\n",
       "      <td>2.0</td>\n",
       "      <td>17</td>\n",
       "      <td>NaN</td>\n",
       "      <td>1.0</td>\n",
       "      <td>1.0</td>\n",
       "      <td>NaN</td>\n",
       "      <td>NaN</td>\n",
       "    </tr>\n",
       "    <tr>\n",
       "      <th>185</th>\n",
       "      <td>Philippe Coutinho</td>\n",
       "      <td>Aston Villa</td>\n",
       "      <td>Brazil</td>\n",
       "      <td>1.0</td>\n",
       "      <td>358.0</td>\n",
       "      <td>548.0</td>\n",
       "      <td>21.0</td>\n",
       "      <td>1.0</td>\n",
       "      <td>20</td>\n",
       "      <td>2.0</td>\n",
       "      <td>17.0</td>\n",
       "      <td>19.0</td>\n",
       "      <td>5.0</td>\n",
       "      <td>NaN</td>\n",
       "    </tr>\n",
       "    <tr>\n",
       "      <th>186</th>\n",
       "      <td>Diego Costa</td>\n",
       "      <td>Wolverhampton Wanderers</td>\n",
       "      <td>Spain</td>\n",
       "      <td>1.0</td>\n",
       "      <td>176.0</td>\n",
       "      <td>318.0</td>\n",
       "      <td>26.0</td>\n",
       "      <td>4.0</td>\n",
       "      <td>20</td>\n",
       "      <td>14.0</td>\n",
       "      <td>23.0</td>\n",
       "      <td>6.0</td>\n",
       "      <td>1.0</td>\n",
       "      <td>NaN</td>\n",
       "    </tr>\n",
       "    <tr>\n",
       "      <th>187</th>\n",
       "      <td>Diogo Dalot</td>\n",
       "      <td>Manchester United</td>\n",
       "      <td>Portugal</td>\n",
       "      <td>1.0</td>\n",
       "      <td>1144.0</td>\n",
       "      <td>1661.0</td>\n",
       "      <td>21.0</td>\n",
       "      <td>2.0</td>\n",
       "      <td>24</td>\n",
       "      <td>0.0</td>\n",
       "      <td>5.0</td>\n",
       "      <td>40.0</td>\n",
       "      <td>3.0</td>\n",
       "      <td>2.0</td>\n",
       "    </tr>\n",
       "    <tr>\n",
       "      <th>188</th>\n",
       "      <td>Arnaut Danjuma</td>\n",
       "      <td>Tottenham Hotspur</td>\n",
       "      <td>Netherlands</td>\n",
       "      <td>1.0</td>\n",
       "      <td>26.0</td>\n",
       "      <td>45.0</td>\n",
       "      <td>4.0</td>\n",
       "      <td>NaN</td>\n",
       "      <td>6</td>\n",
       "      <td>1.0</td>\n",
       "      <td>2.0</td>\n",
       "      <td>2.0</td>\n",
       "      <td>NaN</td>\n",
       "      <td>NaN</td>\n",
       "    </tr>\n",
       "    <tr>\n",
       "      <th>189</th>\n",
       "      <td>Craig Dawson</td>\n",
       "      <td>Wolverhampton Wanderers</td>\n",
       "      <td>England</td>\n",
       "      <td>1.0</td>\n",
       "      <td>1069.0</td>\n",
       "      <td>1299.0</td>\n",
       "      <td>16.0</td>\n",
       "      <td>1.0</td>\n",
       "      <td>22</td>\n",
       "      <td>NaN</td>\n",
       "      <td>5.0</td>\n",
       "      <td>2.0</td>\n",
       "      <td>NaN</td>\n",
       "      <td>NaN</td>\n",
       "    </tr>\n",
       "    <tr>\n",
       "      <th>190</th>\n",
       "      <td>Richarlison</td>\n",
       "      <td>Tottenham Hotspur</td>\n",
       "      <td>Brazil</td>\n",
       "      <td>1.0</td>\n",
       "      <td>230.0</td>\n",
       "      <td>434.0</td>\n",
       "      <td>22.0</td>\n",
       "      <td>4.0</td>\n",
       "      <td>23</td>\n",
       "      <td>6.0</td>\n",
       "      <td>17.0</td>\n",
       "      <td>15.0</td>\n",
       "      <td>4.0</td>\n",
       "      <td>3.0</td>\n",
       "    </tr>\n",
       "    <tr>\n",
       "      <th>191</th>\n",
       "      <td>Lucas Digne</td>\n",
       "      <td>Aston Villa</td>\n",
       "      <td>France</td>\n",
       "      <td>1.0</td>\n",
       "      <td>659.0</td>\n",
       "      <td>1044.0</td>\n",
       "      <td>7.0</td>\n",
       "      <td>NaN</td>\n",
       "      <td>25</td>\n",
       "      <td>2.0</td>\n",
       "      <td>11.0</td>\n",
       "      <td>69.0</td>\n",
       "      <td>NaN</td>\n",
       "      <td>NaN</td>\n",
       "    </tr>\n",
       "    <tr>\n",
       "      <th>192</th>\n",
       "      <td>Issa Diop</td>\n",
       "      <td>Fulham</td>\n",
       "      <td>France</td>\n",
       "      <td>1.0</td>\n",
       "      <td>1161.0</td>\n",
       "      <td>1352.0</td>\n",
       "      <td>3.0</td>\n",
       "      <td>NaN</td>\n",
       "      <td>21</td>\n",
       "      <td>3.0</td>\n",
       "      <td>1.0</td>\n",
       "      <td>2.0</td>\n",
       "      <td>NaN</td>\n",
       "      <td>NaN</td>\n",
       "    </tr>\n",
       "    <tr>\n",
       "      <th>193</th>\n",
       "      <td>Matt Doherty</td>\n",
       "      <td>-</td>\n",
       "      <td>Ireland</td>\n",
       "      <td>1.0</td>\n",
       "      <td>329.0</td>\n",
       "      <td>515.0</td>\n",
       "      <td>10.0</td>\n",
       "      <td>NaN</td>\n",
       "      <td>12</td>\n",
       "      <td>NaN</td>\n",
       "      <td>3.0</td>\n",
       "      <td>18.0</td>\n",
       "      <td>NaN</td>\n",
       "      <td>NaN</td>\n",
       "    </tr>\n",
       "    <tr>\n",
       "      <th>194</th>\n",
       "      <td>Cristiano Ronaldo</td>\n",
       "      <td>-</td>\n",
       "      <td>Portugal</td>\n",
       "      <td>1.0</td>\n",
       "      <td>158.0</td>\n",
       "      <td>230.0</td>\n",
       "      <td>25.0</td>\n",
       "      <td>2.0</td>\n",
       "      <td>10</td>\n",
       "      <td>8.0</td>\n",
       "      <td>3.0</td>\n",
       "      <td>3.0</td>\n",
       "      <td>2.0</td>\n",
       "      <td>NaN</td>\n",
       "    </tr>\n",
       "    <tr>\n",
       "      <th>195</th>\n",
       "      <td>Lewis Dunk</td>\n",
       "      <td>Brighton &amp; Hove Albion</td>\n",
       "      <td>England</td>\n",
       "      <td>1.0</td>\n",
       "      <td>2825.0</td>\n",
       "      <td>3107.0</td>\n",
       "      <td>21.0</td>\n",
       "      <td>2.0</td>\n",
       "      <td>32</td>\n",
       "      <td>1.0</td>\n",
       "      <td>5.0</td>\n",
       "      <td>2.0</td>\n",
       "      <td>4.0</td>\n",
       "      <td>NaN</td>\n",
       "    </tr>\n",
       "    <tr>\n",
       "      <th>196</th>\n",
       "      <td>Harvey Elliott</td>\n",
       "      <td>-</td>\n",
       "      <td>England</td>\n",
       "      <td>1.0</td>\n",
       "      <td>920.0</td>\n",
       "      <td>1205.0</td>\n",
       "      <td>30.0</td>\n",
       "      <td>1.0</td>\n",
       "      <td>29</td>\n",
       "      <td>2.0</td>\n",
       "      <td>22.0</td>\n",
       "      <td>31.0</td>\n",
       "      <td>8.0</td>\n",
       "      <td>2.0</td>\n",
       "    </tr>\n",
       "    <tr>\n",
       "      <th>197</th>\n",
       "      <td>Christian Eriksen</td>\n",
       "      <td>Manchester United</td>\n",
       "      <td>Denmark</td>\n",
       "      <td>1.0</td>\n",
       "      <td>1162.0</td>\n",
       "      <td>1418.0</td>\n",
       "      <td>32.0</td>\n",
       "      <td>4.0</td>\n",
       "      <td>23</td>\n",
       "      <td>3.0</td>\n",
       "      <td>14.0</td>\n",
       "      <td>68.0</td>\n",
       "      <td>8.0</td>\n",
       "      <td>7.0</td>\n",
       "    </tr>\n",
       "    <tr>\n",
       "      <th>198</th>\n",
       "      <td>Fábio Vieira</td>\n",
       "      <td>Arsenal</td>\n",
       "      <td>Portugal</td>\n",
       "      <td>1.0</td>\n",
       "      <td>248.0</td>\n",
       "      <td>350.0</td>\n",
       "      <td>15.0</td>\n",
       "      <td>NaN</td>\n",
       "      <td>20</td>\n",
       "      <td>NaN</td>\n",
       "      <td>7.0</td>\n",
       "      <td>17.0</td>\n",
       "      <td>2.0</td>\n",
       "      <td>2.0</td>\n",
       "    </tr>\n",
       "    <tr>\n",
       "      <th>199</th>\n",
       "      <td>Junior Firpo</td>\n",
       "      <td>Leeds United</td>\n",
       "      <td>Spain</td>\n",
       "      <td>1.0</td>\n",
       "      <td>447.0</td>\n",
       "      <td>732.0</td>\n",
       "      <td>1.0</td>\n",
       "      <td>NaN</td>\n",
       "      <td>16</td>\n",
       "      <td>NaN</td>\n",
       "      <td>8.0</td>\n",
       "      <td>11.0</td>\n",
       "      <td>1.0</td>\n",
       "      <td>1.0</td>\n",
       "    </tr>\n",
       "    <tr>\n",
       "      <th>200</th>\n",
       "      <td>Wesley Fofana</td>\n",
       "      <td>Chelsea</td>\n",
       "      <td>France</td>\n",
       "      <td>1.0</td>\n",
       "      <td>820.0</td>\n",
       "      <td>1024.0</td>\n",
       "      <td>8.0</td>\n",
       "      <td>1.0</td>\n",
       "      <td>14</td>\n",
       "      <td>1.0</td>\n",
       "      <td>6.0</td>\n",
       "      <td>3.0</td>\n",
       "      <td>NaN</td>\n",
       "      <td>NaN</td>\n",
       "    </tr>\n",
       "    <tr>\n",
       "      <th>201</th>\n",
       "      <td>Gonçalo Guedes</td>\n",
       "      <td>-</td>\n",
       "      <td>Portugal</td>\n",
       "      <td>1.0</td>\n",
       "      <td>172.0</td>\n",
       "      <td>309.0</td>\n",
       "      <td>19.0</td>\n",
       "      <td>NaN</td>\n",
       "      <td>13</td>\n",
       "      <td>5.0</td>\n",
       "      <td>7.0</td>\n",
       "      <td>27.0</td>\n",
       "      <td>NaN</td>\n",
       "      <td>1.0</td>\n",
       "    </tr>\n",
       "    <tr>\n",
       "      <th>202</th>\n",
       "      <td>João Gomes</td>\n",
       "      <td>Wolverhampton Wanderers</td>\n",
       "      <td>Brazil</td>\n",
       "      <td>1.0</td>\n",
       "      <td>233.0</td>\n",
       "      <td>340.0</td>\n",
       "      <td>3.0</td>\n",
       "      <td>NaN</td>\n",
       "      <td>9</td>\n",
       "      <td>NaN</td>\n",
       "      <td>4.0</td>\n",
       "      <td>7.0</td>\n",
       "      <td>NaN</td>\n",
       "      <td>NaN</td>\n",
       "    </tr>\n",
       "    <tr>\n",
       "      <th>203</th>\n",
       "      <td>Sam Greenwood</td>\n",
       "      <td>Leeds United</td>\n",
       "      <td>England</td>\n",
       "      <td>1.0</td>\n",
       "      <td>125.0</td>\n",
       "      <td>229.0</td>\n",
       "      <td>11.0</td>\n",
       "      <td>NaN</td>\n",
       "      <td>15</td>\n",
       "      <td>NaN</td>\n",
       "      <td>5.0</td>\n",
       "      <td>36.0</td>\n",
       "      <td>NaN</td>\n",
       "      <td>2.0</td>\n",
       "    </tr>\n",
       "    <tr>\n",
       "      <th>204</th>\n",
       "      <td>Marc Guéhi</td>\n",
       "      <td>Crystal Palace</td>\n",
       "      <td>England</td>\n",
       "      <td>1.0</td>\n",
       "      <td>1892.0</td>\n",
       "      <td>2283.0</td>\n",
       "      <td>11.0</td>\n",
       "      <td>1.0</td>\n",
       "      <td>33</td>\n",
       "      <td>NaN</td>\n",
       "      <td>6.0</td>\n",
       "      <td>NaN</td>\n",
       "      <td>1.0</td>\n",
       "      <td>NaN</td>\n",
       "    </tr>\n",
       "    <tr>\n",
       "      <th>205</th>\n",
       "      <td>Rob Holding</td>\n",
       "      <td>Arsenal</td>\n",
       "      <td>England</td>\n",
       "      <td>1.0</td>\n",
       "      <td>438.0</td>\n",
       "      <td>507.0</td>\n",
       "      <td>5.0</td>\n",
       "      <td>NaN</td>\n",
       "      <td>14</td>\n",
       "      <td>NaN</td>\n",
       "      <td>NaN</td>\n",
       "      <td>NaN</td>\n",
       "      <td>1.0</td>\n",
       "      <td>NaN</td>\n",
       "    </tr>\n",
       "    <tr>\n",
       "      <th>206</th>\n",
       "      <td>Reece James</td>\n",
       "      <td>Chelsea</td>\n",
       "      <td>England</td>\n",
       "      <td>1.0</td>\n",
       "      <td>852.0</td>\n",
       "      <td>1245.0</td>\n",
       "      <td>16.0</td>\n",
       "      <td>NaN</td>\n",
       "      <td>16</td>\n",
       "      <td>4.0</td>\n",
       "      <td>14.0</td>\n",
       "      <td>91.0</td>\n",
       "      <td>NaN</td>\n",
       "      <td>1.0</td>\n",
       "    </tr>\n",
       "    <tr>\n",
       "      <th>207</th>\n",
       "      <td>Pontus Jansson</td>\n",
       "      <td>Brentford</td>\n",
       "      <td>Sweden</td>\n",
       "      <td>1.0</td>\n",
       "      <td>315.0</td>\n",
       "      <td>402.0</td>\n",
       "      <td>4.0</td>\n",
       "      <td>NaN</td>\n",
       "      <td>12</td>\n",
       "      <td>1.0</td>\n",
       "      <td>1.0</td>\n",
       "      <td>NaN</td>\n",
       "      <td>1.0</td>\n",
       "      <td>NaN</td>\n",
       "    </tr>\n",
       "    <tr>\n",
       "      <th>208</th>\n",
       "      <td>Curtis Jones</td>\n",
       "      <td>Liverpool</td>\n",
       "      <td>England</td>\n",
       "      <td>1.0</td>\n",
       "      <td>495.0</td>\n",
       "      <td>660.0</td>\n",
       "      <td>8.0</td>\n",
       "      <td>NaN</td>\n",
       "      <td>14</td>\n",
       "      <td>1.0</td>\n",
       "      <td>22.0</td>\n",
       "      <td>8.0</td>\n",
       "      <td>4.0</td>\n",
       "      <td>1.0</td>\n",
       "    </tr>\n",
       "    <tr>\n",
       "      <th>209</th>\n",
       "      <td>Michael Keane</td>\n",
       "      <td>Everton</td>\n",
       "      <td>England</td>\n",
       "      <td>1.0</td>\n",
       "      <td>392.0</td>\n",
       "      <td>529.0</td>\n",
       "      <td>14.0</td>\n",
       "      <td>2.0</td>\n",
       "      <td>11</td>\n",
       "      <td>NaN</td>\n",
       "      <td>1.0</td>\n",
       "      <td>2.0</td>\n",
       "      <td>NaN</td>\n",
       "      <td>1.0</td>\n",
       "    </tr>\n",
       "    <tr>\n",
       "      <th>210</th>\n",
       "      <td>Cheikhou Kouyaté</td>\n",
       "      <td>Nottingham Forest</td>\n",
       "      <td>Senegal</td>\n",
       "      <td>1.0</td>\n",
       "      <td>225.0</td>\n",
       "      <td>358.0</td>\n",
       "      <td>6.0</td>\n",
       "      <td>NaN</td>\n",
       "      <td>17</td>\n",
       "      <td>1.0</td>\n",
       "      <td>6.0</td>\n",
       "      <td>NaN</td>\n",
       "      <td>NaN</td>\n",
       "      <td>NaN</td>\n",
       "    </tr>\n",
       "    <tr>\n",
       "      <th>211</th>\n",
       "      <td>Mateo Kovacic</td>\n",
       "      <td>Chelsea</td>\n",
       "      <td>Croatia</td>\n",
       "      <td>1.0</td>\n",
       "      <td>1258.0</td>\n",
       "      <td>1494.0</td>\n",
       "      <td>23.0</td>\n",
       "      <td>2.0</td>\n",
       "      <td>25</td>\n",
       "      <td>NaN</td>\n",
       "      <td>25.0</td>\n",
       "      <td>5.0</td>\n",
       "      <td>10.0</td>\n",
       "      <td>2.0</td>\n",
       "    </tr>\n",
       "    <tr>\n",
       "      <th>212</th>\n",
       "      <td>Roméo Lavia</td>\n",
       "      <td>Southampton</td>\n",
       "      <td>Belgium</td>\n",
       "      <td>1.0</td>\n",
       "      <td>836.0</td>\n",
       "      <td>1175.0</td>\n",
       "      <td>10.0</td>\n",
       "      <td>NaN</td>\n",
       "      <td>25</td>\n",
       "      <td>NaN</td>\n",
       "      <td>28.0</td>\n",
       "      <td>3.0</td>\n",
       "      <td>5.0</td>\n",
       "      <td>NaN</td>\n",
       "    </tr>\n",
       "    <tr>\n",
       "      <th>213</th>\n",
       "      <td>Sean Longstaff</td>\n",
       "      <td>Newcastle United</td>\n",
       "      <td>England</td>\n",
       "      <td>1.0</td>\n",
       "      <td>1076.0</td>\n",
       "      <td>1452.0</td>\n",
       "      <td>30.0</td>\n",
       "      <td>5.0</td>\n",
       "      <td>32</td>\n",
       "      <td>5.0</td>\n",
       "      <td>28.0</td>\n",
       "      <td>30.0</td>\n",
       "      <td>7.0</td>\n",
       "      <td>4.0</td>\n",
       "    </tr>\n",
       "    <tr>\n",
       "      <th>214</th>\n",
       "      <td>Noni Madueke</td>\n",
       "      <td>Chelsea</td>\n",
       "      <td>England</td>\n",
       "      <td>1.0</td>\n",
       "      <td>114.0</td>\n",
       "      <td>212.0</td>\n",
       "      <td>6.0</td>\n",
       "      <td>NaN</td>\n",
       "      <td>7</td>\n",
       "      <td>1.0</td>\n",
       "      <td>9.0</td>\n",
       "      <td>8.0</td>\n",
       "      <td>NaN</td>\n",
       "      <td>NaN</td>\n",
       "    </tr>\n",
       "    <tr>\n",
       "      <th>215</th>\n",
       "      <td>Orel Mangala</td>\n",
       "      <td>-</td>\n",
       "      <td>Belgium</td>\n",
       "      <td>1.0</td>\n",
       "      <td>422.0</td>\n",
       "      <td>582.0</td>\n",
       "      <td>9.0</td>\n",
       "      <td>NaN</td>\n",
       "      <td>23</td>\n",
       "      <td>NaN</td>\n",
       "      <td>7.0</td>\n",
       "      <td>6.0</td>\n",
       "      <td>1.0</td>\n",
       "      <td>0.0</td>\n",
       "    </tr>\n",
       "    <tr>\n",
       "      <th>216</th>\n",
       "      <td>Sékou Mara</td>\n",
       "      <td>Southampton</td>\n",
       "      <td>France</td>\n",
       "      <td>1.0</td>\n",
       "      <td>98.0</td>\n",
       "      <td>255.0</td>\n",
       "      <td>17.0</td>\n",
       "      <td>NaN</td>\n",
       "      <td>21</td>\n",
       "      <td>3.0</td>\n",
       "      <td>18.0</td>\n",
       "      <td>1.0</td>\n",
       "      <td>1.0</td>\n",
       "      <td>2.0</td>\n",
       "    </tr>\n",
       "    <tr>\n",
       "      <th>217</th>\n",
       "      <td>Lisandro Martínez</td>\n",
       "      <td>Manchester United</td>\n",
       "      <td>Argentina</td>\n",
       "      <td>1.0</td>\n",
       "      <td>1518.0</td>\n",
       "      <td>1850.0</td>\n",
       "      <td>10.0</td>\n",
       "      <td>1.0</td>\n",
       "      <td>27</td>\n",
       "      <td>NaN</td>\n",
       "      <td>9.0</td>\n",
       "      <td>NaN</td>\n",
       "      <td>7.0</td>\n",
       "      <td>NaN</td>\n",
       "    </tr>\n",
       "    <tr>\n",
       "      <th>218</th>\n",
       "      <td>Joël Matip</td>\n",
       "      <td>Liverpool</td>\n",
       "      <td>Cameroon</td>\n",
       "      <td>1.0</td>\n",
       "      <td>810.0</td>\n",
       "      <td>942.0</td>\n",
       "      <td>4.0</td>\n",
       "      <td>1.0</td>\n",
       "      <td>13</td>\n",
       "      <td>1.0</td>\n",
       "      <td>1.0</td>\n",
       "      <td>1.0</td>\n",
       "      <td>NaN</td>\n",
       "      <td>NaN</td>\n",
       "    </tr>\n",
       "    <tr>\n",
       "      <th>219</th>\n",
       "      <td>Neal Maupay</td>\n",
       "      <td>Everton</td>\n",
       "      <td>France</td>\n",
       "      <td>1.0</td>\n",
       "      <td>233.0</td>\n",
       "      <td>416.0</td>\n",
       "      <td>30.0</td>\n",
       "      <td>7.0</td>\n",
       "      <td>24</td>\n",
       "      <td>1.0</td>\n",
       "      <td>16.0</td>\n",
       "      <td>3.0</td>\n",
       "      <td>NaN</td>\n",
       "      <td>0.0</td>\n",
       "    </tr>\n",
       "    <tr>\n",
       "      <th>220</th>\n",
       "      <td>John McGinn</td>\n",
       "      <td>Aston Villa</td>\n",
       "      <td>Scotland</td>\n",
       "      <td>1.0</td>\n",
       "      <td>845.0</td>\n",
       "      <td>1300.0</td>\n",
       "      <td>38.0</td>\n",
       "      <td>2.0</td>\n",
       "      <td>30</td>\n",
       "      <td>NaN</td>\n",
       "      <td>30.0</td>\n",
       "      <td>47.0</td>\n",
       "      <td>8.0</td>\n",
       "      <td>3.0</td>\n",
       "    </tr>\n",
       "    <tr>\n",
       "      <th>221</th>\n",
       "      <td>Scott McTominay</td>\n",
       "      <td>Manchester United</td>\n",
       "      <td>Scotland</td>\n",
       "      <td>1.0</td>\n",
       "      <td>406.0</td>\n",
       "      <td>643.0</td>\n",
       "      <td>11.0</td>\n",
       "      <td>1.0</td>\n",
       "      <td>21</td>\n",
       "      <td>NaN</td>\n",
       "      <td>19.0</td>\n",
       "      <td>4.0</td>\n",
       "      <td>3.0</td>\n",
       "      <td>NaN</td>\n",
       "    </tr>\n",
       "    <tr>\n",
       "      <th>222</th>\n",
       "      <td>Nampalys Mendy</td>\n",
       "      <td>-</td>\n",
       "      <td>Senegal</td>\n",
       "      <td>1.0</td>\n",
       "      <td>404.0</td>\n",
       "      <td>502.0</td>\n",
       "      <td>2.0</td>\n",
       "      <td>NaN</td>\n",
       "      <td>17</td>\n",
       "      <td>NaN</td>\n",
       "      <td>1.0</td>\n",
       "      <td>1.0</td>\n",
       "      <td>1.0</td>\n",
       "      <td>NaN</td>\n",
       "    </tr>\n",
       "    <tr>\n",
       "      <th>223</th>\n",
       "      <td>Yerry Mina</td>\n",
       "      <td>Everton</td>\n",
       "      <td>Colombia</td>\n",
       "      <td>1.0</td>\n",
       "      <td>173.0</td>\n",
       "      <td>209.0</td>\n",
       "      <td>3.0</td>\n",
       "      <td>NaN</td>\n",
       "      <td>3</td>\n",
       "      <td>NaN</td>\n",
       "      <td>NaN</td>\n",
       "      <td>NaN</td>\n",
       "      <td>NaN</td>\n",
       "      <td>NaN</td>\n",
       "    </tr>\n",
       "    <tr>\n",
       "      <th>224</th>\n",
       "      <td>Tyrone Mings</td>\n",
       "      <td>Aston Villa</td>\n",
       "      <td>England</td>\n",
       "      <td>1.0</td>\n",
       "      <td>1720.0</td>\n",
       "      <td>2048.0</td>\n",
       "      <td>6.0</td>\n",
       "      <td>1.0</td>\n",
       "      <td>31</td>\n",
       "      <td>2.0</td>\n",
       "      <td>6.0</td>\n",
       "      <td>2.0</td>\n",
       "      <td>1.0</td>\n",
       "      <td>2.0</td>\n",
       "    </tr>\n",
       "    <tr>\n",
       "      <th>225</th>\n",
       "      <td>Matheus Nunes</td>\n",
       "      <td>Wolverhampton Wanderers</td>\n",
       "      <td>Portugal</td>\n",
       "      <td>1.0</td>\n",
       "      <td>885.0</td>\n",
       "      <td>1348.0</td>\n",
       "      <td>25.0</td>\n",
       "      <td>3.0</td>\n",
       "      <td>30</td>\n",
       "      <td>2.0</td>\n",
       "      <td>37.0</td>\n",
       "      <td>37.0</td>\n",
       "      <td>4.0</td>\n",
       "      <td>1.0</td>\n",
       "    </tr>\n",
       "    <tr>\n",
       "      <th>226</th>\n",
       "      <td>Christian Nørgaard</td>\n",
       "      <td>Brentford</td>\n",
       "      <td>Denmark</td>\n",
       "      <td>1.0</td>\n",
       "      <td>793.0</td>\n",
       "      <td>1102.0</td>\n",
       "      <td>19.0</td>\n",
       "      <td>NaN</td>\n",
       "      <td>22</td>\n",
       "      <td>NaN</td>\n",
       "      <td>10.0</td>\n",
       "      <td>11.0</td>\n",
       "      <td>2.0</td>\n",
       "      <td>3.0</td>\n",
       "    </tr>\n",
       "    <tr>\n",
       "      <th>227</th>\n",
       "      <td>Lewis O'Brien</td>\n",
       "      <td>-</td>\n",
       "      <td>England</td>\n",
       "      <td>1.0</td>\n",
       "      <td>207.0</td>\n",
       "      <td>318.0</td>\n",
       "      <td>7.0</td>\n",
       "      <td>NaN</td>\n",
       "      <td>13</td>\n",
       "      <td>NaN</td>\n",
       "      <td>7.0</td>\n",
       "      <td>4.0</td>\n",
       "      <td>NaN</td>\n",
       "      <td>NaN</td>\n",
       "    </tr>\n",
       "    <tr>\n",
       "      <th>228</th>\n",
       "      <td>Amadou Onana</td>\n",
       "      <td>Everton</td>\n",
       "      <td>Belgium</td>\n",
       "      <td>1.0</td>\n",
       "      <td>881.0</td>\n",
       "      <td>1278.0</td>\n",
       "      <td>32.0</td>\n",
       "      <td>4.0</td>\n",
       "      <td>29</td>\n",
       "      <td>2.0</td>\n",
       "      <td>16.0</td>\n",
       "      <td>4.0</td>\n",
       "      <td>3.0</td>\n",
       "      <td>1.0</td>\n",
       "    </tr>\n",
       "    <tr>\n",
       "      <th>229</th>\n",
       "      <td>Dango Ouattara</td>\n",
       "      <td>Bournemouth</td>\n",
       "      <td>Burkina Faso</td>\n",
       "      <td>1.0</td>\n",
       "      <td>229.0</td>\n",
       "      <td>487.0</td>\n",
       "      <td>22.0</td>\n",
       "      <td>2.0</td>\n",
       "      <td>15</td>\n",
       "      <td>7.0</td>\n",
       "      <td>10.0</td>\n",
       "      <td>24.0</td>\n",
       "      <td>3.0</td>\n",
       "      <td>3.0</td>\n",
       "    </tr>\n",
       "    <tr>\n",
       "      <th>230</th>\n",
       "      <td>Alex Oxlade-Chamberlain</td>\n",
       "      <td>Liverpool</td>\n",
       "      <td>England</td>\n",
       "      <td>1.0</td>\n",
       "      <td>100.0</td>\n",
       "      <td>169.0</td>\n",
       "      <td>7.0</td>\n",
       "      <td>2.0</td>\n",
       "      <td>9</td>\n",
       "      <td>1.0</td>\n",
       "      <td>10.0</td>\n",
       "      <td>2.0</td>\n",
       "      <td>2.0</td>\n",
       "      <td>NaN</td>\n",
       "    </tr>\n",
       "    <tr>\n",
       "      <th>231</th>\n",
       "      <td>Emerson</td>\n",
       "      <td>West Ham United</td>\n",
       "      <td>Italy</td>\n",
       "      <td>1.0</td>\n",
       "      <td>473.0</td>\n",
       "      <td>734.0</td>\n",
       "      <td>8.0</td>\n",
       "      <td>NaN</td>\n",
       "      <td>18</td>\n",
       "      <td>NaN</td>\n",
       "      <td>8.0</td>\n",
       "      <td>34.0</td>\n",
       "      <td>NaN</td>\n",
       "      <td>NaN</td>\n",
       "    </tr>\n",
       "    <tr>\n",
       "      <th>232</th>\n",
       "      <td>Ivan Perisic</td>\n",
       "      <td>Tottenham Hotspur</td>\n",
       "      <td>Croatia</td>\n",
       "      <td>1.0</td>\n",
       "      <td>772.0</td>\n",
       "      <td>1406.0</td>\n",
       "      <td>29.0</td>\n",
       "      <td>5.0</td>\n",
       "      <td>32</td>\n",
       "      <td>6.0</td>\n",
       "      <td>14.0</td>\n",
       "      <td>189.0</td>\n",
       "      <td>NaN</td>\n",
       "      <td>8.0</td>\n",
       "    </tr>\n",
       "    <tr>\n",
       "      <th>233</th>\n",
       "      <td>Dennis Praet</td>\n",
       "      <td>Leicester City</td>\n",
       "      <td>Belgium</td>\n",
       "      <td>1.0</td>\n",
       "      <td>234.0</td>\n",
       "      <td>347.0</td>\n",
       "      <td>5.0</td>\n",
       "      <td>1.0</td>\n",
       "      <td>21</td>\n",
       "      <td>1.0</td>\n",
       "      <td>8.0</td>\n",
       "      <td>15.0</td>\n",
       "      <td>2.0</td>\n",
       "      <td>NaN</td>\n",
       "    </tr>\n",
       "    <tr>\n",
       "      <th>234</th>\n",
       "      <td>Christian Pulisic</td>\n",
       "      <td>Chelsea</td>\n",
       "      <td>United States</td>\n",
       "      <td>1.0</td>\n",
       "      <td>266.0</td>\n",
       "      <td>452.0</td>\n",
       "      <td>17.0</td>\n",
       "      <td>1.0</td>\n",
       "      <td>21</td>\n",
       "      <td>NaN</td>\n",
       "      <td>13.0</td>\n",
       "      <td>16.0</td>\n",
       "      <td>1.0</td>\n",
       "      <td>1.0</td>\n",
       "    </tr>\n",
       "    <tr>\n",
       "      <th>235</th>\n",
       "      <td>Tim Ream</td>\n",
       "      <td>Fulham</td>\n",
       "      <td>United States</td>\n",
       "      <td>1.0</td>\n",
       "      <td>1902.0</td>\n",
       "      <td>2230.0</td>\n",
       "      <td>3.0</td>\n",
       "      <td>1.0</td>\n",
       "      <td>33</td>\n",
       "      <td>1.0</td>\n",
       "      <td>5.0</td>\n",
       "      <td>4.0</td>\n",
       "      <td>NaN</td>\n",
       "      <td>NaN</td>\n",
       "    </tr>\n",
       "    <tr>\n",
       "      <th>236</th>\n",
       "      <td>Marc Roca</td>\n",
       "      <td>Leeds United</td>\n",
       "      <td>Spain</td>\n",
       "      <td>1.0</td>\n",
       "      <td>1191.0</td>\n",
       "      <td>1621.0</td>\n",
       "      <td>35.0</td>\n",
       "      <td>2.0</td>\n",
       "      <td>30</td>\n",
       "      <td>NaN</td>\n",
       "      <td>25.0</td>\n",
       "      <td>74.0</td>\n",
       "      <td>5.0</td>\n",
       "      <td>2.0</td>\n",
       "    </tr>\n",
       "    <tr>\n",
       "      <th>237</th>\n",
       "      <td>Allan Saint-Maximin</td>\n",
       "      <td>Newcastle United</td>\n",
       "      <td>France</td>\n",
       "      <td>1.0</td>\n",
       "      <td>357.0</td>\n",
       "      <td>598.0</td>\n",
       "      <td>25.0</td>\n",
       "      <td>NaN</td>\n",
       "      <td>20</td>\n",
       "      <td>1.0</td>\n",
       "      <td>28.0</td>\n",
       "      <td>28.0</td>\n",
       "      <td>4.0</td>\n",
       "      <td>5.0</td>\n",
       "    </tr>\n",
       "    <tr>\n",
       "      <th>238</th>\n",
       "      <td>Pablo Sarabia</td>\n",
       "      <td>Wolverhampton Wanderers</td>\n",
       "      <td>Spain</td>\n",
       "      <td>1.0</td>\n",
       "      <td>287.0</td>\n",
       "      <td>439.0</td>\n",
       "      <td>18.0</td>\n",
       "      <td>3.0</td>\n",
       "      <td>12</td>\n",
       "      <td>3.0</td>\n",
       "      <td>13.0</td>\n",
       "      <td>46.0</td>\n",
       "      <td>1.0</td>\n",
       "      <td>NaN</td>\n",
       "    </tr>\n",
       "    <tr>\n",
       "      <th>239</th>\n",
       "      <td>Fabian Schär</td>\n",
       "      <td>Newcastle United</td>\n",
       "      <td>Switzerland</td>\n",
       "      <td>1.0</td>\n",
       "      <td>1541.0</td>\n",
       "      <td>1945.0</td>\n",
       "      <td>44.0</td>\n",
       "      <td>7.0</td>\n",
       "      <td>31</td>\n",
       "      <td>5.0</td>\n",
       "      <td>6.0</td>\n",
       "      <td>14.0</td>\n",
       "      <td>7.0</td>\n",
       "      <td>3.0</td>\n",
       "    </tr>\n",
       "    <tr>\n",
       "      <th>240</th>\n",
       "      <td>Antoine Semenyo</td>\n",
       "      <td>Bournemouth</td>\n",
       "      <td>Ghana</td>\n",
       "      <td>1.0</td>\n",
       "      <td>52.0</td>\n",
       "      <td>111.0</td>\n",
       "      <td>3.0</td>\n",
       "      <td>NaN</td>\n",
       "      <td>10</td>\n",
       "      <td>1.0</td>\n",
       "      <td>6.0</td>\n",
       "      <td>1.0</td>\n",
       "      <td>NaN</td>\n",
       "      <td>NaN</td>\n",
       "    </tr>\n",
       "    <tr>\n",
       "      <th>241</th>\n",
       "      <td>Luke Shaw</td>\n",
       "      <td>Manchester United</td>\n",
       "      <td>England</td>\n",
       "      <td>1.0</td>\n",
       "      <td>1556.0</td>\n",
       "      <td>2140.0</td>\n",
       "      <td>11.0</td>\n",
       "      <td>NaN</td>\n",
       "      <td>27</td>\n",
       "      <td>1.0</td>\n",
       "      <td>8.0</td>\n",
       "      <td>81.0</td>\n",
       "      <td>2.0</td>\n",
       "      <td>2.0</td>\n",
       "    </tr>\n",
       "    <tr>\n",
       "      <th>242</th>\n",
       "      <td>Ellis Simms</td>\n",
       "      <td>Everton</td>\n",
       "      <td>England</td>\n",
       "      <td>1.0</td>\n",
       "      <td>60.0</td>\n",
       "      <td>86.0</td>\n",
       "      <td>8.0</td>\n",
       "      <td>1.0</td>\n",
       "      <td>10</td>\n",
       "      <td>1.0</td>\n",
       "      <td>2.0</td>\n",
       "      <td>1.0</td>\n",
       "      <td>1.0</td>\n",
       "      <td>NaN</td>\n",
       "    </tr>\n",
       "    <tr>\n",
       "      <th>243</th>\n",
       "      <td>Oliver Skipp</td>\n",
       "      <td>Tottenham Hotspur</td>\n",
       "      <td>England</td>\n",
       "      <td>1.0</td>\n",
       "      <td>587.0</td>\n",
       "      <td>746.0</td>\n",
       "      <td>7.0</td>\n",
       "      <td>NaN</td>\n",
       "      <td>19</td>\n",
       "      <td>NaN</td>\n",
       "      <td>13.0</td>\n",
       "      <td>10.0</td>\n",
       "      <td>1.0</td>\n",
       "      <td>0.0</td>\n",
       "    </tr>\n",
       "    <tr>\n",
       "      <th>244</th>\n",
       "      <td>Çaglar Söyüncü</td>\n",
       "      <td>Leicester City</td>\n",
       "      <td>[object Object]</td>\n",
       "      <td>1.0</td>\n",
       "      <td>257.0</td>\n",
       "      <td>334.0</td>\n",
       "      <td>5.0</td>\n",
       "      <td>NaN</td>\n",
       "      <td>6</td>\n",
       "      <td>NaN</td>\n",
       "      <td>NaN</td>\n",
       "      <td>NaN</td>\n",
       "      <td>NaN</td>\n",
       "      <td>NaN</td>\n",
       "    </tr>\n",
       "    <tr>\n",
       "      <th>245</th>\n",
       "      <td>Sam Surridge</td>\n",
       "      <td>Nottingham Forest</td>\n",
       "      <td>England</td>\n",
       "      <td>1.0</td>\n",
       "      <td>71.0</td>\n",
       "      <td>136.0</td>\n",
       "      <td>9.0</td>\n",
       "      <td>1.0</td>\n",
       "      <td>18</td>\n",
       "      <td>2.0</td>\n",
       "      <td>3.0</td>\n",
       "      <td>3.0</td>\n",
       "      <td>NaN</td>\n",
       "      <td>NaN</td>\n",
       "    </tr>\n",
       "    <tr>\n",
       "      <th>246</th>\n",
       "      <td>James Tarkowski</td>\n",
       "      <td>Everton</td>\n",
       "      <td>England</td>\n",
       "      <td>1.0</td>\n",
       "      <td>1506.0</td>\n",
       "      <td>1997.0</td>\n",
       "      <td>26.0</td>\n",
       "      <td>3.0</td>\n",
       "      <td>34</td>\n",
       "      <td>1.0</td>\n",
       "      <td>5.0</td>\n",
       "      <td>NaN</td>\n",
       "      <td>3.0</td>\n",
       "      <td>1.0</td>\n",
       "    </tr>\n",
       "    <tr>\n",
       "      <th>247</th>\n",
       "      <td>James Tomkins</td>\n",
       "      <td>Crystal Palace</td>\n",
       "      <td>England</td>\n",
       "      <td>1.0</td>\n",
       "      <td>171.0</td>\n",
       "      <td>212.0</td>\n",
       "      <td>3.0</td>\n",
       "      <td>NaN</td>\n",
       "      <td>6</td>\n",
       "      <td>1.0</td>\n",
       "      <td>1.0</td>\n",
       "      <td>NaN</td>\n",
       "      <td>NaN</td>\n",
       "      <td>NaN</td>\n",
       "    </tr>\n",
       "    <tr>\n",
       "      <th>248</th>\n",
       "      <td>Kieran Trippier</td>\n",
       "      <td>Newcastle United</td>\n",
       "      <td>England</td>\n",
       "      <td>1.0</td>\n",
       "      <td>1759.0</td>\n",
       "      <td>2739.0</td>\n",
       "      <td>12.0</td>\n",
       "      <td>NaN</td>\n",
       "      <td>33</td>\n",
       "      <td>7.0</td>\n",
       "      <td>7.0</td>\n",
       "      <td>339.0</td>\n",
       "      <td>16.0</td>\n",
       "      <td>6.0</td>\n",
       "    </tr>\n",
       "    <tr>\n",
       "      <th>249</th>\n",
       "      <td>Joël Veltman</td>\n",
       "      <td>Brighton &amp; Hove Albion</td>\n",
       "      <td>Netherlands</td>\n",
       "      <td>1.0</td>\n",
       "      <td>1236.0</td>\n",
       "      <td>1721.0</td>\n",
       "      <td>14.0</td>\n",
       "      <td>NaN</td>\n",
       "      <td>28</td>\n",
       "      <td>NaN</td>\n",
       "      <td>8.0</td>\n",
       "      <td>20.0</td>\n",
       "      <td>1.0</td>\n",
       "      <td>1.0</td>\n",
       "    </tr>\n",
       "    <tr>\n",
       "      <th>250</th>\n",
       "      <td>Matías Viña</td>\n",
       "      <td>Bournemouth</td>\n",
       "      <td>Uruguay</td>\n",
       "      <td>1.0</td>\n",
       "      <td>78.0</td>\n",
       "      <td>179.0</td>\n",
       "      <td>5.0</td>\n",
       "      <td>NaN</td>\n",
       "      <td>8</td>\n",
       "      <td>NaN</td>\n",
       "      <td>3.0</td>\n",
       "      <td>3.0</td>\n",
       "      <td>NaN</td>\n",
       "      <td>NaN</td>\n",
       "    </tr>\n",
       "    <tr>\n",
       "      <th>251</th>\n",
       "      <td>Kyle Walker-Peters</td>\n",
       "      <td>Southampton</td>\n",
       "      <td>England</td>\n",
       "      <td>1.0</td>\n",
       "      <td>877.0</td>\n",
       "      <td>1583.0</td>\n",
       "      <td>12.0</td>\n",
       "      <td>NaN</td>\n",
       "      <td>27</td>\n",
       "      <td>1.0</td>\n",
       "      <td>41.0</td>\n",
       "      <td>48.0</td>\n",
       "      <td>1.0</td>\n",
       "      <td>NaN</td>\n",
       "    </tr>\n",
       "    <tr>\n",
       "      <th>252</th>\n",
       "      <td>Neco Williams</td>\n",
       "      <td>Nottingham Forest</td>\n",
       "      <td>Wales</td>\n",
       "      <td>1.0</td>\n",
       "      <td>603.0</td>\n",
       "      <td>1235.0</td>\n",
       "      <td>25.0</td>\n",
       "      <td>1.0</td>\n",
       "      <td>31</td>\n",
       "      <td>2.0</td>\n",
       "      <td>17.0</td>\n",
       "      <td>89.0</td>\n",
       "      <td>3.0</td>\n",
       "      <td>NaN</td>\n",
       "    </tr>\n",
       "    <tr>\n",
       "      <th>253</th>\n",
       "      <td>Joe Worrall</td>\n",
       "      <td>Nottingham Forest</td>\n",
       "      <td>England</td>\n",
       "      <td>1.0</td>\n",
       "      <td>998.0</td>\n",
       "      <td>1281.0</td>\n",
       "      <td>5.0</td>\n",
       "      <td>NaN</td>\n",
       "      <td>26</td>\n",
       "      <td>NaN</td>\n",
       "      <td>4.0</td>\n",
       "      <td>4.0</td>\n",
       "      <td>NaN</td>\n",
       "      <td>NaN</td>\n",
       "    </tr>\n",
       "    <tr>\n",
       "      <th>254</th>\n",
       "      <td>Ashley Young</td>\n",
       "      <td>Aston Villa</td>\n",
       "      <td>England</td>\n",
       "      <td>1.0</td>\n",
       "      <td>876.0</td>\n",
       "      <td>1335.0</td>\n",
       "      <td>12.0</td>\n",
       "      <td>NaN</td>\n",
       "      <td>26</td>\n",
       "      <td>1.0</td>\n",
       "      <td>5.0</td>\n",
       "      <td>38.0</td>\n",
       "      <td>2.0</td>\n",
       "      <td>NaN</td>\n",
       "    </tr>\n",
       "    <tr>\n",
       "      <th>255</th>\n",
       "      <td>Oleksandr Zinchenko</td>\n",
       "      <td>Arsenal</td>\n",
       "      <td>Ukraine</td>\n",
       "      <td>1.0</td>\n",
       "      <td>1677.0</td>\n",
       "      <td>2118.0</td>\n",
       "      <td>28.0</td>\n",
       "      <td>1.0</td>\n",
       "      <td>26</td>\n",
       "      <td>1.0</td>\n",
       "      <td>15.0</td>\n",
       "      <td>37.0</td>\n",
       "      <td>6.0</td>\n",
       "      <td>2.0</td>\n",
       "    </tr>\n",
       "    <tr>\n",
       "      <th>256</th>\n",
       "      <td>Elliot Anderson</td>\n",
       "      <td>Newcastle United</td>\n",
       "      <td>Scotland</td>\n",
       "      <td>0.0</td>\n",
       "      <td>104.0</td>\n",
       "      <td>189.0</td>\n",
       "      <td>8.0</td>\n",
       "      <td>1.0</td>\n",
       "      <td>17</td>\n",
       "      <td>1.0</td>\n",
       "      <td>9.0</td>\n",
       "      <td>4.0</td>\n",
       "      <td>1.0</td>\n",
       "      <td>NaN</td>\n",
       "    </tr>\n",
       "    <tr>\n",
       "      <th>257</th>\n",
       "      <td>Willy Boly</td>\n",
       "      <td>Nottingham Forest</td>\n",
       "      <td>Cote D’Ivoire</td>\n",
       "      <td>0.0</td>\n",
       "      <td>238.0</td>\n",
       "      <td>334.0</td>\n",
       "      <td>1.0</td>\n",
       "      <td>NaN</td>\n",
       "      <td>8</td>\n",
       "      <td>3.0</td>\n",
       "      <td>NaN</td>\n",
       "      <td>NaN</td>\n",
       "      <td>NaN</td>\n",
       "      <td>1.0</td>\n",
       "    </tr>\n",
       "    <tr>\n",
       "      <th>258</th>\n",
       "      <td>Maxwel Cornet</td>\n",
       "      <td>West Ham United</td>\n",
       "      <td>Cote D’Ivoire</td>\n",
       "      <td>0.0</td>\n",
       "      <td>55.0</td>\n",
       "      <td>93.0</td>\n",
       "      <td>7.0</td>\n",
       "      <td>2.0</td>\n",
       "      <td>12</td>\n",
       "      <td>6.0</td>\n",
       "      <td>2.0</td>\n",
       "      <td>4.0</td>\n",
       "      <td>NaN</td>\n",
       "      <td>NaN</td>\n",
       "    </tr>\n",
       "    <tr>\n",
       "      <th>259</th>\n",
       "      <td>Pervis Estupiñán</td>\n",
       "      <td>Brighton &amp; Hove Albion</td>\n",
       "      <td>Ecuador</td>\n",
       "      <td>0.0</td>\n",
       "      <td>1352.0</td>\n",
       "      <td>1904.0</td>\n",
       "      <td>22.0</td>\n",
       "      <td>2.0</td>\n",
       "      <td>29</td>\n",
       "      <td>9.0</td>\n",
       "      <td>24.0</td>\n",
       "      <td>74.0</td>\n",
       "      <td>4.0</td>\n",
       "      <td>4.0</td>\n",
       "    </tr>\n",
       "    <tr>\n",
       "      <th>260</th>\n",
       "      <td>Raúl Jiménez</td>\n",
       "      <td>Wolverhampton Wanderers</td>\n",
       "      <td>Mexico</td>\n",
       "      <td>0.0</td>\n",
       "      <td>163.0</td>\n",
       "      <td>290.0</td>\n",
       "      <td>20.0</td>\n",
       "      <td>4.0</td>\n",
       "      <td>13</td>\n",
       "      <td>9.0</td>\n",
       "      <td>11.0</td>\n",
       "      <td>5.0</td>\n",
       "      <td>1.0</td>\n",
       "      <td>1.0</td>\n",
       "    </tr>\n",
       "    <tr>\n",
       "      <th>261</th>\n",
       "      <td>Ryan Yates</td>\n",
       "      <td>Nottingham Forest</td>\n",
       "      <td>England</td>\n",
       "      <td>0.0</td>\n",
       "      <td>492.0</td>\n",
       "      <td>734.0</td>\n",
       "      <td>25.0</td>\n",
       "      <td>1.0</td>\n",
       "      <td>22</td>\n",
       "      <td>1.0</td>\n",
       "      <td>15.0</td>\n",
       "      <td>6.0</td>\n",
       "      <td>NaN</td>\n",
       "      <td>2.0</td>\n",
       "    </tr>\n",
       "    <tr>\n",
       "      <th>262</th>\n",
       "      <td>Rúben Dias</td>\n",
       "      <td>Manchester City</td>\n",
       "      <td>Portugal</td>\n",
       "      <td>NaN</td>\n",
       "      <td>1975.0</td>\n",
       "      <td>2159.0</td>\n",
       "      <td>10.0</td>\n",
       "      <td>3.0</td>\n",
       "      <td>25</td>\n",
       "      <td>NaN</td>\n",
       "      <td>3.0</td>\n",
       "      <td>1.0</td>\n",
       "      <td>1.0</td>\n",
       "      <td>NaN</td>\n",
       "    </tr>\n",
       "    <tr>\n",
       "      <th>263</th>\n",
       "      <td>Maximilian Kilman</td>\n",
       "      <td>Wolverhampton Wanderers</td>\n",
       "      <td>England</td>\n",
       "      <td>NaN</td>\n",
       "      <td>1950.0</td>\n",
       "      <td>2353.0</td>\n",
       "      <td>12.0</td>\n",
       "      <td>2.0</td>\n",
       "      <td>34</td>\n",
       "      <td>NaN</td>\n",
       "      <td>9.0</td>\n",
       "      <td>4.0</td>\n",
       "      <td>NaN</td>\n",
       "      <td>NaN</td>\n",
       "    </tr>\n",
       "    <tr>\n",
       "      <th>264</th>\n",
       "      <td>Manuel Akanji</td>\n",
       "      <td>Manchester City</td>\n",
       "      <td>Switzerland</td>\n",
       "      <td>NaN</td>\n",
       "      <td>1778.0</td>\n",
       "      <td>1996.0</td>\n",
       "      <td>13.0</td>\n",
       "      <td>2.0</td>\n",
       "      <td>26</td>\n",
       "      <td>NaN</td>\n",
       "      <td>3.0</td>\n",
       "      <td>5.0</td>\n",
       "      <td>NaN</td>\n",
       "      <td>1.0</td>\n",
       "    </tr>\n",
       "    <tr>\n",
       "      <th>265</th>\n",
       "      <td>Thiago Silva</td>\n",
       "      <td>Chelsea</td>\n",
       "      <td>Brazil</td>\n",
       "      <td>NaN</td>\n",
       "      <td>1746.0</td>\n",
       "      <td>2013.0</td>\n",
       "      <td>14.0</td>\n",
       "      <td>1.0</td>\n",
       "      <td>23</td>\n",
       "      <td>NaN</td>\n",
       "      <td>1.0</td>\n",
       "      <td>1.0</td>\n",
       "      <td>NaN</td>\n",
       "      <td>2.0</td>\n",
       "    </tr>\n",
       "    <tr>\n",
       "      <th>266</th>\n",
       "      <td>Ezri Konsa</td>\n",
       "      <td>Aston Villa</td>\n",
       "      <td>England</td>\n",
       "      <td>NaN</td>\n",
       "      <td>1694.0</td>\n",
       "      <td>2043.0</td>\n",
       "      <td>8.0</td>\n",
       "      <td>1.0</td>\n",
       "      <td>34</td>\n",
       "      <td>NaN</td>\n",
       "      <td>5.0</td>\n",
       "      <td>4.0</td>\n",
       "      <td>1.0</td>\n",
       "      <td>NaN</td>\n",
       "    </tr>\n",
       "    <tr>\n",
       "      <th>267</th>\n",
       "      <td>Wout Faes</td>\n",
       "      <td>Leicester City</td>\n",
       "      <td>Belgium</td>\n",
       "      <td>NaN</td>\n",
       "      <td>1680.0</td>\n",
       "      <td>2013.0</td>\n",
       "      <td>11.0</td>\n",
       "      <td>NaN</td>\n",
       "      <td>27</td>\n",
       "      <td>NaN</td>\n",
       "      <td>5.0</td>\n",
       "      <td>NaN</td>\n",
       "      <td>2.0</td>\n",
       "      <td>2.0</td>\n",
       "    </tr>\n",
       "    <tr>\n",
       "      <th>268</th>\n",
       "      <td>Andrew Robertson</td>\n",
       "      <td>Liverpool</td>\n",
       "      <td>Scotland</td>\n",
       "      <td>NaN</td>\n",
       "      <td>1670.0</td>\n",
       "      <td>2329.0</td>\n",
       "      <td>13.0</td>\n",
       "      <td>1.0</td>\n",
       "      <td>31</td>\n",
       "      <td>6.0</td>\n",
       "      <td>7.0</td>\n",
       "      <td>178.0</td>\n",
       "      <td>2.0</td>\n",
       "      <td>8.0</td>\n",
       "    </tr>\n",
       "    <tr>\n",
       "      <th>269</th>\n",
       "      <td>Fabinho</td>\n",
       "      <td>Liverpool</td>\n",
       "      <td>Brazil</td>\n",
       "      <td>NaN</td>\n",
       "      <td>1613.0</td>\n",
       "      <td>1898.0</td>\n",
       "      <td>16.0</td>\n",
       "      <td>NaN</td>\n",
       "      <td>32</td>\n",
       "      <td>NaN</td>\n",
       "      <td>12.0</td>\n",
       "      <td>5.0</td>\n",
       "      <td>4.0</td>\n",
       "      <td>1.0</td>\n",
       "    </tr>\n",
       "    <tr>\n",
       "      <th>270</th>\n",
       "      <td>Adam Webster</td>\n",
       "      <td>Brighton &amp; Hove Albion</td>\n",
       "      <td>England</td>\n",
       "      <td>NaN</td>\n",
       "      <td>1566.0</td>\n",
       "      <td>1786.0</td>\n",
       "      <td>18.0</td>\n",
       "      <td>2.0</td>\n",
       "      <td>25</td>\n",
       "      <td>NaN</td>\n",
       "      <td>5.0</td>\n",
       "      <td>2.0</td>\n",
       "      <td>NaN</td>\n",
       "      <td>NaN</td>\n",
       "    </tr>\n",
       "    <tr>\n",
       "      <th>271</th>\n",
       "      <td>Robin Koch</td>\n",
       "      <td>Leeds United</td>\n",
       "      <td>Germany</td>\n",
       "      <td>NaN</td>\n",
       "      <td>1497.0</td>\n",
       "      <td>1868.0</td>\n",
       "      <td>12.0</td>\n",
       "      <td>NaN</td>\n",
       "      <td>33</td>\n",
       "      <td>1.0</td>\n",
       "      <td>1.0</td>\n",
       "      <td>1.0</td>\n",
       "      <td>2.0</td>\n",
       "      <td>NaN</td>\n",
       "    </tr>\n",
       "    <tr>\n",
       "      <th>272</th>\n",
       "      <td>Sven Botman</td>\n",
       "      <td>Newcastle United</td>\n",
       "      <td>Netherlands</td>\n",
       "      <td>NaN</td>\n",
       "      <td>1494.0</td>\n",
       "      <td>1800.0</td>\n",
       "      <td>20.0</td>\n",
       "      <td>3.0</td>\n",
       "      <td>31</td>\n",
       "      <td>2.0</td>\n",
       "      <td>2.0</td>\n",
       "      <td>NaN</td>\n",
       "      <td>NaN</td>\n",
       "      <td>NaN</td>\n",
       "    </tr>\n",
       "    <tr>\n",
       "      <th>273</th>\n",
       "      <td>Cristian Romero</td>\n",
       "      <td>Tottenham Hotspur</td>\n",
       "      <td>Argentina</td>\n",
       "      <td>NaN</td>\n",
       "      <td>1428.0</td>\n",
       "      <td>1783.0</td>\n",
       "      <td>9.0</td>\n",
       "      <td>NaN</td>\n",
       "      <td>25</td>\n",
       "      <td>NaN</td>\n",
       "      <td>10.0</td>\n",
       "      <td>NaN</td>\n",
       "      <td>2.0</td>\n",
       "      <td>1.0</td>\n",
       "    </tr>\n",
       "    <tr>\n",
       "      <th>274</th>\n",
       "      <td>Jordan Henderson</td>\n",
       "      <td>Liverpool</td>\n",
       "      <td>England</td>\n",
       "      <td>NaN</td>\n",
       "      <td>1414.0</td>\n",
       "      <td>1658.0</td>\n",
       "      <td>22.0</td>\n",
       "      <td>0.0</td>\n",
       "      <td>31</td>\n",
       "      <td>3.0</td>\n",
       "      <td>6.0</td>\n",
       "      <td>37.0</td>\n",
       "      <td>8.0</td>\n",
       "      <td>2.0</td>\n",
       "    </tr>\n",
       "    <tr>\n",
       "      <th>275</th>\n",
       "      <td>Kyle Walker</td>\n",
       "      <td>Manchester City</td>\n",
       "      <td>England</td>\n",
       "      <td>NaN</td>\n",
       "      <td>1406.0</td>\n",
       "      <td>1651.0</td>\n",
       "      <td>3.0</td>\n",
       "      <td>1.0</td>\n",
       "      <td>22</td>\n",
       "      <td>NaN</td>\n",
       "      <td>4.0</td>\n",
       "      <td>24.0</td>\n",
       "      <td>3.0</td>\n",
       "      <td>NaN</td>\n",
       "    </tr>\n",
       "    <tr>\n",
       "      <th>276</th>\n",
       "      <td>Tyler Adams</td>\n",
       "      <td>Leeds United</td>\n",
       "      <td>United States</td>\n",
       "      <td>NaN</td>\n",
       "      <td>1327.0</td>\n",
       "      <td>1699.0</td>\n",
       "      <td>4.0</td>\n",
       "      <td>NaN</td>\n",
       "      <td>24</td>\n",
       "      <td>1.0</td>\n",
       "      <td>18.0</td>\n",
       "      <td>2.0</td>\n",
       "      <td>1.0</td>\n",
       "      <td>NaN</td>\n",
       "    </tr>\n",
       "    <tr>\n",
       "      <th>277</th>\n",
       "      <td>David Raya</td>\n",
       "      <td>Brentford</td>\n",
       "      <td>Spain</td>\n",
       "      <td>NaN</td>\n",
       "      <td>1297.0</td>\n",
       "      <td>1669.0</td>\n",
       "      <td>1.0</td>\n",
       "      <td>NaN</td>\n",
       "      <td>34</td>\n",
       "      <td>NaN</td>\n",
       "      <td>NaN</td>\n",
       "      <td>0.0</td>\n",
       "      <td>NaN</td>\n",
       "      <td>NaN</td>\n",
       "    </tr>\n",
       "    <tr>\n",
       "      <th>278</th>\n",
       "      <td>Antonee Robinson</td>\n",
       "      <td>Fulham</td>\n",
       "      <td>United States</td>\n",
       "      <td>NaN</td>\n",
       "      <td>1270.0</td>\n",
       "      <td>2097.0</td>\n",
       "      <td>3.0</td>\n",
       "      <td>NaN</td>\n",
       "      <td>31</td>\n",
       "      <td>3.0</td>\n",
       "      <td>19.0</td>\n",
       "      <td>124.0</td>\n",
       "      <td>NaN</td>\n",
       "      <td>1.0</td>\n",
       "    </tr>\n",
       "    <tr>\n",
       "      <th>279</th>\n",
       "      <td>Dan Burn</td>\n",
       "      <td>Newcastle United</td>\n",
       "      <td>England</td>\n",
       "      <td>NaN</td>\n",
       "      <td>1253.0</td>\n",
       "      <td>1855.0</td>\n",
       "      <td>15.0</td>\n",
       "      <td>2.0</td>\n",
       "      <td>33</td>\n",
       "      <td>6.0</td>\n",
       "      <td>7.0</td>\n",
       "      <td>16.0</td>\n",
       "      <td>NaN</td>\n",
       "      <td>NaN</td>\n",
       "    </tr>\n",
       "    <tr>\n",
       "      <th>280</th>\n",
       "      <td>Joe Gomez</td>\n",
       "      <td>Liverpool</td>\n",
       "      <td>England</td>\n",
       "      <td>NaN</td>\n",
       "      <td>1235.0</td>\n",
       "      <td>1450.0</td>\n",
       "      <td>5.0</td>\n",
       "      <td>NaN</td>\n",
       "      <td>20</td>\n",
       "      <td>1.0</td>\n",
       "      <td>4.0</td>\n",
       "      <td>4.0</td>\n",
       "      <td>2.0</td>\n",
       "      <td>NaN</td>\n",
       "    </tr>\n",
       "    <tr>\n",
       "      <th>281</th>\n",
       "      <td>Alisson</td>\n",
       "      <td>Liverpool</td>\n",
       "      <td>Brazil</td>\n",
       "      <td>NaN</td>\n",
       "      <td>1162.0</td>\n",
       "      <td>1534.0</td>\n",
       "      <td>NaN</td>\n",
       "      <td>NaN</td>\n",
       "      <td>34</td>\n",
       "      <td>NaN</td>\n",
       "      <td>NaN</td>\n",
       "      <td>NaN</td>\n",
       "      <td>NaN</td>\n",
       "      <td>1.0</td>\n",
       "    </tr>\n",
       "    <tr>\n",
       "      <th>282</th>\n",
       "      <td>Clément Lenglet</td>\n",
       "      <td>Tottenham Hotspur</td>\n",
       "      <td>France</td>\n",
       "      <td>NaN</td>\n",
       "      <td>1151.0</td>\n",
       "      <td>1360.0</td>\n",
       "      <td>11.0</td>\n",
       "      <td>2.0</td>\n",
       "      <td>22</td>\n",
       "      <td>NaN</td>\n",
       "      <td>5.0</td>\n",
       "      <td>15.0</td>\n",
       "      <td>1.0</td>\n",
       "      <td>2.0</td>\n",
       "    </tr>\n",
       "    <tr>\n",
       "      <th>283</th>\n",
       "      <td>Daniel Amartey</td>\n",
       "      <td>-</td>\n",
       "      <td>Ghana</td>\n",
       "      <td>NaN</td>\n",
       "      <td>1107.0</td>\n",
       "      <td>1289.0</td>\n",
       "      <td>6.0</td>\n",
       "      <td>1.0</td>\n",
       "      <td>20</td>\n",
       "      <td>NaN</td>\n",
       "      <td>4.0</td>\n",
       "      <td>NaN</td>\n",
       "      <td>2.0</td>\n",
       "      <td>NaN</td>\n",
       "    </tr>\n",
       "    <tr>\n",
       "      <th>284</th>\n",
       "      <td>Idrissa Gueye</td>\n",
       "      <td>Everton</td>\n",
       "      <td>Senegal</td>\n",
       "      <td>NaN</td>\n",
       "      <td>1100.0</td>\n",
       "      <td>1509.0</td>\n",
       "      <td>11.0</td>\n",
       "      <td>NaN</td>\n",
       "      <td>29</td>\n",
       "      <td>NaN</td>\n",
       "      <td>17.0</td>\n",
       "      <td>9.0</td>\n",
       "      <td>1.0</td>\n",
       "      <td>1.0</td>\n",
       "    </tr>\n",
       "    <tr>\n",
       "      <th>285</th>\n",
       "      <td>Emiliano Martínez</td>\n",
       "      <td>Aston Villa</td>\n",
       "      <td>Argentina</td>\n",
       "      <td>NaN</td>\n",
       "      <td>1096.0</td>\n",
       "      <td>1409.0</td>\n",
       "      <td>NaN</td>\n",
       "      <td>NaN</td>\n",
       "      <td>32</td>\n",
       "      <td>NaN</td>\n",
       "      <td>0.0</td>\n",
       "      <td>NaN</td>\n",
       "      <td>1.0</td>\n",
       "      <td>NaN</td>\n",
       "    </tr>\n",
       "    <tr>\n",
       "      <th>286</th>\n",
       "      <td>Marc Cucurella</td>\n",
       "      <td>Chelsea</td>\n",
       "      <td>Spain</td>\n",
       "      <td>NaN</td>\n",
       "      <td>1090.0</td>\n",
       "      <td>1535.0</td>\n",
       "      <td>7.0</td>\n",
       "      <td>NaN</td>\n",
       "      <td>24</td>\n",
       "      <td>1.0</td>\n",
       "      <td>6.0</td>\n",
       "      <td>44.0</td>\n",
       "      <td>NaN</td>\n",
       "      <td>2.0</td>\n",
       "    </tr>\n",
       "    <tr>\n",
       "      <th>287</th>\n",
       "      <td>Mohammed Salisu</td>\n",
       "      <td>Southampton</td>\n",
       "      <td>Ghana</td>\n",
       "      <td>NaN</td>\n",
       "      <td>1090.0</td>\n",
       "      <td>1539.0</td>\n",
       "      <td>19.0</td>\n",
       "      <td>2.0</td>\n",
       "      <td>22</td>\n",
       "      <td>1.0</td>\n",
       "      <td>9.0</td>\n",
       "      <td>13.0</td>\n",
       "      <td>1.0</td>\n",
       "      <td>1.0</td>\n",
       "    </tr>\n",
       "    <tr>\n",
       "      <th>288</th>\n",
       "      <td>Cheick Doucouré</td>\n",
       "      <td>Crystal Palace</td>\n",
       "      <td>Mali</td>\n",
       "      <td>NaN</td>\n",
       "      <td>1087.0</td>\n",
       "      <td>1458.0</td>\n",
       "      <td>31.0</td>\n",
       "      <td>NaN</td>\n",
       "      <td>30</td>\n",
       "      <td>NaN</td>\n",
       "      <td>19.0</td>\n",
       "      <td>5.0</td>\n",
       "      <td>2.0</td>\n",
       "      <td>3.0</td>\n",
       "    </tr>\n",
       "    <tr>\n",
       "      <th>289</th>\n",
       "      <td>Thiago Alcântara</td>\n",
       "      <td>Liverpool</td>\n",
       "      <td>Spain</td>\n",
       "      <td>NaN</td>\n",
       "      <td>1085.0</td>\n",
       "      <td>1315.0</td>\n",
       "      <td>10.0</td>\n",
       "      <td>NaN</td>\n",
       "      <td>18</td>\n",
       "      <td>NaN</td>\n",
       "      <td>22.0</td>\n",
       "      <td>3.0</td>\n",
       "      <td>8.0</td>\n",
       "      <td>0.0</td>\n",
       "    </tr>\n",
       "    <tr>\n",
       "      <th>290</th>\n",
       "      <td>Nélson Semedo</td>\n",
       "      <td>Wolverhampton Wanderers</td>\n",
       "      <td>Portugal</td>\n",
       "      <td>NaN</td>\n",
       "      <td>1060.0</td>\n",
       "      <td>1713.0</td>\n",
       "      <td>6.0</td>\n",
       "      <td>2.0</td>\n",
       "      <td>32</td>\n",
       "      <td>NaN</td>\n",
       "      <td>17.0</td>\n",
       "      <td>50.0</td>\n",
       "      <td>4.0</td>\n",
       "      <td>1.0</td>\n",
       "    </tr>\n",
       "    <tr>\n",
       "      <th>291</th>\n",
       "      <td>Aaron Cresswell</td>\n",
       "      <td>West Ham United</td>\n",
       "      <td>England</td>\n",
       "      <td>NaN</td>\n",
       "      <td>1042.0</td>\n",
       "      <td>1541.0</td>\n",
       "      <td>9.0</td>\n",
       "      <td>NaN</td>\n",
       "      <td>26</td>\n",
       "      <td>1.0</td>\n",
       "      <td>6.0</td>\n",
       "      <td>125.0</td>\n",
       "      <td>1.0</td>\n",
       "      <td>1.0</td>\n",
       "    </tr>\n",
       "    <tr>\n",
       "      <th>292</th>\n",
       "      <td>Bernd Leno</td>\n",
       "      <td>Fulham</td>\n",
       "      <td>Germany</td>\n",
       "      <td>NaN</td>\n",
       "      <td>1037.0</td>\n",
       "      <td>1399.0</td>\n",
       "      <td>NaN</td>\n",
       "      <td>NaN</td>\n",
       "      <td>32</td>\n",
       "      <td>NaN</td>\n",
       "      <td>NaN</td>\n",
       "      <td>NaN</td>\n",
       "      <td>NaN</td>\n",
       "      <td>NaN</td>\n",
       "    </tr>\n",
       "    <tr>\n",
       "      <th>293</th>\n",
       "      <td>Tyrick Mitchell</td>\n",
       "      <td>Crystal Palace</td>\n",
       "      <td>England</td>\n",
       "      <td>NaN</td>\n",
       "      <td>1034.0</td>\n",
       "      <td>1708.0</td>\n",
       "      <td>6.0</td>\n",
       "      <td>1.0</td>\n",
       "      <td>32</td>\n",
       "      <td>2.0</td>\n",
       "      <td>15.0</td>\n",
       "      <td>59.0</td>\n",
       "      <td>0.0</td>\n",
       "      <td>2.0</td>\n",
       "    </tr>\n",
       "    <tr>\n",
       "      <th>294</th>\n",
       "      <td>Jordan Pickford</td>\n",
       "      <td>Everton</td>\n",
       "      <td>England</td>\n",
       "      <td>NaN</td>\n",
       "      <td>1029.0</td>\n",
       "      <td>1363.0</td>\n",
       "      <td>NaN</td>\n",
       "      <td>NaN</td>\n",
       "      <td>33</td>\n",
       "      <td>NaN</td>\n",
       "      <td>1.0</td>\n",
       "      <td>NaN</td>\n",
       "      <td>1.0</td>\n",
       "      <td>1.0</td>\n",
       "    </tr>\n",
       "    <tr>\n",
       "      <th>295</th>\n",
       "      <td>Gavin Bazunu</td>\n",
       "      <td>Southampton</td>\n",
       "      <td>Ireland</td>\n",
       "      <td>NaN</td>\n",
       "      <td>1028.0</td>\n",
       "      <td>1336.0</td>\n",
       "      <td>NaN</td>\n",
       "      <td>NaN</td>\n",
       "      <td>32</td>\n",
       "      <td>NaN</td>\n",
       "      <td>0.0</td>\n",
       "      <td>NaN</td>\n",
       "      <td>NaN</td>\n",
       "      <td>NaN</td>\n",
       "    </tr>\n",
       "    <tr>\n",
       "      <th>296</th>\n",
       "      <td>Nathan Collins</td>\n",
       "      <td>Wolverhampton Wanderers</td>\n",
       "      <td>Ireland</td>\n",
       "      <td>NaN</td>\n",
       "      <td>1027.0</td>\n",
       "      <td>1246.0</td>\n",
       "      <td>2.0</td>\n",
       "      <td>NaN</td>\n",
       "      <td>23</td>\n",
       "      <td>1.0</td>\n",
       "      <td>7.0</td>\n",
       "      <td>NaN</td>\n",
       "      <td>NaN</td>\n",
       "      <td>NaN</td>\n",
       "    </tr>\n",
       "    <tr>\n",
       "      <th>297</th>\n",
       "      <td>Ederson</td>\n",
       "      <td>Manchester City</td>\n",
       "      <td>Brazil</td>\n",
       "      <td>NaN</td>\n",
       "      <td>1012.0</td>\n",
       "      <td>1233.0</td>\n",
       "      <td>NaN</td>\n",
       "      <td>NaN</td>\n",
       "      <td>32</td>\n",
       "      <td>NaN</td>\n",
       "      <td>NaN</td>\n",
       "      <td>NaN</td>\n",
       "      <td>1.0</td>\n",
       "      <td>1.0</td>\n",
       "    </tr>\n",
       "    <tr>\n",
       "      <th>298</th>\n",
       "      <td>Enzo Fernández</td>\n",
       "      <td>Chelsea</td>\n",
       "      <td>Argentina</td>\n",
       "      <td>NaN</td>\n",
       "      <td>992.0</td>\n",
       "      <td>1180.0</td>\n",
       "      <td>14.0</td>\n",
       "      <td>NaN</td>\n",
       "      <td>13</td>\n",
       "      <td>1.0</td>\n",
       "      <td>10.0</td>\n",
       "      <td>7.0</td>\n",
       "      <td>7.0</td>\n",
       "      <td>2.0</td>\n",
       "    </tr>\n",
       "    <tr>\n",
       "      <th>299</th>\n",
       "      <td>João Moutinho</td>\n",
       "      <td>Wolverhampton Wanderers</td>\n",
       "      <td>Portugal</td>\n",
       "      <td>NaN</td>\n",
       "      <td>990.0</td>\n",
       "      <td>1266.0</td>\n",
       "      <td>16.0</td>\n",
       "      <td>NaN</td>\n",
       "      <td>30</td>\n",
       "      <td>1.0</td>\n",
       "      <td>7.0</td>\n",
       "      <td>59.0</td>\n",
       "      <td>7.0</td>\n",
       "      <td>2.0</td>\n",
       "    </tr>\n",
       "    <tr>\n",
       "      <th>300</th>\n",
       "      <td>Vitalii Mykolenko</td>\n",
       "      <td>Everton</td>\n",
       "      <td>Ukraine</td>\n",
       "      <td>NaN</td>\n",
       "      <td>988.0</td>\n",
       "      <td>1649.0</td>\n",
       "      <td>10.0</td>\n",
       "      <td>1.0</td>\n",
       "      <td>33</td>\n",
       "      <td>NaN</td>\n",
       "      <td>8.0</td>\n",
       "      <td>57.0</td>\n",
       "      <td>1.0</td>\n",
       "      <td>NaN</td>\n",
       "    </tr>\n",
       "    <tr>\n",
       "      <th>301</th>\n",
       "      <td>Ibrahima Konaté</td>\n",
       "      <td>Liverpool</td>\n",
       "      <td>France</td>\n",
       "      <td>NaN</td>\n",
       "      <td>983.0</td>\n",
       "      <td>1175.0</td>\n",
       "      <td>8.0</td>\n",
       "      <td>2.0</td>\n",
       "      <td>15</td>\n",
       "      <td>1.0</td>\n",
       "      <td>3.0</td>\n",
       "      <td>NaN</td>\n",
       "      <td>2.0</td>\n",
       "      <td>NaN</td>\n",
       "    </tr>\n",
       "    <tr>\n",
       "      <th>302</th>\n",
       "      <td>José Sá</td>\n",
       "      <td>Wolverhampton Wanderers</td>\n",
       "      <td>Portugal</td>\n",
       "      <td>NaN</td>\n",
       "      <td>974.0</td>\n",
       "      <td>1337.0</td>\n",
       "      <td>0.0</td>\n",
       "      <td>NaN</td>\n",
       "      <td>34</td>\n",
       "      <td>NaN</td>\n",
       "      <td>0.0</td>\n",
       "      <td>NaN</td>\n",
       "      <td>NaN</td>\n",
       "      <td>NaN</td>\n",
       "    </tr>\n",
       "    <tr>\n",
       "      <th>303</th>\n",
       "      <td>Chris Mepham</td>\n",
       "      <td>Bournemouth</td>\n",
       "      <td>Wales</td>\n",
       "      <td>NaN</td>\n",
       "      <td>973.0</td>\n",
       "      <td>1300.0</td>\n",
       "      <td>8.0</td>\n",
       "      <td>NaN</td>\n",
       "      <td>25</td>\n",
       "      <td>NaN</td>\n",
       "      <td>3.0</td>\n",
       "      <td>NaN</td>\n",
       "      <td>NaN</td>\n",
       "      <td>NaN</td>\n",
       "    </tr>\n",
       "    <tr>\n",
       "      <th>304</th>\n",
       "      <td>David de Gea</td>\n",
       "      <td>Manchester United</td>\n",
       "      <td>Spain</td>\n",
       "      <td>NaN</td>\n",
       "      <td>950.0</td>\n",
       "      <td>1198.0</td>\n",
       "      <td>NaN</td>\n",
       "      <td>NaN</td>\n",
       "      <td>33</td>\n",
       "      <td>NaN</td>\n",
       "      <td>NaN</td>\n",
       "      <td>NaN</td>\n",
       "      <td>1.0</td>\n",
       "      <td>NaN</td>\n",
       "    </tr>\n",
       "    <tr>\n",
       "      <th>305</th>\n",
       "      <td>Raphaël Varane</td>\n",
       "      <td>Manchester United</td>\n",
       "      <td>France</td>\n",
       "      <td>NaN</td>\n",
       "      <td>946.0</td>\n",
       "      <td>1135.0</td>\n",
       "      <td>6.0</td>\n",
       "      <td>2.0</td>\n",
       "      <td>21</td>\n",
       "      <td>2.0</td>\n",
       "      <td>1.0</td>\n",
       "      <td>1.0</td>\n",
       "      <td>NaN</td>\n",
       "      <td>NaN</td>\n",
       "    </tr>\n",
       "    <tr>\n",
       "      <th>306</th>\n",
       "      <td>Kenny Tete</td>\n",
       "      <td>Fulham</td>\n",
       "      <td>Netherlands</td>\n",
       "      <td>NaN</td>\n",
       "      <td>939.0</td>\n",
       "      <td>1711.0</td>\n",
       "      <td>11.0</td>\n",
       "      <td>NaN</td>\n",
       "      <td>27</td>\n",
       "      <td>NaN</td>\n",
       "      <td>20.0</td>\n",
       "      <td>84.0</td>\n",
       "      <td>1.0</td>\n",
       "      <td>4.0</td>\n",
       "    </tr>\n",
       "    <tr>\n",
       "      <th>307</th>\n",
       "      <td>Thilo Kehrer</td>\n",
       "      <td>West Ham United</td>\n",
       "      <td>Germany</td>\n",
       "      <td>NaN</td>\n",
       "      <td>891.0</td>\n",
       "      <td>1238.0</td>\n",
       "      <td>7.0</td>\n",
       "      <td>1.0</td>\n",
       "      <td>24</td>\n",
       "      <td>NaN</td>\n",
       "      <td>5.0</td>\n",
       "      <td>21.0</td>\n",
       "      <td>1.0</td>\n",
       "      <td>2.0</td>\n",
       "    </tr>\n",
       "    <tr>\n",
       "      <th>308</th>\n",
       "      <td>Armel Bella-Kotchap</td>\n",
       "      <td>Southampton</td>\n",
       "      <td>Germany</td>\n",
       "      <td>NaN</td>\n",
       "      <td>888.0</td>\n",
       "      <td>1215.0</td>\n",
       "      <td>14.0</td>\n",
       "      <td>2.0</td>\n",
       "      <td>23</td>\n",
       "      <td>NaN</td>\n",
       "      <td>6.0</td>\n",
       "      <td>4.0</td>\n",
       "      <td>1.0</td>\n",
       "      <td>2.0</td>\n",
       "    </tr>\n",
       "    <tr>\n",
       "      <th>309</th>\n",
       "      <td>Boubacar Kamara</td>\n",
       "      <td>Aston Villa</td>\n",
       "      <td>France</td>\n",
       "      <td>NaN</td>\n",
       "      <td>878.0</td>\n",
       "      <td>1110.0</td>\n",
       "      <td>4.0</td>\n",
       "      <td>NaN</td>\n",
       "      <td>20</td>\n",
       "      <td>NaN</td>\n",
       "      <td>11.0</td>\n",
       "      <td>1.0</td>\n",
       "      <td>2.0</td>\n",
       "      <td>1.0</td>\n",
       "    </tr>\n",
       "    <tr>\n",
       "      <th>310</th>\n",
       "      <td>Adam Smith</td>\n",
       "      <td>Bournemouth</td>\n",
       "      <td>England</td>\n",
       "      <td>NaN</td>\n",
       "      <td>871.0</td>\n",
       "      <td>1426.0</td>\n",
       "      <td>5.0</td>\n",
       "      <td>2.0</td>\n",
       "      <td>33</td>\n",
       "      <td>NaN</td>\n",
       "      <td>4.0</td>\n",
       "      <td>40.0</td>\n",
       "      <td>NaN</td>\n",
       "      <td>1.0</td>\n",
       "    </tr>\n",
       "    <tr>\n",
       "      <th>311</th>\n",
       "      <td>Rico Henry</td>\n",
       "      <td>Brentford</td>\n",
       "      <td>England</td>\n",
       "      <td>NaN</td>\n",
       "      <td>844.0</td>\n",
       "      <td>1488.0</td>\n",
       "      <td>19.0</td>\n",
       "      <td>3.0</td>\n",
       "      <td>33</td>\n",
       "      <td>2.0</td>\n",
       "      <td>41.0</td>\n",
       "      <td>71.0</td>\n",
       "      <td>4.0</td>\n",
       "      <td>2.0</td>\n",
       "    </tr>\n",
       "    <tr>\n",
       "      <th>312</th>\n",
       "      <td>Illan Meslier</td>\n",
       "      <td>Leeds United</td>\n",
       "      <td>France</td>\n",
       "      <td>NaN</td>\n",
       "      <td>842.0</td>\n",
       "      <td>1241.0</td>\n",
       "      <td>1.0</td>\n",
       "      <td>NaN</td>\n",
       "      <td>34</td>\n",
       "      <td>NaN</td>\n",
       "      <td>1.0</td>\n",
       "      <td>NaN</td>\n",
       "      <td>NaN</td>\n",
       "      <td>NaN</td>\n",
       "    </tr>\n",
       "    <tr>\n",
       "      <th>313</th>\n",
       "      <td>Wilfred Ndidi</td>\n",
       "      <td>Leicester City</td>\n",
       "      <td>Nigeria</td>\n",
       "      <td>NaN</td>\n",
       "      <td>841.0</td>\n",
       "      <td>1090.0</td>\n",
       "      <td>7.0</td>\n",
       "      <td>NaN</td>\n",
       "      <td>24</td>\n",
       "      <td>NaN</td>\n",
       "      <td>8.0</td>\n",
       "      <td>2.0</td>\n",
       "      <td>NaN</td>\n",
       "      <td>NaN</td>\n",
       "    </tr>\n",
       "    <tr>\n",
       "      <th>314</th>\n",
       "      <td>Lloyd Kelly</td>\n",
       "      <td>Bournemouth</td>\n",
       "      <td>England</td>\n",
       "      <td>NaN</td>\n",
       "      <td>829.0</td>\n",
       "      <td>1125.0</td>\n",
       "      <td>3.0</td>\n",
       "      <td>NaN</td>\n",
       "      <td>19</td>\n",
       "      <td>NaN</td>\n",
       "      <td>4.0</td>\n",
       "      <td>11.0</td>\n",
       "      <td>2.0</td>\n",
       "      <td>2.0</td>\n",
       "    </tr>\n",
       "    <tr>\n",
       "      <th>315</th>\n",
       "      <td>Remo Freuler</td>\n",
       "      <td>Nottingham Forest</td>\n",
       "      <td>Switzerland</td>\n",
       "      <td>NaN</td>\n",
       "      <td>828.0</td>\n",
       "      <td>1096.0</td>\n",
       "      <td>8.0</td>\n",
       "      <td>NaN</td>\n",
       "      <td>28</td>\n",
       "      <td>NaN</td>\n",
       "      <td>7.0</td>\n",
       "      <td>4.0</td>\n",
       "      <td>NaN</td>\n",
       "      <td>NaN</td>\n",
       "    </tr>\n",
       "    <tr>\n",
       "      <th>316</th>\n",
       "      <td>Aaron Ramsdale</td>\n",
       "      <td>Arsenal</td>\n",
       "      <td>England</td>\n",
       "      <td>NaN</td>\n",
       "      <td>823.0</td>\n",
       "      <td>1124.0</td>\n",
       "      <td>NaN</td>\n",
       "      <td>NaN</td>\n",
       "      <td>34</td>\n",
       "      <td>NaN</td>\n",
       "      <td>NaN</td>\n",
       "      <td>NaN</td>\n",
       "      <td>NaN</td>\n",
       "      <td>NaN</td>\n",
       "    </tr>\n",
       "    <tr>\n",
       "      <th>317</th>\n",
       "      <td>Joel Ward</td>\n",
       "      <td>Crystal Palace</td>\n",
       "      <td>England</td>\n",
       "      <td>NaN</td>\n",
       "      <td>821.0</td>\n",
       "      <td>1251.0</td>\n",
       "      <td>5.0</td>\n",
       "      <td>NaN</td>\n",
       "      <td>24</td>\n",
       "      <td>NaN</td>\n",
       "      <td>8.0</td>\n",
       "      <td>30.0</td>\n",
       "      <td>NaN</td>\n",
       "      <td>NaN</td>\n",
       "    </tr>\n",
       "    <tr>\n",
       "      <th>318</th>\n",
       "      <td>Trevoh Chalobah</td>\n",
       "      <td>-</td>\n",
       "      <td>England</td>\n",
       "      <td>NaN</td>\n",
       "      <td>813.0</td>\n",
       "      <td>1004.0</td>\n",
       "      <td>6.0</td>\n",
       "      <td>1.0</td>\n",
       "      <td>20</td>\n",
       "      <td>NaN</td>\n",
       "      <td>4.0</td>\n",
       "      <td>9.0</td>\n",
       "      <td>NaN</td>\n",
       "      <td>NaN</td>\n",
       "    </tr>\n",
       "    <tr>\n",
       "      <th>319</th>\n",
       "      <td>Danny Ward</td>\n",
       "      <td>Leicester City</td>\n",
       "      <td>Wales</td>\n",
       "      <td>NaN</td>\n",
       "      <td>786.0</td>\n",
       "      <td>1074.0</td>\n",
       "      <td>NaN</td>\n",
       "      <td>NaN</td>\n",
       "      <td>26</td>\n",
       "      <td>NaN</td>\n",
       "      <td>NaN</td>\n",
       "      <td>0.0</td>\n",
       "      <td>NaN</td>\n",
       "      <td>NaN</td>\n",
       "    </tr>\n",
       "    <tr>\n",
       "      <th>320</th>\n",
       "      <td>Levi Colwill</td>\n",
       "      <td>Brighton &amp; Hove Albion</td>\n",
       "      <td>England</td>\n",
       "      <td>NaN</td>\n",
       "      <td>776.0</td>\n",
       "      <td>864.0</td>\n",
       "      <td>4.0</td>\n",
       "      <td>2.0</td>\n",
       "      <td>12</td>\n",
       "      <td>NaN</td>\n",
       "      <td>3.0</td>\n",
       "      <td>NaN</td>\n",
       "      <td>2.0</td>\n",
       "      <td>NaN</td>\n",
       "    </tr>\n",
       "    <tr>\n",
       "      <th>321</th>\n",
       "      <td>Kepa Arrizabalaga</td>\n",
       "      <td>Chelsea</td>\n",
       "      <td>Spain</td>\n",
       "      <td>NaN</td>\n",
       "      <td>762.0</td>\n",
       "      <td>1031.0</td>\n",
       "      <td>NaN</td>\n",
       "      <td>NaN</td>\n",
       "      <td>25</td>\n",
       "      <td>NaN</td>\n",
       "      <td>NaN</td>\n",
       "      <td>NaN</td>\n",
       "      <td>NaN</td>\n",
       "      <td>NaN</td>\n",
       "    </tr>\n",
       "    <tr>\n",
       "      <th>322</th>\n",
       "      <td>Jan Bednarek</td>\n",
       "      <td>Southampton</td>\n",
       "      <td>Poland</td>\n",
       "      <td>NaN</td>\n",
       "      <td>758.0</td>\n",
       "      <td>978.0</td>\n",
       "      <td>7.0</td>\n",
       "      <td>NaN</td>\n",
       "      <td>19</td>\n",
       "      <td>NaN</td>\n",
       "      <td>1.0</td>\n",
       "      <td>1.0</td>\n",
       "      <td>NaN</td>\n",
       "      <td>NaN</td>\n",
       "    </tr>\n",
       "    <tr>\n",
       "      <th>323</th>\n",
       "      <td>César Azpilicueta</td>\n",
       "      <td>Chelsea</td>\n",
       "      <td>Spain</td>\n",
       "      <td>NaN</td>\n",
       "      <td>756.0</td>\n",
       "      <td>1071.0</td>\n",
       "      <td>7.0</td>\n",
       "      <td>NaN</td>\n",
       "      <td>21</td>\n",
       "      <td>2.0</td>\n",
       "      <td>3.0</td>\n",
       "      <td>21.0</td>\n",
       "      <td>NaN</td>\n",
       "      <td>NaN</td>\n",
       "    </tr>\n",
       "    <tr>\n",
       "      <th>324</th>\n",
       "      <td>Boubakary Soumaré</td>\n",
       "      <td>Leicester City</td>\n",
       "      <td>France</td>\n",
       "      <td>NaN</td>\n",
       "      <td>756.0</td>\n",
       "      <td>966.0</td>\n",
       "      <td>1.0</td>\n",
       "      <td>NaN</td>\n",
       "      <td>22</td>\n",
       "      <td>1.0</td>\n",
       "      <td>19.0</td>\n",
       "      <td>2.0</td>\n",
       "      <td>2.0</td>\n",
       "      <td>0.0</td>\n",
       "    </tr>\n",
       "    <tr>\n",
       "      <th>325</th>\n",
       "      <td>Matty Cash</td>\n",
       "      <td>Aston Villa</td>\n",
       "      <td>Poland</td>\n",
       "      <td>NaN</td>\n",
       "      <td>736.0</td>\n",
       "      <td>1186.0</td>\n",
       "      <td>7.0</td>\n",
       "      <td>NaN</td>\n",
       "      <td>23</td>\n",
       "      <td>2.0</td>\n",
       "      <td>7.0</td>\n",
       "      <td>46.0</td>\n",
       "      <td>2.0</td>\n",
       "      <td>1.0</td>\n",
       "    </tr>\n",
       "    <tr>\n",
       "      <th>326</th>\n",
       "      <td>Ruben Loftus-Cheek</td>\n",
       "      <td>Chelsea</td>\n",
       "      <td>England</td>\n",
       "      <td>NaN</td>\n",
       "      <td>726.0</td>\n",
       "      <td>997.0</td>\n",
       "      <td>9.0</td>\n",
       "      <td>1.0</td>\n",
       "      <td>20</td>\n",
       "      <td>1.0</td>\n",
       "      <td>19.0</td>\n",
       "      <td>19.0</td>\n",
       "      <td>1.0</td>\n",
       "      <td>0.0</td>\n",
       "    </tr>\n",
       "    <tr>\n",
       "      <th>327</th>\n",
       "      <td>Vladimír Coufal</td>\n",
       "      <td>West Ham United</td>\n",
       "      <td>[object Object]</td>\n",
       "      <td>NaN</td>\n",
       "      <td>720.0</td>\n",
       "      <td>1342.0</td>\n",
       "      <td>6.0</td>\n",
       "      <td>NaN</td>\n",
       "      <td>25</td>\n",
       "      <td>1.0</td>\n",
       "      <td>19.0</td>\n",
       "      <td>100.0</td>\n",
       "      <td>NaN</td>\n",
       "      <td>1.0</td>\n",
       "    </tr>\n",
       "    <tr>\n",
       "      <th>328</th>\n",
       "      <td>Vicente Guaita</td>\n",
       "      <td>Crystal Palace</td>\n",
       "      <td>Spain</td>\n",
       "      <td>NaN</td>\n",
       "      <td>701.0</td>\n",
       "      <td>992.0</td>\n",
       "      <td>NaN</td>\n",
       "      <td>NaN</td>\n",
       "      <td>27</td>\n",
       "      <td>NaN</td>\n",
       "      <td>NaN</td>\n",
       "      <td>NaN</td>\n",
       "      <td>NaN</td>\n",
       "      <td>NaN</td>\n",
       "    </tr>\n",
       "    <tr>\n",
       "      <th>329</th>\n",
       "      <td>Scott McKenna</td>\n",
       "      <td>Nottingham Forest</td>\n",
       "      <td>Scotland</td>\n",
       "      <td>NaN</td>\n",
       "      <td>699.0</td>\n",
       "      <td>889.0</td>\n",
       "      <td>2.0</td>\n",
       "      <td>NaN</td>\n",
       "      <td>20</td>\n",
       "      <td>NaN</td>\n",
       "      <td>2.0</td>\n",
       "      <td>2.0</td>\n",
       "      <td>NaN</td>\n",
       "      <td>NaN</td>\n",
       "    </tr>\n",
       "    <tr>\n",
       "      <th>330</th>\n",
       "      <td>James Justin</td>\n",
       "      <td>Leicester City</td>\n",
       "      <td>England</td>\n",
       "      <td>NaN</td>\n",
       "      <td>682.0</td>\n",
       "      <td>1021.0</td>\n",
       "      <td>5.0</td>\n",
       "      <td>NaN</td>\n",
       "      <td>14</td>\n",
       "      <td>2.0</td>\n",
       "      <td>6.0</td>\n",
       "      <td>21.0</td>\n",
       "      <td>NaN</td>\n",
       "      <td>NaN</td>\n",
       "    </tr>\n",
       "    <tr>\n",
       "      <th>331</th>\n",
       "      <td>Lukasz Fabianski</td>\n",
       "      <td>West Ham United</td>\n",
       "      <td>Poland</td>\n",
       "      <td>NaN</td>\n",
       "      <td>680.0</td>\n",
       "      <td>978.0</td>\n",
       "      <td>NaN</td>\n",
       "      <td>NaN</td>\n",
       "      <td>32</td>\n",
       "      <td>NaN</td>\n",
       "      <td>NaN</td>\n",
       "      <td>NaN</td>\n",
       "      <td>NaN</td>\n",
       "      <td>NaN</td>\n",
       "    </tr>\n",
       "    <tr>\n",
       "      <th>332</th>\n",
       "      <td>Jonny Evans</td>\n",
       "      <td>Leicester City</td>\n",
       "      <td>Northern Ireland</td>\n",
       "      <td>NaN</td>\n",
       "      <td>673.0</td>\n",
       "      <td>764.0</td>\n",
       "      <td>1.0</td>\n",
       "      <td>NaN</td>\n",
       "      <td>10</td>\n",
       "      <td>NaN</td>\n",
       "      <td>NaN</td>\n",
       "      <td>NaN</td>\n",
       "      <td>NaN</td>\n",
       "      <td>NaN</td>\n",
       "    </tr>\n",
       "    <tr>\n",
       "      <th>333</th>\n",
       "      <td>Robert Sánchez</td>\n",
       "      <td>Brighton &amp; Hove Albion</td>\n",
       "      <td>Spain</td>\n",
       "      <td>NaN</td>\n",
       "      <td>673.0</td>\n",
       "      <td>867.0</td>\n",
       "      <td>NaN</td>\n",
       "      <td>NaN</td>\n",
       "      <td>23</td>\n",
       "      <td>NaN</td>\n",
       "      <td>NaN</td>\n",
       "      <td>NaN</td>\n",
       "      <td>NaN</td>\n",
       "      <td>NaN</td>\n",
       "    </tr>\n",
       "    <tr>\n",
       "      <th>334</th>\n",
       "      <td>Nathaniel Clyne</td>\n",
       "      <td>Crystal Palace</td>\n",
       "      <td>England</td>\n",
       "      <td>NaN</td>\n",
       "      <td>660.0</td>\n",
       "      <td>996.0</td>\n",
       "      <td>NaN</td>\n",
       "      <td>NaN</td>\n",
       "      <td>22</td>\n",
       "      <td>NaN</td>\n",
       "      <td>3.0</td>\n",
       "      <td>21.0</td>\n",
       "      <td>NaN</td>\n",
       "      <td>NaN</td>\n",
       "    </tr>\n",
       "    <tr>\n",
       "      <th>335</th>\n",
       "      <td>Benoît Badiashile</td>\n",
       "      <td>Chelsea</td>\n",
       "      <td>France</td>\n",
       "      <td>NaN</td>\n",
       "      <td>654.0</td>\n",
       "      <td>742.0</td>\n",
       "      <td>5.0</td>\n",
       "      <td>1.0</td>\n",
       "      <td>9</td>\n",
       "      <td>NaN</td>\n",
       "      <td>1.0</td>\n",
       "      <td>1.0</td>\n",
       "      <td>1.0</td>\n",
       "      <td>NaN</td>\n",
       "    </tr>\n",
       "    <tr>\n",
       "      <th>336</th>\n",
       "      <td>Lewis Cook</td>\n",
       "      <td>Bournemouth</td>\n",
       "      <td>England</td>\n",
       "      <td>NaN</td>\n",
       "      <td>643.0</td>\n",
       "      <td>888.0</td>\n",
       "      <td>5.0</td>\n",
       "      <td>NaN</td>\n",
       "      <td>25</td>\n",
       "      <td>NaN</td>\n",
       "      <td>14.0</td>\n",
       "      <td>39.0</td>\n",
       "      <td>1.0</td>\n",
       "      <td>2.0</td>\n",
       "    </tr>\n",
       "    <tr>\n",
       "      <th>337</th>\n",
       "      <td>Victor Lindelöf</td>\n",
       "      <td>Manchester United</td>\n",
       "      <td>Sweden</td>\n",
       "      <td>NaN</td>\n",
       "      <td>620.0</td>\n",
       "      <td>724.0</td>\n",
       "      <td>2.0</td>\n",
       "      <td>NaN</td>\n",
       "      <td>15</td>\n",
       "      <td>NaN</td>\n",
       "      <td>2.0</td>\n",
       "      <td>1.0</td>\n",
       "      <td>2.0</td>\n",
       "      <td>NaN</td>\n",
       "    </tr>\n",
       "    <tr>\n",
       "      <th>338</th>\n",
       "      <td>Hugo Lloris</td>\n",
       "      <td>Tottenham Hotspur</td>\n",
       "      <td>France</td>\n",
       "      <td>NaN</td>\n",
       "      <td>616.0</td>\n",
       "      <td>857.0</td>\n",
       "      <td>NaN</td>\n",
       "      <td>NaN</td>\n",
       "      <td>25</td>\n",
       "      <td>NaN</td>\n",
       "      <td>NaN</td>\n",
       "      <td>NaN</td>\n",
       "      <td>NaN</td>\n",
       "      <td>NaN</td>\n",
       "    </tr>\n",
       "    <tr>\n",
       "      <th>339</th>\n",
       "      <td>Aaron Hickey</td>\n",
       "      <td>Brentford</td>\n",
       "      <td>Scotland</td>\n",
       "      <td>NaN</td>\n",
       "      <td>610.0</td>\n",
       "      <td>918.0</td>\n",
       "      <td>10.0</td>\n",
       "      <td>NaN</td>\n",
       "      <td>22</td>\n",
       "      <td>NaN</td>\n",
       "      <td>10.0</td>\n",
       "      <td>24.0</td>\n",
       "      <td>1.0</td>\n",
       "      <td>NaN</td>\n",
       "    </tr>\n",
       "    <tr>\n",
       "      <th>340</th>\n",
       "      <td>Renan Lodi</td>\n",
       "      <td>Nottingham Forest</td>\n",
       "      <td>Brazil</td>\n",
       "      <td>NaN</td>\n",
       "      <td>607.0</td>\n",
       "      <td>1105.0</td>\n",
       "      <td>11.0</td>\n",
       "      <td>1.0</td>\n",
       "      <td>24</td>\n",
       "      <td>1.0</td>\n",
       "      <td>13.0</td>\n",
       "      <td>65.0</td>\n",
       "      <td>NaN</td>\n",
       "      <td>NaN</td>\n",
       "    </tr>\n",
       "    <tr>\n",
       "      <th>341</th>\n",
       "      <td>Neto</td>\n",
       "      <td>Bournemouth</td>\n",
       "      <td>Brazil</td>\n",
       "      <td>NaN</td>\n",
       "      <td>604.0</td>\n",
       "      <td>873.0</td>\n",
       "      <td>NaN</td>\n",
       "      <td>NaN</td>\n",
       "      <td>24</td>\n",
       "      <td>NaN</td>\n",
       "      <td>0.0</td>\n",
       "      <td>0.0</td>\n",
       "      <td>NaN</td>\n",
       "      <td>NaN</td>\n",
       "    </tr>\n",
       "    <tr>\n",
       "      <th>342</th>\n",
       "      <td>Nick Pope</td>\n",
       "      <td>Newcastle United</td>\n",
       "      <td>England</td>\n",
       "      <td>NaN</td>\n",
       "      <td>599.0</td>\n",
       "      <td>972.0</td>\n",
       "      <td>NaN</td>\n",
       "      <td>NaN</td>\n",
       "      <td>33</td>\n",
       "      <td>NaN</td>\n",
       "      <td>0.0</td>\n",
       "      <td>NaN</td>\n",
       "      <td>NaN</td>\n",
       "      <td>NaN</td>\n",
       "    </tr>\n",
       "    <tr>\n",
       "      <th>343</th>\n",
       "      <td>Aymeric Laporte</td>\n",
       "      <td>Manchester City</td>\n",
       "      <td>Spain</td>\n",
       "      <td>NaN</td>\n",
       "      <td>579.0</td>\n",
       "      <td>654.0</td>\n",
       "      <td>9.0</td>\n",
       "      <td>1.0</td>\n",
       "      <td>8</td>\n",
       "      <td>NaN</td>\n",
       "      <td>0.0</td>\n",
       "      <td>5.0</td>\n",
       "      <td>1.0</td>\n",
       "      <td>NaN</td>\n",
       "    </tr>\n",
       "    <tr>\n",
       "      <th>344</th>\n",
       "      <td>Yves Bissouma</td>\n",
       "      <td>Tottenham Hotspur</td>\n",
       "      <td>Mali</td>\n",
       "      <td>NaN</td>\n",
       "      <td>567.0</td>\n",
       "      <td>658.0</td>\n",
       "      <td>5.0</td>\n",
       "      <td>NaN</td>\n",
       "      <td>20</td>\n",
       "      <td>1.0</td>\n",
       "      <td>5.0</td>\n",
       "      <td>2.0</td>\n",
       "      <td>1.0</td>\n",
       "      <td>NaN</td>\n",
       "    </tr>\n",
       "    <tr>\n",
       "      <th>345</th>\n",
       "      <td>Jack Stephens</td>\n",
       "      <td>Bournemouth</td>\n",
       "      <td>England</td>\n",
       "      <td>NaN</td>\n",
       "      <td>566.0</td>\n",
       "      <td>714.0</td>\n",
       "      <td>2.0</td>\n",
       "      <td>NaN</td>\n",
       "      <td>17</td>\n",
       "      <td>NaN</td>\n",
       "      <td>2.0</td>\n",
       "      <td>2.0</td>\n",
       "      <td>2.0</td>\n",
       "      <td>NaN</td>\n",
       "    </tr>\n",
       "    <tr>\n",
       "      <th>346</th>\n",
       "      <td>Dean Henderson</td>\n",
       "      <td>Nottingham Forest</td>\n",
       "      <td>England</td>\n",
       "      <td>NaN</td>\n",
       "      <td>562.0</td>\n",
       "      <td>772.0</td>\n",
       "      <td>NaN</td>\n",
       "      <td>NaN</td>\n",
       "      <td>18</td>\n",
       "      <td>NaN</td>\n",
       "      <td>NaN</td>\n",
       "      <td>NaN</td>\n",
       "      <td>NaN</td>\n",
       "      <td>NaN</td>\n",
       "    </tr>\n",
       "    <tr>\n",
       "      <th>347</th>\n",
       "      <td>Mohamed Elyounoussi</td>\n",
       "      <td>Southampton</td>\n",
       "      <td>Norway</td>\n",
       "      <td>NaN</td>\n",
       "      <td>548.0</td>\n",
       "      <td>961.0</td>\n",
       "      <td>32.0</td>\n",
       "      <td>3.0</td>\n",
       "      <td>30</td>\n",
       "      <td>3.0</td>\n",
       "      <td>37.0</td>\n",
       "      <td>31.0</td>\n",
       "      <td>7.0</td>\n",
       "      <td>1.0</td>\n",
       "    </tr>\n",
       "    <tr>\n",
       "      <th>348</th>\n",
       "      <td>Tyrell Malacia</td>\n",
       "      <td>Manchester United</td>\n",
       "      <td>Netherlands</td>\n",
       "      <td>NaN</td>\n",
       "      <td>543.0</td>\n",
       "      <td>853.0</td>\n",
       "      <td>5.0</td>\n",
       "      <td>NaN</td>\n",
       "      <td>19</td>\n",
       "      <td>3.0</td>\n",
       "      <td>5.0</td>\n",
       "      <td>15.0</td>\n",
       "      <td>NaN</td>\n",
       "      <td>NaN</td>\n",
       "    </tr>\n",
       "    <tr>\n",
       "      <th>349</th>\n",
       "      <td>Ainsley Maitland-Niles</td>\n",
       "      <td>Southampton</td>\n",
       "      <td>England</td>\n",
       "      <td>NaN</td>\n",
       "      <td>541.0</td>\n",
       "      <td>843.0</td>\n",
       "      <td>1.0</td>\n",
       "      <td>NaN</td>\n",
       "      <td>20</td>\n",
       "      <td>NaN</td>\n",
       "      <td>13.0</td>\n",
       "      <td>16.0</td>\n",
       "      <td>2.0</td>\n",
       "      <td>NaN</td>\n",
       "    </tr>\n",
       "    <tr>\n",
       "      <th>350</th>\n",
       "      <td>Tom Cairney</td>\n",
       "      <td>Fulham</td>\n",
       "      <td>Scotland</td>\n",
       "      <td>NaN</td>\n",
       "      <td>535.0</td>\n",
       "      <td>702.0</td>\n",
       "      <td>12.0</td>\n",
       "      <td>NaN</td>\n",
       "      <td>29</td>\n",
       "      <td>NaN</td>\n",
       "      <td>18.0</td>\n",
       "      <td>26.0</td>\n",
       "      <td>2.0</td>\n",
       "      <td>0.0</td>\n",
       "    </tr>\n",
       "    <tr>\n",
       "      <th>351</th>\n",
       "      <td>Aaron Wan-Bissaka</td>\n",
       "      <td>Manchester United</td>\n",
       "      <td>England</td>\n",
       "      <td>NaN</td>\n",
       "      <td>532.0</td>\n",
       "      <td>813.0</td>\n",
       "      <td>8.0</td>\n",
       "      <td>2.0</td>\n",
       "      <td>15</td>\n",
       "      <td>NaN</td>\n",
       "      <td>7.0</td>\n",
       "      <td>12.0</td>\n",
       "      <td>2.0</td>\n",
       "      <td>NaN</td>\n",
       "    </tr>\n",
       "    <tr>\n",
       "      <th>352</th>\n",
       "      <td>Harry Souttar</td>\n",
       "      <td>Leicester City</td>\n",
       "      <td>Australia</td>\n",
       "      <td>NaN</td>\n",
       "      <td>528.0</td>\n",
       "      <td>642.0</td>\n",
       "      <td>8.0</td>\n",
       "      <td>3.0</td>\n",
       "      <td>10</td>\n",
       "      <td>1.0</td>\n",
       "      <td>0.0</td>\n",
       "      <td>NaN</td>\n",
       "      <td>1.0</td>\n",
       "      <td>1.0</td>\n",
       "    </tr>\n",
       "    <tr>\n",
       "      <th>353</th>\n",
       "      <td>Maximilian Wöber</td>\n",
       "      <td>Leeds United</td>\n",
       "      <td>Austria</td>\n",
       "      <td>NaN</td>\n",
       "      <td>527.0</td>\n",
       "      <td>689.0</td>\n",
       "      <td>7.0</td>\n",
       "      <td>NaN</td>\n",
       "      <td>12</td>\n",
       "      <td>1.0</td>\n",
       "      <td>1.0</td>\n",
       "      <td>5.0</td>\n",
       "      <td>NaN</td>\n",
       "      <td>NaN</td>\n",
       "    </tr>\n",
       "    <tr>\n",
       "      <th>354</th>\n",
       "      <td>Álex Moreno</td>\n",
       "      <td>Aston Villa</td>\n",
       "      <td>Spain</td>\n",
       "      <td>NaN</td>\n",
       "      <td>512.0</td>\n",
       "      <td>876.0</td>\n",
       "      <td>13.0</td>\n",
       "      <td>NaN</td>\n",
       "      <td>16</td>\n",
       "      <td>NaN</td>\n",
       "      <td>15.0</td>\n",
       "      <td>37.0</td>\n",
       "      <td>1.0</td>\n",
       "      <td>3.0</td>\n",
       "    </tr>\n",
       "    <tr>\n",
       "      <th>355</th>\n",
       "      <td>Harry Maguire</td>\n",
       "      <td>Manchester United</td>\n",
       "      <td>England</td>\n",
       "      <td>NaN</td>\n",
       "      <td>511.0</td>\n",
       "      <td>602.0</td>\n",
       "      <td>2.0</td>\n",
       "      <td>NaN</td>\n",
       "      <td>14</td>\n",
       "      <td>NaN</td>\n",
       "      <td>0.0</td>\n",
       "      <td>1.0</td>\n",
       "      <td>NaN</td>\n",
       "      <td>NaN</td>\n",
       "    </tr>\n",
       "    <tr>\n",
       "      <th>356</th>\n",
       "      <td>Mario Lemina</td>\n",
       "      <td>Wolverhampton Wanderers</td>\n",
       "      <td>Gabon</td>\n",
       "      <td>NaN</td>\n",
       "      <td>506.0</td>\n",
       "      <td>652.0</td>\n",
       "      <td>8.0</td>\n",
       "      <td>NaN</td>\n",
       "      <td>15</td>\n",
       "      <td>1.0</td>\n",
       "      <td>8.0</td>\n",
       "      <td>2.0</td>\n",
       "      <td>NaN</td>\n",
       "      <td>1.0</td>\n",
       "    </tr>\n",
       "    <tr>\n",
       "      <th>357</th>\n",
       "      <td>James Milner</td>\n",
       "      <td>Liverpool</td>\n",
       "      <td>England</td>\n",
       "      <td>NaN</td>\n",
       "      <td>506.0</td>\n",
       "      <td>763.0</td>\n",
       "      <td>6.0</td>\n",
       "      <td>NaN</td>\n",
       "      <td>27</td>\n",
       "      <td>NaN</td>\n",
       "      <td>12.0</td>\n",
       "      <td>48.0</td>\n",
       "      <td>1.0</td>\n",
       "      <td>1.0</td>\n",
       "    </tr>\n",
       "    <tr>\n",
       "      <th>358</th>\n",
       "      <td>Weston McKennie</td>\n",
       "      <td>Leeds United</td>\n",
       "      <td>United States</td>\n",
       "      <td>NaN</td>\n",
       "      <td>504.0</td>\n",
       "      <td>693.0</td>\n",
       "      <td>8.0</td>\n",
       "      <td>NaN</td>\n",
       "      <td>15</td>\n",
       "      <td>1.0</td>\n",
       "      <td>20.0</td>\n",
       "      <td>7.0</td>\n",
       "      <td>4.0</td>\n",
       "      <td>NaN</td>\n",
       "    </tr>\n",
       "    <tr>\n",
       "      <th>359</th>\n",
       "      <td>Felipe</td>\n",
       "      <td>Nottingham Forest</td>\n",
       "      <td>Brazil</td>\n",
       "      <td>NaN</td>\n",
       "      <td>493.0</td>\n",
       "      <td>737.0</td>\n",
       "      <td>9.0</td>\n",
       "      <td>1.0</td>\n",
       "      <td>13</td>\n",
       "      <td>3.0</td>\n",
       "      <td>3.0</td>\n",
       "      <td>2.0</td>\n",
       "      <td>NaN</td>\n",
       "      <td>1.0</td>\n",
       "    </tr>\n",
       "    <tr>\n",
       "      <th>360</th>\n",
       "      <td>Hugo Bueno</td>\n",
       "      <td>Wolverhampton Wanderers</td>\n",
       "      <td>Spain</td>\n",
       "      <td>NaN</td>\n",
       "      <td>476.0</td>\n",
       "      <td>827.0</td>\n",
       "      <td>4.0</td>\n",
       "      <td>NaN</td>\n",
       "      <td>19</td>\n",
       "      <td>1.0</td>\n",
       "      <td>10.0</td>\n",
       "      <td>56.0</td>\n",
       "      <td>NaN</td>\n",
       "      <td>1.0</td>\n",
       "    </tr>\n",
       "    <tr>\n",
       "      <th>361</th>\n",
       "      <td>Davinson Sánchez</td>\n",
       "      <td>Tottenham Hotspur</td>\n",
       "      <td>Colombia</td>\n",
       "      <td>NaN</td>\n",
       "      <td>458.0</td>\n",
       "      <td>574.0</td>\n",
       "      <td>4.0</td>\n",
       "      <td>NaN</td>\n",
       "      <td>16</td>\n",
       "      <td>1.0</td>\n",
       "      <td>2.0</td>\n",
       "      <td>2.0</td>\n",
       "      <td>NaN</td>\n",
       "      <td>NaN</td>\n",
       "    </tr>\n",
       "    <tr>\n",
       "      <th>362</th>\n",
       "      <td>Jordan Zemura</td>\n",
       "      <td>Bournemouth</td>\n",
       "      <td>Zimbabwe</td>\n",
       "      <td>NaN</td>\n",
       "      <td>457.0</td>\n",
       "      <td>861.0</td>\n",
       "      <td>4.0</td>\n",
       "      <td>0.0</td>\n",
       "      <td>19</td>\n",
       "      <td>NaN</td>\n",
       "      <td>16.0</td>\n",
       "      <td>18.0</td>\n",
       "      <td>NaN</td>\n",
       "      <td>1.0</td>\n",
       "    </tr>\n",
       "    <tr>\n",
       "      <th>363</th>\n",
       "      <td>Steve Cook</td>\n",
       "      <td>Nottingham Forest</td>\n",
       "      <td>England</td>\n",
       "      <td>NaN</td>\n",
       "      <td>455.0</td>\n",
       "      <td>567.0</td>\n",
       "      <td>3.0</td>\n",
       "      <td>NaN</td>\n",
       "      <td>12</td>\n",
       "      <td>NaN</td>\n",
       "      <td>2.0</td>\n",
       "      <td>1.0</td>\n",
       "      <td>NaN</td>\n",
       "      <td>NaN</td>\n",
       "    </tr>\n",
       "    <tr>\n",
       "      <th>364</th>\n",
       "      <td>Luke Thomas</td>\n",
       "      <td>Leicester City</td>\n",
       "      <td>England</td>\n",
       "      <td>NaN</td>\n",
       "      <td>440.0</td>\n",
       "      <td>680.0</td>\n",
       "      <td>3.0</td>\n",
       "      <td>NaN</td>\n",
       "      <td>13</td>\n",
       "      <td>NaN</td>\n",
       "      <td>7.0</td>\n",
       "      <td>7.0</td>\n",
       "      <td>3.0</td>\n",
       "      <td>NaN</td>\n",
       "    </tr>\n",
       "    <tr>\n",
       "      <th>365</th>\n",
       "      <td>Diego Llorente</td>\n",
       "      <td>-</td>\n",
       "      <td>Spain</td>\n",
       "      <td>NaN</td>\n",
       "      <td>427.0</td>\n",
       "      <td>513.0</td>\n",
       "      <td>6.0</td>\n",
       "      <td>NaN</td>\n",
       "      <td>8</td>\n",
       "      <td>NaN</td>\n",
       "      <td>1.0</td>\n",
       "      <td>1.0</td>\n",
       "      <td>NaN</td>\n",
       "      <td>NaN</td>\n",
       "    </tr>\n",
       "    <tr>\n",
       "      <th>366</th>\n",
       "      <td>Takehiro Tomiyasu</td>\n",
       "      <td>Arsenal</td>\n",
       "      <td>Japan</td>\n",
       "      <td>NaN</td>\n",
       "      <td>412.0</td>\n",
       "      <td>571.0</td>\n",
       "      <td>3.0</td>\n",
       "      <td>NaN</td>\n",
       "      <td>21</td>\n",
       "      <td>NaN</td>\n",
       "      <td>4.0</td>\n",
       "      <td>12.0</td>\n",
       "      <td>2.0</td>\n",
       "      <td>1.0</td>\n",
       "    </tr>\n",
       "    <tr>\n",
       "      <th>367</th>\n",
       "      <td>Ben Johnson</td>\n",
       "      <td>West Ham United</td>\n",
       "      <td>England</td>\n",
       "      <td>NaN</td>\n",
       "      <td>410.0</td>\n",
       "      <td>586.0</td>\n",
       "      <td>1.0</td>\n",
       "      <td>NaN</td>\n",
       "      <td>14</td>\n",
       "      <td>1.0</td>\n",
       "      <td>6.0</td>\n",
       "      <td>14.0</td>\n",
       "      <td>NaN</td>\n",
       "      <td>NaN</td>\n",
       "    </tr>\n",
       "    <tr>\n",
       "      <th>368</th>\n",
       "      <td>Nathan Patterson</td>\n",
       "      <td>Everton</td>\n",
       "      <td>Scotland</td>\n",
       "      <td>NaN</td>\n",
       "      <td>409.0</td>\n",
       "      <td>764.0</td>\n",
       "      <td>8.0</td>\n",
       "      <td>2.0</td>\n",
       "      <td>16</td>\n",
       "      <td>1.0</td>\n",
       "      <td>9.0</td>\n",
       "      <td>31.0</td>\n",
       "      <td>1.0</td>\n",
       "      <td>NaN</td>\n",
       "    </tr>\n",
       "    <tr>\n",
       "      <th>369</th>\n",
       "      <td>Albert Sambi Lokonga</td>\n",
       "      <td>Crystal Palace</td>\n",
       "      <td>Belgium</td>\n",
       "      <td>NaN</td>\n",
       "      <td>399.0</td>\n",
       "      <td>501.0</td>\n",
       "      <td>2.0</td>\n",
       "      <td>NaN</td>\n",
       "      <td>15</td>\n",
       "      <td>NaN</td>\n",
       "      <td>7.0</td>\n",
       "      <td>0.0</td>\n",
       "      <td>3.0</td>\n",
       "      <td>NaN</td>\n",
       "    </tr>\n",
       "    <tr>\n",
       "      <th>370</th>\n",
       "      <td>Ibrahima Diallo</td>\n",
       "      <td>Southampton</td>\n",
       "      <td>France</td>\n",
       "      <td>NaN</td>\n",
       "      <td>398.0</td>\n",
       "      <td>522.0</td>\n",
       "      <td>6.0</td>\n",
       "      <td>NaN</td>\n",
       "      <td>18</td>\n",
       "      <td>NaN</td>\n",
       "      <td>9.0</td>\n",
       "      <td>4.0</td>\n",
       "      <td>NaN</td>\n",
       "      <td>NaN</td>\n",
       "    </tr>\n",
       "    <tr>\n",
       "      <th>371</th>\n",
       "      <td>Rico Lewis</td>\n",
       "      <td>Manchester City</td>\n",
       "      <td>England</td>\n",
       "      <td>NaN</td>\n",
       "      <td>394.0</td>\n",
       "      <td>497.0</td>\n",
       "      <td>3.0</td>\n",
       "      <td>NaN</td>\n",
       "      <td>10</td>\n",
       "      <td>NaN</td>\n",
       "      <td>11.0</td>\n",
       "      <td>5.0</td>\n",
       "      <td>NaN</td>\n",
       "      <td>NaN</td>\n",
       "    </tr>\n",
       "    <tr>\n",
       "      <th>372</th>\n",
       "      <td>Keylor Navas</td>\n",
       "      <td>Nottingham Forest</td>\n",
       "      <td>Costa Rica</td>\n",
       "      <td>NaN</td>\n",
       "      <td>391.0</td>\n",
       "      <td>535.0</td>\n",
       "      <td>NaN</td>\n",
       "      <td>NaN</td>\n",
       "      <td>14</td>\n",
       "      <td>NaN</td>\n",
       "      <td>NaN</td>\n",
       "      <td>NaN</td>\n",
       "      <td>NaN</td>\n",
       "      <td>NaN</td>\n",
       "    </tr>\n",
       "    <tr>\n",
       "      <th>373</th>\n",
       "      <td>Konstantinos Tsimikas</td>\n",
       "      <td>Liverpool</td>\n",
       "      <td>Greece</td>\n",
       "      <td>NaN</td>\n",
       "      <td>383.0</td>\n",
       "      <td>645.0</td>\n",
       "      <td>7.0</td>\n",
       "      <td>1.0</td>\n",
       "      <td>17</td>\n",
       "      <td>NaN</td>\n",
       "      <td>7.0</td>\n",
       "      <td>72.0</td>\n",
       "      <td>NaN</td>\n",
       "      <td>4.0</td>\n",
       "    </tr>\n",
       "    <tr>\n",
       "      <th>374</th>\n",
       "      <td>Joe Rothwell</td>\n",
       "      <td>Bournemouth</td>\n",
       "      <td>England</td>\n",
       "      <td>NaN</td>\n",
       "      <td>377.0</td>\n",
       "      <td>500.0</td>\n",
       "      <td>3.0</td>\n",
       "      <td>NaN</td>\n",
       "      <td>18</td>\n",
       "      <td>NaN</td>\n",
       "      <td>3.0</td>\n",
       "      <td>24.0</td>\n",
       "      <td>4.0</td>\n",
       "      <td>1.0</td>\n",
       "    </tr>\n",
       "    <tr>\n",
       "      <th>375</th>\n",
       "      <td>Leander Dendoncker</td>\n",
       "      <td>Aston Villa</td>\n",
       "      <td>Belgium</td>\n",
       "      <td>NaN</td>\n",
       "      <td>375.0</td>\n",
       "      <td>500.0</td>\n",
       "      <td>5.0</td>\n",
       "      <td>1.0</td>\n",
       "      <td>23</td>\n",
       "      <td>NaN</td>\n",
       "      <td>5.0</td>\n",
       "      <td>3.0</td>\n",
       "      <td>NaN</td>\n",
       "      <td>NaN</td>\n",
       "    </tr>\n",
       "    <tr>\n",
       "      <th>376</th>\n",
       "      <td>Toti</td>\n",
       "      <td>Wolverhampton Wanderers</td>\n",
       "      <td>Portugal</td>\n",
       "      <td>NaN</td>\n",
       "      <td>371.0</td>\n",
       "      <td>522.0</td>\n",
       "      <td>3.0</td>\n",
       "      <td>NaN</td>\n",
       "      <td>13</td>\n",
       "      <td>0.0</td>\n",
       "      <td>2.0</td>\n",
       "      <td>6.0</td>\n",
       "      <td>NaN</td>\n",
       "      <td>NaN</td>\n",
       "    </tr>\n",
       "    <tr>\n",
       "      <th>377</th>\n",
       "      <td>Lyanco</td>\n",
       "      <td>Southampton</td>\n",
       "      <td>Brazil</td>\n",
       "      <td>NaN</td>\n",
       "      <td>365.0</td>\n",
       "      <td>559.0</td>\n",
       "      <td>9.0</td>\n",
       "      <td>NaN</td>\n",
       "      <td>17</td>\n",
       "      <td>1.0</td>\n",
       "      <td>4.0</td>\n",
       "      <td>7.0</td>\n",
       "      <td>3.0</td>\n",
       "      <td>NaN</td>\n",
       "    </tr>\n",
       "    <tr>\n",
       "      <th>378</th>\n",
       "      <td>Zanka</td>\n",
       "      <td>Brentford</td>\n",
       "      <td>Denmark</td>\n",
       "      <td>NaN</td>\n",
       "      <td>364.0</td>\n",
       "      <td>512.0</td>\n",
       "      <td>4.0</td>\n",
       "      <td>1.0</td>\n",
       "      <td>15</td>\n",
       "      <td>2.0</td>\n",
       "      <td>1.0</td>\n",
       "      <td>3.0</td>\n",
       "      <td>NaN</td>\n",
       "      <td>NaN</td>\n",
       "    </tr>\n",
       "    <tr>\n",
       "      <th>379</th>\n",
       "      <td>Kieran Tierney</td>\n",
       "      <td>Arsenal</td>\n",
       "      <td>Scotland</td>\n",
       "      <td>NaN</td>\n",
       "      <td>353.0</td>\n",
       "      <td>510.0</td>\n",
       "      <td>6.0</td>\n",
       "      <td>NaN</td>\n",
       "      <td>23</td>\n",
       "      <td>1.0</td>\n",
       "      <td>NaN</td>\n",
       "      <td>20.0</td>\n",
       "      <td>1.0</td>\n",
       "      <td>1.0</td>\n",
       "    </tr>\n",
       "    <tr>\n",
       "      <th>380</th>\n",
       "      <td>Victor Kristiansen</td>\n",
       "      <td>Leicester City</td>\n",
       "      <td>Denmark</td>\n",
       "      <td>NaN</td>\n",
       "      <td>332.0</td>\n",
       "      <td>584.0</td>\n",
       "      <td>3.0</td>\n",
       "      <td>NaN</td>\n",
       "      <td>11</td>\n",
       "      <td>NaN</td>\n",
       "      <td>9.0</td>\n",
       "      <td>26.0</td>\n",
       "      <td>1.0</td>\n",
       "      <td>1.0</td>\n",
       "    </tr>\n",
       "    <tr>\n",
       "      <th>381</th>\n",
       "      <td>Jonjo Shelvey</td>\n",
       "      <td>Nottingham Forest</td>\n",
       "      <td>England</td>\n",
       "      <td>NaN</td>\n",
       "      <td>314.0</td>\n",
       "      <td>383.0</td>\n",
       "      <td>6.0</td>\n",
       "      <td>NaN</td>\n",
       "      <td>11</td>\n",
       "      <td>NaN</td>\n",
       "      <td>4.0</td>\n",
       "      <td>13.0</td>\n",
       "      <td>3.0</td>\n",
       "      <td>NaN</td>\n",
       "    </tr>\n",
       "    <tr>\n",
       "      <th>382</th>\n",
       "      <td>Mikkel Damsgaard</td>\n",
       "      <td>Brentford</td>\n",
       "      <td>Denmark</td>\n",
       "      <td>NaN</td>\n",
       "      <td>299.0</td>\n",
       "      <td>450.0</td>\n",
       "      <td>8.0</td>\n",
       "      <td>2.0</td>\n",
       "      <td>22</td>\n",
       "      <td>NaN</td>\n",
       "      <td>4.0</td>\n",
       "      <td>22.0</td>\n",
       "      <td>5.0</td>\n",
       "      <td>NaN</td>\n",
       "    </tr>\n",
       "    <tr>\n",
       "      <th>383</th>\n",
       "      <td>Angelo Ogbonna</td>\n",
       "      <td>West Ham United</td>\n",
       "      <td>Italy</td>\n",
       "      <td>NaN</td>\n",
       "      <td>296.0</td>\n",
       "      <td>409.0</td>\n",
       "      <td>3.0</td>\n",
       "      <td>NaN</td>\n",
       "      <td>13</td>\n",
       "      <td>NaN</td>\n",
       "      <td>3.0</td>\n",
       "      <td>NaN</td>\n",
       "      <td>NaN</td>\n",
       "      <td>NaN</td>\n",
       "    </tr>\n",
       "    <tr>\n",
       "      <th>384</th>\n",
       "      <td>Kristoffer Ajer</td>\n",
       "      <td>-</td>\n",
       "      <td>Norway</td>\n",
       "      <td>NaN</td>\n",
       "      <td>294.0</td>\n",
       "      <td>431.0</td>\n",
       "      <td>1.0</td>\n",
       "      <td>NaN</td>\n",
       "      <td>9</td>\n",
       "      <td>NaN</td>\n",
       "      <td>8.0</td>\n",
       "      <td>6.0</td>\n",
       "      <td>NaN</td>\n",
       "      <td>NaN</td>\n",
       "    </tr>\n",
       "    <tr>\n",
       "      <th>385</th>\n",
       "      <td>Matt Targett</td>\n",
       "      <td>Newcastle United</td>\n",
       "      <td>England</td>\n",
       "      <td>NaN</td>\n",
       "      <td>291.0</td>\n",
       "      <td>427.0</td>\n",
       "      <td>1.0</td>\n",
       "      <td>NaN</td>\n",
       "      <td>14</td>\n",
       "      <td>NaN</td>\n",
       "      <td>6.0</td>\n",
       "      <td>29.0</td>\n",
       "      <td>NaN</td>\n",
       "      <td>NaN</td>\n",
       "    </tr>\n",
       "    <tr>\n",
       "      <th>386</th>\n",
       "      <td>N'Golo Kanté</td>\n",
       "      <td>Chelsea</td>\n",
       "      <td>France</td>\n",
       "      <td>NaN</td>\n",
       "      <td>289.0</td>\n",
       "      <td>378.0</td>\n",
       "      <td>7.0</td>\n",
       "      <td>NaN</td>\n",
       "      <td>6</td>\n",
       "      <td>1.0</td>\n",
       "      <td>5.0</td>\n",
       "      <td>10.0</td>\n",
       "      <td>2.0</td>\n",
       "      <td>NaN</td>\n",
       "    </tr>\n",
       "    <tr>\n",
       "      <th>387</th>\n",
       "      <td>Hakim Ziyech</td>\n",
       "      <td>Chelsea</td>\n",
       "      <td>Morocco</td>\n",
       "      <td>NaN</td>\n",
       "      <td>284.0</td>\n",
       "      <td>482.0</td>\n",
       "      <td>14.0</td>\n",
       "      <td>NaN</td>\n",
       "      <td>15</td>\n",
       "      <td>3.0</td>\n",
       "      <td>13.0</td>\n",
       "      <td>58.0</td>\n",
       "      <td>4.0</td>\n",
       "      <td>1.0</td>\n",
       "    </tr>\n",
       "    <tr>\n",
       "      <th>388</th>\n",
       "      <td>Marcel Sabitzer</td>\n",
       "      <td>Manchester United</td>\n",
       "      <td>Austria</td>\n",
       "      <td>NaN</td>\n",
       "      <td>283.0</td>\n",
       "      <td>383.0</td>\n",
       "      <td>11.0</td>\n",
       "      <td>NaN</td>\n",
       "      <td>10</td>\n",
       "      <td>1.0</td>\n",
       "      <td>5.0</td>\n",
       "      <td>4.0</td>\n",
       "      <td>2.0</td>\n",
       "      <td>1.0</td>\n",
       "    </tr>\n",
       "    <tr>\n",
       "      <th>389</th>\n",
       "      <td>Jesse Lingard</td>\n",
       "      <td>Nottingham Forest</td>\n",
       "      <td>England</td>\n",
       "      <td>NaN</td>\n",
       "      <td>282.0</td>\n",
       "      <td>395.0</td>\n",
       "      <td>10.0</td>\n",
       "      <td>NaN</td>\n",
       "      <td>17</td>\n",
       "      <td>2.0</td>\n",
       "      <td>10.0</td>\n",
       "      <td>5.0</td>\n",
       "      <td>1.0</td>\n",
       "      <td>NaN</td>\n",
       "    </tr>\n",
       "    <tr>\n",
       "      <th>390</th>\n",
       "      <td>Pedro Neto</td>\n",
       "      <td>Wolverhampton Wanderers</td>\n",
       "      <td>Portugal</td>\n",
       "      <td>NaN</td>\n",
       "      <td>280.0</td>\n",
       "      <td>505.0</td>\n",
       "      <td>17.0</td>\n",
       "      <td>1.0</td>\n",
       "      <td>16</td>\n",
       "      <td>2.0</td>\n",
       "      <td>9.0</td>\n",
       "      <td>59.0</td>\n",
       "      <td>1.0</td>\n",
       "      <td>0.0</td>\n",
       "    </tr>\n",
       "    <tr>\n",
       "      <th>391</th>\n",
       "      <td>Jason Steele</td>\n",
       "      <td>Brighton &amp; Hove Albion</td>\n",
       "      <td>England</td>\n",
       "      <td>NaN</td>\n",
       "      <td>276.0</td>\n",
       "      <td>345.0</td>\n",
       "      <td>NaN</td>\n",
       "      <td>NaN</td>\n",
       "      <td>9</td>\n",
       "      <td>NaN</td>\n",
       "      <td>NaN</td>\n",
       "      <td>NaN</td>\n",
       "      <td>1.0</td>\n",
       "      <td>1.0</td>\n",
       "    </tr>\n",
       "    <tr>\n",
       "      <th>392</th>\n",
       "      <td>Mark Travers</td>\n",
       "      <td>Bournemouth</td>\n",
       "      <td>Ireland</td>\n",
       "      <td>NaN</td>\n",
       "      <td>276.0</td>\n",
       "      <td>373.0</td>\n",
       "      <td>NaN</td>\n",
       "      <td>NaN</td>\n",
       "      <td>11</td>\n",
       "      <td>NaN</td>\n",
       "      <td>NaN</td>\n",
       "      <td>NaN</td>\n",
       "      <td>NaN</td>\n",
       "      <td>NaN</td>\n",
       "    </tr>\n",
       "    <tr>\n",
       "      <th>393</th>\n",
       "      <td>Harry Toffolo</td>\n",
       "      <td>Nottingham Forest</td>\n",
       "      <td>England</td>\n",
       "      <td>NaN</td>\n",
       "      <td>271.0</td>\n",
       "      <td>486.0</td>\n",
       "      <td>6.0</td>\n",
       "      <td>NaN</td>\n",
       "      <td>16</td>\n",
       "      <td>NaN</td>\n",
       "      <td>6.0</td>\n",
       "      <td>28.0</td>\n",
       "      <td>NaN</td>\n",
       "      <td>NaN</td>\n",
       "    </tr>\n",
       "    <tr>\n",
       "      <th>394</th>\n",
       "      <td>Shandon Baptiste</td>\n",
       "      <td>Brentford</td>\n",
       "      <td>Grenada</td>\n",
       "      <td>NaN</td>\n",
       "      <td>261.0</td>\n",
       "      <td>368.0</td>\n",
       "      <td>4.0</td>\n",
       "      <td>NaN</td>\n",
       "      <td>19</td>\n",
       "      <td>1.0</td>\n",
       "      <td>7.0</td>\n",
       "      <td>10.0</td>\n",
       "      <td>2.0</td>\n",
       "      <td>1.0</td>\n",
       "    </tr>\n",
       "    <tr>\n",
       "      <th>395</th>\n",
       "      <td>Billy Gilmour</td>\n",
       "      <td>Brighton &amp; Hove Albion</td>\n",
       "      <td>Scotland</td>\n",
       "      <td>NaN</td>\n",
       "      <td>261.0</td>\n",
       "      <td>298.0</td>\n",
       "      <td>3.0</td>\n",
       "      <td>NaN</td>\n",
       "      <td>9</td>\n",
       "      <td>NaN</td>\n",
       "      <td>5.0</td>\n",
       "      <td>1.0</td>\n",
       "      <td>1.0</td>\n",
       "      <td>NaN</td>\n",
       "    </tr>\n",
       "    <tr>\n",
       "      <th>396</th>\n",
       "      <td>Mads Roerslev</td>\n",
       "      <td>Brentford</td>\n",
       "      <td>Denmark</td>\n",
       "      <td>NaN</td>\n",
       "      <td>255.0</td>\n",
       "      <td>423.0</td>\n",
       "      <td>3.0</td>\n",
       "      <td>0.0</td>\n",
       "      <td>17</td>\n",
       "      <td>NaN</td>\n",
       "      <td>9.0</td>\n",
       "      <td>19.0</td>\n",
       "      <td>2.0</td>\n",
       "      <td>NaN</td>\n",
       "    </tr>\n",
       "    <tr>\n",
       "      <th>397</th>\n",
       "      <td>Luka Milivojevic</td>\n",
       "      <td>Crystal Palace</td>\n",
       "      <td>Serbia</td>\n",
       "      <td>NaN</td>\n",
       "      <td>252.0</td>\n",
       "      <td>336.0</td>\n",
       "      <td>7.0</td>\n",
       "      <td>NaN</td>\n",
       "      <td>18</td>\n",
       "      <td>NaN</td>\n",
       "      <td>6.0</td>\n",
       "      <td>6.0</td>\n",
       "      <td>NaN</td>\n",
       "      <td>NaN</td>\n",
       "    </tr>\n",
       "    <tr>\n",
       "      <th>398</th>\n",
       "      <td>Will Hughes</td>\n",
       "      <td>Crystal Palace</td>\n",
       "      <td>England</td>\n",
       "      <td>NaN</td>\n",
       "      <td>251.0</td>\n",
       "      <td>353.0</td>\n",
       "      <td>3.0</td>\n",
       "      <td>1.0</td>\n",
       "      <td>23</td>\n",
       "      <td>NaN</td>\n",
       "      <td>6.0</td>\n",
       "      <td>12.0</td>\n",
       "      <td>1.0</td>\n",
       "      <td>1.0</td>\n",
       "    </tr>\n",
       "    <tr>\n",
       "      <th>399</th>\n",
       "      <td>Tariq Lamptey</td>\n",
       "      <td>Brighton &amp; Hove Albion</td>\n",
       "      <td>Ghana</td>\n",
       "      <td>NaN</td>\n",
       "      <td>232.0</td>\n",
       "      <td>395.0</td>\n",
       "      <td>5.0</td>\n",
       "      <td>NaN</td>\n",
       "      <td>20</td>\n",
       "      <td>NaN</td>\n",
       "      <td>2.0</td>\n",
       "      <td>31.0</td>\n",
       "      <td>1.0</td>\n",
       "      <td>NaN</td>\n",
       "    </tr>\n",
       "    <tr>\n",
       "      <th>400</th>\n",
       "      <td>Tom Davies</td>\n",
       "      <td>Everton</td>\n",
       "      <td>England</td>\n",
       "      <td>NaN</td>\n",
       "      <td>230.0</td>\n",
       "      <td>329.0</td>\n",
       "      <td>9.0</td>\n",
       "      <td>2.0</td>\n",
       "      <td>19</td>\n",
       "      <td>1.0</td>\n",
       "      <td>4.0</td>\n",
       "      <td>2.0</td>\n",
       "      <td>3.0</td>\n",
       "      <td>NaN</td>\n",
       "    </tr>\n",
       "    <tr>\n",
       "      <th>401</th>\n",
       "      <td>Ben Godfrey</td>\n",
       "      <td>Everton</td>\n",
       "      <td>England</td>\n",
       "      <td>NaN</td>\n",
       "      <td>226.0</td>\n",
       "      <td>413.0</td>\n",
       "      <td>6.0</td>\n",
       "      <td>1.0</td>\n",
       "      <td>13</td>\n",
       "      <td>1.0</td>\n",
       "      <td>3.0</td>\n",
       "      <td>7.0</td>\n",
       "      <td>NaN</td>\n",
       "      <td>1.0</td>\n",
       "    </tr>\n",
       "    <tr>\n",
       "      <th>402</th>\n",
       "      <td>Édouard Mendy</td>\n",
       "      <td>Chelsea</td>\n",
       "      <td>Senegal</td>\n",
       "      <td>NaN</td>\n",
       "      <td>226.0</td>\n",
       "      <td>311.0</td>\n",
       "      <td>NaN</td>\n",
       "      <td>NaN</td>\n",
       "      <td>9</td>\n",
       "      <td>NaN</td>\n",
       "      <td>NaN</td>\n",
       "      <td>NaN</td>\n",
       "      <td>NaN</td>\n",
       "      <td>NaN</td>\n",
       "    </tr>\n",
       "    <tr>\n",
       "      <th>403</th>\n",
       "      <td>Daniel Iversen</td>\n",
       "      <td>Leicester City</td>\n",
       "      <td>Denmark</td>\n",
       "      <td>NaN</td>\n",
       "      <td>220.0</td>\n",
       "      <td>313.0</td>\n",
       "      <td>NaN</td>\n",
       "      <td>NaN</td>\n",
       "      <td>8</td>\n",
       "      <td>NaN</td>\n",
       "      <td>NaN</td>\n",
       "      <td>NaN</td>\n",
       "      <td>NaN</td>\n",
       "      <td>NaN</td>\n",
       "    </tr>\n",
       "    <tr>\n",
       "      <th>404</th>\n",
       "      <td>Flynn Downes</td>\n",
       "      <td>West Ham United</td>\n",
       "      <td>England</td>\n",
       "      <td>NaN</td>\n",
       "      <td>211.0</td>\n",
       "      <td>291.0</td>\n",
       "      <td>4.0</td>\n",
       "      <td>NaN</td>\n",
       "      <td>18</td>\n",
       "      <td>NaN</td>\n",
       "      <td>4.0</td>\n",
       "      <td>3.0</td>\n",
       "      <td>NaN</td>\n",
       "      <td>NaN</td>\n",
       "    </tr>\n",
       "    <tr>\n",
       "      <th>405</th>\n",
       "      <td>Moussa Niakhaté</td>\n",
       "      <td>Nottingham Forest</td>\n",
       "      <td>Senegal</td>\n",
       "      <td>NaN</td>\n",
       "      <td>207.0</td>\n",
       "      <td>375.0</td>\n",
       "      <td>5.0</td>\n",
       "      <td>1.0</td>\n",
       "      <td>10</td>\n",
       "      <td>NaN</td>\n",
       "      <td>1.0</td>\n",
       "      <td>NaN</td>\n",
       "      <td>NaN</td>\n",
       "      <td>NaN</td>\n",
       "    </tr>\n",
       "    <tr>\n",
       "      <th>406</th>\n",
       "      <td>Kamaldeen Sulemana</td>\n",
       "      <td>Southampton</td>\n",
       "      <td>Ghana</td>\n",
       "      <td>NaN</td>\n",
       "      <td>205.0</td>\n",
       "      <td>431.0</td>\n",
       "      <td>17.0</td>\n",
       "      <td>1.0</td>\n",
       "      <td>14</td>\n",
       "      <td>2.0</td>\n",
       "      <td>13.0</td>\n",
       "      <td>18.0</td>\n",
       "      <td>1.0</td>\n",
       "      <td>1.0</td>\n",
       "    </tr>\n",
       "    <tr>\n",
       "      <th>407</th>\n",
       "      <td>Moussa Djenepo</td>\n",
       "      <td>Southampton</td>\n",
       "      <td>Mali</td>\n",
       "      <td>NaN</td>\n",
       "      <td>196.0</td>\n",
       "      <td>381.0</td>\n",
       "      <td>3.0</td>\n",
       "      <td>NaN</td>\n",
       "      <td>15</td>\n",
       "      <td>NaN</td>\n",
       "      <td>7.0</td>\n",
       "      <td>12.0</td>\n",
       "      <td>NaN</td>\n",
       "      <td>2.0</td>\n",
       "    </tr>\n",
       "    <tr>\n",
       "      <th>408</th>\n",
       "      <td>Fraser Forster</td>\n",
       "      <td>Tottenham Hotspur</td>\n",
       "      <td>England</td>\n",
       "      <td>NaN</td>\n",
       "      <td>196.0</td>\n",
       "      <td>285.0</td>\n",
       "      <td>NaN</td>\n",
       "      <td>NaN</td>\n",
       "      <td>10</td>\n",
       "      <td>NaN</td>\n",
       "      <td>NaN</td>\n",
       "      <td>NaN</td>\n",
       "      <td>NaN</td>\n",
       "      <td>NaN</td>\n",
       "    </tr>\n",
       "    <tr>\n",
       "      <th>409</th>\n",
       "      <td>Chris Richards</td>\n",
       "      <td>Crystal Palace</td>\n",
       "      <td>United States</td>\n",
       "      <td>NaN</td>\n",
       "      <td>195.0</td>\n",
       "      <td>279.0</td>\n",
       "      <td>4.0</td>\n",
       "      <td>1.0</td>\n",
       "      <td>9</td>\n",
       "      <td>1.0</td>\n",
       "      <td>2.0</td>\n",
       "      <td>NaN</td>\n",
       "      <td>NaN</td>\n",
       "      <td>NaN</td>\n",
       "    </tr>\n",
       "    <tr>\n",
       "      <th>410</th>\n",
       "      <td>Frank Onyeka</td>\n",
       "      <td>Brentford</td>\n",
       "      <td>Nigeria</td>\n",
       "      <td>NaN</td>\n",
       "      <td>192.0</td>\n",
       "      <td>310.0</td>\n",
       "      <td>6.0</td>\n",
       "      <td>3.0</td>\n",
       "      <td>17</td>\n",
       "      <td>1.0</td>\n",
       "      <td>7.0</td>\n",
       "      <td>1.0</td>\n",
       "      <td>NaN</td>\n",
       "      <td>2.0</td>\n",
       "    </tr>\n",
       "    <tr>\n",
       "      <th>411</th>\n",
       "      <td>Calum Chambers</td>\n",
       "      <td>Aston Villa</td>\n",
       "      <td>England</td>\n",
       "      <td>NaN</td>\n",
       "      <td>191.0</td>\n",
       "      <td>247.0</td>\n",
       "      <td>2.0</td>\n",
       "      <td>NaN</td>\n",
       "      <td>14</td>\n",
       "      <td>0.0</td>\n",
       "      <td>1.0</td>\n",
       "      <td>4.0</td>\n",
       "      <td>NaN</td>\n",
       "      <td>NaN</td>\n",
       "    </tr>\n",
       "    <tr>\n",
       "      <th>412</th>\n",
       "      <td>James Garner</td>\n",
       "      <td>Everton</td>\n",
       "      <td>England</td>\n",
       "      <td>NaN</td>\n",
       "      <td>190.0</td>\n",
       "      <td>277.0</td>\n",
       "      <td>6.0</td>\n",
       "      <td>NaN</td>\n",
       "      <td>12</td>\n",
       "      <td>1.0</td>\n",
       "      <td>2.0</td>\n",
       "      <td>25.0</td>\n",
       "      <td>NaN</td>\n",
       "      <td>1.0</td>\n",
       "    </tr>\n",
       "    <tr>\n",
       "      <th>413</th>\n",
       "      <td>Mason Holgate</td>\n",
       "      <td>Everton</td>\n",
       "      <td>England</td>\n",
       "      <td>NaN</td>\n",
       "      <td>183.0</td>\n",
       "      <td>274.0</td>\n",
       "      <td>3.0</td>\n",
       "      <td>NaN</td>\n",
       "      <td>6</td>\n",
       "      <td>NaN</td>\n",
       "      <td>NaN</td>\n",
       "      <td>2.0</td>\n",
       "      <td>1.0</td>\n",
       "      <td>NaN</td>\n",
       "    </tr>\n",
       "    <tr>\n",
       "      <th>414</th>\n",
       "      <td>Neeskens Kebano</td>\n",
       "      <td>Fulham</td>\n",
       "      <td>DR Congo</td>\n",
       "      <td>NaN</td>\n",
       "      <td>179.0</td>\n",
       "      <td>332.0</td>\n",
       "      <td>9.0</td>\n",
       "      <td>1.0</td>\n",
       "      <td>15</td>\n",
       "      <td>2.0</td>\n",
       "      <td>10.0</td>\n",
       "      <td>22.0</td>\n",
       "      <td>NaN</td>\n",
       "      <td>3.0</td>\n",
       "    </tr>\n",
       "    <tr>\n",
       "      <th>415</th>\n",
       "      <td>Sasa Lukic</td>\n",
       "      <td>Fulham</td>\n",
       "      <td>Serbia</td>\n",
       "      <td>NaN</td>\n",
       "      <td>179.0</td>\n",
       "      <td>217.0</td>\n",
       "      <td>3.0</td>\n",
       "      <td>NaN</td>\n",
       "      <td>9</td>\n",
       "      <td>NaN</td>\n",
       "      <td>1.0</td>\n",
       "      <td>1.0</td>\n",
       "      <td>NaN</td>\n",
       "      <td>NaN</td>\n",
       "    </tr>\n",
       "    <tr>\n",
       "      <th>416</th>\n",
       "      <td>Denis Zakaria</td>\n",
       "      <td>Chelsea</td>\n",
       "      <td>Switzerland</td>\n",
       "      <td>NaN</td>\n",
       "      <td>178.0</td>\n",
       "      <td>238.0</td>\n",
       "      <td>2.0</td>\n",
       "      <td>NaN</td>\n",
       "      <td>7</td>\n",
       "      <td>NaN</td>\n",
       "      <td>9.0</td>\n",
       "      <td>1.0</td>\n",
       "      <td>1.0</td>\n",
       "      <td>NaN</td>\n",
       "    </tr>\n",
       "    <tr>\n",
       "      <th>417</th>\n",
       "      <td>Lewis Hall</td>\n",
       "      <td>Chelsea</td>\n",
       "      <td>England</td>\n",
       "      <td>NaN</td>\n",
       "      <td>171.0</td>\n",
       "      <td>273.0</td>\n",
       "      <td>5.0</td>\n",
       "      <td>2.0</td>\n",
       "      <td>5</td>\n",
       "      <td>1.0</td>\n",
       "      <td>6.0</td>\n",
       "      <td>9.0</td>\n",
       "      <td>NaN</td>\n",
       "      <td>NaN</td>\n",
       "    </tr>\n",
       "    <tr>\n",
       "      <th>418</th>\n",
       "      <td>Naby Keïta</td>\n",
       "      <td>Liverpool</td>\n",
       "      <td>Guinea</td>\n",
       "      <td>NaN</td>\n",
       "      <td>164.0</td>\n",
       "      <td>221.0</td>\n",
       "      <td>10.0</td>\n",
       "      <td>NaN</td>\n",
       "      <td>8</td>\n",
       "      <td>NaN</td>\n",
       "      <td>7.0</td>\n",
       "      <td>2.0</td>\n",
       "      <td>NaN</td>\n",
       "      <td>NaN</td>\n",
       "    </tr>\n",
       "    <tr>\n",
       "      <th>419</th>\n",
       "      <td>Ryan Fredericks</td>\n",
       "      <td>Bournemouth</td>\n",
       "      <td>England</td>\n",
       "      <td>NaN</td>\n",
       "      <td>163.0</td>\n",
       "      <td>288.0</td>\n",
       "      <td>NaN</td>\n",
       "      <td>NaN</td>\n",
       "      <td>12</td>\n",
       "      <td>NaN</td>\n",
       "      <td>3.0</td>\n",
       "      <td>15.0</td>\n",
       "      <td>NaN</td>\n",
       "      <td>NaN</td>\n",
       "    </tr>\n",
       "    <tr>\n",
       "      <th>420</th>\n",
       "      <td>Wout Weghorst</td>\n",
       "      <td>Manchester United</td>\n",
       "      <td>Netherlands</td>\n",
       "      <td>NaN</td>\n",
       "      <td>163.0</td>\n",
       "      <td>255.0</td>\n",
       "      <td>10.0</td>\n",
       "      <td>1.0</td>\n",
       "      <td>13</td>\n",
       "      <td>4.0</td>\n",
       "      <td>12.0</td>\n",
       "      <td>NaN</td>\n",
       "      <td>3.0</td>\n",
       "      <td>1.0</td>\n",
       "    </tr>\n",
       "    <tr>\n",
       "      <th>421</th>\n",
       "      <td>Cédric Soares</td>\n",
       "      <td>Fulham</td>\n",
       "      <td>Portugal</td>\n",
       "      <td>NaN</td>\n",
       "      <td>156.0</td>\n",
       "      <td>247.0</td>\n",
       "      <td>2.0</td>\n",
       "      <td>NaN</td>\n",
       "      <td>8</td>\n",
       "      <td>NaN</td>\n",
       "      <td>2.0</td>\n",
       "      <td>27.0</td>\n",
       "      <td>NaN</td>\n",
       "      <td>NaN</td>\n",
       "    </tr>\n",
       "    <tr>\n",
       "      <th>422</th>\n",
       "      <td>Ayoze Pérez</td>\n",
       "      <td>-</td>\n",
       "      <td>Spain</td>\n",
       "      <td>NaN</td>\n",
       "      <td>152.0</td>\n",
       "      <td>271.0</td>\n",
       "      <td>8.0</td>\n",
       "      <td>1.0</td>\n",
       "      <td>8</td>\n",
       "      <td>NaN</td>\n",
       "      <td>11.0</td>\n",
       "      <td>17.0</td>\n",
       "      <td>5.0</td>\n",
       "      <td>1.0</td>\n",
       "    </tr>\n",
       "    <tr>\n",
       "      <th>423</th>\n",
       "      <td>Mykhailo Mudryk</td>\n",
       "      <td>Chelsea</td>\n",
       "      <td>Ukraine</td>\n",
       "      <td>NaN</td>\n",
       "      <td>149.0</td>\n",
       "      <td>283.0</td>\n",
       "      <td>9.0</td>\n",
       "      <td>4.0</td>\n",
       "      <td>12</td>\n",
       "      <td>1.0</td>\n",
       "      <td>10.0</td>\n",
       "      <td>18.0</td>\n",
       "      <td>1.0</td>\n",
       "      <td>2.0</td>\n",
       "    </tr>\n",
       "    <tr>\n",
       "      <th>424</th>\n",
       "      <td>Samuel Edozie</td>\n",
       "      <td>Southampton</td>\n",
       "      <td>England</td>\n",
       "      <td>NaN</td>\n",
       "      <td>145.0</td>\n",
       "      <td>304.0</td>\n",
       "      <td>8.0</td>\n",
       "      <td>1.0</td>\n",
       "      <td>16</td>\n",
       "      <td>1.0</td>\n",
       "      <td>10.0</td>\n",
       "      <td>10.0</td>\n",
       "      <td>1.0</td>\n",
       "      <td>NaN</td>\n",
       "    </tr>\n",
       "    <tr>\n",
       "      <th>425</th>\n",
       "      <td>Jack Colback</td>\n",
       "      <td>Nottingham Forest</td>\n",
       "      <td>England</td>\n",
       "      <td>NaN</td>\n",
       "      <td>141.0</td>\n",
       "      <td>199.0</td>\n",
       "      <td>NaN</td>\n",
       "      <td>NaN</td>\n",
       "      <td>11</td>\n",
       "      <td>NaN</td>\n",
       "      <td>1.0</td>\n",
       "      <td>1.0</td>\n",
       "      <td>NaN</td>\n",
       "      <td>NaN</td>\n",
       "    </tr>\n",
       "    <tr>\n",
       "      <th>426</th>\n",
       "      <td>Sergio Gómez</td>\n",
       "      <td>Manchester City</td>\n",
       "      <td>Spain</td>\n",
       "      <td>NaN</td>\n",
       "      <td>141.0</td>\n",
       "      <td>182.0</td>\n",
       "      <td>4.0</td>\n",
       "      <td>NaN</td>\n",
       "      <td>8</td>\n",
       "      <td>NaN</td>\n",
       "      <td>2.0</td>\n",
       "      <td>5.0</td>\n",
       "      <td>NaN</td>\n",
       "      <td>1.0</td>\n",
       "    </tr>\n",
       "    <tr>\n",
       "      <th>427</th>\n",
       "      <td>Pape Sarr</td>\n",
       "      <td>Tottenham Hotspur</td>\n",
       "      <td>Senegal</td>\n",
       "      <td>NaN</td>\n",
       "      <td>141.0</td>\n",
       "      <td>180.0</td>\n",
       "      <td>2.0</td>\n",
       "      <td>NaN</td>\n",
       "      <td>10</td>\n",
       "      <td>NaN</td>\n",
       "      <td>2.0</td>\n",
       "      <td>0.0</td>\n",
       "      <td>NaN</td>\n",
       "      <td>NaN</td>\n",
       "    </tr>\n",
       "    <tr>\n",
       "      <th>428</th>\n",
       "      <td>Sam Johnstone</td>\n",
       "      <td>Crystal Palace</td>\n",
       "      <td>England</td>\n",
       "      <td>NaN</td>\n",
       "      <td>140.0</td>\n",
       "      <td>203.0</td>\n",
       "      <td>NaN</td>\n",
       "      <td>NaN</td>\n",
       "      <td>5</td>\n",
       "      <td>NaN</td>\n",
       "      <td>NaN</td>\n",
       "      <td>NaN</td>\n",
       "      <td>NaN</td>\n",
       "      <td>NaN</td>\n",
       "    </tr>\n",
       "    <tr>\n",
       "      <th>429</th>\n",
       "      <td>Mateusz Klich</td>\n",
       "      <td>-</td>\n",
       "      <td>Poland</td>\n",
       "      <td>NaN</td>\n",
       "      <td>136.0</td>\n",
       "      <td>200.0</td>\n",
       "      <td>4.0</td>\n",
       "      <td>NaN</td>\n",
       "      <td>14</td>\n",
       "      <td>NaN</td>\n",
       "      <td>1.0</td>\n",
       "      <td>8.0</td>\n",
       "      <td>NaN</td>\n",
       "      <td>NaN</td>\n",
       "    </tr>\n",
       "    <tr>\n",
       "      <th>430</th>\n",
       "      <td>Kalvin Phillips</td>\n",
       "      <td>Manchester City</td>\n",
       "      <td>England</td>\n",
       "      <td>NaN</td>\n",
       "      <td>135.0</td>\n",
       "      <td>158.0</td>\n",
       "      <td>2.0</td>\n",
       "      <td>NaN</td>\n",
       "      <td>8</td>\n",
       "      <td>NaN</td>\n",
       "      <td>NaN</td>\n",
       "      <td>NaN</td>\n",
       "      <td>NaN</td>\n",
       "      <td>NaN</td>\n",
       "    </tr>\n",
       "    <tr>\n",
       "      <th>431</th>\n",
       "      <td>Hamed Traorè</td>\n",
       "      <td>Bournemouth</td>\n",
       "      <td>Cote D’Ivoire</td>\n",
       "      <td>NaN</td>\n",
       "      <td>135.0</td>\n",
       "      <td>283.0</td>\n",
       "      <td>6.0</td>\n",
       "      <td>1.0</td>\n",
       "      <td>7</td>\n",
       "      <td>1.0</td>\n",
       "      <td>13.0</td>\n",
       "      <td>41.0</td>\n",
       "      <td>5.0</td>\n",
       "      <td>NaN</td>\n",
       "    </tr>\n",
       "    <tr>\n",
       "      <th>432</th>\n",
       "      <td>Ben Pearson</td>\n",
       "      <td>-</td>\n",
       "      <td>England</td>\n",
       "      <td>NaN</td>\n",
       "      <td>134.0</td>\n",
       "      <td>164.0</td>\n",
       "      <td>2.0</td>\n",
       "      <td>NaN</td>\n",
       "      <td>7</td>\n",
       "      <td>NaN</td>\n",
       "      <td>NaN</td>\n",
       "      <td>NaN</td>\n",
       "      <td>NaN</td>\n",
       "      <td>NaN</td>\n",
       "    </tr>\n",
       "    <tr>\n",
       "      <th>433</th>\n",
       "      <td>Diego Carlos</td>\n",
       "      <td>Aston Villa</td>\n",
       "      <td>Brazil</td>\n",
       "      <td>NaN</td>\n",
       "      <td>125.0</td>\n",
       "      <td>140.0</td>\n",
       "      <td>4.0</td>\n",
       "      <td>1.0</td>\n",
       "      <td>2</td>\n",
       "      <td>NaN</td>\n",
       "      <td>NaN</td>\n",
       "      <td>1.0</td>\n",
       "      <td>NaN</td>\n",
       "      <td>NaN</td>\n",
       "    </tr>\n",
       "    <tr>\n",
       "      <th>434</th>\n",
       "      <td>Anthony Elanga</td>\n",
       "      <td>Manchester United</td>\n",
       "      <td>Sweden</td>\n",
       "      <td>NaN</td>\n",
       "      <td>121.0</td>\n",
       "      <td>209.0</td>\n",
       "      <td>10.0</td>\n",
       "      <td>2.0</td>\n",
       "      <td>16</td>\n",
       "      <td>3.0</td>\n",
       "      <td>7.0</td>\n",
       "      <td>7.0</td>\n",
       "      <td>NaN</td>\n",
       "      <td>1.0</td>\n",
       "    </tr>\n",
       "    <tr>\n",
       "      <th>435</th>\n",
       "      <td>Boubacar Traoré</td>\n",
       "      <td>Wolverhampton Wanderers</td>\n",
       "      <td>Mali</td>\n",
       "      <td>NaN</td>\n",
       "      <td>121.0</td>\n",
       "      <td>166.0</td>\n",
       "      <td>3.0</td>\n",
       "      <td>NaN</td>\n",
       "      <td>8</td>\n",
       "      <td>NaN</td>\n",
       "      <td>3.0</td>\n",
       "      <td>1.0</td>\n",
       "      <td>NaN</td>\n",
       "      <td>1.0</td>\n",
       "    </tr>\n",
       "    <tr>\n",
       "      <th>436</th>\n",
       "      <td>Carney Chukwuemeka</td>\n",
       "      <td>Chelsea</td>\n",
       "      <td>England</td>\n",
       "      <td>NaN</td>\n",
       "      <td>114.0</td>\n",
       "      <td>175.0</td>\n",
       "      <td>4.0</td>\n",
       "      <td>NaN</td>\n",
       "      <td>11</td>\n",
       "      <td>1.0</td>\n",
       "      <td>3.0</td>\n",
       "      <td>3.0</td>\n",
       "      <td>NaN</td>\n",
       "      <td>NaN</td>\n",
       "    </tr>\n",
       "    <tr>\n",
       "      <th>437</th>\n",
       "      <td>Robin Olsen</td>\n",
       "      <td>Aston Villa</td>\n",
       "      <td>Sweden</td>\n",
       "      <td>NaN</td>\n",
       "      <td>111.0</td>\n",
       "      <td>152.0</td>\n",
       "      <td>NaN</td>\n",
       "      <td>NaN</td>\n",
       "      <td>4</td>\n",
       "      <td>NaN</td>\n",
       "      <td>NaN</td>\n",
       "      <td>NaN</td>\n",
       "      <td>NaN</td>\n",
       "      <td>NaN</td>\n",
       "    </tr>\n",
       "    <tr>\n",
       "      <th>438</th>\n",
       "      <td>Kevin Schade</td>\n",
       "      <td>Brentford</td>\n",
       "      <td>Germany</td>\n",
       "      <td>NaN</td>\n",
       "      <td>109.0</td>\n",
       "      <td>234.0</td>\n",
       "      <td>10.0</td>\n",
       "      <td>2.0</td>\n",
       "      <td>14</td>\n",
       "      <td>4.0</td>\n",
       "      <td>6.0</td>\n",
       "      <td>10.0</td>\n",
       "      <td>NaN</td>\n",
       "      <td>1.0</td>\n",
       "    </tr>\n",
       "    <tr>\n",
       "      <th>439</th>\n",
       "      <td>Ryan Fraser</td>\n",
       "      <td>Newcastle United</td>\n",
       "      <td>Scotland</td>\n",
       "      <td>NaN</td>\n",
       "      <td>104.0</td>\n",
       "      <td>159.0</td>\n",
       "      <td>6.0</td>\n",
       "      <td>NaN</td>\n",
       "      <td>8</td>\n",
       "      <td>1.0</td>\n",
       "      <td>1.0</td>\n",
       "      <td>13.0</td>\n",
       "      <td>NaN</td>\n",
       "      <td>NaN</td>\n",
       "    </tr>\n",
       "    <tr>\n",
       "      <th>440</th>\n",
       "      <td>Jan Paul van Hecke</td>\n",
       "      <td>Brighton &amp; Hove Albion</td>\n",
       "      <td>Netherlands</td>\n",
       "      <td>NaN</td>\n",
       "      <td>100.0</td>\n",
       "      <td>115.0</td>\n",
       "      <td>2.0</td>\n",
       "      <td>1.0</td>\n",
       "      <td>4</td>\n",
       "      <td>NaN</td>\n",
       "      <td>NaN</td>\n",
       "      <td>NaN</td>\n",
       "      <td>NaN</td>\n",
       "      <td>NaN</td>\n",
       "    </tr>\n",
       "    <tr>\n",
       "      <th>441</th>\n",
       "      <td>Manuel Lanzini</td>\n",
       "      <td>West Ham United</td>\n",
       "      <td>Argentina</td>\n",
       "      <td>NaN</td>\n",
       "      <td>99.0</td>\n",
       "      <td>112.0</td>\n",
       "      <td>2.0</td>\n",
       "      <td>NaN</td>\n",
       "      <td>7</td>\n",
       "      <td>1.0</td>\n",
       "      <td>2.0</td>\n",
       "      <td>1.0</td>\n",
       "      <td>NaN</td>\n",
       "      <td>NaN</td>\n",
       "    </tr>\n",
       "    <tr>\n",
       "      <th>442</th>\n",
       "      <td>Jack Stacey</td>\n",
       "      <td>Bournemouth</td>\n",
       "      <td>England</td>\n",
       "      <td>NaN</td>\n",
       "      <td>96.0</td>\n",
       "      <td>182.0</td>\n",
       "      <td>1.0</td>\n",
       "      <td>NaN</td>\n",
       "      <td>10</td>\n",
       "      <td>1.0</td>\n",
       "      <td>4.0</td>\n",
       "      <td>10.0</td>\n",
       "      <td>NaN</td>\n",
       "      <td>NaN</td>\n",
       "    </tr>\n",
       "    <tr>\n",
       "      <th>443</th>\n",
       "      <td>Jamaal Lascelles</td>\n",
       "      <td>Newcastle United</td>\n",
       "      <td>England</td>\n",
       "      <td>NaN</td>\n",
       "      <td>93.0</td>\n",
       "      <td>121.0</td>\n",
       "      <td>2.0</td>\n",
       "      <td>NaN</td>\n",
       "      <td>7</td>\n",
       "      <td>NaN</td>\n",
       "      <td>NaN</td>\n",
       "      <td>NaN</td>\n",
       "      <td>NaN</td>\n",
       "      <td>NaN</td>\n",
       "    </tr>\n",
       "    <tr>\n",
       "      <th>444</th>\n",
       "      <td>Adam Forshaw</td>\n",
       "      <td>Leeds United</td>\n",
       "      <td>England</td>\n",
       "      <td>NaN</td>\n",
       "      <td>91.0</td>\n",
       "      <td>127.0</td>\n",
       "      <td>NaN</td>\n",
       "      <td>NaN</td>\n",
       "      <td>8</td>\n",
       "      <td>NaN</td>\n",
       "      <td>2.0</td>\n",
       "      <td>4.0</td>\n",
       "      <td>NaN</td>\n",
       "      <td>NaN</td>\n",
       "    </tr>\n",
       "    <tr>\n",
       "      <th>445</th>\n",
       "      <td>Japhet Tanganga</td>\n",
       "      <td>Tottenham Hotspur</td>\n",
       "      <td>England</td>\n",
       "      <td>NaN</td>\n",
       "      <td>91.0</td>\n",
       "      <td>117.0</td>\n",
       "      <td>NaN</td>\n",
       "      <td>NaN</td>\n",
       "      <td>4</td>\n",
       "      <td>NaN</td>\n",
       "      <td>1.0</td>\n",
       "      <td>1.0</td>\n",
       "      <td>NaN</td>\n",
       "      <td>NaN</td>\n",
       "    </tr>\n",
       "    <tr>\n",
       "      <th>446</th>\n",
       "      <td>James Bree</td>\n",
       "      <td>Southampton</td>\n",
       "      <td>England</td>\n",
       "      <td>NaN</td>\n",
       "      <td>89.0</td>\n",
       "      <td>143.0</td>\n",
       "      <td>NaN</td>\n",
       "      <td>NaN</td>\n",
       "      <td>3</td>\n",
       "      <td>NaN</td>\n",
       "      <td>1.0</td>\n",
       "      <td>12.0</td>\n",
       "      <td>NaN</td>\n",
       "      <td>NaN</td>\n",
       "    </tr>\n",
       "    <tr>\n",
       "      <th>447</th>\n",
       "      <td>Cole Palmer</td>\n",
       "      <td>Manchester City</td>\n",
       "      <td>England</td>\n",
       "      <td>NaN</td>\n",
       "      <td>83.0</td>\n",
       "      <td>127.0</td>\n",
       "      <td>2.0</td>\n",
       "      <td>NaN</td>\n",
       "      <td>11</td>\n",
       "      <td>1.0</td>\n",
       "      <td>4.0</td>\n",
       "      <td>4.0</td>\n",
       "      <td>NaN</td>\n",
       "      <td>NaN</td>\n",
       "    </tr>\n",
       "    <tr>\n",
       "      <th>448</th>\n",
       "      <td>Joseph Hodge</td>\n",
       "      <td>Wolverhampton Wanderers</td>\n",
       "      <td>Ireland</td>\n",
       "      <td>NaN</td>\n",
       "      <td>82.0</td>\n",
       "      <td>108.0</td>\n",
       "      <td>1.0</td>\n",
       "      <td>NaN</td>\n",
       "      <td>5</td>\n",
       "      <td>NaN</td>\n",
       "      <td>2.0</td>\n",
       "      <td>1.0</td>\n",
       "      <td>NaN</td>\n",
       "      <td>NaN</td>\n",
       "    </tr>\n",
       "    <tr>\n",
       "      <th>449</th>\n",
       "      <td>Nathaniel Phillips</td>\n",
       "      <td>Liverpool</td>\n",
       "      <td>England</td>\n",
       "      <td>NaN</td>\n",
       "      <td>82.0</td>\n",
       "      <td>90.0</td>\n",
       "      <td>1.0</td>\n",
       "      <td>NaN</td>\n",
       "      <td>2</td>\n",
       "      <td>NaN</td>\n",
       "      <td>NaN</td>\n",
       "      <td>NaN</td>\n",
       "      <td>NaN</td>\n",
       "      <td>NaN</td>\n",
       "    </tr>\n",
       "    <tr>\n",
       "      <th>450</th>\n",
       "      <td>Alex McCarthy</td>\n",
       "      <td>Southampton</td>\n",
       "      <td>England</td>\n",
       "      <td>NaN</td>\n",
       "      <td>81.0</td>\n",
       "      <td>102.0</td>\n",
       "      <td>NaN</td>\n",
       "      <td>NaN</td>\n",
       "      <td>2</td>\n",
       "      <td>NaN</td>\n",
       "      <td>NaN</td>\n",
       "      <td>NaN</td>\n",
       "      <td>NaN</td>\n",
       "      <td>NaN</td>\n",
       "    </tr>\n",
       "    <tr>\n",
       "      <th>451</th>\n",
       "      <td>Alphonse Aréola</td>\n",
       "      <td>West Ham United</td>\n",
       "      <td>France</td>\n",
       "      <td>NaN</td>\n",
       "      <td>77.0</td>\n",
       "      <td>106.0</td>\n",
       "      <td>NaN</td>\n",
       "      <td>NaN</td>\n",
       "      <td>5</td>\n",
       "      <td>NaN</td>\n",
       "      <td>NaN</td>\n",
       "      <td>NaN</td>\n",
       "      <td>NaN</td>\n",
       "      <td>NaN</td>\n",
       "    </tr>\n",
       "    <tr>\n",
       "      <th>452</th>\n",
       "      <td>Keane Lewis-Potter</td>\n",
       "      <td>Brentford</td>\n",
       "      <td>England</td>\n",
       "      <td>NaN</td>\n",
       "      <td>76.0</td>\n",
       "      <td>154.0</td>\n",
       "      <td>7.0</td>\n",
       "      <td>2.0</td>\n",
       "      <td>10</td>\n",
       "      <td>1.0</td>\n",
       "      <td>8.0</td>\n",
       "      <td>8.0</td>\n",
       "      <td>1.0</td>\n",
       "      <td>1.0</td>\n",
       "    </tr>\n",
       "    <tr>\n",
       "      <th>453</th>\n",
       "      <td>Enock Mwepu</td>\n",
       "      <td>-</td>\n",
       "      <td>Zambia</td>\n",
       "      <td>NaN</td>\n",
       "      <td>75.0</td>\n",
       "      <td>125.0</td>\n",
       "      <td>2.0</td>\n",
       "      <td>NaN</td>\n",
       "      <td>6</td>\n",
       "      <td>2.0</td>\n",
       "      <td>5.0</td>\n",
       "      <td>3.0</td>\n",
       "      <td>NaN</td>\n",
       "      <td>1.0</td>\n",
       "    </tr>\n",
       "    <tr>\n",
       "      <th>454</th>\n",
       "      <td>Joe Whitworth</td>\n",
       "      <td>Crystal Palace</td>\n",
       "      <td>England</td>\n",
       "      <td>NaN</td>\n",
       "      <td>75.0</td>\n",
       "      <td>91.0</td>\n",
       "      <td>NaN</td>\n",
       "      <td>NaN</td>\n",
       "      <td>2</td>\n",
       "      <td>NaN</td>\n",
       "      <td>NaN</td>\n",
       "      <td>NaN</td>\n",
       "      <td>NaN</td>\n",
       "      <td>NaN</td>\n",
       "    </tr>\n",
       "    <tr>\n",
       "      <th>455</th>\n",
       "      <td>Paul Onuachu</td>\n",
       "      <td>Southampton</td>\n",
       "      <td>Nigeria</td>\n",
       "      <td>NaN</td>\n",
       "      <td>74.0</td>\n",
       "      <td>140.0</td>\n",
       "      <td>7.0</td>\n",
       "      <td>NaN</td>\n",
       "      <td>9</td>\n",
       "      <td>5.0</td>\n",
       "      <td>8.0</td>\n",
       "      <td>NaN</td>\n",
       "      <td>NaN</td>\n",
       "      <td>NaN</td>\n",
       "    </tr>\n",
       "    <tr>\n",
       "      <th>456</th>\n",
       "      <td>Gustavo Scarpa</td>\n",
       "      <td>Nottingham Forest</td>\n",
       "      <td>Brazil</td>\n",
       "      <td>NaN</td>\n",
       "      <td>71.0</td>\n",
       "      <td>115.0</td>\n",
       "      <td>6.0</td>\n",
       "      <td>NaN</td>\n",
       "      <td>6</td>\n",
       "      <td>NaN</td>\n",
       "      <td>0.0</td>\n",
       "      <td>4.0</td>\n",
       "      <td>NaN</td>\n",
       "      <td>NaN</td>\n",
       "    </tr>\n",
       "    <tr>\n",
       "      <th>457</th>\n",
       "      <td>André Ayew</td>\n",
       "      <td>Nottingham Forest</td>\n",
       "      <td>Ghana</td>\n",
       "      <td>NaN</td>\n",
       "      <td>70.0</td>\n",
       "      <td>117.0</td>\n",
       "      <td>4.0</td>\n",
       "      <td>1.0</td>\n",
       "      <td>12</td>\n",
       "      <td>1.0</td>\n",
       "      <td>4.0</td>\n",
       "      <td>1.0</td>\n",
       "      <td>NaN</td>\n",
       "      <td>NaN</td>\n",
       "    </tr>\n",
       "    <tr>\n",
       "      <th>458</th>\n",
       "      <td>Emile Smith Rowe</td>\n",
       "      <td>Arsenal</td>\n",
       "      <td>England</td>\n",
       "      <td>NaN</td>\n",
       "      <td>68.0</td>\n",
       "      <td>92.0</td>\n",
       "      <td>4.0</td>\n",
       "      <td>NaN</td>\n",
       "      <td>10</td>\n",
       "      <td>1.0</td>\n",
       "      <td>3.0</td>\n",
       "      <td>5.0</td>\n",
       "      <td>NaN</td>\n",
       "      <td>1.0</td>\n",
       "    </tr>\n",
       "    <tr>\n",
       "      <th>459</th>\n",
       "      <td>Joe Gelhardt</td>\n",
       "      <td>-</td>\n",
       "      <td>England</td>\n",
       "      <td>NaN</td>\n",
       "      <td>64.0</td>\n",
       "      <td>133.0</td>\n",
       "      <td>10.0</td>\n",
       "      <td>1.0</td>\n",
       "      <td>15</td>\n",
       "      <td>NaN</td>\n",
       "      <td>7.0</td>\n",
       "      <td>1.0</td>\n",
       "      <td>1.0</td>\n",
       "      <td>2.0</td>\n",
       "    </tr>\n",
       "    <tr>\n",
       "      <th>460</th>\n",
       "      <td>Jakub Kiwior</td>\n",
       "      <td>Arsenal</td>\n",
       "      <td>Poland</td>\n",
       "      <td>NaN</td>\n",
       "      <td>64.0</td>\n",
       "      <td>79.0</td>\n",
       "      <td>NaN</td>\n",
       "      <td>NaN</td>\n",
       "      <td>3</td>\n",
       "      <td>NaN</td>\n",
       "      <td>NaN</td>\n",
       "      <td>NaN</td>\n",
       "      <td>NaN</td>\n",
       "      <td>NaN</td>\n",
       "    </tr>\n",
       "    <tr>\n",
       "      <th>461</th>\n",
       "      <td>Kevin Mbabu</td>\n",
       "      <td>-</td>\n",
       "      <td>Switzerland</td>\n",
       "      <td>NaN</td>\n",
       "      <td>64.0</td>\n",
       "      <td>120.0</td>\n",
       "      <td>NaN</td>\n",
       "      <td>NaN</td>\n",
       "      <td>6</td>\n",
       "      <td>NaN</td>\n",
       "      <td>2.0</td>\n",
       "      <td>7.0</td>\n",
       "      <td>NaN</td>\n",
       "      <td>1.0</td>\n",
       "    </tr>\n",
       "    <tr>\n",
       "      <th>462</th>\n",
       "      <td>Jeremy Sarmiento</td>\n",
       "      <td>Brighton &amp; Hove Albion</td>\n",
       "      <td>Ecuador</td>\n",
       "      <td>NaN</td>\n",
       "      <td>64.0</td>\n",
       "      <td>116.0</td>\n",
       "      <td>5.0</td>\n",
       "      <td>NaN</td>\n",
       "      <td>9</td>\n",
       "      <td>NaN</td>\n",
       "      <td>7.0</td>\n",
       "      <td>3.0</td>\n",
       "      <td>NaN</td>\n",
       "      <td>1.0</td>\n",
       "    </tr>\n",
       "    <tr>\n",
       "      <th>463</th>\n",
       "      <td>Saman Ghoddos</td>\n",
       "      <td>Brentford</td>\n",
       "      <td>Iran</td>\n",
       "      <td>NaN</td>\n",
       "      <td>63.0</td>\n",
       "      <td>98.0</td>\n",
       "      <td>1.0</td>\n",
       "      <td>NaN</td>\n",
       "      <td>13</td>\n",
       "      <td>0.0</td>\n",
       "      <td>1.0</td>\n",
       "      <td>7.0</td>\n",
       "      <td>1.0</td>\n",
       "      <td>NaN</td>\n",
       "    </tr>\n",
       "    <tr>\n",
       "      <th>464</th>\n",
       "      <td>Lucas Moura</td>\n",
       "      <td>Tottenham Hotspur</td>\n",
       "      <td>Brazil</td>\n",
       "      <td>NaN</td>\n",
       "      <td>61.0</td>\n",
       "      <td>104.0</td>\n",
       "      <td>1.0</td>\n",
       "      <td>NaN</td>\n",
       "      <td>13</td>\n",
       "      <td>NaN</td>\n",
       "      <td>3.0</td>\n",
       "      <td>6.0</td>\n",
       "      <td>1.0</td>\n",
       "      <td>NaN</td>\n",
       "    </tr>\n",
       "    <tr>\n",
       "      <th>465</th>\n",
       "      <td>Mohamed Elneny</td>\n",
       "      <td>Arsenal</td>\n",
       "      <td>Egypt</td>\n",
       "      <td>NaN</td>\n",
       "      <td>60.0</td>\n",
       "      <td>64.0</td>\n",
       "      <td>NaN</td>\n",
       "      <td>NaN</td>\n",
       "      <td>5</td>\n",
       "      <td>NaN</td>\n",
       "      <td>NaN</td>\n",
       "      <td>NaN</td>\n",
       "      <td>NaN</td>\n",
       "      <td>NaN</td>\n",
       "    </tr>\n",
       "    <tr>\n",
       "      <th>466</th>\n",
       "      <td>Donny van de Beek</td>\n",
       "      <td>Manchester United</td>\n",
       "      <td>Netherlands</td>\n",
       "      <td>NaN</td>\n",
       "      <td>59.0</td>\n",
       "      <td>78.0</td>\n",
       "      <td>2.0</td>\n",
       "      <td>NaN</td>\n",
       "      <td>7</td>\n",
       "      <td>1.0</td>\n",
       "      <td>2.0</td>\n",
       "      <td>NaN</td>\n",
       "      <td>NaN</td>\n",
       "      <td>NaN</td>\n",
       "    </tr>\n",
       "    <tr>\n",
       "      <th>467</th>\n",
       "      <td>Marek Rodák</td>\n",
       "      <td>-</td>\n",
       "      <td>Slovakia</td>\n",
       "      <td>NaN</td>\n",
       "      <td>58.0</td>\n",
       "      <td>69.0</td>\n",
       "      <td>NaN</td>\n",
       "      <td>NaN</td>\n",
       "      <td>2</td>\n",
       "      <td>NaN</td>\n",
       "      <td>NaN</td>\n",
       "      <td>NaN</td>\n",
       "      <td>NaN</td>\n",
       "      <td>NaN</td>\n",
       "    </tr>\n",
       "    <tr>\n",
       "      <th>468</th>\n",
       "      <td>Bryan Gil</td>\n",
       "      <td>-</td>\n",
       "      <td>Spain</td>\n",
       "      <td>NaN</td>\n",
       "      <td>57.0</td>\n",
       "      <td>88.0</td>\n",
       "      <td>2.0</td>\n",
       "      <td>NaN</td>\n",
       "      <td>4</td>\n",
       "      <td>1.0</td>\n",
       "      <td>3.0</td>\n",
       "      <td>2.0</td>\n",
       "      <td>NaN</td>\n",
       "      <td>1.0</td>\n",
       "    </tr>\n",
       "    <tr>\n",
       "      <th>469</th>\n",
       "      <td>Juan Larios</td>\n",
       "      <td>Southampton</td>\n",
       "      <td>Spain</td>\n",
       "      <td>NaN</td>\n",
       "      <td>55.0</td>\n",
       "      <td>112.0</td>\n",
       "      <td>NaN</td>\n",
       "      <td>NaN</td>\n",
       "      <td>5</td>\n",
       "      <td>NaN</td>\n",
       "      <td>2.0</td>\n",
       "      <td>4.0</td>\n",
       "      <td>NaN</td>\n",
       "      <td>NaN</td>\n",
       "    </tr>\n",
       "    <tr>\n",
       "      <th>470</th>\n",
       "      <td>Georginio Rutter</td>\n",
       "      <td>Leeds United</td>\n",
       "      <td>France</td>\n",
       "      <td>NaN</td>\n",
       "      <td>51.0</td>\n",
       "      <td>135.0</td>\n",
       "      <td>3.0</td>\n",
       "      <td>NaN</td>\n",
       "      <td>10</td>\n",
       "      <td>1.0</td>\n",
       "      <td>12.0</td>\n",
       "      <td>NaN</td>\n",
       "      <td>1.0</td>\n",
       "      <td>NaN</td>\n",
       "    </tr>\n",
       "    <tr>\n",
       "      <th>471</th>\n",
       "      <td>Wayne Hennessey</td>\n",
       "      <td>Nottingham Forest</td>\n",
       "      <td>Wales</td>\n",
       "      <td>NaN</td>\n",
       "      <td>48.0</td>\n",
       "      <td>67.0</td>\n",
       "      <td>NaN</td>\n",
       "      <td>NaN</td>\n",
       "      <td>2</td>\n",
       "      <td>NaN</td>\n",
       "      <td>NaN</td>\n",
       "      <td>NaN</td>\n",
       "      <td>NaN</td>\n",
       "      <td>NaN</td>\n",
       "    </tr>\n",
       "    <tr>\n",
       "      <th>472</th>\n",
       "      <td>Naouirou Ahamada</td>\n",
       "      <td>Crystal Palace</td>\n",
       "      <td>France</td>\n",
       "      <td>NaN</td>\n",
       "      <td>44.0</td>\n",
       "      <td>65.0</td>\n",
       "      <td>3.0</td>\n",
       "      <td>NaN</td>\n",
       "      <td>7</td>\n",
       "      <td>2.0</td>\n",
       "      <td>0.0</td>\n",
       "      <td>2.0</td>\n",
       "      <td>NaN</td>\n",
       "      <td>NaN</td>\n",
       "    </tr>\n",
       "    <tr>\n",
       "      <th>473</th>\n",
       "      <td>Stefan Ortega</td>\n",
       "      <td>Manchester City</td>\n",
       "      <td>Germany</td>\n",
       "      <td>NaN</td>\n",
       "      <td>43.0</td>\n",
       "      <td>51.0</td>\n",
       "      <td>NaN</td>\n",
       "      <td>NaN</td>\n",
       "      <td>1</td>\n",
       "      <td>NaN</td>\n",
       "      <td>NaN</td>\n",
       "      <td>NaN</td>\n",
       "      <td>NaN</td>\n",
       "      <td>NaN</td>\n",
       "    </tr>\n",
       "    <tr>\n",
       "      <th>474</th>\n",
       "      <td>Siriki Dembélé</td>\n",
       "      <td>-</td>\n",
       "      <td>Scotland</td>\n",
       "      <td>NaN</td>\n",
       "      <td>42.0</td>\n",
       "      <td>83.0</td>\n",
       "      <td>2.0</td>\n",
       "      <td>NaN</td>\n",
       "      <td>6</td>\n",
       "      <td>NaN</td>\n",
       "      <td>5.0</td>\n",
       "      <td>3.0</td>\n",
       "      <td>NaN</td>\n",
       "      <td>NaN</td>\n",
       "    </tr>\n",
       "    <tr>\n",
       "      <th>475</th>\n",
       "      <td>Sergi Canós</td>\n",
       "      <td>-</td>\n",
       "      <td>Spain</td>\n",
       "      <td>NaN</td>\n",
       "      <td>37.0</td>\n",
       "      <td>62.0</td>\n",
       "      <td>1.0</td>\n",
       "      <td>NaN</td>\n",
       "      <td>5</td>\n",
       "      <td>NaN</td>\n",
       "      <td>NaN</td>\n",
       "      <td>3.0</td>\n",
       "      <td>NaN</td>\n",
       "      <td>NaN</td>\n",
       "    </tr>\n",
       "    <tr>\n",
       "      <th>476</th>\n",
       "      <td>Cody Drameh</td>\n",
       "      <td>-</td>\n",
       "      <td>England</td>\n",
       "      <td>NaN</td>\n",
       "      <td>31.0</td>\n",
       "      <td>48.0</td>\n",
       "      <td>NaN</td>\n",
       "      <td>NaN</td>\n",
       "      <td>1</td>\n",
       "      <td>NaN</td>\n",
       "      <td>1.0</td>\n",
       "      <td>1.0</td>\n",
       "      <td>NaN</td>\n",
       "      <td>NaN</td>\n",
       "    </tr>\n",
       "    <tr>\n",
       "      <th>477</th>\n",
       "      <td>Jairo Riedewald</td>\n",
       "      <td>Crystal Palace</td>\n",
       "      <td>Netherlands</td>\n",
       "      <td>NaN</td>\n",
       "      <td>31.0</td>\n",
       "      <td>43.0</td>\n",
       "      <td>NaN</td>\n",
       "      <td>NaN</td>\n",
       "      <td>4</td>\n",
       "      <td>NaN</td>\n",
       "      <td>NaN</td>\n",
       "      <td>NaN</td>\n",
       "      <td>NaN</td>\n",
       "      <td>NaN</td>\n",
       "    </tr>\n",
       "    <tr>\n",
       "      <th>478</th>\n",
       "      <td>Ludwig Augustinsson</td>\n",
       "      <td>-</td>\n",
       "      <td>Sweden</td>\n",
       "      <td>NaN</td>\n",
       "      <td>30.0</td>\n",
       "      <td>52.0</td>\n",
       "      <td>2.0</td>\n",
       "      <td>NaN</td>\n",
       "      <td>3</td>\n",
       "      <td>NaN</td>\n",
       "      <td>NaN</td>\n",
       "      <td>5.0</td>\n",
       "      <td>NaN</td>\n",
       "      <td>NaN</td>\n",
       "    </tr>\n",
       "    <tr>\n",
       "      <th>479</th>\n",
       "      <td>Matt Ritchie</td>\n",
       "      <td>Newcastle United</td>\n",
       "      <td>Scotland</td>\n",
       "      <td>NaN</td>\n",
       "      <td>29.0</td>\n",
       "      <td>36.0</td>\n",
       "      <td>NaN</td>\n",
       "      <td>NaN</td>\n",
       "      <td>7</td>\n",
       "      <td>NaN</td>\n",
       "      <td>NaN</td>\n",
       "      <td>2.0</td>\n",
       "      <td>NaN</td>\n",
       "      <td>NaN</td>\n",
       "    </tr>\n",
       "    <tr>\n",
       "      <th>480</th>\n",
       "      <td>Oriol Romeu</td>\n",
       "      <td>-</td>\n",
       "      <td>Spain</td>\n",
       "      <td>NaN</td>\n",
       "      <td>29.0</td>\n",
       "      <td>40.0</td>\n",
       "      <td>NaN</td>\n",
       "      <td>NaN</td>\n",
       "      <td>1</td>\n",
       "      <td>NaN</td>\n",
       "      <td>NaN</td>\n",
       "      <td>1.0</td>\n",
       "      <td>NaN</td>\n",
       "      <td>NaN</td>\n",
       "    </tr>\n",
       "    <tr>\n",
       "      <th>481</th>\n",
       "      <td>Chem Campbell</td>\n",
       "      <td>-</td>\n",
       "      <td>Wales</td>\n",
       "      <td>NaN</td>\n",
       "      <td>28.0</td>\n",
       "      <td>55.0</td>\n",
       "      <td>2.0</td>\n",
       "      <td>NaN</td>\n",
       "      <td>5</td>\n",
       "      <td>NaN</td>\n",
       "      <td>6.0</td>\n",
       "      <td>4.0</td>\n",
       "      <td>NaN</td>\n",
       "      <td>NaN</td>\n",
       "    </tr>\n",
       "    <tr>\n",
       "      <th>482</th>\n",
       "      <td>Salomón Rondón</td>\n",
       "      <td>-</td>\n",
       "      <td>Venezuela</td>\n",
       "      <td>NaN</td>\n",
       "      <td>28.0</td>\n",
       "      <td>38.0</td>\n",
       "      <td>4.0</td>\n",
       "      <td>1.0</td>\n",
       "      <td>7</td>\n",
       "      <td>2.0</td>\n",
       "      <td>1.0</td>\n",
       "      <td>NaN</td>\n",
       "      <td>NaN</td>\n",
       "      <td>NaN</td>\n",
       "    </tr>\n",
       "    <tr>\n",
       "      <th>483</th>\n",
       "      <td>Layvin Kurzawa</td>\n",
       "      <td>Fulham</td>\n",
       "      <td>France</td>\n",
       "      <td>NaN</td>\n",
       "      <td>27.0</td>\n",
       "      <td>68.0</td>\n",
       "      <td>NaN</td>\n",
       "      <td>NaN</td>\n",
       "      <td>3</td>\n",
       "      <td>NaN</td>\n",
       "      <td>1.0</td>\n",
       "      <td>2.0</td>\n",
       "      <td>NaN</td>\n",
       "      <td>NaN</td>\n",
       "    </tr>\n",
       "    <tr>\n",
       "      <th>484</th>\n",
       "      <td>Junior Stanislas</td>\n",
       "      <td>Bournemouth</td>\n",
       "      <td>England</td>\n",
       "      <td>NaN</td>\n",
       "      <td>27.0</td>\n",
       "      <td>34.0</td>\n",
       "      <td>1.0</td>\n",
       "      <td>NaN</td>\n",
       "      <td>4</td>\n",
       "      <td>NaN</td>\n",
       "      <td>1.0</td>\n",
       "      <td>1.0</td>\n",
       "      <td>NaN</td>\n",
       "      <td>NaN</td>\n",
       "    </tr>\n",
       "    <tr>\n",
       "      <th>485</th>\n",
       "      <td>Asmir Begovic</td>\n",
       "      <td>Everton</td>\n",
       "      <td>Bosnia &amp; Herzegovina</td>\n",
       "      <td>NaN</td>\n",
       "      <td>25.0</td>\n",
       "      <td>39.0</td>\n",
       "      <td>NaN</td>\n",
       "      <td>NaN</td>\n",
       "      <td>1</td>\n",
       "      <td>NaN</td>\n",
       "      <td>NaN</td>\n",
       "      <td>NaN</td>\n",
       "      <td>NaN</td>\n",
       "      <td>NaN</td>\n",
       "    </tr>\n",
       "    <tr>\n",
       "      <th>486</th>\n",
       "      <td>Javier Manquillo</td>\n",
       "      <td>Newcastle United</td>\n",
       "      <td>Spain</td>\n",
       "      <td>NaN</td>\n",
       "      <td>24.0</td>\n",
       "      <td>35.0</td>\n",
       "      <td>NaN</td>\n",
       "      <td>NaN</td>\n",
       "      <td>3</td>\n",
       "      <td>NaN</td>\n",
       "      <td>NaN</td>\n",
       "      <td>1.0</td>\n",
       "      <td>NaN</td>\n",
       "      <td>NaN</td>\n",
       "    </tr>\n",
       "    <tr>\n",
       "      <th>487</th>\n",
       "      <td>James McArthur</td>\n",
       "      <td>Crystal Palace</td>\n",
       "      <td>Scotland</td>\n",
       "      <td>NaN</td>\n",
       "      <td>22.0</td>\n",
       "      <td>31.0</td>\n",
       "      <td>NaN</td>\n",
       "      <td>NaN</td>\n",
       "      <td>2</td>\n",
       "      <td>NaN</td>\n",
       "      <td>3.0</td>\n",
       "      <td>NaN</td>\n",
       "      <td>1.0</td>\n",
       "      <td>NaN</td>\n",
       "    </tr>\n",
       "    <tr>\n",
       "      <th>488</th>\n",
       "      <td>Yan Valery</td>\n",
       "      <td>-</td>\n",
       "      <td>Tunisia</td>\n",
       "      <td>NaN</td>\n",
       "      <td>22.0</td>\n",
       "      <td>31.0</td>\n",
       "      <td>NaN</td>\n",
       "      <td>NaN</td>\n",
       "      <td>1</td>\n",
       "      <td>NaN</td>\n",
       "      <td>3.0</td>\n",
       "      <td>1.0</td>\n",
       "      <td>NaN</td>\n",
       "      <td>NaN</td>\n",
       "    </tr>\n",
       "    <tr>\n",
       "      <th>489</th>\n",
       "      <td>Jhon Durán</td>\n",
       "      <td>Aston Villa</td>\n",
       "      <td>Colombia</td>\n",
       "      <td>NaN</td>\n",
       "      <td>20.0</td>\n",
       "      <td>50.0</td>\n",
       "      <td>7.0</td>\n",
       "      <td>1.0</td>\n",
       "      <td>9</td>\n",
       "      <td>2.0</td>\n",
       "      <td>2.0</td>\n",
       "      <td>2.0</td>\n",
       "      <td>NaN</td>\n",
       "      <td>NaN</td>\n",
       "    </tr>\n",
       "    <tr>\n",
       "      <th>490</th>\n",
       "      <td>Máximo Perrone</td>\n",
       "      <td>Manchester City</td>\n",
       "      <td>Argentina</td>\n",
       "      <td>NaN</td>\n",
       "      <td>20.0</td>\n",
       "      <td>22.0</td>\n",
       "      <td>NaN</td>\n",
       "      <td>NaN</td>\n",
       "      <td>1</td>\n",
       "      <td>NaN</td>\n",
       "      <td>NaN</td>\n",
       "      <td>NaN</td>\n",
       "      <td>NaN</td>\n",
       "      <td>NaN</td>\n",
       "    </tr>\n",
       "    <tr>\n",
       "      <th>491</th>\n",
       "      <td>Jay Stansfield</td>\n",
       "      <td>-</td>\n",
       "      <td>England</td>\n",
       "      <td>NaN</td>\n",
       "      <td>20.0</td>\n",
       "      <td>40.0</td>\n",
       "      <td>2.0</td>\n",
       "      <td>NaN</td>\n",
       "      <td>3</td>\n",
       "      <td>NaN</td>\n",
       "      <td>2.0</td>\n",
       "      <td>3.0</td>\n",
       "      <td>NaN</td>\n",
       "      <td>NaN</td>\n",
       "    </tr>\n",
       "    <tr>\n",
       "      <th>492</th>\n",
       "      <td>Giulian Biancone</td>\n",
       "      <td>Nottingham Forest</td>\n",
       "      <td>France</td>\n",
       "      <td>NaN</td>\n",
       "      <td>18.0</td>\n",
       "      <td>26.0</td>\n",
       "      <td>NaN</td>\n",
       "      <td>NaN</td>\n",
       "      <td>2</td>\n",
       "      <td>NaN</td>\n",
       "      <td>NaN</td>\n",
       "      <td>1.0</td>\n",
       "      <td>NaN</td>\n",
       "      <td>NaN</td>\n",
       "    </tr>\n",
       "    <tr>\n",
       "      <th>493</th>\n",
       "      <td>Rúben Vinagre</td>\n",
       "      <td>Everton</td>\n",
       "      <td>Portugal</td>\n",
       "      <td>NaN</td>\n",
       "      <td>18.0</td>\n",
       "      <td>33.0</td>\n",
       "      <td>NaN</td>\n",
       "      <td>NaN</td>\n",
       "      <td>2</td>\n",
       "      <td>NaN</td>\n",
       "      <td>1.0</td>\n",
       "      <td>2.0</td>\n",
       "      <td>NaN</td>\n",
       "      <td>NaN</td>\n",
       "    </tr>\n",
       "    <tr>\n",
       "      <th>494</th>\n",
       "      <td>Lewis Brunt</td>\n",
       "      <td>Leicester City</td>\n",
       "      <td>England</td>\n",
       "      <td>NaN</td>\n",
       "      <td>16.0</td>\n",
       "      <td>24.0</td>\n",
       "      <td>NaN</td>\n",
       "      <td>NaN</td>\n",
       "      <td>1</td>\n",
       "      <td>NaN</td>\n",
       "      <td>NaN</td>\n",
       "      <td>NaN</td>\n",
       "      <td>NaN</td>\n",
       "      <td>NaN</td>\n",
       "    </tr>\n",
       "    <tr>\n",
       "      <th>495</th>\n",
       "      <td>Dele Alli</td>\n",
       "      <td>-</td>\n",
       "      <td>England</td>\n",
       "      <td>NaN</td>\n",
       "      <td>15.0</td>\n",
       "      <td>22.0</td>\n",
       "      <td>NaN</td>\n",
       "      <td>NaN</td>\n",
       "      <td>2</td>\n",
       "      <td>NaN</td>\n",
       "      <td>1.0</td>\n",
       "      <td>NaN</td>\n",
       "      <td>NaN</td>\n",
       "      <td>NaN</td>\n",
       "    </tr>\n",
       "    <tr>\n",
       "      <th>496</th>\n",
       "      <td>Martin Dúbravka</td>\n",
       "      <td>Newcastle United</td>\n",
       "      <td>Slovakia</td>\n",
       "      <td>NaN</td>\n",
       "      <td>15.0</td>\n",
       "      <td>28.0</td>\n",
       "      <td>NaN</td>\n",
       "      <td>NaN</td>\n",
       "      <td>1</td>\n",
       "      <td>NaN</td>\n",
       "      <td>NaN</td>\n",
       "      <td>NaN</td>\n",
       "      <td>NaN</td>\n",
       "      <td>NaN</td>\n",
       "    </tr>\n",
       "    <tr>\n",
       "      <th>497</th>\n",
       "      <td>Ben Doak</td>\n",
       "      <td>Liverpool</td>\n",
       "      <td>Scotland</td>\n",
       "      <td>NaN</td>\n",
       "      <td>14.0</td>\n",
       "      <td>24.0</td>\n",
       "      <td>NaN</td>\n",
       "      <td>NaN</td>\n",
       "      <td>2</td>\n",
       "      <td>NaN</td>\n",
       "      <td>0.0</td>\n",
       "      <td>NaN</td>\n",
       "      <td>NaN</td>\n",
       "      <td>NaN</td>\n",
       "    </tr>\n",
       "    <tr>\n",
       "      <th>498</th>\n",
       "      <td>Luke Harris</td>\n",
       "      <td>Fulham</td>\n",
       "      <td>Wales</td>\n",
       "      <td>NaN</td>\n",
       "      <td>13.0</td>\n",
       "      <td>15.0</td>\n",
       "      <td>NaN</td>\n",
       "      <td>NaN</td>\n",
       "      <td>3</td>\n",
       "      <td>NaN</td>\n",
       "      <td>1.0</td>\n",
       "      <td>1.0</td>\n",
       "      <td>NaN</td>\n",
       "      <td>NaN</td>\n",
       "    </tr>\n",
       "    <tr>\n",
       "      <th>499</th>\n",
       "      <td>Isaac Price</td>\n",
       "      <td>Everton</td>\n",
       "      <td>Northern Ireland</td>\n",
       "      <td>NaN</td>\n",
       "      <td>13.0</td>\n",
       "      <td>18.0</td>\n",
       "      <td>NaN</td>\n",
       "      <td>NaN</td>\n",
       "      <td>1</td>\n",
       "      <td>NaN</td>\n",
       "      <td>NaN</td>\n",
       "      <td>1.0</td>\n",
       "      <td>NaN</td>\n",
       "      <td>NaN</td>\n",
       "    </tr>\n",
       "    <tr>\n",
       "      <th>500</th>\n",
       "      <td>Jamal Lewis</td>\n",
       "      <td>Newcastle United</td>\n",
       "      <td>Northern Ireland</td>\n",
       "      <td>NaN</td>\n",
       "      <td>12.0</td>\n",
       "      <td>13.0</td>\n",
       "      <td>NaN</td>\n",
       "      <td>NaN</td>\n",
       "      <td>1</td>\n",
       "      <td>NaN</td>\n",
       "      <td>NaN</td>\n",
       "      <td>NaN</td>\n",
       "      <td>NaN</td>\n",
       "      <td>NaN</td>\n",
       "    </tr>\n",
       "    <tr>\n",
       "      <th>501</th>\n",
       "      <td>Facundo Pellistri</td>\n",
       "      <td>Manchester United</td>\n",
       "      <td>Uruguay</td>\n",
       "      <td>NaN</td>\n",
       "      <td>12.0</td>\n",
       "      <td>20.0</td>\n",
       "      <td>NaN</td>\n",
       "      <td>NaN</td>\n",
       "      <td>3</td>\n",
       "      <td>NaN</td>\n",
       "      <td>NaN</td>\n",
       "      <td>NaN</td>\n",
       "      <td>NaN</td>\n",
       "      <td>NaN</td>\n",
       "    </tr>\n",
       "    <tr>\n",
       "      <th>502</th>\n",
       "      <td>Cameron Archer</td>\n",
       "      <td>-</td>\n",
       "      <td>England</td>\n",
       "      <td>NaN</td>\n",
       "      <td>11.0</td>\n",
       "      <td>20.0</td>\n",
       "      <td>NaN</td>\n",
       "      <td>NaN</td>\n",
       "      <td>6</td>\n",
       "      <td>1.0</td>\n",
       "      <td>3.0</td>\n",
       "      <td>1.0</td>\n",
       "      <td>NaN</td>\n",
       "      <td>NaN</td>\n",
       "    </tr>\n",
       "    <tr>\n",
       "      <th>503</th>\n",
       "      <td>Yasin Ayari</td>\n",
       "      <td>Brighton &amp; Hove Albion</td>\n",
       "      <td>Sweden</td>\n",
       "      <td>NaN</td>\n",
       "      <td>11.0</td>\n",
       "      <td>15.0</td>\n",
       "      <td>1.0</td>\n",
       "      <td>NaN</td>\n",
       "      <td>2</td>\n",
       "      <td>NaN</td>\n",
       "      <td>NaN</td>\n",
       "      <td>NaN</td>\n",
       "      <td>1.0</td>\n",
       "      <td>NaN</td>\n",
       "    </tr>\n",
       "    <tr>\n",
       "      <th>504</th>\n",
       "      <td>Dexter Lembikisa</td>\n",
       "      <td>Wolverhampton Wanderers</td>\n",
       "      <td>Jamaica</td>\n",
       "      <td>NaN</td>\n",
       "      <td>11.0</td>\n",
       "      <td>13.0</td>\n",
       "      <td>NaN</td>\n",
       "      <td>NaN</td>\n",
       "      <td>1</td>\n",
       "      <td>NaN</td>\n",
       "      <td>NaN</td>\n",
       "      <td>1.0</td>\n",
       "      <td>NaN</td>\n",
       "      <td>NaN</td>\n",
       "    </tr>\n",
       "    <tr>\n",
       "      <th>505</th>\n",
       "      <td>Omari Hutchinson</td>\n",
       "      <td>Chelsea</td>\n",
       "      <td>Jamaica</td>\n",
       "      <td>NaN</td>\n",
       "      <td>10.0</td>\n",
       "      <td>15.0</td>\n",
       "      <td>NaN</td>\n",
       "      <td>NaN</td>\n",
       "      <td>1</td>\n",
       "      <td>NaN</td>\n",
       "      <td>1.0</td>\n",
       "      <td>2.0</td>\n",
       "      <td>NaN</td>\n",
       "      <td>NaN</td>\n",
       "    </tr>\n",
       "    <tr>\n",
       "      <th>506</th>\n",
       "      <td>Djed Spence</td>\n",
       "      <td>-</td>\n",
       "      <td>England</td>\n",
       "      <td>NaN</td>\n",
       "      <td>9.0</td>\n",
       "      <td>14.0</td>\n",
       "      <td>1.0</td>\n",
       "      <td>NaN</td>\n",
       "      <td>4</td>\n",
       "      <td>NaN</td>\n",
       "      <td>2.0</td>\n",
       "      <td>NaN</td>\n",
       "      <td>NaN</td>\n",
       "      <td>NaN</td>\n",
       "    </tr>\n",
       "    <tr>\n",
       "      <th>507</th>\n",
       "      <td>Kobbie Mainoo</td>\n",
       "      <td>Manchester United</td>\n",
       "      <td>England</td>\n",
       "      <td>NaN</td>\n",
       "      <td>8.0</td>\n",
       "      <td>11.0</td>\n",
       "      <td>NaN</td>\n",
       "      <td>NaN</td>\n",
       "      <td>1</td>\n",
       "      <td>NaN</td>\n",
       "      <td>NaN</td>\n",
       "      <td>NaN</td>\n",
       "      <td>NaN</td>\n",
       "      <td>NaN</td>\n",
       "    </tr>\n",
       "    <tr>\n",
       "      <th>508</th>\n",
       "      <td>Mads Bech Sørensen</td>\n",
       "      <td>-</td>\n",
       "      <td>Denmark</td>\n",
       "      <td>NaN</td>\n",
       "      <td>7.0</td>\n",
       "      <td>14.0</td>\n",
       "      <td>NaN</td>\n",
       "      <td>NaN</td>\n",
       "      <td>4</td>\n",
       "      <td>NaN</td>\n",
       "      <td>NaN</td>\n",
       "      <td>NaN</td>\n",
       "      <td>NaN</td>\n",
       "      <td>NaN</td>\n",
       "    </tr>\n",
       "    <tr>\n",
       "      <th>509</th>\n",
       "      <td>Malcolm Ebiowei</td>\n",
       "      <td>-</td>\n",
       "      <td>England</td>\n",
       "      <td>NaN</td>\n",
       "      <td>7.0</td>\n",
       "      <td>24.0</td>\n",
       "      <td>NaN</td>\n",
       "      <td>NaN</td>\n",
       "      <td>3</td>\n",
       "      <td>NaN</td>\n",
       "      <td>NaN</td>\n",
       "      <td>3.0</td>\n",
       "      <td>NaN</td>\n",
       "      <td>NaN</td>\n",
       "    </tr>\n",
       "    <tr>\n",
       "      <th>510</th>\n",
       "      <td>Morgan Sanson</td>\n",
       "      <td>-</td>\n",
       "      <td>France</td>\n",
       "      <td>NaN</td>\n",
       "      <td>7.0</td>\n",
       "      <td>12.0</td>\n",
       "      <td>NaN</td>\n",
       "      <td>NaN</td>\n",
       "      <td>2</td>\n",
       "      <td>NaN</td>\n",
       "      <td>NaN</td>\n",
       "      <td>NaN</td>\n",
       "      <td>NaN</td>\n",
       "      <td>NaN</td>\n",
       "    </tr>\n",
       "    <tr>\n",
       "      <th>511</th>\n",
       "      <td>Odeluga Offiah</td>\n",
       "      <td>Brighton &amp; Hove Albion</td>\n",
       "      <td>England</td>\n",
       "      <td>NaN</td>\n",
       "      <td>6.0</td>\n",
       "      <td>7.0</td>\n",
       "      <td>NaN</td>\n",
       "      <td>NaN</td>\n",
       "      <td>1</td>\n",
       "      <td>NaN</td>\n",
       "      <td>NaN</td>\n",
       "      <td>NaN</td>\n",
       "      <td>NaN</td>\n",
       "      <td>NaN</td>\n",
       "    </tr>\n",
       "    <tr>\n",
       "      <th>512</th>\n",
       "      <td>Josh Onomah</td>\n",
       "      <td>-</td>\n",
       "      <td>England</td>\n",
       "      <td>NaN</td>\n",
       "      <td>6.0</td>\n",
       "      <td>12.0</td>\n",
       "      <td>NaN</td>\n",
       "      <td>NaN</td>\n",
       "      <td>2</td>\n",
       "      <td>NaN</td>\n",
       "      <td>1.0</td>\n",
       "      <td>NaN</td>\n",
       "      <td>NaN</td>\n",
       "      <td>NaN</td>\n",
       "    </tr>\n",
       "    <tr>\n",
       "      <th>513</th>\n",
       "      <td>Thomas Cannon</td>\n",
       "      <td>-</td>\n",
       "      <td>Ireland</td>\n",
       "      <td>NaN</td>\n",
       "      <td>5.0</td>\n",
       "      <td>10.0</td>\n",
       "      <td>1.0</td>\n",
       "      <td>NaN</td>\n",
       "      <td>2</td>\n",
       "      <td>NaN</td>\n",
       "      <td>NaN</td>\n",
       "      <td>NaN</td>\n",
       "      <td>NaN</td>\n",
       "      <td>NaN</td>\n",
       "    </tr>\n",
       "    <tr>\n",
       "      <th>514</th>\n",
       "      <td>Nathaniel Chalobah</td>\n",
       "      <td>-</td>\n",
       "      <td>England</td>\n",
       "      <td>NaN</td>\n",
       "      <td>5.0</td>\n",
       "      <td>12.0</td>\n",
       "      <td>1.0</td>\n",
       "      <td>NaN</td>\n",
       "      <td>4</td>\n",
       "      <td>NaN</td>\n",
       "      <td>1.0</td>\n",
       "      <td>NaN</td>\n",
       "      <td>NaN</td>\n",
       "      <td>NaN</td>\n",
       "    </tr>\n",
       "    <tr>\n",
       "      <th>515</th>\n",
       "      <td>David Datro Fofana</td>\n",
       "      <td>Chelsea</td>\n",
       "      <td>Cote D’Ivoire</td>\n",
       "      <td>NaN</td>\n",
       "      <td>5.0</td>\n",
       "      <td>37.0</td>\n",
       "      <td>3.0</td>\n",
       "      <td>NaN</td>\n",
       "      <td>2</td>\n",
       "      <td>1.0</td>\n",
       "      <td>3.0</td>\n",
       "      <td>1.0</td>\n",
       "      <td>1.0</td>\n",
       "      <td>NaN</td>\n",
       "    </tr>\n",
       "    <tr>\n",
       "      <th>516</th>\n",
       "      <td>Harvey White</td>\n",
       "      <td>-</td>\n",
       "      <td>England</td>\n",
       "      <td>NaN</td>\n",
       "      <td>5.0</td>\n",
       "      <td>8.0</td>\n",
       "      <td>NaN</td>\n",
       "      <td>NaN</td>\n",
       "      <td>1</td>\n",
       "      <td>NaN</td>\n",
       "      <td>NaN</td>\n",
       "      <td>3.0</td>\n",
       "      <td>1.0</td>\n",
       "      <td>NaN</td>\n",
       "    </tr>\n",
       "    <tr>\n",
       "      <th>517</th>\n",
       "      <td>Illia Zabarnyi</td>\n",
       "      <td>Bournemouth</td>\n",
       "      <td>Ukraine</td>\n",
       "      <td>NaN</td>\n",
       "      <td>5.0</td>\n",
       "      <td>8.0</td>\n",
       "      <td>NaN</td>\n",
       "      <td>NaN</td>\n",
       "      <td>2</td>\n",
       "      <td>NaN</td>\n",
       "      <td>NaN</td>\n",
       "      <td>NaN</td>\n",
       "      <td>NaN</td>\n",
       "      <td>NaN</td>\n",
       "    </tr>\n",
       "    <tr>\n",
       "      <th>518</th>\n",
       "      <td>Shane Duffy</td>\n",
       "      <td>Fulham</td>\n",
       "      <td>Ireland</td>\n",
       "      <td>NaN</td>\n",
       "      <td>4.0</td>\n",
       "      <td>6.0</td>\n",
       "      <td>NaN</td>\n",
       "      <td>NaN</td>\n",
       "      <td>4</td>\n",
       "      <td>NaN</td>\n",
       "      <td>NaN</td>\n",
       "      <td>NaN</td>\n",
       "      <td>NaN</td>\n",
       "      <td>NaN</td>\n",
       "    </tr>\n",
       "    <tr>\n",
       "      <th>519</th>\n",
       "      <td>Darko Gyabi</td>\n",
       "      <td>Leeds United</td>\n",
       "      <td>England</td>\n",
       "      <td>NaN</td>\n",
       "      <td>4.0</td>\n",
       "      <td>11.0</td>\n",
       "      <td>1.0</td>\n",
       "      <td>NaN</td>\n",
       "      <td>1</td>\n",
       "      <td>NaN</td>\n",
       "      <td>NaN</td>\n",
       "      <td>NaN</td>\n",
       "      <td>NaN</td>\n",
       "      <td>NaN</td>\n",
       "    </tr>\n",
       "    <tr>\n",
       "      <th>520</th>\n",
       "      <td>Sasa Kalajdzic</td>\n",
       "      <td>Wolverhampton Wanderers</td>\n",
       "      <td>Austria</td>\n",
       "      <td>NaN</td>\n",
       "      <td>4.0</td>\n",
       "      <td>8.0</td>\n",
       "      <td>1.0</td>\n",
       "      <td>1.0</td>\n",
       "      <td>1</td>\n",
       "      <td>NaN</td>\n",
       "      <td>NaN</td>\n",
       "      <td>NaN</td>\n",
       "      <td>NaN</td>\n",
       "      <td>NaN</td>\n",
       "    </tr>\n",
       "    <tr>\n",
       "      <th>521</th>\n",
       "      <td>Jamal Lowe</td>\n",
       "      <td>-</td>\n",
       "      <td>Jamaica</td>\n",
       "      <td>NaN</td>\n",
       "      <td>4.0</td>\n",
       "      <td>4.0</td>\n",
       "      <td>NaN</td>\n",
       "      <td>NaN</td>\n",
       "      <td>2</td>\n",
       "      <td>NaN</td>\n",
       "      <td>NaN</td>\n",
       "      <td>NaN</td>\n",
       "      <td>NaN</td>\n",
       "      <td>NaN</td>\n",
       "    </tr>\n",
       "    <tr>\n",
       "      <th>522</th>\n",
       "      <td>Owen Bevan</td>\n",
       "      <td>-</td>\n",
       "      <td>Wales</td>\n",
       "      <td>NaN</td>\n",
       "      <td>3.0</td>\n",
       "      <td>3.0</td>\n",
       "      <td>NaN</td>\n",
       "      <td>NaN</td>\n",
       "      <td>1</td>\n",
       "      <td>NaN</td>\n",
       "      <td>NaN</td>\n",
       "      <td>NaN</td>\n",
       "      <td>NaN</td>\n",
       "      <td>NaN</td>\n",
       "    </tr>\n",
       "    <tr>\n",
       "      <th>523</th>\n",
       "      <td>Mateo Joseph Fernández</td>\n",
       "      <td>Leeds United</td>\n",
       "      <td>Spain</td>\n",
       "      <td>NaN</td>\n",
       "      <td>3.0</td>\n",
       "      <td>13.0</td>\n",
       "      <td>1.0</td>\n",
       "      <td>NaN</td>\n",
       "      <td>3</td>\n",
       "      <td>NaN</td>\n",
       "      <td>3.0</td>\n",
       "      <td>NaN</td>\n",
       "      <td>NaN</td>\n",
       "      <td>NaN</td>\n",
       "    </tr>\n",
       "    <tr>\n",
       "      <th>524</th>\n",
       "      <td>Marquinhos</td>\n",
       "      <td>-</td>\n",
       "      <td>Brazil</td>\n",
       "      <td>NaN</td>\n",
       "      <td>3.0</td>\n",
       "      <td>3.0</td>\n",
       "      <td>NaN</td>\n",
       "      <td>NaN</td>\n",
       "      <td>1</td>\n",
       "      <td>NaN</td>\n",
       "      <td>NaN</td>\n",
       "      <td>NaN</td>\n",
       "      <td>NaN</td>\n",
       "      <td>NaN</td>\n",
       "    </tr>\n",
       "    <tr>\n",
       "      <th>525</th>\n",
       "      <td>David Ozoh</td>\n",
       "      <td>Crystal Palace</td>\n",
       "      <td>England</td>\n",
       "      <td>NaN</td>\n",
       "      <td>3.0</td>\n",
       "      <td>4.0</td>\n",
       "      <td>NaN</td>\n",
       "      <td>NaN</td>\n",
       "      <td>1</td>\n",
       "      <td>NaN</td>\n",
       "      <td>NaN</td>\n",
       "      <td>NaN</td>\n",
       "      <td>NaN</td>\n",
       "      <td>NaN</td>\n",
       "    </tr>\n",
       "    <tr>\n",
       "      <th>526</th>\n",
       "      <td>Connor Ronan</td>\n",
       "      <td>-</td>\n",
       "      <td>Ireland</td>\n",
       "      <td>NaN</td>\n",
       "      <td>3.0</td>\n",
       "      <td>5.0</td>\n",
       "      <td>NaN</td>\n",
       "      <td>NaN</td>\n",
       "      <td>1</td>\n",
       "      <td>NaN</td>\n",
       "      <td>NaN</td>\n",
       "      <td>1.0</td>\n",
       "      <td>NaN</td>\n",
       "      <td>NaN</td>\n",
       "    </tr>\n",
       "    <tr>\n",
       "      <th>527</th>\n",
       "      <td>David Brooks</td>\n",
       "      <td>Bournemouth</td>\n",
       "      <td>Wales</td>\n",
       "      <td>NaN</td>\n",
       "      <td>2.0</td>\n",
       "      <td>8.0</td>\n",
       "      <td>1.0</td>\n",
       "      <td>NaN</td>\n",
       "      <td>2</td>\n",
       "      <td>NaN</td>\n",
       "      <td>1.0</td>\n",
       "      <td>NaN</td>\n",
       "      <td>NaN</td>\n",
       "      <td>NaN</td>\n",
       "    </tr>\n",
       "    <tr>\n",
       "      <th>528</th>\n",
       "      <td>Tyrese Francois</td>\n",
       "      <td>Fulham</td>\n",
       "      <td>Australia</td>\n",
       "      <td>NaN</td>\n",
       "      <td>2.0</td>\n",
       "      <td>5.0</td>\n",
       "      <td>NaN</td>\n",
       "      <td>NaN</td>\n",
       "      <td>1</td>\n",
       "      <td>NaN</td>\n",
       "      <td>NaN</td>\n",
       "      <td>NaN</td>\n",
       "      <td>NaN</td>\n",
       "      <td>NaN</td>\n",
       "    </tr>\n",
       "    <tr>\n",
       "      <th>529</th>\n",
       "      <td>Andrew Moran</td>\n",
       "      <td>Brighton &amp; Hove Albion</td>\n",
       "      <td>Ireland</td>\n",
       "      <td>NaN</td>\n",
       "      <td>2.0</td>\n",
       "      <td>6.0</td>\n",
       "      <td>NaN</td>\n",
       "      <td>NaN</td>\n",
       "      <td>1</td>\n",
       "      <td>NaN</td>\n",
       "      <td>NaN</td>\n",
       "      <td>NaN</td>\n",
       "      <td>NaN</td>\n",
       "      <td>NaN</td>\n",
       "    </tr>\n",
       "    <tr>\n",
       "      <th>530</th>\n",
       "      <td>Mislav Orsic</td>\n",
       "      <td>Southampton</td>\n",
       "      <td>Croatia</td>\n",
       "      <td>NaN</td>\n",
       "      <td>2.0</td>\n",
       "      <td>4.0</td>\n",
       "      <td>NaN</td>\n",
       "      <td>NaN</td>\n",
       "      <td>1</td>\n",
       "      <td>1.0</td>\n",
       "      <td>NaN</td>\n",
       "      <td>NaN</td>\n",
       "      <td>NaN</td>\n",
       "      <td>NaN</td>\n",
       "    </tr>\n",
       "    <tr>\n",
       "      <th>531</th>\n",
       "      <td>Cafú</td>\n",
       "      <td>Nottingham Forest</td>\n",
       "      <td>Portugal</td>\n",
       "      <td>NaN</td>\n",
       "      <td>2.0</td>\n",
       "      <td>3.0</td>\n",
       "      <td>NaN</td>\n",
       "      <td>NaN</td>\n",
       "      <td>1</td>\n",
       "      <td>NaN</td>\n",
       "      <td>NaN</td>\n",
       "      <td>NaN</td>\n",
       "      <td>NaN</td>\n",
       "      <td>NaN</td>\n",
       "    </tr>\n",
       "    <tr>\n",
       "      <th>532</th>\n",
       "      <td>Bobby Clark</td>\n",
       "      <td>Liverpool</td>\n",
       "      <td>England</td>\n",
       "      <td>NaN</td>\n",
       "      <td>1.0</td>\n",
       "      <td>7.0</td>\n",
       "      <td>NaN</td>\n",
       "      <td>NaN</td>\n",
       "      <td>1</td>\n",
       "      <td>NaN</td>\n",
       "      <td>NaN</td>\n",
       "      <td>NaN</td>\n",
       "      <td>NaN</td>\n",
       "      <td>NaN</td>\n",
       "    </tr>\n",
       "    <tr>\n",
       "      <th>533</th>\n",
       "      <td>Emiliano Marcondes</td>\n",
       "      <td>-</td>\n",
       "      <td>Denmark</td>\n",
       "      <td>NaN</td>\n",
       "      <td>1.0</td>\n",
       "      <td>3.0</td>\n",
       "      <td>NaN</td>\n",
       "      <td>NaN</td>\n",
       "      <td>1</td>\n",
       "      <td>NaN</td>\n",
       "      <td>NaN</td>\n",
       "      <td>NaN</td>\n",
       "      <td>NaN</td>\n",
       "      <td>NaN</td>\n",
       "    </tr>\n",
       "    <tr>\n",
       "      <th>534</th>\n",
       "      <td>Alex Mighten</td>\n",
       "      <td>Nottingham Forest</td>\n",
       "      <td>England</td>\n",
       "      <td>NaN</td>\n",
       "      <td>1.0</td>\n",
       "      <td>4.0</td>\n",
       "      <td>NaN</td>\n",
       "      <td>NaN</td>\n",
       "      <td>1</td>\n",
       "      <td>NaN</td>\n",
       "      <td>NaN</td>\n",
       "      <td>NaN</td>\n",
       "      <td>NaN</td>\n",
       "      <td>NaN</td>\n",
       "    </tr>\n",
       "    <tr>\n",
       "      <th>535</th>\n",
       "      <td>Divin Mubama</td>\n",
       "      <td>West Ham United</td>\n",
       "      <td>England</td>\n",
       "      <td>NaN</td>\n",
       "      <td>1.0</td>\n",
       "      <td>2.0</td>\n",
       "      <td>NaN</td>\n",
       "      <td>NaN</td>\n",
       "      <td>1</td>\n",
       "      <td>NaN</td>\n",
       "      <td>NaN</td>\n",
       "      <td>NaN</td>\n",
       "      <td>NaN</td>\n",
       "      <td>NaN</td>\n",
       "    </tr>\n",
       "    <tr>\n",
       "      <th>536</th>\n",
       "      <td>Emil Krafth</td>\n",
       "      <td>Newcastle United</td>\n",
       "      <td>Sweden</td>\n",
       "      <td>NaN</td>\n",
       "      <td>0.0</td>\n",
       "      <td>1.0</td>\n",
       "      <td>NaN</td>\n",
       "      <td>NaN</td>\n",
       "      <td>1</td>\n",
       "      <td>NaN</td>\n",
       "      <td>NaN</td>\n",
       "      <td>NaN</td>\n",
       "      <td>NaN</td>\n",
       "      <td>NaN</td>\n",
       "    </tr>\n",
       "    <tr>\n",
       "      <th>537</th>\n",
       "      <td>Halil Dervisoglu</td>\n",
       "      <td>-</td>\n",
       "      <td>[object Object]</td>\n",
       "      <td>NaN</td>\n",
       "      <td>NaN</td>\n",
       "      <td>2.0</td>\n",
       "      <td>1.0</td>\n",
       "      <td>NaN</td>\n",
       "      <td>1</td>\n",
       "      <td>NaN</td>\n",
       "      <td>1.0</td>\n",
       "      <td>NaN</td>\n",
       "      <td>NaN</td>\n",
       "      <td>NaN</td>\n",
       "    </tr>\n",
       "    <tr>\n",
       "      <th>538</th>\n",
       "      <td>Ethan Nwaneri</td>\n",
       "      <td>Arsenal</td>\n",
       "      <td>England</td>\n",
       "      <td>NaN</td>\n",
       "      <td>NaN</td>\n",
       "      <td>1.0</td>\n",
       "      <td>NaN</td>\n",
       "      <td>NaN</td>\n",
       "      <td>1</td>\n",
       "      <td>NaN</td>\n",
       "      <td>NaN</td>\n",
       "      <td>NaN</td>\n",
       "      <td>NaN</td>\n",
       "      <td>NaN</td>\n",
       "    </tr>\n",
       "    <tr>\n",
       "      <th>539</th>\n",
       "      <td>Nathan Redmond</td>\n",
       "      <td>-</td>\n",
       "      <td>England</td>\n",
       "      <td>NaN</td>\n",
       "      <td>NaN</td>\n",
       "      <td>1.0</td>\n",
       "      <td>NaN</td>\n",
       "      <td>NaN</td>\n",
       "      <td>1</td>\n",
       "      <td>NaN</td>\n",
       "      <td>NaN</td>\n",
       "      <td>1.0</td>\n",
       "      <td>NaN</td>\n",
       "      <td>NaN</td>\n",
       "    </tr>\n",
       "    <tr>\n",
       "      <th>540</th>\n",
       "      <td>Conor Coventry</td>\n",
       "      <td>-</td>\n",
       "      <td>Ireland</td>\n",
       "      <td>NaN</td>\n",
       "      <td>NaN</td>\n",
       "      <td>NaN</td>\n",
       "      <td>NaN</td>\n",
       "      <td>NaN</td>\n",
       "      <td>1</td>\n",
       "      <td>NaN</td>\n",
       "      <td>NaN</td>\n",
       "      <td>NaN</td>\n",
       "      <td>NaN</td>\n",
       "      <td>NaN</td>\n",
       "    </tr>\n",
       "  </tbody>\n",
       "</table>\n",
       "</div>"
      ],
      "text/plain": [
       "                        Player                     Club           Nationality  \\\n",
       "0               Erling Haaland          Manchester City                Norway   \n",
       "1                   Harry Kane        Tottenham Hotspur               England   \n",
       "2                   Ivan Toney                Brentford               England   \n",
       "3                Mohamed Salah                Liverpool                 Egypt   \n",
       "4              Marcus Rashford        Manchester United               England   \n",
       "5           Gabriel Martinelli                  Arsenal                Brazil   \n",
       "6                Callum Wilson         Newcastle United               England   \n",
       "7                Ollie Watkins              Aston Villa               England   \n",
       "8              Martin Ødegaard                  Arsenal                Norway   \n",
       "9                  Bukayo Saka                  Arsenal               England   \n",
       "10              Miguel Almirón         Newcastle United              Paraguay   \n",
       "11         Aleksandar Mitrovic                   Fulham                Serbia   \n",
       "12                     Rodrigo             Leeds United                 Spain   \n",
       "13               Harvey Barnes           Leicester City               England   \n",
       "14               Gabriel Jesus                  Arsenal                Brazil   \n",
       "15                  Phil Foden          Manchester City               England   \n",
       "16              Alexander Isak         Newcastle United                Sweden   \n",
       "17               Son Heung-Min        Tottenham Hotspur           South Korea   \n",
       "18             Roberto Firmino                Liverpool                Brazil   \n",
       "19         Alexis Mac Allister   Brighton & Hove Albion             Argentina   \n",
       "20              James Maddison           Leicester City               England   \n",
       "21                Darwin Núñez                Liverpool               Uruguay   \n",
       "22              Julián Álvarez          Manchester City             Argentina   \n",
       "23                Eberechi Eze           Crystal Palace               England   \n",
       "24                 Pascal Groß   Brighton & Hove Albion               Germany   \n",
       "25                  Danny Ings          West Ham United               England   \n",
       "26             Brennan Johnson        Nottingham Forest                 Wales   \n",
       "27            Leandro Trossard                  Arsenal               Belgium   \n",
       "28              Philip Billing              Bournemouth               Denmark   \n",
       "29             Kevin De Bruyne          Manchester City               Belgium   \n",
       "30                 Kai Havertz                  Chelsea               Germany   \n",
       "31                 Solly March   Brighton & Hove Albion               England   \n",
       "32                Kaoru Mitoma   Brighton & Hove Albion                 Japan   \n",
       "33           James Ward-Prowse              Southampton               England   \n",
       "34               Wilfried Zaha           Crystal Palace         Cote D’Ivoire   \n",
       "35                   Joelinton         Newcastle United                Brazil   \n",
       "36             Bruno Fernandes        Manchester United              Portugal   \n",
       "37              Daniel Podence  Wolverhampton Wanderers              Portugal   \n",
       "38                 Rúben Neves  Wolverhampton Wanderers              Portugal   \n",
       "39                  Cody Gakpo                Liverpool           Netherlands   \n",
       "40                Bryan Mbeumo                Brentford              Cameroon   \n",
       "41             Dominic Solanke              Bournemouth               England   \n",
       "42               Danny Welbeck   Brighton & Hove Albion               England   \n",
       "43                   Ché Adams              Southampton              Scotland   \n",
       "44             Michail Antonio                        -               Jamaica   \n",
       "45               Saïd Benrahma          West Ham United               Algeria   \n",
       "46           Rodrigo Bentancur        Tottenham Hotspur               Uruguay   \n",
       "47                Jarrod Bowen          West Ham United               England   \n",
       "48            Emiliano Buendía              Aston Villa             Argentina   \n",
       "49               Jack Grealish          Manchester City               England   \n",
       "50           Kelechi Iheanacho           Leicester City               Nigeria   \n",
       "51              Mathias Jensen                Brentford               Denmark   \n",
       "52             Jefferson Lerma              Bournemouth              Colombia   \n",
       "53                Riyad Mahrez          Manchester City               Algeria   \n",
       "54               Dwight McNeil                  Everton               England   \n",
       "55                Jadon Sancho        Manchester United               England   \n",
       "56             Luis Sinisterra             Leeds United              Colombia   \n",
       "57            Marcus Tavernier              Bournemouth               England   \n",
       "58                  Diogo Jota                Liverpool              Portugal   \n",
       "59                 Yoane Wissa                Brentford              DR Congo   \n",
       "60                Granit Xhaka                  Arsenal           Switzerland   \n",
       "61               Taiwo Awoniyi        Nottingham Forest               Nigeria   \n",
       "62                 Jordan Ayew           Crystal Palace                 Ghana   \n",
       "63                 Leon Bailey              Aston Villa               Jamaica   \n",
       "64             Patrick Bamford             Leeds United               England   \n",
       "65                 Patson Daka           Leicester City                Zambia   \n",
       "66                Josh Dasilva                Brentford               England   \n",
       "67       Bobby De Cordova-Reid                        -               Jamaica   \n",
       "68                   Luis Díaz                Liverpool              Colombia   \n",
       "69                      Antony        Manchester United                Brazil   \n",
       "70             Odsonne Édouard           Crystal Palace                France   \n",
       "71               Evan Ferguson   Brighton & Hove Albion               Ireland   \n",
       "72          Morgan Gibbs-White        Nottingham Forest               England   \n",
       "73                Demarai Gray                  Everton               England   \n",
       "74              Ilkay Gündogan          Manchester City               Germany   \n",
       "75               Jack Harrison             Leeds United               England   \n",
       "76             Andreas Pereira                   Fulham                Brazil   \n",
       "77       Pierre-Emile Højbjerg        Tottenham Hotspur               Denmark   \n",
       "78             Anthony Martial        Manchester United                France   \n",
       "79               Kieffer Moore              Bournemouth                 Wales   \n",
       "80              Bernardo Silva          Manchester City              Portugal   \n",
       "81                Jacob Murphy         Newcastle United               England   \n",
       "82               Eddie Nketiah                  Arsenal               England   \n",
       "83                Jacob Ramsey              Aston Villa               England   \n",
       "84                Douglas Luiz              Aston Villa                Brazil   \n",
       "85               Manor Solomon                   Fulham                Israel   \n",
       "86             Raheem Sterling                  Chelsea               England   \n",
       "87       Crysencio Summerville             Leeds United           Netherlands   \n",
       "88               Lucas Paquetá          West Ham United                Brazil   \n",
       "89              Carlos Alcaraz              Southampton             Argentina   \n",
       "90             Carlos Vinícius                   Fulham                Brazil   \n",
       "91                     Willian                   Fulham                Brazil   \n",
       "92           Gabriel Magalhães                  Arsenal                Brazil   \n",
       "93              Anthony Gordon         Newcastle United               England   \n",
       "94             Bruno Guimarães         Newcastle United                Brazil   \n",
       "95               Vitaly Janelt                Brentford               Germany   \n",
       "96               João Palhinha                   Fulham              Portugal   \n",
       "97                     Ben Mee                Brentford               England   \n",
       "98                 Mason Mount                  Chelsea               England   \n",
       "99                Reiss Nelson                  Arsenal               England   \n",
       "100              Thomas Partey                  Arsenal                 Ghana   \n",
       "101              Harrison Reed                   Fulham               England   \n",
       "102                Declan Rice          West Ham United               England   \n",
       "103          Gianluca Scamacca          West Ham United                 Italy   \n",
       "104            Jeffrey Schlupp           Crystal Palace                 Ghana   \n",
       "105            Youri Tielemans           Leicester City               Belgium   \n",
       "106            Virgil van Dijk                Liverpool           Netherlands   \n",
       "107                Jamie Vardy           Leicester City               England   \n",
       "108                Joe Willock         Newcastle United               England   \n",
       "109                 Chris Wood        Nottingham Forest           New Zealand   \n",
       "110               Nayef Aguerd          West Ham United               Morocco   \n",
       "111             Jaidon Anthony              Bournemouth               England   \n",
       "112                  Joe Aribo              Southampton               Nigeria   \n",
       "113           Stuart Armstrong              Southampton              Scotland   \n",
       "114      Dominic Calvert-Lewin                  Everton               England   \n",
       "115                   Casemiro        Manchester United                Brazil   \n",
       "116           Timothy Castagne           Leicester City               Belgium   \n",
       "117               João Cancelo                        -              Portugal   \n",
       "118               Ben Chilwell                  Chelsea               England   \n",
       "119                 Ben Davies        Tottenham Hotspur                 Wales   \n",
       "120            Emmanuel Dennis        Nottingham Forest               Nigeria   \n",
       "121      Kiernan Dewsbury-Hall           Leicester City               England   \n",
       "122                  Eric Dier        Tottenham Hotspur               England   \n",
       "123                     Danilo        Nottingham Forest                Brazil   \n",
       "124         Abdoulaye Doucouré                  Everton                  Mali   \n",
       "125               Julio Enciso   Brighton & Hove Albion              Paraguay   \n",
       "126                 João Félix                  Chelsea              Portugal   \n",
       "127              Pablo Fornals          West Ham United                 Spain   \n",
       "128             Fábio Carvalho                Liverpool              Portugal   \n",
       "129                   Jorginho                  Arsenal                 Italy   \n",
       "130            Conor Gallagher                  Chelsea               England   \n",
       "131         Alejandro Garnacho        Manchester United             Argentina   \n",
       "132            Wilfried Gnonto             Leeds United                 Italy   \n",
       "133                      Rodri          Manchester City                 Spain   \n",
       "134             Hwang Hee-Chan  Wolverhampton Wanderers           South Korea   \n",
       "135                 Alex Iwobi                  Everton               Nigeria   \n",
       "136                  Dan James                   Fulham                 Wales   \n",
       "137          Kalidou Koulibaly                  Chelsea               Senegal   \n",
       "138          Rasmus Kristensen             Leeds United               Denmark   \n",
       "139           Dejan Kulusevski        Tottenham Hotspur                Sweden   \n",
       "140               Adam Lallana   Brighton & Hove Albion               England   \n",
       "141              Emerson Royal        Tottenham Hotspur                Brazil   \n",
       "142       Jean-Philippe Mateta           Crystal Palace                France   \n",
       "143              Michael Olise           Crystal Palace                France   \n",
       "144             Romain Perraud              Southampton                France   \n",
       "145              Ethan Pinnock                        -               Jamaica   \n",
       "146                Pedro Porro        Tottenham Hotspur                 Spain   \n",
       "147                       Fred        Manchester United                Brazil   \n",
       "148             William Saliba                        -                France   \n",
       "149              Matheus Cunha  Wolverhampton Wanderers                Brazil   \n",
       "150              Marcos Senesi              Bournemouth             Argentina   \n",
       "151             Ryan Sessegnon        Tottenham Hotspur               England   \n",
       "152               Tomás Soucek          West Ham United       [object Object]   \n",
       "153                John Stones          Manchester City               England   \n",
       "154             Pascal Struijk             Leeds United           Netherlands   \n",
       "155            Bertrand Traoré              Aston Villa          Burkina Faso   \n",
       "156               Adama Traoré  Wolverhampton Wanderers                 Spain   \n",
       "157                Deniz Undav   Brighton & Hove Albion               Germany   \n",
       "158               Theo Walcott              Southampton               England   \n",
       "159                  Ben White                  Arsenal               England   \n",
       "160               Harry Wilson                   Fulham                 Wales   \n",
       "161                 Kurt Zouma          West Ham United                France   \n",
       "162           Brenden Aaronson             Leeds United         United States   \n",
       "163           Tosin Adarabioyo                   Fulham               England   \n",
       "164            Rayan Aït-Nouri  Wolverhampton Wanderers               Algeria   \n",
       "165                 Nathan Aké          Manchester City           Netherlands   \n",
       "166            Marc Albrighton                        -               England   \n",
       "167     Trent Alexander-Arnold                Liverpool               England   \n",
       "168           Joachim Andersen           Crystal Palace               Denmark   \n",
       "169             Adam Armstrong              Southampton               England   \n",
       "170  Pierre-Emerick Aubameyang                  Chelsea                 Gabon   \n",
       "171               Sèrge Aurier        Nottingham Forest         Cote D’Ivoire   \n",
       "172                Luke Ayling             Leeds United               England   \n",
       "173            Stefan Bajcetic                Liverpool                 Spain   \n",
       "174            Ricardo Pereira           Leicester City              Portugal   \n",
       "175              Armando Broja                  Chelsea               Albania   \n",
       "176         Facundo Buonanotte   Brighton & Hove Albion             Argentina   \n",
       "177             Moisés Caicedo   Brighton & Hove Albion               Ecuador   \n",
       "178            Duje Caleta-Car              Southampton               Croatia   \n",
       "179                       Tetê           Leicester City                Brazil   \n",
       "180                      Jonny  Wolverhampton Wanderers                 Spain   \n",
       "181              Ryan Christie              Bournemouth              Scotland   \n",
       "182                Conor Coady                  Everton               England   \n",
       "183             Séamus Coleman                        -               Ireland   \n",
       "184                Liam Cooper             Leeds United              Scotland   \n",
       "185          Philippe Coutinho              Aston Villa                Brazil   \n",
       "186                Diego Costa  Wolverhampton Wanderers                 Spain   \n",
       "187                Diogo Dalot        Manchester United              Portugal   \n",
       "188             Arnaut Danjuma        Tottenham Hotspur           Netherlands   \n",
       "189               Craig Dawson  Wolverhampton Wanderers               England   \n",
       "190                Richarlison        Tottenham Hotspur                Brazil   \n",
       "191                Lucas Digne              Aston Villa                France   \n",
       "192                  Issa Diop                   Fulham                France   \n",
       "193               Matt Doherty                        -               Ireland   \n",
       "194          Cristiano Ronaldo                        -              Portugal   \n",
       "195                 Lewis Dunk   Brighton & Hove Albion               England   \n",
       "196             Harvey Elliott                        -               England   \n",
       "197          Christian Eriksen        Manchester United               Denmark   \n",
       "198               Fábio Vieira                  Arsenal              Portugal   \n",
       "199               Junior Firpo             Leeds United                 Spain   \n",
       "200              Wesley Fofana                  Chelsea                France   \n",
       "201             Gonçalo Guedes                        -              Portugal   \n",
       "202                 João Gomes  Wolverhampton Wanderers                Brazil   \n",
       "203              Sam Greenwood             Leeds United               England   \n",
       "204                 Marc Guéhi           Crystal Palace               England   \n",
       "205                Rob Holding                  Arsenal               England   \n",
       "206                Reece James                  Chelsea               England   \n",
       "207             Pontus Jansson                Brentford                Sweden   \n",
       "208               Curtis Jones                Liverpool               England   \n",
       "209              Michael Keane                  Everton               England   \n",
       "210           Cheikhou Kouyaté        Nottingham Forest               Senegal   \n",
       "211              Mateo Kovacic                  Chelsea               Croatia   \n",
       "212                Roméo Lavia              Southampton               Belgium   \n",
       "213             Sean Longstaff         Newcastle United               England   \n",
       "214               Noni Madueke                  Chelsea               England   \n",
       "215               Orel Mangala                        -               Belgium   \n",
       "216                 Sékou Mara              Southampton                France   \n",
       "217          Lisandro Martínez        Manchester United             Argentina   \n",
       "218                 Joël Matip                Liverpool              Cameroon   \n",
       "219                Neal Maupay                  Everton                France   \n",
       "220                John McGinn              Aston Villa              Scotland   \n",
       "221            Scott McTominay        Manchester United              Scotland   \n",
       "222             Nampalys Mendy                        -               Senegal   \n",
       "223                 Yerry Mina                  Everton              Colombia   \n",
       "224               Tyrone Mings              Aston Villa               England   \n",
       "225              Matheus Nunes  Wolverhampton Wanderers              Portugal   \n",
       "226         Christian Nørgaard                Brentford               Denmark   \n",
       "227              Lewis O'Brien                        -               England   \n",
       "228               Amadou Onana                  Everton               Belgium   \n",
       "229             Dango Ouattara              Bournemouth          Burkina Faso   \n",
       "230    Alex Oxlade-Chamberlain                Liverpool               England   \n",
       "231                    Emerson          West Ham United                 Italy   \n",
       "232               Ivan Perisic        Tottenham Hotspur               Croatia   \n",
       "233               Dennis Praet           Leicester City               Belgium   \n",
       "234          Christian Pulisic                  Chelsea         United States   \n",
       "235                   Tim Ream                   Fulham         United States   \n",
       "236                  Marc Roca             Leeds United                 Spain   \n",
       "237        Allan Saint-Maximin         Newcastle United                France   \n",
       "238              Pablo Sarabia  Wolverhampton Wanderers                 Spain   \n",
       "239               Fabian Schär         Newcastle United           Switzerland   \n",
       "240            Antoine Semenyo              Bournemouth                 Ghana   \n",
       "241                  Luke Shaw        Manchester United               England   \n",
       "242                Ellis Simms                  Everton               England   \n",
       "243               Oliver Skipp        Tottenham Hotspur               England   \n",
       "244             Çaglar Söyüncü           Leicester City       [object Object]   \n",
       "245               Sam Surridge        Nottingham Forest               England   \n",
       "246            James Tarkowski                  Everton               England   \n",
       "247              James Tomkins           Crystal Palace               England   \n",
       "248            Kieran Trippier         Newcastle United               England   \n",
       "249               Joël Veltman   Brighton & Hove Albion           Netherlands   \n",
       "250                Matías Viña              Bournemouth               Uruguay   \n",
       "251         Kyle Walker-Peters              Southampton               England   \n",
       "252              Neco Williams        Nottingham Forest                 Wales   \n",
       "253                Joe Worrall        Nottingham Forest               England   \n",
       "254               Ashley Young              Aston Villa               England   \n",
       "255        Oleksandr Zinchenko                  Arsenal               Ukraine   \n",
       "256            Elliot Anderson         Newcastle United              Scotland   \n",
       "257                 Willy Boly        Nottingham Forest         Cote D’Ivoire   \n",
       "258              Maxwel Cornet          West Ham United         Cote D’Ivoire   \n",
       "259           Pervis Estupiñán   Brighton & Hove Albion               Ecuador   \n",
       "260               Raúl Jiménez  Wolverhampton Wanderers                Mexico   \n",
       "261                 Ryan Yates        Nottingham Forest               England   \n",
       "262                 Rúben Dias          Manchester City              Portugal   \n",
       "263          Maximilian Kilman  Wolverhampton Wanderers               England   \n",
       "264              Manuel Akanji          Manchester City           Switzerland   \n",
       "265               Thiago Silva                  Chelsea                Brazil   \n",
       "266                 Ezri Konsa              Aston Villa               England   \n",
       "267                  Wout Faes           Leicester City               Belgium   \n",
       "268           Andrew Robertson                Liverpool              Scotland   \n",
       "269                    Fabinho                Liverpool                Brazil   \n",
       "270               Adam Webster   Brighton & Hove Albion               England   \n",
       "271                 Robin Koch             Leeds United               Germany   \n",
       "272                Sven Botman         Newcastle United           Netherlands   \n",
       "273            Cristian Romero        Tottenham Hotspur             Argentina   \n",
       "274           Jordan Henderson                Liverpool               England   \n",
       "275                Kyle Walker          Manchester City               England   \n",
       "276                Tyler Adams             Leeds United         United States   \n",
       "277                 David Raya                Brentford                 Spain   \n",
       "278           Antonee Robinson                   Fulham         United States   \n",
       "279                   Dan Burn         Newcastle United               England   \n",
       "280                  Joe Gomez                Liverpool               England   \n",
       "281                    Alisson                Liverpool                Brazil   \n",
       "282            Clément Lenglet        Tottenham Hotspur                France   \n",
       "283             Daniel Amartey                        -                 Ghana   \n",
       "284              Idrissa Gueye                  Everton               Senegal   \n",
       "285          Emiliano Martínez              Aston Villa             Argentina   \n",
       "286             Marc Cucurella                  Chelsea                 Spain   \n",
       "287            Mohammed Salisu              Southampton                 Ghana   \n",
       "288            Cheick Doucouré           Crystal Palace                  Mali   \n",
       "289           Thiago Alcântara                Liverpool                 Spain   \n",
       "290              Nélson Semedo  Wolverhampton Wanderers              Portugal   \n",
       "291            Aaron Cresswell          West Ham United               England   \n",
       "292                 Bernd Leno                   Fulham               Germany   \n",
       "293            Tyrick Mitchell           Crystal Palace               England   \n",
       "294            Jordan Pickford                  Everton               England   \n",
       "295               Gavin Bazunu              Southampton               Ireland   \n",
       "296             Nathan Collins  Wolverhampton Wanderers               Ireland   \n",
       "297                    Ederson          Manchester City                Brazil   \n",
       "298             Enzo Fernández                  Chelsea             Argentina   \n",
       "299              João Moutinho  Wolverhampton Wanderers              Portugal   \n",
       "300          Vitalii Mykolenko                  Everton               Ukraine   \n",
       "301            Ibrahima Konaté                Liverpool                France   \n",
       "302                    José Sá  Wolverhampton Wanderers              Portugal   \n",
       "303               Chris Mepham              Bournemouth                 Wales   \n",
       "304               David de Gea        Manchester United                 Spain   \n",
       "305             Raphaël Varane        Manchester United                France   \n",
       "306                 Kenny Tete                   Fulham           Netherlands   \n",
       "307               Thilo Kehrer          West Ham United               Germany   \n",
       "308        Armel Bella-Kotchap              Southampton               Germany   \n",
       "309            Boubacar Kamara              Aston Villa                France   \n",
       "310                 Adam Smith              Bournemouth               England   \n",
       "311                 Rico Henry                Brentford               England   \n",
       "312              Illan Meslier             Leeds United                France   \n",
       "313              Wilfred Ndidi           Leicester City               Nigeria   \n",
       "314                Lloyd Kelly              Bournemouth               England   \n",
       "315               Remo Freuler        Nottingham Forest           Switzerland   \n",
       "316             Aaron Ramsdale                  Arsenal               England   \n",
       "317                  Joel Ward           Crystal Palace               England   \n",
       "318            Trevoh Chalobah                        -               England   \n",
       "319                 Danny Ward           Leicester City                 Wales   \n",
       "320               Levi Colwill   Brighton & Hove Albion               England   \n",
       "321          Kepa Arrizabalaga                  Chelsea                 Spain   \n",
       "322               Jan Bednarek              Southampton                Poland   \n",
       "323          César Azpilicueta                  Chelsea                 Spain   \n",
       "324          Boubakary Soumaré           Leicester City                France   \n",
       "325                 Matty Cash              Aston Villa                Poland   \n",
       "326         Ruben Loftus-Cheek                  Chelsea               England   \n",
       "327            Vladimír Coufal          West Ham United       [object Object]   \n",
       "328             Vicente Guaita           Crystal Palace                 Spain   \n",
       "329              Scott McKenna        Nottingham Forest              Scotland   \n",
       "330               James Justin           Leicester City               England   \n",
       "331           Lukasz Fabianski          West Ham United                Poland   \n",
       "332                Jonny Evans           Leicester City      Northern Ireland   \n",
       "333             Robert Sánchez   Brighton & Hove Albion                 Spain   \n",
       "334            Nathaniel Clyne           Crystal Palace               England   \n",
       "335          Benoît Badiashile                  Chelsea                France   \n",
       "336                 Lewis Cook              Bournemouth               England   \n",
       "337            Victor Lindelöf        Manchester United                Sweden   \n",
       "338                Hugo Lloris        Tottenham Hotspur                France   \n",
       "339               Aaron Hickey                Brentford              Scotland   \n",
       "340                 Renan Lodi        Nottingham Forest                Brazil   \n",
       "341                       Neto              Bournemouth                Brazil   \n",
       "342                  Nick Pope         Newcastle United               England   \n",
       "343            Aymeric Laporte          Manchester City                 Spain   \n",
       "344              Yves Bissouma        Tottenham Hotspur                  Mali   \n",
       "345              Jack Stephens              Bournemouth               England   \n",
       "346             Dean Henderson        Nottingham Forest               England   \n",
       "347        Mohamed Elyounoussi              Southampton                Norway   \n",
       "348             Tyrell Malacia        Manchester United           Netherlands   \n",
       "349     Ainsley Maitland-Niles              Southampton               England   \n",
       "350                Tom Cairney                   Fulham              Scotland   \n",
       "351          Aaron Wan-Bissaka        Manchester United               England   \n",
       "352              Harry Souttar           Leicester City             Australia   \n",
       "353           Maximilian Wöber             Leeds United               Austria   \n",
       "354                Álex Moreno              Aston Villa                 Spain   \n",
       "355              Harry Maguire        Manchester United               England   \n",
       "356               Mario Lemina  Wolverhampton Wanderers                 Gabon   \n",
       "357               James Milner                Liverpool               England   \n",
       "358            Weston McKennie             Leeds United         United States   \n",
       "359                     Felipe        Nottingham Forest                Brazil   \n",
       "360                 Hugo Bueno  Wolverhampton Wanderers                 Spain   \n",
       "361           Davinson Sánchez        Tottenham Hotspur              Colombia   \n",
       "362              Jordan Zemura              Bournemouth              Zimbabwe   \n",
       "363                 Steve Cook        Nottingham Forest               England   \n",
       "364                Luke Thomas           Leicester City               England   \n",
       "365             Diego Llorente                        -                 Spain   \n",
       "366          Takehiro Tomiyasu                  Arsenal                 Japan   \n",
       "367                Ben Johnson          West Ham United               England   \n",
       "368           Nathan Patterson                  Everton              Scotland   \n",
       "369       Albert Sambi Lokonga           Crystal Palace               Belgium   \n",
       "370            Ibrahima Diallo              Southampton                France   \n",
       "371                 Rico Lewis          Manchester City               England   \n",
       "372               Keylor Navas        Nottingham Forest            Costa Rica   \n",
       "373      Konstantinos Tsimikas                Liverpool                Greece   \n",
       "374               Joe Rothwell              Bournemouth               England   \n",
       "375         Leander Dendoncker              Aston Villa               Belgium   \n",
       "376                       Toti  Wolverhampton Wanderers              Portugal   \n",
       "377                     Lyanco              Southampton                Brazil   \n",
       "378                      Zanka                Brentford               Denmark   \n",
       "379             Kieran Tierney                  Arsenal              Scotland   \n",
       "380         Victor Kristiansen           Leicester City               Denmark   \n",
       "381              Jonjo Shelvey        Nottingham Forest               England   \n",
       "382           Mikkel Damsgaard                Brentford               Denmark   \n",
       "383             Angelo Ogbonna          West Ham United                 Italy   \n",
       "384            Kristoffer Ajer                        -                Norway   \n",
       "385               Matt Targett         Newcastle United               England   \n",
       "386               N'Golo Kanté                  Chelsea                France   \n",
       "387               Hakim Ziyech                  Chelsea               Morocco   \n",
       "388            Marcel Sabitzer        Manchester United               Austria   \n",
       "389              Jesse Lingard        Nottingham Forest               England   \n",
       "390                 Pedro Neto  Wolverhampton Wanderers              Portugal   \n",
       "391               Jason Steele   Brighton & Hove Albion               England   \n",
       "392               Mark Travers              Bournemouth               Ireland   \n",
       "393              Harry Toffolo        Nottingham Forest               England   \n",
       "394           Shandon Baptiste                Brentford               Grenada   \n",
       "395              Billy Gilmour   Brighton & Hove Albion              Scotland   \n",
       "396              Mads Roerslev                Brentford               Denmark   \n",
       "397           Luka Milivojevic           Crystal Palace                Serbia   \n",
       "398                Will Hughes           Crystal Palace               England   \n",
       "399              Tariq Lamptey   Brighton & Hove Albion                 Ghana   \n",
       "400                 Tom Davies                  Everton               England   \n",
       "401                Ben Godfrey                  Everton               England   \n",
       "402              Édouard Mendy                  Chelsea               Senegal   \n",
       "403             Daniel Iversen           Leicester City               Denmark   \n",
       "404               Flynn Downes          West Ham United               England   \n",
       "405            Moussa Niakhaté        Nottingham Forest               Senegal   \n",
       "406         Kamaldeen Sulemana              Southampton                 Ghana   \n",
       "407             Moussa Djenepo              Southampton                  Mali   \n",
       "408             Fraser Forster        Tottenham Hotspur               England   \n",
       "409             Chris Richards           Crystal Palace         United States   \n",
       "410               Frank Onyeka                Brentford               Nigeria   \n",
       "411             Calum Chambers              Aston Villa               England   \n",
       "412               James Garner                  Everton               England   \n",
       "413              Mason Holgate                  Everton               England   \n",
       "414            Neeskens Kebano                   Fulham              DR Congo   \n",
       "415                 Sasa Lukic                   Fulham                Serbia   \n",
       "416              Denis Zakaria                  Chelsea           Switzerland   \n",
       "417                 Lewis Hall                  Chelsea               England   \n",
       "418                 Naby Keïta                Liverpool                Guinea   \n",
       "419            Ryan Fredericks              Bournemouth               England   \n",
       "420              Wout Weghorst        Manchester United           Netherlands   \n",
       "421              Cédric Soares                   Fulham              Portugal   \n",
       "422                Ayoze Pérez                        -                 Spain   \n",
       "423            Mykhailo Mudryk                  Chelsea               Ukraine   \n",
       "424              Samuel Edozie              Southampton               England   \n",
       "425               Jack Colback        Nottingham Forest               England   \n",
       "426               Sergio Gómez          Manchester City                 Spain   \n",
       "427                  Pape Sarr        Tottenham Hotspur               Senegal   \n",
       "428              Sam Johnstone           Crystal Palace               England   \n",
       "429              Mateusz Klich                        -                Poland   \n",
       "430            Kalvin Phillips          Manchester City               England   \n",
       "431               Hamed Traorè              Bournemouth         Cote D’Ivoire   \n",
       "432                Ben Pearson                        -               England   \n",
       "433               Diego Carlos              Aston Villa                Brazil   \n",
       "434             Anthony Elanga        Manchester United                Sweden   \n",
       "435            Boubacar Traoré  Wolverhampton Wanderers                  Mali   \n",
       "436         Carney Chukwuemeka                  Chelsea               England   \n",
       "437                Robin Olsen              Aston Villa                Sweden   \n",
       "438               Kevin Schade                Brentford               Germany   \n",
       "439                Ryan Fraser         Newcastle United              Scotland   \n",
       "440         Jan Paul van Hecke   Brighton & Hove Albion           Netherlands   \n",
       "441             Manuel Lanzini          West Ham United             Argentina   \n",
       "442                Jack Stacey              Bournemouth               England   \n",
       "443           Jamaal Lascelles         Newcastle United               England   \n",
       "444               Adam Forshaw             Leeds United               England   \n",
       "445            Japhet Tanganga        Tottenham Hotspur               England   \n",
       "446                 James Bree              Southampton               England   \n",
       "447                Cole Palmer          Manchester City               England   \n",
       "448               Joseph Hodge  Wolverhampton Wanderers               Ireland   \n",
       "449         Nathaniel Phillips                Liverpool               England   \n",
       "450              Alex McCarthy              Southampton               England   \n",
       "451            Alphonse Aréola          West Ham United                France   \n",
       "452         Keane Lewis-Potter                Brentford               England   \n",
       "453                Enock Mwepu                        -                Zambia   \n",
       "454              Joe Whitworth           Crystal Palace               England   \n",
       "455               Paul Onuachu              Southampton               Nigeria   \n",
       "456             Gustavo Scarpa        Nottingham Forest                Brazil   \n",
       "457                 André Ayew        Nottingham Forest                 Ghana   \n",
       "458           Emile Smith Rowe                  Arsenal               England   \n",
       "459               Joe Gelhardt                        -               England   \n",
       "460               Jakub Kiwior                  Arsenal                Poland   \n",
       "461                Kevin Mbabu                        -           Switzerland   \n",
       "462           Jeremy Sarmiento   Brighton & Hove Albion               Ecuador   \n",
       "463              Saman Ghoddos                Brentford                  Iran   \n",
       "464                Lucas Moura        Tottenham Hotspur                Brazil   \n",
       "465             Mohamed Elneny                  Arsenal                 Egypt   \n",
       "466          Donny van de Beek        Manchester United           Netherlands   \n",
       "467                Marek Rodák                        -              Slovakia   \n",
       "468                  Bryan Gil                        -                 Spain   \n",
       "469                Juan Larios              Southampton                 Spain   \n",
       "470           Georginio Rutter             Leeds United                France   \n",
       "471            Wayne Hennessey        Nottingham Forest                 Wales   \n",
       "472           Naouirou Ahamada           Crystal Palace                France   \n",
       "473              Stefan Ortega          Manchester City               Germany   \n",
       "474             Siriki Dembélé                        -              Scotland   \n",
       "475                Sergi Canós                        -                 Spain   \n",
       "476                Cody Drameh                        -               England   \n",
       "477            Jairo Riedewald           Crystal Palace           Netherlands   \n",
       "478        Ludwig Augustinsson                        -                Sweden   \n",
       "479               Matt Ritchie         Newcastle United              Scotland   \n",
       "480                Oriol Romeu                        -                 Spain   \n",
       "481              Chem Campbell                        -                 Wales   \n",
       "482             Salomón Rondón                        -             Venezuela   \n",
       "483             Layvin Kurzawa                   Fulham                France   \n",
       "484           Junior Stanislas              Bournemouth               England   \n",
       "485              Asmir Begovic                  Everton  Bosnia & Herzegovina   \n",
       "486           Javier Manquillo         Newcastle United                 Spain   \n",
       "487             James McArthur           Crystal Palace              Scotland   \n",
       "488                 Yan Valery                        -               Tunisia   \n",
       "489                 Jhon Durán              Aston Villa              Colombia   \n",
       "490             Máximo Perrone          Manchester City             Argentina   \n",
       "491             Jay Stansfield                        -               England   \n",
       "492           Giulian Biancone        Nottingham Forest                France   \n",
       "493              Rúben Vinagre                  Everton              Portugal   \n",
       "494                Lewis Brunt           Leicester City               England   \n",
       "495                  Dele Alli                        -               England   \n",
       "496            Martin Dúbravka         Newcastle United              Slovakia   \n",
       "497                   Ben Doak                Liverpool              Scotland   \n",
       "498                Luke Harris                   Fulham                 Wales   \n",
       "499                Isaac Price                  Everton      Northern Ireland   \n",
       "500                Jamal Lewis         Newcastle United      Northern Ireland   \n",
       "501          Facundo Pellistri        Manchester United               Uruguay   \n",
       "502             Cameron Archer                        -               England   \n",
       "503                Yasin Ayari   Brighton & Hove Albion                Sweden   \n",
       "504           Dexter Lembikisa  Wolverhampton Wanderers               Jamaica   \n",
       "505           Omari Hutchinson                  Chelsea               Jamaica   \n",
       "506                Djed Spence                        -               England   \n",
       "507              Kobbie Mainoo        Manchester United               England   \n",
       "508         Mads Bech Sørensen                        -               Denmark   \n",
       "509            Malcolm Ebiowei                        -               England   \n",
       "510              Morgan Sanson                        -                France   \n",
       "511             Odeluga Offiah   Brighton & Hove Albion               England   \n",
       "512                Josh Onomah                        -               England   \n",
       "513              Thomas Cannon                        -               Ireland   \n",
       "514         Nathaniel Chalobah                        -               England   \n",
       "515         David Datro Fofana                  Chelsea         Cote D’Ivoire   \n",
       "516               Harvey White                        -               England   \n",
       "517             Illia Zabarnyi              Bournemouth               Ukraine   \n",
       "518                Shane Duffy                   Fulham               Ireland   \n",
       "519                Darko Gyabi             Leeds United               England   \n",
       "520             Sasa Kalajdzic  Wolverhampton Wanderers               Austria   \n",
       "521                 Jamal Lowe                        -               Jamaica   \n",
       "522                 Owen Bevan                        -                 Wales   \n",
       "523     Mateo Joseph Fernández             Leeds United                 Spain   \n",
       "524                 Marquinhos                        -                Brazil   \n",
       "525                 David Ozoh           Crystal Palace               England   \n",
       "526               Connor Ronan                        -               Ireland   \n",
       "527               David Brooks              Bournemouth                 Wales   \n",
       "528            Tyrese Francois                   Fulham             Australia   \n",
       "529               Andrew Moran   Brighton & Hove Albion               Ireland   \n",
       "530               Mislav Orsic              Southampton               Croatia   \n",
       "531                       Cafú        Nottingham Forest              Portugal   \n",
       "532                Bobby Clark                Liverpool               England   \n",
       "533         Emiliano Marcondes                        -               Denmark   \n",
       "534               Alex Mighten        Nottingham Forest               England   \n",
       "535               Divin Mubama          West Ham United               England   \n",
       "536                Emil Krafth         Newcastle United                Sweden   \n",
       "537           Halil Dervisoglu                        -       [object Object]   \n",
       "538              Ethan Nwaneri                  Arsenal               England   \n",
       "539             Nathan Redmond                        -               England   \n",
       "540             Conor Coventry                        -               Ireland   \n",
       "\n",
       "     Goals  Total Pass  Touches  Shots  Big Chance Missed  Appearances  \\\n",
       "0     35.0       429.0    739.0  108.0               23.0           31   \n",
       "1     25.0       742.0   1307.0  120.0               11.0           34   \n",
       "2     20.0       718.0   1309.0   93.0               16.0           32   \n",
       "3     18.0       981.0   1547.0  107.0               17.0           34   \n",
       "4     16.0       694.0   1196.0   92.0               19.0           32   \n",
       "5     15.0       960.0   1593.0   76.0                5.0           34   \n",
       "6     15.0       201.0    462.0   60.0               12.0           26   \n",
       "7     14.0       504.0    923.0   79.0               17.0           33   \n",
       "8     14.0      1508.0   2011.0   86.0                3.0           33   \n",
       "9     13.0      1123.0   1869.0   81.0                3.0           34   \n",
       "10    11.0       800.0   1180.0   54.0                4.0           29   \n",
       "11    11.0       442.0    852.0   86.0               10.0           21   \n",
       "12    11.0       467.0    747.0   61.0                4.0           27   \n",
       "13    10.0       664.0   1125.0   65.0                8.0           30   \n",
       "14    10.0       580.0   1057.0   68.0               16.0           22   \n",
       "15    10.0       771.0   1110.0   37.0                3.0           27   \n",
       "16    10.0       227.0    442.0   38.0                4.0           17   \n",
       "17    10.0       686.0   1187.0   76.0                7.0           32   \n",
       "18     9.0       521.0    747.0   37.0                6.0           23   \n",
       "19     9.0      1523.0   1967.0   77.0                5.0           29   \n",
       "20     9.0       894.0   1392.0   73.0                4.0           26   \n",
       "21     9.0       360.0    673.0   82.0               19.0           28   \n",
       "22     8.0       338.0    519.0   36.0                4.0           26   \n",
       "23     8.0       941.0   1475.0   59.0                1.0           34   \n",
       "24     8.0      1705.0   2240.0   32.0                3.0           31   \n",
       "25     8.0       251.0    467.0   36.0                5.0           32   \n",
       "26     8.0       411.0    825.0   53.0                7.0           34   \n",
       "27     8.0       789.0   1228.0   49.0                3.0           32   \n",
       "28     7.0       908.0   1375.0   37.0                3.0           33   \n",
       "29     7.0      1230.0   1791.0   64.0                3.0           29   \n",
       "30     7.0       747.0   1193.0   64.0               13.0           30   \n",
       "31     7.0      1075.0   1759.0   72.0               10.0           32   \n",
       "32     7.0       757.0   1154.0   40.0                7.0           27   \n",
       "33     7.0      1742.0   2316.0   39.0                2.0           34   \n",
       "34     7.0       543.0   1129.0   62.0                5.0           25   \n",
       "35     6.0      1116.0   1697.0   48.0                3.0           29   \n",
       "36     6.0      1612.0   2198.0   73.0                6.0           32   \n",
       "37     6.0       567.0    933.0   40.0                3.0           30   \n",
       "38     6.0      1872.0   2351.0   65.0                NaN           31   \n",
       "39     6.0       294.0    517.0   33.0                3.0           17   \n",
       "40     6.0       704.0   1254.0   57.0                9.0           34   \n",
       "41     6.0       443.0   1019.0   70.0                5.0           29   \n",
       "42     6.0       378.0    659.0   54.0               10.0           26   \n",
       "43     5.0       466.0    761.0   42.0               10.0           27   \n",
       "44     5.0       276.0    640.0   34.0                5.0           31   \n",
       "45     5.0       617.0   1073.0   67.0                1.0           32   \n",
       "46     5.0       857.0   1128.0   15.0                1.0           18   \n",
       "47     5.0       657.0   1351.0   69.0                5.0           34   \n",
       "48     5.0       931.0   1354.0   41.0                1.0           34   \n",
       "49     5.0       985.0   1416.0   41.0                2.0           27   \n",
       "50     5.0       267.0    462.0   37.0                6.0           26   \n",
       "51     5.0      1096.0   1806.0   21.0                NaN           34   \n",
       "52     5.0      1396.0   1783.0   33.0                3.0           33   \n",
       "53     5.0       821.0   1174.0   37.0                4.0           25   \n",
       "54     5.0       636.0   1258.0   41.0                1.0           32   \n",
       "55     5.0       585.0    819.0   17.0                2.0           21   \n",
       "56     5.0       329.0    523.0   28.0                2.0           19   \n",
       "57     5.0       596.0   1114.0   37.0                1.0           23   \n",
       "58     5.0       315.0    507.0   29.0               10.0           18   \n",
       "59     5.0       276.0    502.0   25.0                3.0           34   \n",
       "60     5.0      1468.0   1845.0   36.0                3.0           33   \n",
       "61     4.0       174.0    386.0   28.0                8.0           23   \n",
       "62     4.0       724.0   1375.0   27.0                NaN           34   \n",
       "63     4.0       399.0    818.0   46.0                3.0           29   \n",
       "64     4.0       290.0    540.0   44.0               12.0           25   \n",
       "65     4.0       252.0    445.0   30.0                5.0           27   \n",
       "66     4.0       545.0    815.0   17.0                1.0           32   \n",
       "67     4.0       770.0   1252.0   31.0                2.0           33   \n",
       "68     4.0       343.0    548.0   21.0                2.0           13   \n",
       "69     4.0       640.0    947.0   58.0                3.0           21   \n",
       "70     4.0       370.0    689.0   36.0                3.0           31   \n",
       "71     4.0       155.0    257.0   23.0                3.0           13   \n",
       "72     4.0       889.0   1542.0   57.0                4.0           33   \n",
       "73     4.0       629.0   1250.0   52.0                4.0           30   \n",
       "74     4.0      1235.0   1535.0   48.0                8.0           28   \n",
       "75     4.0       866.0   1569.0   35.0                4.0           32   \n",
       "76     4.0       855.0   1405.0   62.0                4.0           33   \n",
       "77     4.0      2145.0   2629.0   32.0                NaN           33   \n",
       "78     4.0       219.0    333.0   18.0                7.0           16   \n",
       "79     4.0       331.0    545.0   21.0                5.0           24   \n",
       "80     4.0      1329.0   1747.0   25.0                1.0           31   \n",
       "81     4.0       356.0    590.0   28.0                1.0           33   \n",
       "82     4.0       236.0    436.0   40.0               10.0           26   \n",
       "83     4.0       782.0   1219.0   27.0                1.0           31   \n",
       "84     4.0      1506.0   1989.0   29.0                NaN           33   \n",
       "85     4.0       176.0    296.0    8.0                NaN           15   \n",
       "86     4.0       545.0    872.0   30.0                7.0           24   \n",
       "87     4.0       386.0    705.0   26.0                2.0           26   \n",
       "88     4.0       962.0   1371.0   46.0                2.0           25   \n",
       "89     3.0       204.0    344.0   19.0                NaN           14   \n",
       "90     3.0       151.0    311.0   17.0                3.0           25   \n",
       "91     3.0       703.0    998.0   35.0                2.0           23   \n",
       "92     3.0      2166.0   2560.0   30.0                2.0           34   \n",
       "93     3.0       405.0    758.0   33.0                5.0           27   \n",
       "94     3.0      1350.0   1809.0   23.0                2.0           27   \n",
       "95     3.0       827.0   1109.0   11.0                NaN           31   \n",
       "96     3.0      1108.0   1616.0   37.0                1.0           31   \n",
       "97     3.0      1481.0   1933.0   22.0                1.0           33   \n",
       "98     3.0       705.0   1050.0   33.0                NaN           24   \n",
       "99     3.0        87.0    135.0    8.0                1.0            8   \n",
       "100    3.0      1749.0   2121.0   28.0                1.0           29   \n",
       "101    3.0      1073.0   1460.0   18.0                1.0           33   \n",
       "102    3.0      1859.0   2320.0   32.0                1.0           33   \n",
       "103    3.0       175.0    311.0   30.0                3.0           16   \n",
       "104    3.0       834.0   1277.0   28.0                2.0           33   \n",
       "105    3.0      1367.0   1714.0   27.0                1.0           27   \n",
       "106    3.0      2363.0   2642.0   29.0                4.0           29   \n",
       "107    3.0       227.0    410.0   23.0                8.0           33   \n",
       "108    3.0       835.0   1310.0   53.0                8.0           32   \n",
       "109    3.0       176.0    265.0   12.0                3.0           25   \n",
       "110    2.0       612.0    795.0    9.0                3.0           15   \n",
       "111    2.0       407.0    689.0   21.0                1.0           26   \n",
       "112    2.0       359.0    587.0   14.0                1.0           20   \n",
       "113    2.0       545.0    810.0   22.0                NaN           28   \n",
       "114    2.0       180.0    342.0   27.0                5.0           14   \n",
       "115    2.0      1116.0   1452.0   23.0                2.0           23   \n",
       "116    2.0      1395.0   2119.0   17.0                2.0           33   \n",
       "117    2.0      1095.0   1432.0   17.0                NaN           17   \n",
       "118    2.0       736.0   1147.0   16.0                2.0           22   \n",
       "119    2.0      1033.0   1297.0   14.0                NaN           27   \n",
       "120    2.0       162.0    388.0   20.0                NaN           18   \n",
       "121    2.0      1043.0   1532.0   25.0                3.0           29   \n",
       "122    2.0      1978.0   2298.0   17.0                1.0           32   \n",
       "123    2.0       183.0    325.0   11.0                NaN           10   \n",
       "124    2.0       446.0    620.0   15.0                2.0           21   \n",
       "125    2.0       156.0    280.0   28.0                2.0           14   \n",
       "126    2.0       277.0    467.0   36.0                3.0           12   \n",
       "127    2.0       578.0    799.0   22.0                0.0           28   \n",
       "128    2.0       135.0    212.0   11.0                1.0           12   \n",
       "129    2.0      1348.0   1597.0    8.0                NaN           28   \n",
       "130    2.0       622.0    966.0   19.0                NaN           30   \n",
       "131    2.0       142.0    260.0   16.0                2.0           15   \n",
       "132    2.0       412.0    722.0   22.0                1.0           20   \n",
       "133    2.0      2799.0   3169.0   49.0                4.0           32   \n",
       "134    2.0       211.0    390.0   15.0                NaN           23   \n",
       "135    2.0      1272.0   1861.0   37.0                3.0           34   \n",
       "136    2.0       189.0    349.0   17.0                NaN           23   \n",
       "137    2.0      1444.0   1706.0   11.0                NaN           22   \n",
       "138    2.0       695.0   1124.0   11.0                1.0           22   \n",
       "139    2.0       620.0   1079.0   39.0                1.0           26   \n",
       "140    2.0       310.0    394.0    8.0                1.0           16   \n",
       "141    2.0       657.0   1094.0   15.0                1.0           22   \n",
       "142    2.0       141.0    276.0   26.0                3.0           27   \n",
       "143    2.0      1005.0   1751.0   42.0                1.0           33   \n",
       "144    2.0       660.0   1206.0   30.0                NaN           29   \n",
       "145    2.0       938.0   1370.0   12.0                3.0           26   \n",
       "146    2.0       343.0    633.0   19.0                0.0           11   \n",
       "147    2.0       681.0    951.0   25.0                2.0           30   \n",
       "148    2.0      1864.0   2095.0    6.0                1.0           27   \n",
       "149    2.0       192.0    368.0   24.0                1.0           14   \n",
       "150    2.0      1090.0   1453.0    6.0                1.0           28   \n",
       "151    2.0       290.0    510.0   18.0                3.0           17   \n",
       "152    2.0       862.0   1267.0   30.0                2.0           33   \n",
       "153    2.0      1407.0   1601.0   11.0                2.0           21   \n",
       "154    2.0      1010.0   1576.0   14.0                1.0           25   \n",
       "155    2.0        54.0     99.0    7.0                NaN            7   \n",
       "156    2.0       364.0    720.0   17.0                NaN           30   \n",
       "157    2.0        96.0    147.0   18.0                5.0           16   \n",
       "158    2.0       171.0    308.0   17.0                2.0           16   \n",
       "159    2.0      1730.0   2330.0   10.0                NaN           34   \n",
       "160    2.0       271.0    439.0   16.0                1.0           25   \n",
       "161    2.0       812.0   1045.0   19.0                1.0           24   \n",
       "162    1.0       693.0   1264.0   40.0                2.0           32   \n",
       "163    1.0      1041.0   1280.0    9.0                NaN           21   \n",
       "164    1.0       451.0    756.0   10.0                NaN           20   \n",
       "165    1.0      1590.0   1855.0    9.0                1.0           24   \n",
       "166    1.0       112.0    179.0    2.0                NaN            6   \n",
       "167    1.0      2032.0   2868.0   32.0                1.0           33   \n",
       "168    1.0      1613.0   1976.0   21.0                2.0           28   \n",
       "169    1.0       276.0    479.0   23.0                1.0           27   \n",
       "170    1.0       108.0    170.0   16.0                3.0           15   \n",
       "171    1.0       638.0   1147.0    8.0                1.0           20   \n",
       "172    1.0       740.0   1273.0   20.0                1.0           25   \n",
       "173    1.0       253.0    344.0    6.0                NaN           11   \n",
       "174    1.0       228.0    345.0    2.0                NaN            8   \n",
       "175    1.0        53.0    129.0    6.0                3.0           12   \n",
       "176    1.0        90.0    128.0    6.0                NaN            7   \n",
       "177    1.0      1871.0   2302.0   23.0                NaN           31   \n",
       "178    1.0       562.0    702.0    5.0                1.0           13   \n",
       "179    1.0       208.0    351.0   14.0                1.0           11   \n",
       "180    1.0       692.0   1052.0    9.0                NaN           18   \n",
       "181    1.0       518.0    904.0   28.0                1.0           28   \n",
       "182    1.0      1140.0   1321.0    4.0                1.0           22   \n",
       "183    1.0       603.0   1039.0    7.0                NaN           23   \n",
       "184    1.0       726.0    925.0   10.0                2.0           17   \n",
       "185    1.0       358.0    548.0   21.0                1.0           20   \n",
       "186    1.0       176.0    318.0   26.0                4.0           20   \n",
       "187    1.0      1144.0   1661.0   21.0                2.0           24   \n",
       "188    1.0        26.0     45.0    4.0                NaN            6   \n",
       "189    1.0      1069.0   1299.0   16.0                1.0           22   \n",
       "190    1.0       230.0    434.0   22.0                4.0           23   \n",
       "191    1.0       659.0   1044.0    7.0                NaN           25   \n",
       "192    1.0      1161.0   1352.0    3.0                NaN           21   \n",
       "193    1.0       329.0    515.0   10.0                NaN           12   \n",
       "194    1.0       158.0    230.0   25.0                2.0           10   \n",
       "195    1.0      2825.0   3107.0   21.0                2.0           32   \n",
       "196    1.0       920.0   1205.0   30.0                1.0           29   \n",
       "197    1.0      1162.0   1418.0   32.0                4.0           23   \n",
       "198    1.0       248.0    350.0   15.0                NaN           20   \n",
       "199    1.0       447.0    732.0    1.0                NaN           16   \n",
       "200    1.0       820.0   1024.0    8.0                1.0           14   \n",
       "201    1.0       172.0    309.0   19.0                NaN           13   \n",
       "202    1.0       233.0    340.0    3.0                NaN            9   \n",
       "203    1.0       125.0    229.0   11.0                NaN           15   \n",
       "204    1.0      1892.0   2283.0   11.0                1.0           33   \n",
       "205    1.0       438.0    507.0    5.0                NaN           14   \n",
       "206    1.0       852.0   1245.0   16.0                NaN           16   \n",
       "207    1.0       315.0    402.0    4.0                NaN           12   \n",
       "208    1.0       495.0    660.0    8.0                NaN           14   \n",
       "209    1.0       392.0    529.0   14.0                2.0           11   \n",
       "210    1.0       225.0    358.0    6.0                NaN           17   \n",
       "211    1.0      1258.0   1494.0   23.0                2.0           25   \n",
       "212    1.0       836.0   1175.0   10.0                NaN           25   \n",
       "213    1.0      1076.0   1452.0   30.0                5.0           32   \n",
       "214    1.0       114.0    212.0    6.0                NaN            7   \n",
       "215    1.0       422.0    582.0    9.0                NaN           23   \n",
       "216    1.0        98.0    255.0   17.0                NaN           21   \n",
       "217    1.0      1518.0   1850.0   10.0                1.0           27   \n",
       "218    1.0       810.0    942.0    4.0                1.0           13   \n",
       "219    1.0       233.0    416.0   30.0                7.0           24   \n",
       "220    1.0       845.0   1300.0   38.0                2.0           30   \n",
       "221    1.0       406.0    643.0   11.0                1.0           21   \n",
       "222    1.0       404.0    502.0    2.0                NaN           17   \n",
       "223    1.0       173.0    209.0    3.0                NaN            3   \n",
       "224    1.0      1720.0   2048.0    6.0                1.0           31   \n",
       "225    1.0       885.0   1348.0   25.0                3.0           30   \n",
       "226    1.0       793.0   1102.0   19.0                NaN           22   \n",
       "227    1.0       207.0    318.0    7.0                NaN           13   \n",
       "228    1.0       881.0   1278.0   32.0                4.0           29   \n",
       "229    1.0       229.0    487.0   22.0                2.0           15   \n",
       "230    1.0       100.0    169.0    7.0                2.0            9   \n",
       "231    1.0       473.0    734.0    8.0                NaN           18   \n",
       "232    1.0       772.0   1406.0   29.0                5.0           32   \n",
       "233    1.0       234.0    347.0    5.0                1.0           21   \n",
       "234    1.0       266.0    452.0   17.0                1.0           21   \n",
       "235    1.0      1902.0   2230.0    3.0                1.0           33   \n",
       "236    1.0      1191.0   1621.0   35.0                2.0           30   \n",
       "237    1.0       357.0    598.0   25.0                NaN           20   \n",
       "238    1.0       287.0    439.0   18.0                3.0           12   \n",
       "239    1.0      1541.0   1945.0   44.0                7.0           31   \n",
       "240    1.0        52.0    111.0    3.0                NaN           10   \n",
       "241    1.0      1556.0   2140.0   11.0                NaN           27   \n",
       "242    1.0        60.0     86.0    8.0                1.0           10   \n",
       "243    1.0       587.0    746.0    7.0                NaN           19   \n",
       "244    1.0       257.0    334.0    5.0                NaN            6   \n",
       "245    1.0        71.0    136.0    9.0                1.0           18   \n",
       "246    1.0      1506.0   1997.0   26.0                3.0           34   \n",
       "247    1.0       171.0    212.0    3.0                NaN            6   \n",
       "248    1.0      1759.0   2739.0   12.0                NaN           33   \n",
       "249    1.0      1236.0   1721.0   14.0                NaN           28   \n",
       "250    1.0        78.0    179.0    5.0                NaN            8   \n",
       "251    1.0       877.0   1583.0   12.0                NaN           27   \n",
       "252    1.0       603.0   1235.0   25.0                1.0           31   \n",
       "253    1.0       998.0   1281.0    5.0                NaN           26   \n",
       "254    1.0       876.0   1335.0   12.0                NaN           26   \n",
       "255    1.0      1677.0   2118.0   28.0                1.0           26   \n",
       "256    0.0       104.0    189.0    8.0                1.0           17   \n",
       "257    0.0       238.0    334.0    1.0                NaN            8   \n",
       "258    0.0        55.0     93.0    7.0                2.0           12   \n",
       "259    0.0      1352.0   1904.0   22.0                2.0           29   \n",
       "260    0.0       163.0    290.0   20.0                4.0           13   \n",
       "261    0.0       492.0    734.0   25.0                1.0           22   \n",
       "262    NaN      1975.0   2159.0   10.0                3.0           25   \n",
       "263    NaN      1950.0   2353.0   12.0                2.0           34   \n",
       "264    NaN      1778.0   1996.0   13.0                2.0           26   \n",
       "265    NaN      1746.0   2013.0   14.0                1.0           23   \n",
       "266    NaN      1694.0   2043.0    8.0                1.0           34   \n",
       "267    NaN      1680.0   2013.0   11.0                NaN           27   \n",
       "268    NaN      1670.0   2329.0   13.0                1.0           31   \n",
       "269    NaN      1613.0   1898.0   16.0                NaN           32   \n",
       "270    NaN      1566.0   1786.0   18.0                2.0           25   \n",
       "271    NaN      1497.0   1868.0   12.0                NaN           33   \n",
       "272    NaN      1494.0   1800.0   20.0                3.0           31   \n",
       "273    NaN      1428.0   1783.0    9.0                NaN           25   \n",
       "274    NaN      1414.0   1658.0   22.0                0.0           31   \n",
       "275    NaN      1406.0   1651.0    3.0                1.0           22   \n",
       "276    NaN      1327.0   1699.0    4.0                NaN           24   \n",
       "277    NaN      1297.0   1669.0    1.0                NaN           34   \n",
       "278    NaN      1270.0   2097.0    3.0                NaN           31   \n",
       "279    NaN      1253.0   1855.0   15.0                2.0           33   \n",
       "280    NaN      1235.0   1450.0    5.0                NaN           20   \n",
       "281    NaN      1162.0   1534.0    NaN                NaN           34   \n",
       "282    NaN      1151.0   1360.0   11.0                2.0           22   \n",
       "283    NaN      1107.0   1289.0    6.0                1.0           20   \n",
       "284    NaN      1100.0   1509.0   11.0                NaN           29   \n",
       "285    NaN      1096.0   1409.0    NaN                NaN           32   \n",
       "286    NaN      1090.0   1535.0    7.0                NaN           24   \n",
       "287    NaN      1090.0   1539.0   19.0                2.0           22   \n",
       "288    NaN      1087.0   1458.0   31.0                NaN           30   \n",
       "289    NaN      1085.0   1315.0   10.0                NaN           18   \n",
       "290    NaN      1060.0   1713.0    6.0                2.0           32   \n",
       "291    NaN      1042.0   1541.0    9.0                NaN           26   \n",
       "292    NaN      1037.0   1399.0    NaN                NaN           32   \n",
       "293    NaN      1034.0   1708.0    6.0                1.0           32   \n",
       "294    NaN      1029.0   1363.0    NaN                NaN           33   \n",
       "295    NaN      1028.0   1336.0    NaN                NaN           32   \n",
       "296    NaN      1027.0   1246.0    2.0                NaN           23   \n",
       "297    NaN      1012.0   1233.0    NaN                NaN           32   \n",
       "298    NaN       992.0   1180.0   14.0                NaN           13   \n",
       "299    NaN       990.0   1266.0   16.0                NaN           30   \n",
       "300    NaN       988.0   1649.0   10.0                1.0           33   \n",
       "301    NaN       983.0   1175.0    8.0                2.0           15   \n",
       "302    NaN       974.0   1337.0    0.0                NaN           34   \n",
       "303    NaN       973.0   1300.0    8.0                NaN           25   \n",
       "304    NaN       950.0   1198.0    NaN                NaN           33   \n",
       "305    NaN       946.0   1135.0    6.0                2.0           21   \n",
       "306    NaN       939.0   1711.0   11.0                NaN           27   \n",
       "307    NaN       891.0   1238.0    7.0                1.0           24   \n",
       "308    NaN       888.0   1215.0   14.0                2.0           23   \n",
       "309    NaN       878.0   1110.0    4.0                NaN           20   \n",
       "310    NaN       871.0   1426.0    5.0                2.0           33   \n",
       "311    NaN       844.0   1488.0   19.0                3.0           33   \n",
       "312    NaN       842.0   1241.0    1.0                NaN           34   \n",
       "313    NaN       841.0   1090.0    7.0                NaN           24   \n",
       "314    NaN       829.0   1125.0    3.0                NaN           19   \n",
       "315    NaN       828.0   1096.0    8.0                NaN           28   \n",
       "316    NaN       823.0   1124.0    NaN                NaN           34   \n",
       "317    NaN       821.0   1251.0    5.0                NaN           24   \n",
       "318    NaN       813.0   1004.0    6.0                1.0           20   \n",
       "319    NaN       786.0   1074.0    NaN                NaN           26   \n",
       "320    NaN       776.0    864.0    4.0                2.0           12   \n",
       "321    NaN       762.0   1031.0    NaN                NaN           25   \n",
       "322    NaN       758.0    978.0    7.0                NaN           19   \n",
       "323    NaN       756.0   1071.0    7.0                NaN           21   \n",
       "324    NaN       756.0    966.0    1.0                NaN           22   \n",
       "325    NaN       736.0   1186.0    7.0                NaN           23   \n",
       "326    NaN       726.0    997.0    9.0                1.0           20   \n",
       "327    NaN       720.0   1342.0    6.0                NaN           25   \n",
       "328    NaN       701.0    992.0    NaN                NaN           27   \n",
       "329    NaN       699.0    889.0    2.0                NaN           20   \n",
       "330    NaN       682.0   1021.0    5.0                NaN           14   \n",
       "331    NaN       680.0    978.0    NaN                NaN           32   \n",
       "332    NaN       673.0    764.0    1.0                NaN           10   \n",
       "333    NaN       673.0    867.0    NaN                NaN           23   \n",
       "334    NaN       660.0    996.0    NaN                NaN           22   \n",
       "335    NaN       654.0    742.0    5.0                1.0            9   \n",
       "336    NaN       643.0    888.0    5.0                NaN           25   \n",
       "337    NaN       620.0    724.0    2.0                NaN           15   \n",
       "338    NaN       616.0    857.0    NaN                NaN           25   \n",
       "339    NaN       610.0    918.0   10.0                NaN           22   \n",
       "340    NaN       607.0   1105.0   11.0                1.0           24   \n",
       "341    NaN       604.0    873.0    NaN                NaN           24   \n",
       "342    NaN       599.0    972.0    NaN                NaN           33   \n",
       "343    NaN       579.0    654.0    9.0                1.0            8   \n",
       "344    NaN       567.0    658.0    5.0                NaN           20   \n",
       "345    NaN       566.0    714.0    2.0                NaN           17   \n",
       "346    NaN       562.0    772.0    NaN                NaN           18   \n",
       "347    NaN       548.0    961.0   32.0                3.0           30   \n",
       "348    NaN       543.0    853.0    5.0                NaN           19   \n",
       "349    NaN       541.0    843.0    1.0                NaN           20   \n",
       "350    NaN       535.0    702.0   12.0                NaN           29   \n",
       "351    NaN       532.0    813.0    8.0                2.0           15   \n",
       "352    NaN       528.0    642.0    8.0                3.0           10   \n",
       "353    NaN       527.0    689.0    7.0                NaN           12   \n",
       "354    NaN       512.0    876.0   13.0                NaN           16   \n",
       "355    NaN       511.0    602.0    2.0                NaN           14   \n",
       "356    NaN       506.0    652.0    8.0                NaN           15   \n",
       "357    NaN       506.0    763.0    6.0                NaN           27   \n",
       "358    NaN       504.0    693.0    8.0                NaN           15   \n",
       "359    NaN       493.0    737.0    9.0                1.0           13   \n",
       "360    NaN       476.0    827.0    4.0                NaN           19   \n",
       "361    NaN       458.0    574.0    4.0                NaN           16   \n",
       "362    NaN       457.0    861.0    4.0                0.0           19   \n",
       "363    NaN       455.0    567.0    3.0                NaN           12   \n",
       "364    NaN       440.0    680.0    3.0                NaN           13   \n",
       "365    NaN       427.0    513.0    6.0                NaN            8   \n",
       "366    NaN       412.0    571.0    3.0                NaN           21   \n",
       "367    NaN       410.0    586.0    1.0                NaN           14   \n",
       "368    NaN       409.0    764.0    8.0                2.0           16   \n",
       "369    NaN       399.0    501.0    2.0                NaN           15   \n",
       "370    NaN       398.0    522.0    6.0                NaN           18   \n",
       "371    NaN       394.0    497.0    3.0                NaN           10   \n",
       "372    NaN       391.0    535.0    NaN                NaN           14   \n",
       "373    NaN       383.0    645.0    7.0                1.0           17   \n",
       "374    NaN       377.0    500.0    3.0                NaN           18   \n",
       "375    NaN       375.0    500.0    5.0                1.0           23   \n",
       "376    NaN       371.0    522.0    3.0                NaN           13   \n",
       "377    NaN       365.0    559.0    9.0                NaN           17   \n",
       "378    NaN       364.0    512.0    4.0                1.0           15   \n",
       "379    NaN       353.0    510.0    6.0                NaN           23   \n",
       "380    NaN       332.0    584.0    3.0                NaN           11   \n",
       "381    NaN       314.0    383.0    6.0                NaN           11   \n",
       "382    NaN       299.0    450.0    8.0                2.0           22   \n",
       "383    NaN       296.0    409.0    3.0                NaN           13   \n",
       "384    NaN       294.0    431.0    1.0                NaN            9   \n",
       "385    NaN       291.0    427.0    1.0                NaN           14   \n",
       "386    NaN       289.0    378.0    7.0                NaN            6   \n",
       "387    NaN       284.0    482.0   14.0                NaN           15   \n",
       "388    NaN       283.0    383.0   11.0                NaN           10   \n",
       "389    NaN       282.0    395.0   10.0                NaN           17   \n",
       "390    NaN       280.0    505.0   17.0                1.0           16   \n",
       "391    NaN       276.0    345.0    NaN                NaN            9   \n",
       "392    NaN       276.0    373.0    NaN                NaN           11   \n",
       "393    NaN       271.0    486.0    6.0                NaN           16   \n",
       "394    NaN       261.0    368.0    4.0                NaN           19   \n",
       "395    NaN       261.0    298.0    3.0                NaN            9   \n",
       "396    NaN       255.0    423.0    3.0                0.0           17   \n",
       "397    NaN       252.0    336.0    7.0                NaN           18   \n",
       "398    NaN       251.0    353.0    3.0                1.0           23   \n",
       "399    NaN       232.0    395.0    5.0                NaN           20   \n",
       "400    NaN       230.0    329.0    9.0                2.0           19   \n",
       "401    NaN       226.0    413.0    6.0                1.0           13   \n",
       "402    NaN       226.0    311.0    NaN                NaN            9   \n",
       "403    NaN       220.0    313.0    NaN                NaN            8   \n",
       "404    NaN       211.0    291.0    4.0                NaN           18   \n",
       "405    NaN       207.0    375.0    5.0                1.0           10   \n",
       "406    NaN       205.0    431.0   17.0                1.0           14   \n",
       "407    NaN       196.0    381.0    3.0                NaN           15   \n",
       "408    NaN       196.0    285.0    NaN                NaN           10   \n",
       "409    NaN       195.0    279.0    4.0                1.0            9   \n",
       "410    NaN       192.0    310.0    6.0                3.0           17   \n",
       "411    NaN       191.0    247.0    2.0                NaN           14   \n",
       "412    NaN       190.0    277.0    6.0                NaN           12   \n",
       "413    NaN       183.0    274.0    3.0                NaN            6   \n",
       "414    NaN       179.0    332.0    9.0                1.0           15   \n",
       "415    NaN       179.0    217.0    3.0                NaN            9   \n",
       "416    NaN       178.0    238.0    2.0                NaN            7   \n",
       "417    NaN       171.0    273.0    5.0                2.0            5   \n",
       "418    NaN       164.0    221.0   10.0                NaN            8   \n",
       "419    NaN       163.0    288.0    NaN                NaN           12   \n",
       "420    NaN       163.0    255.0   10.0                1.0           13   \n",
       "421    NaN       156.0    247.0    2.0                NaN            8   \n",
       "422    NaN       152.0    271.0    8.0                1.0            8   \n",
       "423    NaN       149.0    283.0    9.0                4.0           12   \n",
       "424    NaN       145.0    304.0    8.0                1.0           16   \n",
       "425    NaN       141.0    199.0    NaN                NaN           11   \n",
       "426    NaN       141.0    182.0    4.0                NaN            8   \n",
       "427    NaN       141.0    180.0    2.0                NaN           10   \n",
       "428    NaN       140.0    203.0    NaN                NaN            5   \n",
       "429    NaN       136.0    200.0    4.0                NaN           14   \n",
       "430    NaN       135.0    158.0    2.0                NaN            8   \n",
       "431    NaN       135.0    283.0    6.0                1.0            7   \n",
       "432    NaN       134.0    164.0    2.0                NaN            7   \n",
       "433    NaN       125.0    140.0    4.0                1.0            2   \n",
       "434    NaN       121.0    209.0   10.0                2.0           16   \n",
       "435    NaN       121.0    166.0    3.0                NaN            8   \n",
       "436    NaN       114.0    175.0    4.0                NaN           11   \n",
       "437    NaN       111.0    152.0    NaN                NaN            4   \n",
       "438    NaN       109.0    234.0   10.0                2.0           14   \n",
       "439    NaN       104.0    159.0    6.0                NaN            8   \n",
       "440    NaN       100.0    115.0    2.0                1.0            4   \n",
       "441    NaN        99.0    112.0    2.0                NaN            7   \n",
       "442    NaN        96.0    182.0    1.0                NaN           10   \n",
       "443    NaN        93.0    121.0    2.0                NaN            7   \n",
       "444    NaN        91.0    127.0    NaN                NaN            8   \n",
       "445    NaN        91.0    117.0    NaN                NaN            4   \n",
       "446    NaN        89.0    143.0    NaN                NaN            3   \n",
       "447    NaN        83.0    127.0    2.0                NaN           11   \n",
       "448    NaN        82.0    108.0    1.0                NaN            5   \n",
       "449    NaN        82.0     90.0    1.0                NaN            2   \n",
       "450    NaN        81.0    102.0    NaN                NaN            2   \n",
       "451    NaN        77.0    106.0    NaN                NaN            5   \n",
       "452    NaN        76.0    154.0    7.0                2.0           10   \n",
       "453    NaN        75.0    125.0    2.0                NaN            6   \n",
       "454    NaN        75.0     91.0    NaN                NaN            2   \n",
       "455    NaN        74.0    140.0    7.0                NaN            9   \n",
       "456    NaN        71.0    115.0    6.0                NaN            6   \n",
       "457    NaN        70.0    117.0    4.0                1.0           12   \n",
       "458    NaN        68.0     92.0    4.0                NaN           10   \n",
       "459    NaN        64.0    133.0   10.0                1.0           15   \n",
       "460    NaN        64.0     79.0    NaN                NaN            3   \n",
       "461    NaN        64.0    120.0    NaN                NaN            6   \n",
       "462    NaN        64.0    116.0    5.0                NaN            9   \n",
       "463    NaN        63.0     98.0    1.0                NaN           13   \n",
       "464    NaN        61.0    104.0    1.0                NaN           13   \n",
       "465    NaN        60.0     64.0    NaN                NaN            5   \n",
       "466    NaN        59.0     78.0    2.0                NaN            7   \n",
       "467    NaN        58.0     69.0    NaN                NaN            2   \n",
       "468    NaN        57.0     88.0    2.0                NaN            4   \n",
       "469    NaN        55.0    112.0    NaN                NaN            5   \n",
       "470    NaN        51.0    135.0    3.0                NaN           10   \n",
       "471    NaN        48.0     67.0    NaN                NaN            2   \n",
       "472    NaN        44.0     65.0    3.0                NaN            7   \n",
       "473    NaN        43.0     51.0    NaN                NaN            1   \n",
       "474    NaN        42.0     83.0    2.0                NaN            6   \n",
       "475    NaN        37.0     62.0    1.0                NaN            5   \n",
       "476    NaN        31.0     48.0    NaN                NaN            1   \n",
       "477    NaN        31.0     43.0    NaN                NaN            4   \n",
       "478    NaN        30.0     52.0    2.0                NaN            3   \n",
       "479    NaN        29.0     36.0    NaN                NaN            7   \n",
       "480    NaN        29.0     40.0    NaN                NaN            1   \n",
       "481    NaN        28.0     55.0    2.0                NaN            5   \n",
       "482    NaN        28.0     38.0    4.0                1.0            7   \n",
       "483    NaN        27.0     68.0    NaN                NaN            3   \n",
       "484    NaN        27.0     34.0    1.0                NaN            4   \n",
       "485    NaN        25.0     39.0    NaN                NaN            1   \n",
       "486    NaN        24.0     35.0    NaN                NaN            3   \n",
       "487    NaN        22.0     31.0    NaN                NaN            2   \n",
       "488    NaN        22.0     31.0    NaN                NaN            1   \n",
       "489    NaN        20.0     50.0    7.0                1.0            9   \n",
       "490    NaN        20.0     22.0    NaN                NaN            1   \n",
       "491    NaN        20.0     40.0    2.0                NaN            3   \n",
       "492    NaN        18.0     26.0    NaN                NaN            2   \n",
       "493    NaN        18.0     33.0    NaN                NaN            2   \n",
       "494    NaN        16.0     24.0    NaN                NaN            1   \n",
       "495    NaN        15.0     22.0    NaN                NaN            2   \n",
       "496    NaN        15.0     28.0    NaN                NaN            1   \n",
       "497    NaN        14.0     24.0    NaN                NaN            2   \n",
       "498    NaN        13.0     15.0    NaN                NaN            3   \n",
       "499    NaN        13.0     18.0    NaN                NaN            1   \n",
       "500    NaN        12.0     13.0    NaN                NaN            1   \n",
       "501    NaN        12.0     20.0    NaN                NaN            3   \n",
       "502    NaN        11.0     20.0    NaN                NaN            6   \n",
       "503    NaN        11.0     15.0    1.0                NaN            2   \n",
       "504    NaN        11.0     13.0    NaN                NaN            1   \n",
       "505    NaN        10.0     15.0    NaN                NaN            1   \n",
       "506    NaN         9.0     14.0    1.0                NaN            4   \n",
       "507    NaN         8.0     11.0    NaN                NaN            1   \n",
       "508    NaN         7.0     14.0    NaN                NaN            4   \n",
       "509    NaN         7.0     24.0    NaN                NaN            3   \n",
       "510    NaN         7.0     12.0    NaN                NaN            2   \n",
       "511    NaN         6.0      7.0    NaN                NaN            1   \n",
       "512    NaN         6.0     12.0    NaN                NaN            2   \n",
       "513    NaN         5.0     10.0    1.0                NaN            2   \n",
       "514    NaN         5.0     12.0    1.0                NaN            4   \n",
       "515    NaN         5.0     37.0    3.0                NaN            2   \n",
       "516    NaN         5.0      8.0    NaN                NaN            1   \n",
       "517    NaN         5.0      8.0    NaN                NaN            2   \n",
       "518    NaN         4.0      6.0    NaN                NaN            4   \n",
       "519    NaN         4.0     11.0    1.0                NaN            1   \n",
       "520    NaN         4.0      8.0    1.0                1.0            1   \n",
       "521    NaN         4.0      4.0    NaN                NaN            2   \n",
       "522    NaN         3.0      3.0    NaN                NaN            1   \n",
       "523    NaN         3.0     13.0    1.0                NaN            3   \n",
       "524    NaN         3.0      3.0    NaN                NaN            1   \n",
       "525    NaN         3.0      4.0    NaN                NaN            1   \n",
       "526    NaN         3.0      5.0    NaN                NaN            1   \n",
       "527    NaN         2.0      8.0    1.0                NaN            2   \n",
       "528    NaN         2.0      5.0    NaN                NaN            1   \n",
       "529    NaN         2.0      6.0    NaN                NaN            1   \n",
       "530    NaN         2.0      4.0    NaN                NaN            1   \n",
       "531    NaN         2.0      3.0    NaN                NaN            1   \n",
       "532    NaN         1.0      7.0    NaN                NaN            1   \n",
       "533    NaN         1.0      3.0    NaN                NaN            1   \n",
       "534    NaN         1.0      4.0    NaN                NaN            1   \n",
       "535    NaN         1.0      2.0    NaN                NaN            1   \n",
       "536    NaN         0.0      1.0    NaN                NaN            1   \n",
       "537    NaN         NaN      2.0    1.0                NaN            1   \n",
       "538    NaN         NaN      1.0    NaN                NaN            1   \n",
       "539    NaN         NaN      1.0    NaN                NaN            1   \n",
       "540    NaN         NaN      NaN    NaN                NaN            1   \n",
       "\n",
       "     Total Offside  Dispossessed  Total Cross  Total Through Ball  Assists  \n",
       "0              7.0          24.0         11.0                 4.0      7.0  \n",
       "1             15.0          57.0         36.0                16.0      3.0  \n",
       "2             27.0          46.0         33.0                12.0      4.0  \n",
       "3             20.0          62.0         25.0                11.0      7.0  \n",
       "4             15.0          42.0         23.0                 2.0      5.0  \n",
       "5              8.0          53.0        112.0                 8.0      5.0  \n",
       "6             14.0          28.0          5.0                 2.0      4.0  \n",
       "7             17.0          36.0          9.0                 NaN      6.0  \n",
       "8              1.0          43.0         87.0                21.0      7.0  \n",
       "9              9.0          50.0        153.0                 2.0     11.0  \n",
       "10             9.0          20.0         21.0                 1.0      1.0  \n",
       "11            14.0          53.0          4.0                 4.0      1.0  \n",
       "12             8.0          21.0         16.0                 4.0      1.0  \n",
       "13             7.0          38.0         40.0                 4.0      1.0  \n",
       "14            15.0          55.0          8.0                 4.0      5.0  \n",
       "15             4.0          27.0         79.0                 2.0      5.0  \n",
       "16             4.0          16.0          4.0                 8.0      1.0  \n",
       "17            14.0          51.0        104.0                 5.0      5.0  \n",
       "18             4.0          22.0         12.0                 7.0      4.0  \n",
       "19             NaN          32.0         26.0                12.0      1.0  \n",
       "20             5.0          25.0        108.0                 9.0      8.0  \n",
       "21            16.0          27.0         17.0                 2.0      3.0  \n",
       "22             2.0          15.0         18.0                 6.0      NaN  \n",
       "23             3.0          47.0         65.0                 7.0      3.0  \n",
       "24             9.0          17.0        192.0                 9.0      6.0  \n",
       "25            14.0          25.0          4.0                 6.0      NaN  \n",
       "26            17.0          24.0         58.0                 NaN      2.0  \n",
       "27             7.0          44.0         82.0                14.0     10.0  \n",
       "28             3.0          32.0         35.0                 5.0      1.0  \n",
       "29             5.0          27.0        213.0                27.0     16.0  \n",
       "30            27.0          34.0         13.0                 2.0      1.0  \n",
       "31            12.0          32.0        152.0                 3.0      7.0  \n",
       "32             5.0          24.0         31.0                 4.0      4.0  \n",
       "33             NaN          21.0        220.0                 2.0      2.0  \n",
       "34            14.0          81.0         33.0                 3.0      2.0  \n",
       "35             1.0          49.0         16.0                 3.0      1.0  \n",
       "36            14.0          37.0        122.0                30.0      7.0  \n",
       "37             4.0          30.0         55.0                 8.0      NaN  \n",
       "38             NaN          11.0         38.0                 7.0      NaN  \n",
       "39             7.0          22.0         14.0                 1.0      2.0  \n",
       "40             4.0          48.0        137.0                 6.0      6.0  \n",
       "41            10.0          64.0         13.0                 2.0      7.0  \n",
       "42             4.0          18.0          NaN                 6.0      3.0  \n",
       "43            13.0          24.0         11.0                 6.0      3.0  \n",
       "44            12.0          43.0         31.0                 1.0      3.0  \n",
       "45             7.0          38.0         71.0                 5.0      3.0  \n",
       "46             NaN          17.0         16.0                 3.0      2.0  \n",
       "47             9.0          52.0        146.0                 6.0      4.0  \n",
       "48             1.0          55.0         18.0                10.0      2.0  \n",
       "49             3.0          26.0         53.0                 6.0      7.0  \n",
       "50            11.0          33.0          6.0                 4.0      4.0  \n",
       "51             1.0          30.0        150.0                 5.0      5.0  \n",
       "52             2.0          15.0         11.0                 7.0      NaN  \n",
       "53             6.0          17.0         78.0                 8.0      7.0  \n",
       "54             1.0          39.0        164.0                 3.0      2.0  \n",
       "55             7.0          18.0         16.0                 3.0      2.0  \n",
       "56             5.0          23.0          7.0                 2.0      NaN  \n",
       "57             4.0          40.0         93.0                 5.0      4.0  \n",
       "58             3.0          17.0          7.0                 2.0      4.0  \n",
       "59            16.0          24.0         12.0                 4.0      2.0  \n",
       "60             3.0          25.0         39.0                 5.0      7.0  \n",
       "61            11.0          23.0          3.0                 2.0      1.0  \n",
       "62             3.0          75.0         43.0                 5.0      2.0  \n",
       "63             8.0          51.0         87.0                 3.0      3.0  \n",
       "64            15.0          18.0          2.0                 1.0      2.0  \n",
       "65             7.0          19.0          7.0                 5.0      3.0  \n",
       "66             NaN          27.0         33.0                 1.0      2.0  \n",
       "67            11.0          32.0         53.0                 1.0      1.0  \n",
       "68             2.0          30.0          7.0                 NaN      2.0  \n",
       "69             2.0          10.0         30.0                 3.0      1.0  \n",
       "70            11.0          50.0          4.0                 NaN      2.0  \n",
       "71             1.0          12.0          0.0                 1.0      2.0  \n",
       "72             5.0          42.0        157.0                16.0      6.0  \n",
       "73            13.0          63.0        160.0                 2.0      1.0  \n",
       "74             6.0          25.0         27.0                15.0      3.0  \n",
       "75             3.0          54.0        161.0                 4.0      7.0  \n",
       "76             2.0          51.0        196.0                 1.0      6.0  \n",
       "77             1.0          35.0         14.0                 8.0      5.0  \n",
       "78             6.0          14.0          3.0                 3.0      2.0  \n",
       "79             NaN          32.0          6.0                 NaN      NaN  \n",
       "80             2.0          31.0         73.0                 3.0      5.0  \n",
       "81             2.0          20.0         51.0                 6.0      2.0  \n",
       "82             8.0          18.0          5.0                 NaN      1.0  \n",
       "83             2.0          34.0         12.0                 2.0      5.0  \n",
       "84             2.0          27.0         86.0                 4.0      5.0  \n",
       "85             2.0          10.0          4.0                 1.0      NaN  \n",
       "86             9.0          45.0         40.0                 6.0      2.0  \n",
       "87             8.0          35.0         14.0                 1.0      2.0  \n",
       "88             1.0          37.0         21.0                12.0      2.0  \n",
       "89             1.0          19.0          3.0                 1.0      1.0  \n",
       "90             4.0          17.0          5.0                 3.0      1.0  \n",
       "91             3.0          21.0         43.0                 3.0      3.0  \n",
       "92             1.0           4.0          4.0                 1.0      NaN  \n",
       "93             4.0          27.0         33.0                 2.0      NaN  \n",
       "94             1.0          53.0         19.0                22.0      5.0  \n",
       "95             2.0          11.0         19.0                 3.0      1.0  \n",
       "96             1.0          24.0          3.0                 NaN      NaN  \n",
       "97             1.0           1.0          7.0                 0.0      1.0  \n",
       "98             1.0          29.0         64.0                 6.0      2.0  \n",
       "99             NaN           8.0         11.0                 NaN      2.0  \n",
       "100            NaN          17.0          7.0                11.0      NaN  \n",
       "101            3.0          22.0         47.0                 NaN      2.0  \n",
       "102            1.0          25.0         41.0                 4.0      2.0  \n",
       "103            6.0          18.0          1.0                 NaN      NaN  \n",
       "104            NaN          30.0         16.0                 1.0      1.0  \n",
       "105            1.0          14.0         37.0                10.0      1.0  \n",
       "106            2.0           NaN          1.0                 1.0      NaN  \n",
       "107           25.0          15.0          6.0                 3.0      4.0  \n",
       "108            3.0          24.0         46.0                 4.0      6.0  \n",
       "109            6.0          11.0          NaN                 1.0      NaN  \n",
       "110            1.0           7.0          NaN                 NaN      NaN  \n",
       "111            5.0          17.0         40.0                 2.0      1.0  \n",
       "112            NaN          20.0          8.0                 NaN      NaN  \n",
       "113            1.0          23.0         29.0                 2.0      0.0  \n",
       "114           19.0          11.0          4.0                 NaN      NaN  \n",
       "115            1.0          12.0         18.0                10.0      3.0  \n",
       "116            6.0          16.0         54.0                 3.0      3.0  \n",
       "117            4.0          14.0         45.0                 2.0      1.0  \n",
       "118            3.0          17.0         86.0                 2.0      2.0  \n",
       "119            NaN           5.0         29.0                 NaN      2.0  \n",
       "120            4.0          23.0         11.0                 NaN      2.0  \n",
       "121            1.0          30.0         46.0                 9.0      2.0  \n",
       "122            1.0           3.0         11.0                 2.0      1.0  \n",
       "123            2.0           7.0          1.0                 1.0      1.0  \n",
       "124            7.0          11.0          5.0                 1.0      2.0  \n",
       "125            1.0          17.0          4.0                 2.0      2.0  \n",
       "126            6.0           8.0         19.0                 2.0      NaN  \n",
       "127            1.0          13.0         50.0                 5.0      1.0  \n",
       "128            NaN          15.0          2.0                 NaN      NaN  \n",
       "129            NaN          15.0          4.0                 6.0      NaN  \n",
       "130            2.0          28.0         45.0                 1.0      1.0  \n",
       "131            3.0          12.0          1.0                 NaN      2.0  \n",
       "132            3.0          18.0         37.0                 4.0      4.0  \n",
       "133            3.0          18.0          6.0                 2.0      6.0  \n",
       "134            1.0          18.0         10.0                 2.0      1.0  \n",
       "135            4.0          39.0         93.0                13.0      6.0  \n",
       "136            2.0          13.0         30.0                 NaN      1.0  \n",
       "137            NaN           2.0          4.0                 NaN      1.0  \n",
       "138            1.0           4.0         32.0                 NaN      1.0  \n",
       "139            1.0          47.0         53.0                 3.0      6.0  \n",
       "140            NaN          11.0          3.0                 0.0      1.0  \n",
       "141            NaN          15.0         44.0                 NaN      1.0  \n",
       "142            7.0          16.0          1.0                 NaN      NaN  \n",
       "143            7.0          43.0        206.0                 3.0      9.0  \n",
       "144            3.0          14.0         77.0                 1.0      2.0  \n",
       "145            NaN           7.0          9.0                 NaN      NaN  \n",
       "146            NaN           6.0         50.0                 2.0      1.0  \n",
       "147            1.0          15.0         14.0                 6.0      1.0  \n",
       "148            NaN           6.0          1.0                 NaN      1.0  \n",
       "149            3.0          11.0          7.0                 NaN      NaN  \n",
       "150            NaN           4.0          8.0                 1.0      NaN  \n",
       "151            7.0          10.0         30.0                 2.0      0.0  \n",
       "152            1.0          18.0         17.0                 NaN      3.0  \n",
       "153            1.0           4.0          6.0                 1.0      2.0  \n",
       "154            NaN          10.0         17.0                 NaN      1.0  \n",
       "155            2.0           6.0          3.0                 NaN      NaN  \n",
       "156            6.0          24.0         72.0                 3.0      1.0  \n",
       "157            5.0           6.0          1.0                 1.0      NaN  \n",
       "158           13.0          10.0         14.0                 NaN      1.0  \n",
       "159            1.0           7.0         55.0                 5.0      5.0  \n",
       "160            2.0          12.0         19.0                 NaN      1.0  \n",
       "161            NaN           1.0          NaN                 NaN      NaN  \n",
       "162            6.0          79.0         70.0                 8.0      3.0  \n",
       "163            2.0           4.0          2.0                 2.0      NaN  \n",
       "164            3.0          10.0         21.0                 NaN      NaN  \n",
       "165            1.0           NaN         15.0                 1.0      NaN  \n",
       "166            1.0           2.0         28.0                 1.0      NaN  \n",
       "167            5.0          17.0        218.0                20.0      8.0  \n",
       "168            1.0           2.0          9.0                 2.0      NaN  \n",
       "169            2.0          22.0         14.0                 NaN      1.0  \n",
       "170            NaN           4.0          3.0                 NaN      NaN  \n",
       "171            NaN          16.0         37.0                 1.0      NaN  \n",
       "172            1.0          10.0         49.0                 NaN      1.0  \n",
       "173            NaN           6.0          5.0                 NaN      NaN  \n",
       "174            NaN           3.0         16.0                 NaN      1.0  \n",
       "175            3.0           9.0          NaN                 NaN      NaN  \n",
       "176            1.0           1.0          4.0                 NaN      1.0  \n",
       "177            NaN          22.0         11.0                10.0      1.0  \n",
       "178            NaN           2.0          1.0                 NaN      NaN  \n",
       "179            4.0          12.0         19.0                 NaN      NaN  \n",
       "180            1.0          13.0         18.0                 3.0      NaN  \n",
       "181            NaN          31.0         27.0                 5.0      NaN  \n",
       "182            2.0           2.0          1.0                 1.0      1.0  \n",
       "183            2.0           6.0         22.0                 NaN      NaN  \n",
       "184            NaN           1.0          1.0                 NaN      NaN  \n",
       "185            2.0          17.0         19.0                 5.0      NaN  \n",
       "186           14.0          23.0          6.0                 1.0      NaN  \n",
       "187            0.0           5.0         40.0                 3.0      2.0  \n",
       "188            1.0           2.0          2.0                 NaN      NaN  \n",
       "189            NaN           5.0          2.0                 NaN      NaN  \n",
       "190            6.0          17.0         15.0                 4.0      3.0  \n",
       "191            2.0          11.0         69.0                 NaN      NaN  \n",
       "192            3.0           1.0          2.0                 NaN      NaN  \n",
       "193            NaN           3.0         18.0                 NaN      NaN  \n",
       "194            8.0           3.0          3.0                 2.0      NaN  \n",
       "195            1.0           5.0          2.0                 4.0      NaN  \n",
       "196            2.0          22.0         31.0                 8.0      2.0  \n",
       "197            3.0          14.0         68.0                 8.0      7.0  \n",
       "198            NaN           7.0         17.0                 2.0      2.0  \n",
       "199            NaN           8.0         11.0                 1.0      1.0  \n",
       "200            1.0           6.0          3.0                 NaN      NaN  \n",
       "201            5.0           7.0         27.0                 NaN      1.0  \n",
       "202            NaN           4.0          7.0                 NaN      NaN  \n",
       "203            NaN           5.0         36.0                 NaN      2.0  \n",
       "204            NaN           6.0          NaN                 1.0      NaN  \n",
       "205            NaN           NaN          NaN                 1.0      NaN  \n",
       "206            4.0          14.0         91.0                 NaN      1.0  \n",
       "207            1.0           1.0          NaN                 1.0      NaN  \n",
       "208            1.0          22.0          8.0                 4.0      1.0  \n",
       "209            NaN           1.0          2.0                 NaN      1.0  \n",
       "210            1.0           6.0          NaN                 NaN      NaN  \n",
       "211            NaN          25.0          5.0                10.0      2.0  \n",
       "212            NaN          28.0          3.0                 5.0      NaN  \n",
       "213            5.0          28.0         30.0                 7.0      4.0  \n",
       "214            1.0           9.0          8.0                 NaN      NaN  \n",
       "215            NaN           7.0          6.0                 1.0      0.0  \n",
       "216            3.0          18.0          1.0                 1.0      2.0  \n",
       "217            NaN           9.0          NaN                 7.0      NaN  \n",
       "218            1.0           1.0          1.0                 NaN      NaN  \n",
       "219            1.0          16.0          3.0                 NaN      0.0  \n",
       "220            NaN          30.0         47.0                 8.0      3.0  \n",
       "221            NaN          19.0          4.0                 3.0      NaN  \n",
       "222            NaN           1.0          1.0                 1.0      NaN  \n",
       "223            NaN           NaN          NaN                 NaN      NaN  \n",
       "224            2.0           6.0          2.0                 1.0      2.0  \n",
       "225            2.0          37.0         37.0                 4.0      1.0  \n",
       "226            NaN          10.0         11.0                 2.0      3.0  \n",
       "227            NaN           7.0          4.0                 NaN      NaN  \n",
       "228            2.0          16.0          4.0                 3.0      1.0  \n",
       "229            7.0          10.0         24.0                 3.0      3.0  \n",
       "230            1.0          10.0          2.0                 2.0      NaN  \n",
       "231            NaN           8.0         34.0                 NaN      NaN  \n",
       "232            6.0          14.0        189.0                 NaN      8.0  \n",
       "233            1.0           8.0         15.0                 2.0      NaN  \n",
       "234            NaN          13.0         16.0                 1.0      1.0  \n",
       "235            1.0           5.0          4.0                 NaN      NaN  \n",
       "236            NaN          25.0         74.0                 5.0      2.0  \n",
       "237            1.0          28.0         28.0                 4.0      5.0  \n",
       "238            3.0          13.0         46.0                 1.0      NaN  \n",
       "239            5.0           6.0         14.0                 7.0      3.0  \n",
       "240            1.0           6.0          1.0                 NaN      NaN  \n",
       "241            1.0           8.0         81.0                 2.0      2.0  \n",
       "242            1.0           2.0          1.0                 1.0      NaN  \n",
       "243            NaN          13.0         10.0                 1.0      0.0  \n",
       "244            NaN           NaN          NaN                 NaN      NaN  \n",
       "245            2.0           3.0          3.0                 NaN      NaN  \n",
       "246            1.0           5.0          NaN                 3.0      1.0  \n",
       "247            1.0           1.0          NaN                 NaN      NaN  \n",
       "248            7.0           7.0        339.0                16.0      6.0  \n",
       "249            NaN           8.0         20.0                 1.0      1.0  \n",
       "250            NaN           3.0          3.0                 NaN      NaN  \n",
       "251            1.0          41.0         48.0                 1.0      NaN  \n",
       "252            2.0          17.0         89.0                 3.0      NaN  \n",
       "253            NaN           4.0          4.0                 NaN      NaN  \n",
       "254            1.0           5.0         38.0                 2.0      NaN  \n",
       "255            1.0          15.0         37.0                 6.0      2.0  \n",
       "256            1.0           9.0          4.0                 1.0      NaN  \n",
       "257            3.0           NaN          NaN                 NaN      1.0  \n",
       "258            6.0           2.0          4.0                 NaN      NaN  \n",
       "259            9.0          24.0         74.0                 4.0      4.0  \n",
       "260            9.0          11.0          5.0                 1.0      1.0  \n",
       "261            1.0          15.0          6.0                 NaN      2.0  \n",
       "262            NaN           3.0          1.0                 1.0      NaN  \n",
       "263            NaN           9.0          4.0                 NaN      NaN  \n",
       "264            NaN           3.0          5.0                 NaN      1.0  \n",
       "265            NaN           1.0          1.0                 NaN      2.0  \n",
       "266            NaN           5.0          4.0                 1.0      NaN  \n",
       "267            NaN           5.0          NaN                 2.0      2.0  \n",
       "268            6.0           7.0        178.0                 2.0      8.0  \n",
       "269            NaN          12.0          5.0                 4.0      1.0  \n",
       "270            NaN           5.0          2.0                 NaN      NaN  \n",
       "271            1.0           1.0          1.0                 2.0      NaN  \n",
       "272            2.0           2.0          NaN                 NaN      NaN  \n",
       "273            NaN          10.0          NaN                 2.0      1.0  \n",
       "274            3.0           6.0         37.0                 8.0      2.0  \n",
       "275            NaN           4.0         24.0                 3.0      NaN  \n",
       "276            1.0          18.0          2.0                 1.0      NaN  \n",
       "277            NaN           NaN          0.0                 NaN      NaN  \n",
       "278            3.0          19.0        124.0                 NaN      1.0  \n",
       "279            6.0           7.0         16.0                 NaN      NaN  \n",
       "280            1.0           4.0          4.0                 2.0      NaN  \n",
       "281            NaN           NaN          NaN                 NaN      1.0  \n",
       "282            NaN           5.0         15.0                 1.0      2.0  \n",
       "283            NaN           4.0          NaN                 2.0      NaN  \n",
       "284            NaN          17.0          9.0                 1.0      1.0  \n",
       "285            NaN           0.0          NaN                 1.0      NaN  \n",
       "286            1.0           6.0         44.0                 NaN      2.0  \n",
       "287            1.0           9.0         13.0                 1.0      1.0  \n",
       "288            NaN          19.0          5.0                 2.0      3.0  \n",
       "289            NaN          22.0          3.0                 8.0      0.0  \n",
       "290            NaN          17.0         50.0                 4.0      1.0  \n",
       "291            1.0           6.0        125.0                 1.0      1.0  \n",
       "292            NaN           NaN          NaN                 NaN      NaN  \n",
       "293            2.0          15.0         59.0                 0.0      2.0  \n",
       "294            NaN           1.0          NaN                 1.0      1.0  \n",
       "295            NaN           0.0          NaN                 NaN      NaN  \n",
       "296            1.0           7.0          NaN                 NaN      NaN  \n",
       "297            NaN           NaN          NaN                 1.0      1.0  \n",
       "298            1.0          10.0          7.0                 7.0      2.0  \n",
       "299            1.0           7.0         59.0                 7.0      2.0  \n",
       "300            NaN           8.0         57.0                 1.0      NaN  \n",
       "301            1.0           3.0          NaN                 2.0      NaN  \n",
       "302            NaN           0.0          NaN                 NaN      NaN  \n",
       "303            NaN           3.0          NaN                 NaN      NaN  \n",
       "304            NaN           NaN          NaN                 1.0      NaN  \n",
       "305            2.0           1.0          1.0                 NaN      NaN  \n",
       "306            NaN          20.0         84.0                 1.0      4.0  \n",
       "307            NaN           5.0         21.0                 1.0      2.0  \n",
       "308            NaN           6.0          4.0                 1.0      2.0  \n",
       "309            NaN          11.0          1.0                 2.0      1.0  \n",
       "310            NaN           4.0         40.0                 NaN      1.0  \n",
       "311            2.0          41.0         71.0                 4.0      2.0  \n",
       "312            NaN           1.0          NaN                 NaN      NaN  \n",
       "313            NaN           8.0          2.0                 NaN      NaN  \n",
       "314            NaN           4.0         11.0                 2.0      2.0  \n",
       "315            NaN           7.0          4.0                 NaN      NaN  \n",
       "316            NaN           NaN          NaN                 NaN      NaN  \n",
       "317            NaN           8.0         30.0                 NaN      NaN  \n",
       "318            NaN           4.0          9.0                 NaN      NaN  \n",
       "319            NaN           NaN          0.0                 NaN      NaN  \n",
       "320            NaN           3.0          NaN                 2.0      NaN  \n",
       "321            NaN           NaN          NaN                 NaN      NaN  \n",
       "322            NaN           1.0          1.0                 NaN      NaN  \n",
       "323            2.0           3.0         21.0                 NaN      NaN  \n",
       "324            1.0          19.0          2.0                 2.0      0.0  \n",
       "325            2.0           7.0         46.0                 2.0      1.0  \n",
       "326            1.0          19.0         19.0                 1.0      0.0  \n",
       "327            1.0          19.0        100.0                 NaN      1.0  \n",
       "328            NaN           NaN          NaN                 NaN      NaN  \n",
       "329            NaN           2.0          2.0                 NaN      NaN  \n",
       "330            2.0           6.0         21.0                 NaN      NaN  \n",
       "331            NaN           NaN          NaN                 NaN      NaN  \n",
       "332            NaN           NaN          NaN                 NaN      NaN  \n",
       "333            NaN           NaN          NaN                 NaN      NaN  \n",
       "334            NaN           3.0         21.0                 NaN      NaN  \n",
       "335            NaN           1.0          1.0                 1.0      NaN  \n",
       "336            NaN          14.0         39.0                 1.0      2.0  \n",
       "337            NaN           2.0          1.0                 2.0      NaN  \n",
       "338            NaN           NaN          NaN                 NaN      NaN  \n",
       "339            NaN          10.0         24.0                 1.0      NaN  \n",
       "340            1.0          13.0         65.0                 NaN      NaN  \n",
       "341            NaN           0.0          0.0                 NaN      NaN  \n",
       "342            NaN           0.0          NaN                 NaN      NaN  \n",
       "343            NaN           0.0          5.0                 1.0      NaN  \n",
       "344            1.0           5.0          2.0                 1.0      NaN  \n",
       "345            NaN           2.0          2.0                 2.0      NaN  \n",
       "346            NaN           NaN          NaN                 NaN      NaN  \n",
       "347            3.0          37.0         31.0                 7.0      1.0  \n",
       "348            3.0           5.0         15.0                 NaN      NaN  \n",
       "349            NaN          13.0         16.0                 2.0      NaN  \n",
       "350            NaN          18.0         26.0                 2.0      0.0  \n",
       "351            NaN           7.0         12.0                 2.0      NaN  \n",
       "352            1.0           0.0          NaN                 1.0      1.0  \n",
       "353            1.0           1.0          5.0                 NaN      NaN  \n",
       "354            NaN          15.0         37.0                 1.0      3.0  \n",
       "355            NaN           0.0          1.0                 NaN      NaN  \n",
       "356            1.0           8.0          2.0                 NaN      1.0  \n",
       "357            NaN          12.0         48.0                 1.0      1.0  \n",
       "358            1.0          20.0          7.0                 4.0      NaN  \n",
       "359            3.0           3.0          2.0                 NaN      1.0  \n",
       "360            1.0          10.0         56.0                 NaN      1.0  \n",
       "361            1.0           2.0          2.0                 NaN      NaN  \n",
       "362            NaN          16.0         18.0                 NaN      1.0  \n",
       "363            NaN           2.0          1.0                 NaN      NaN  \n",
       "364            NaN           7.0          7.0                 3.0      NaN  \n",
       "365            NaN           1.0          1.0                 NaN      NaN  \n",
       "366            NaN           4.0         12.0                 2.0      1.0  \n",
       "367            1.0           6.0         14.0                 NaN      NaN  \n",
       "368            1.0           9.0         31.0                 1.0      NaN  \n",
       "369            NaN           7.0          0.0                 3.0      NaN  \n",
       "370            NaN           9.0          4.0                 NaN      NaN  \n",
       "371            NaN          11.0          5.0                 NaN      NaN  \n",
       "372            NaN           NaN          NaN                 NaN      NaN  \n",
       "373            NaN           7.0         72.0                 NaN      4.0  \n",
       "374            NaN           3.0         24.0                 4.0      1.0  \n",
       "375            NaN           5.0          3.0                 NaN      NaN  \n",
       "376            0.0           2.0          6.0                 NaN      NaN  \n",
       "377            1.0           4.0          7.0                 3.0      NaN  \n",
       "378            2.0           1.0          3.0                 NaN      NaN  \n",
       "379            1.0           NaN         20.0                 1.0      1.0  \n",
       "380            NaN           9.0         26.0                 1.0      1.0  \n",
       "381            NaN           4.0         13.0                 3.0      NaN  \n",
       "382            NaN           4.0         22.0                 5.0      NaN  \n",
       "383            NaN           3.0          NaN                 NaN      NaN  \n",
       "384            NaN           8.0          6.0                 NaN      NaN  \n",
       "385            NaN           6.0         29.0                 NaN      NaN  \n",
       "386            1.0           5.0         10.0                 2.0      NaN  \n",
       "387            3.0          13.0         58.0                 4.0      1.0  \n",
       "388            1.0           5.0          4.0                 2.0      1.0  \n",
       "389            2.0          10.0          5.0                 1.0      NaN  \n",
       "390            2.0           9.0         59.0                 1.0      0.0  \n",
       "391            NaN           NaN          NaN                 1.0      1.0  \n",
       "392            NaN           NaN          NaN                 NaN      NaN  \n",
       "393            NaN           6.0         28.0                 NaN      NaN  \n",
       "394            1.0           7.0         10.0                 2.0      1.0  \n",
       "395            NaN           5.0          1.0                 1.0      NaN  \n",
       "396            NaN           9.0         19.0                 2.0      NaN  \n",
       "397            NaN           6.0          6.0                 NaN      NaN  \n",
       "398            NaN           6.0         12.0                 1.0      1.0  \n",
       "399            NaN           2.0         31.0                 1.0      NaN  \n",
       "400            1.0           4.0          2.0                 3.0      NaN  \n",
       "401            1.0           3.0          7.0                 NaN      1.0  \n",
       "402            NaN           NaN          NaN                 NaN      NaN  \n",
       "403            NaN           NaN          NaN                 NaN      NaN  \n",
       "404            NaN           4.0          3.0                 NaN      NaN  \n",
       "405            NaN           1.0          NaN                 NaN      NaN  \n",
       "406            2.0          13.0         18.0                 1.0      1.0  \n",
       "407            NaN           7.0         12.0                 NaN      2.0  \n",
       "408            NaN           NaN          NaN                 NaN      NaN  \n",
       "409            1.0           2.0          NaN                 NaN      NaN  \n",
       "410            1.0           7.0          1.0                 NaN      2.0  \n",
       "411            0.0           1.0          4.0                 NaN      NaN  \n",
       "412            1.0           2.0         25.0                 NaN      1.0  \n",
       "413            NaN           NaN          2.0                 1.0      NaN  \n",
       "414            2.0          10.0         22.0                 NaN      3.0  \n",
       "415            NaN           1.0          1.0                 NaN      NaN  \n",
       "416            NaN           9.0          1.0                 1.0      NaN  \n",
       "417            1.0           6.0          9.0                 NaN      NaN  \n",
       "418            NaN           7.0          2.0                 NaN      NaN  \n",
       "419            NaN           3.0         15.0                 NaN      NaN  \n",
       "420            4.0          12.0          NaN                 3.0      1.0  \n",
       "421            NaN           2.0         27.0                 NaN      NaN  \n",
       "422            NaN          11.0         17.0                 5.0      1.0  \n",
       "423            1.0          10.0         18.0                 1.0      2.0  \n",
       "424            1.0          10.0         10.0                 1.0      NaN  \n",
       "425            NaN           1.0          1.0                 NaN      NaN  \n",
       "426            NaN           2.0          5.0                 NaN      1.0  \n",
       "427            NaN           2.0          0.0                 NaN      NaN  \n",
       "428            NaN           NaN          NaN                 NaN      NaN  \n",
       "429            NaN           1.0          8.0                 NaN      NaN  \n",
       "430            NaN           NaN          NaN                 NaN      NaN  \n",
       "431            1.0          13.0         41.0                 5.0      NaN  \n",
       "432            NaN           NaN          NaN                 NaN      NaN  \n",
       "433            NaN           NaN          1.0                 NaN      NaN  \n",
       "434            3.0           7.0          7.0                 NaN      1.0  \n",
       "435            NaN           3.0          1.0                 NaN      1.0  \n",
       "436            1.0           3.0          3.0                 NaN      NaN  \n",
       "437            NaN           NaN          NaN                 NaN      NaN  \n",
       "438            4.0           6.0         10.0                 NaN      1.0  \n",
       "439            1.0           1.0         13.0                 NaN      NaN  \n",
       "440            NaN           NaN          NaN                 NaN      NaN  \n",
       "441            1.0           2.0          1.0                 NaN      NaN  \n",
       "442            1.0           4.0         10.0                 NaN      NaN  \n",
       "443            NaN           NaN          NaN                 NaN      NaN  \n",
       "444            NaN           2.0          4.0                 NaN      NaN  \n",
       "445            NaN           1.0          1.0                 NaN      NaN  \n",
       "446            NaN           1.0         12.0                 NaN      NaN  \n",
       "447            1.0           4.0          4.0                 NaN      NaN  \n",
       "448            NaN           2.0          1.0                 NaN      NaN  \n",
       "449            NaN           NaN          NaN                 NaN      NaN  \n",
       "450            NaN           NaN          NaN                 NaN      NaN  \n",
       "451            NaN           NaN          NaN                 NaN      NaN  \n",
       "452            1.0           8.0          8.0                 1.0      1.0  \n",
       "453            2.0           5.0          3.0                 NaN      1.0  \n",
       "454            NaN           NaN          NaN                 NaN      NaN  \n",
       "455            5.0           8.0          NaN                 NaN      NaN  \n",
       "456            NaN           0.0          4.0                 NaN      NaN  \n",
       "457            1.0           4.0          1.0                 NaN      NaN  \n",
       "458            1.0           3.0          5.0                 NaN      1.0  \n",
       "459            NaN           7.0          1.0                 1.0      2.0  \n",
       "460            NaN           NaN          NaN                 NaN      NaN  \n",
       "461            NaN           2.0          7.0                 NaN      1.0  \n",
       "462            NaN           7.0          3.0                 NaN      1.0  \n",
       "463            0.0           1.0          7.0                 1.0      NaN  \n",
       "464            NaN           3.0          6.0                 1.0      NaN  \n",
       "465            NaN           NaN          NaN                 NaN      NaN  \n",
       "466            1.0           2.0          NaN                 NaN      NaN  \n",
       "467            NaN           NaN          NaN                 NaN      NaN  \n",
       "468            1.0           3.0          2.0                 NaN      1.0  \n",
       "469            NaN           2.0          4.0                 NaN      NaN  \n",
       "470            1.0          12.0          NaN                 1.0      NaN  \n",
       "471            NaN           NaN          NaN                 NaN      NaN  \n",
       "472            2.0           0.0          2.0                 NaN      NaN  \n",
       "473            NaN           NaN          NaN                 NaN      NaN  \n",
       "474            NaN           5.0          3.0                 NaN      NaN  \n",
       "475            NaN           NaN          3.0                 NaN      NaN  \n",
       "476            NaN           1.0          1.0                 NaN      NaN  \n",
       "477            NaN           NaN          NaN                 NaN      NaN  \n",
       "478            NaN           NaN          5.0                 NaN      NaN  \n",
       "479            NaN           NaN          2.0                 NaN      NaN  \n",
       "480            NaN           NaN          1.0                 NaN      NaN  \n",
       "481            NaN           6.0          4.0                 NaN      NaN  \n",
       "482            2.0           1.0          NaN                 NaN      NaN  \n",
       "483            NaN           1.0          2.0                 NaN      NaN  \n",
       "484            NaN           1.0          1.0                 NaN      NaN  \n",
       "485            NaN           NaN          NaN                 NaN      NaN  \n",
       "486            NaN           NaN          1.0                 NaN      NaN  \n",
       "487            NaN           3.0          NaN                 1.0      NaN  \n",
       "488            NaN           3.0          1.0                 NaN      NaN  \n",
       "489            2.0           2.0          2.0                 NaN      NaN  \n",
       "490            NaN           NaN          NaN                 NaN      NaN  \n",
       "491            NaN           2.0          3.0                 NaN      NaN  \n",
       "492            NaN           NaN          1.0                 NaN      NaN  \n",
       "493            NaN           1.0          2.0                 NaN      NaN  \n",
       "494            NaN           NaN          NaN                 NaN      NaN  \n",
       "495            NaN           1.0          NaN                 NaN      NaN  \n",
       "496            NaN           NaN          NaN                 NaN      NaN  \n",
       "497            NaN           0.0          NaN                 NaN      NaN  \n",
       "498            NaN           1.0          1.0                 NaN      NaN  \n",
       "499            NaN           NaN          1.0                 NaN      NaN  \n",
       "500            NaN           NaN          NaN                 NaN      NaN  \n",
       "501            NaN           NaN          NaN                 NaN      NaN  \n",
       "502            1.0           3.0          1.0                 NaN      NaN  \n",
       "503            NaN           NaN          NaN                 1.0      NaN  \n",
       "504            NaN           NaN          1.0                 NaN      NaN  \n",
       "505            NaN           1.0          2.0                 NaN      NaN  \n",
       "506            NaN           2.0          NaN                 NaN      NaN  \n",
       "507            NaN           NaN          NaN                 NaN      NaN  \n",
       "508            NaN           NaN          NaN                 NaN      NaN  \n",
       "509            NaN           NaN          3.0                 NaN      NaN  \n",
       "510            NaN           NaN          NaN                 NaN      NaN  \n",
       "511            NaN           NaN          NaN                 NaN      NaN  \n",
       "512            NaN           1.0          NaN                 NaN      NaN  \n",
       "513            NaN           NaN          NaN                 NaN      NaN  \n",
       "514            NaN           1.0          NaN                 NaN      NaN  \n",
       "515            1.0           3.0          1.0                 1.0      NaN  \n",
       "516            NaN           NaN          3.0                 1.0      NaN  \n",
       "517            NaN           NaN          NaN                 NaN      NaN  \n",
       "518            NaN           NaN          NaN                 NaN      NaN  \n",
       "519            NaN           NaN          NaN                 NaN      NaN  \n",
       "520            NaN           NaN          NaN                 NaN      NaN  \n",
       "521            NaN           NaN          NaN                 NaN      NaN  \n",
       "522            NaN           NaN          NaN                 NaN      NaN  \n",
       "523            NaN           3.0          NaN                 NaN      NaN  \n",
       "524            NaN           NaN          NaN                 NaN      NaN  \n",
       "525            NaN           NaN          NaN                 NaN      NaN  \n",
       "526            NaN           NaN          1.0                 NaN      NaN  \n",
       "527            NaN           1.0          NaN                 NaN      NaN  \n",
       "528            NaN           NaN          NaN                 NaN      NaN  \n",
       "529            NaN           NaN          NaN                 NaN      NaN  \n",
       "530            1.0           NaN          NaN                 NaN      NaN  \n",
       "531            NaN           NaN          NaN                 NaN      NaN  \n",
       "532            NaN           NaN          NaN                 NaN      NaN  \n",
       "533            NaN           NaN          NaN                 NaN      NaN  \n",
       "534            NaN           NaN          NaN                 NaN      NaN  \n",
       "535            NaN           NaN          NaN                 NaN      NaN  \n",
       "536            NaN           NaN          NaN                 NaN      NaN  \n",
       "537            NaN           1.0          NaN                 NaN      NaN  \n",
       "538            NaN           NaN          NaN                 NaN      NaN  \n",
       "539            NaN           NaN          1.0                 NaN      NaN  \n",
       "540            NaN           NaN          NaN                 NaN      NaN  "
      ]
     },
     "execution_count": 76,
     "metadata": {},
     "output_type": "execute_result"
    }
   ],
   "source": [
    "import pandas as pd\n",
    "import numpy as np\n",
    "\n",
    "dataframes = [\n",
    "    goals_df,\n",
    "    total_pass_df,\n",
    "    touches_df,\n",
    "    total_scoring_att_df,\n",
    "    big_chance_missed_df,\n",
    "    appearances_df,\n",
    "    total_offside_df,\n",
    "    dispossessed_df,\n",
    "    total_cross_df,\n",
    "    total_through_ball_df,\n",
    "    assists_df\n",
    "]\n",
    "\n",
    "# Merge all DataFrames on the 'Player', 'Nationality', and 'Club' columns\n",
    "full_df = dataframes[0]\n",
    "\n",
    "for df in dataframes[1:]:\n",
    "    full_df = pd.merge(full_df, df, on=['Player', 'Nationality', 'Club'], how='outer')\n",
    "\n",
    "# Display the full DataFrame\n",
    "full_df\n"
   ]
  },
  {
   "cell_type": "code",
   "execution_count": 75,
   "metadata": {},
   "outputs": [
    {
     "data": {
      "text/html": [
       "<div>\n",
       "<style scoped>\n",
       "    .dataframe tbody tr th:only-of-type {\n",
       "        vertical-align: middle;\n",
       "    }\n",
       "\n",
       "    .dataframe tbody tr th {\n",
       "        vertical-align: top;\n",
       "    }\n",
       "\n",
       "    .dataframe thead th {\n",
       "        text-align: right;\n",
       "    }\n",
       "</style>\n",
       "<table border=\"1\" class=\"dataframe\">\n",
       "  <thead>\n",
       "    <tr style=\"text-align: right;\">\n",
       "      <th></th>\n",
       "      <th>Player</th>\n",
       "      <th>Club</th>\n",
       "      <th>Nationality</th>\n",
       "      <th>Goals</th>\n",
       "      <th>Total Pass</th>\n",
       "      <th>Touches</th>\n",
       "      <th>Shots</th>\n",
       "      <th>Big Chance Missed</th>\n",
       "      <th>Appearances</th>\n",
       "      <th>Total Offside</th>\n",
       "      <th>Dispossessed</th>\n",
       "      <th>Total Cross</th>\n",
       "      <th>Total Through Ball</th>\n",
       "      <th>Assists</th>\n",
       "    </tr>\n",
       "  </thead>\n",
       "  <tbody>\n",
       "    <tr>\n",
       "      <th>0</th>\n",
       "      <td>Erling Haaland</td>\n",
       "      <td>Manchester City</td>\n",
       "      <td>Norway</td>\n",
       "      <td>35.0</td>\n",
       "      <td>429.0</td>\n",
       "      <td>739.0</td>\n",
       "      <td>108.0</td>\n",
       "      <td>23.0</td>\n",
       "      <td>31</td>\n",
       "      <td>7.0</td>\n",
       "      <td>24.0</td>\n",
       "      <td>11.0</td>\n",
       "      <td>4.0</td>\n",
       "      <td>7.0</td>\n",
       "    </tr>\n",
       "    <tr>\n",
       "      <th>1</th>\n",
       "      <td>Harry Kane</td>\n",
       "      <td>Tottenham Hotspur</td>\n",
       "      <td>England</td>\n",
       "      <td>25.0</td>\n",
       "      <td>742.0</td>\n",
       "      <td>1307.0</td>\n",
       "      <td>120.0</td>\n",
       "      <td>11.0</td>\n",
       "      <td>34</td>\n",
       "      <td>15.0</td>\n",
       "      <td>57.0</td>\n",
       "      <td>36.0</td>\n",
       "      <td>16.0</td>\n",
       "      <td>3.0</td>\n",
       "    </tr>\n",
       "    <tr>\n",
       "      <th>2</th>\n",
       "      <td>Ivan Toney</td>\n",
       "      <td>Brentford</td>\n",
       "      <td>England</td>\n",
       "      <td>20.0</td>\n",
       "      <td>718.0</td>\n",
       "      <td>1309.0</td>\n",
       "      <td>93.0</td>\n",
       "      <td>16.0</td>\n",
       "      <td>32</td>\n",
       "      <td>27.0</td>\n",
       "      <td>46.0</td>\n",
       "      <td>33.0</td>\n",
       "      <td>12.0</td>\n",
       "      <td>4.0</td>\n",
       "    </tr>\n",
       "    <tr>\n",
       "      <th>3</th>\n",
       "      <td>Mohamed Salah</td>\n",
       "      <td>Liverpool</td>\n",
       "      <td>Egypt</td>\n",
       "      <td>18.0</td>\n",
       "      <td>981.0</td>\n",
       "      <td>1547.0</td>\n",
       "      <td>107.0</td>\n",
       "      <td>17.0</td>\n",
       "      <td>34</td>\n",
       "      <td>20.0</td>\n",
       "      <td>62.0</td>\n",
       "      <td>25.0</td>\n",
       "      <td>11.0</td>\n",
       "      <td>7.0</td>\n",
       "    </tr>\n",
       "    <tr>\n",
       "      <th>4</th>\n",
       "      <td>Marcus Rashford</td>\n",
       "      <td>Manchester United</td>\n",
       "      <td>England</td>\n",
       "      <td>16.0</td>\n",
       "      <td>694.0</td>\n",
       "      <td>1196.0</td>\n",
       "      <td>92.0</td>\n",
       "      <td>19.0</td>\n",
       "      <td>32</td>\n",
       "      <td>15.0</td>\n",
       "      <td>42.0</td>\n",
       "      <td>23.0</td>\n",
       "      <td>2.0</td>\n",
       "      <td>5.0</td>\n",
       "    </tr>\n",
       "    <tr>\n",
       "      <th>5</th>\n",
       "      <td>Gabriel Martinelli</td>\n",
       "      <td>Arsenal</td>\n",
       "      <td>Brazil</td>\n",
       "      <td>15.0</td>\n",
       "      <td>960.0</td>\n",
       "      <td>1593.0</td>\n",
       "      <td>76.0</td>\n",
       "      <td>5.0</td>\n",
       "      <td>34</td>\n",
       "      <td>8.0</td>\n",
       "      <td>53.0</td>\n",
       "      <td>112.0</td>\n",
       "      <td>8.0</td>\n",
       "      <td>5.0</td>\n",
       "    </tr>\n",
       "    <tr>\n",
       "      <th>6</th>\n",
       "      <td>Callum Wilson</td>\n",
       "      <td>Newcastle United</td>\n",
       "      <td>England</td>\n",
       "      <td>15.0</td>\n",
       "      <td>201.0</td>\n",
       "      <td>462.0</td>\n",
       "      <td>60.0</td>\n",
       "      <td>12.0</td>\n",
       "      <td>26</td>\n",
       "      <td>14.0</td>\n",
       "      <td>28.0</td>\n",
       "      <td>5.0</td>\n",
       "      <td>2.0</td>\n",
       "      <td>4.0</td>\n",
       "    </tr>\n",
       "    <tr>\n",
       "      <th>7</th>\n",
       "      <td>Ollie Watkins</td>\n",
       "      <td>Aston Villa</td>\n",
       "      <td>England</td>\n",
       "      <td>14.0</td>\n",
       "      <td>504.0</td>\n",
       "      <td>923.0</td>\n",
       "      <td>79.0</td>\n",
       "      <td>17.0</td>\n",
       "      <td>33</td>\n",
       "      <td>17.0</td>\n",
       "      <td>36.0</td>\n",
       "      <td>9.0</td>\n",
       "      <td>0.0</td>\n",
       "      <td>6.0</td>\n",
       "    </tr>\n",
       "    <tr>\n",
       "      <th>8</th>\n",
       "      <td>Martin Ødegaard</td>\n",
       "      <td>Arsenal</td>\n",
       "      <td>Norway</td>\n",
       "      <td>14.0</td>\n",
       "      <td>1508.0</td>\n",
       "      <td>2011.0</td>\n",
       "      <td>86.0</td>\n",
       "      <td>3.0</td>\n",
       "      <td>33</td>\n",
       "      <td>1.0</td>\n",
       "      <td>43.0</td>\n",
       "      <td>87.0</td>\n",
       "      <td>21.0</td>\n",
       "      <td>7.0</td>\n",
       "    </tr>\n",
       "    <tr>\n",
       "      <th>9</th>\n",
       "      <td>Bukayo Saka</td>\n",
       "      <td>Arsenal</td>\n",
       "      <td>England</td>\n",
       "      <td>13.0</td>\n",
       "      <td>1123.0</td>\n",
       "      <td>1869.0</td>\n",
       "      <td>81.0</td>\n",
       "      <td>3.0</td>\n",
       "      <td>34</td>\n",
       "      <td>9.0</td>\n",
       "      <td>50.0</td>\n",
       "      <td>153.0</td>\n",
       "      <td>2.0</td>\n",
       "      <td>11.0</td>\n",
       "    </tr>\n",
       "    <tr>\n",
       "      <th>10</th>\n",
       "      <td>Miguel Almirón</td>\n",
       "      <td>Newcastle United</td>\n",
       "      <td>Paraguay</td>\n",
       "      <td>11.0</td>\n",
       "      <td>800.0</td>\n",
       "      <td>1180.0</td>\n",
       "      <td>54.0</td>\n",
       "      <td>4.0</td>\n",
       "      <td>29</td>\n",
       "      <td>9.0</td>\n",
       "      <td>20.0</td>\n",
       "      <td>21.0</td>\n",
       "      <td>1.0</td>\n",
       "      <td>1.0</td>\n",
       "    </tr>\n",
       "    <tr>\n",
       "      <th>11</th>\n",
       "      <td>Aleksandar Mitrovic</td>\n",
       "      <td>Fulham</td>\n",
       "      <td>Serbia</td>\n",
       "      <td>11.0</td>\n",
       "      <td>442.0</td>\n",
       "      <td>852.0</td>\n",
       "      <td>86.0</td>\n",
       "      <td>10.0</td>\n",
       "      <td>21</td>\n",
       "      <td>14.0</td>\n",
       "      <td>53.0</td>\n",
       "      <td>4.0</td>\n",
       "      <td>4.0</td>\n",
       "      <td>1.0</td>\n",
       "    </tr>\n",
       "    <tr>\n",
       "      <th>12</th>\n",
       "      <td>Rodrigo</td>\n",
       "      <td>Leeds United</td>\n",
       "      <td>Spain</td>\n",
       "      <td>11.0</td>\n",
       "      <td>467.0</td>\n",
       "      <td>747.0</td>\n",
       "      <td>61.0</td>\n",
       "      <td>4.0</td>\n",
       "      <td>27</td>\n",
       "      <td>8.0</td>\n",
       "      <td>21.0</td>\n",
       "      <td>16.0</td>\n",
       "      <td>4.0</td>\n",
       "      <td>1.0</td>\n",
       "    </tr>\n",
       "    <tr>\n",
       "      <th>13</th>\n",
       "      <td>Harvey Barnes</td>\n",
       "      <td>Leicester City</td>\n",
       "      <td>England</td>\n",
       "      <td>10.0</td>\n",
       "      <td>664.0</td>\n",
       "      <td>1125.0</td>\n",
       "      <td>65.0</td>\n",
       "      <td>8.0</td>\n",
       "      <td>30</td>\n",
       "      <td>7.0</td>\n",
       "      <td>38.0</td>\n",
       "      <td>40.0</td>\n",
       "      <td>4.0</td>\n",
       "      <td>1.0</td>\n",
       "    </tr>\n",
       "    <tr>\n",
       "      <th>14</th>\n",
       "      <td>Gabriel Jesus</td>\n",
       "      <td>Arsenal</td>\n",
       "      <td>Brazil</td>\n",
       "      <td>10.0</td>\n",
       "      <td>580.0</td>\n",
       "      <td>1057.0</td>\n",
       "      <td>68.0</td>\n",
       "      <td>16.0</td>\n",
       "      <td>22</td>\n",
       "      <td>15.0</td>\n",
       "      <td>55.0</td>\n",
       "      <td>8.0</td>\n",
       "      <td>4.0</td>\n",
       "      <td>5.0</td>\n",
       "    </tr>\n",
       "    <tr>\n",
       "      <th>15</th>\n",
       "      <td>Phil Foden</td>\n",
       "      <td>Manchester City</td>\n",
       "      <td>England</td>\n",
       "      <td>10.0</td>\n",
       "      <td>771.0</td>\n",
       "      <td>1110.0</td>\n",
       "      <td>37.0</td>\n",
       "      <td>3.0</td>\n",
       "      <td>27</td>\n",
       "      <td>4.0</td>\n",
       "      <td>27.0</td>\n",
       "      <td>79.0</td>\n",
       "      <td>2.0</td>\n",
       "      <td>5.0</td>\n",
       "    </tr>\n",
       "    <tr>\n",
       "      <th>16</th>\n",
       "      <td>Alexander Isak</td>\n",
       "      <td>Newcastle United</td>\n",
       "      <td>Sweden</td>\n",
       "      <td>10.0</td>\n",
       "      <td>227.0</td>\n",
       "      <td>442.0</td>\n",
       "      <td>38.0</td>\n",
       "      <td>4.0</td>\n",
       "      <td>17</td>\n",
       "      <td>4.0</td>\n",
       "      <td>16.0</td>\n",
       "      <td>4.0</td>\n",
       "      <td>8.0</td>\n",
       "      <td>1.0</td>\n",
       "    </tr>\n",
       "    <tr>\n",
       "      <th>17</th>\n",
       "      <td>Son Heung-Min</td>\n",
       "      <td>Tottenham Hotspur</td>\n",
       "      <td>South Korea</td>\n",
       "      <td>10.0</td>\n",
       "      <td>686.0</td>\n",
       "      <td>1187.0</td>\n",
       "      <td>76.0</td>\n",
       "      <td>7.0</td>\n",
       "      <td>32</td>\n",
       "      <td>14.0</td>\n",
       "      <td>51.0</td>\n",
       "      <td>104.0</td>\n",
       "      <td>5.0</td>\n",
       "      <td>5.0</td>\n",
       "    </tr>\n",
       "    <tr>\n",
       "      <th>18</th>\n",
       "      <td>Roberto Firmino</td>\n",
       "      <td>Liverpool</td>\n",
       "      <td>Brazil</td>\n",
       "      <td>9.0</td>\n",
       "      <td>521.0</td>\n",
       "      <td>747.0</td>\n",
       "      <td>37.0</td>\n",
       "      <td>6.0</td>\n",
       "      <td>23</td>\n",
       "      <td>4.0</td>\n",
       "      <td>22.0</td>\n",
       "      <td>12.0</td>\n",
       "      <td>7.0</td>\n",
       "      <td>4.0</td>\n",
       "    </tr>\n",
       "    <tr>\n",
       "      <th>19</th>\n",
       "      <td>Alexis Mac Allister</td>\n",
       "      <td>Brighton &amp; Hove Albion</td>\n",
       "      <td>Argentina</td>\n",
       "      <td>9.0</td>\n",
       "      <td>1523.0</td>\n",
       "      <td>1967.0</td>\n",
       "      <td>77.0</td>\n",
       "      <td>5.0</td>\n",
       "      <td>29</td>\n",
       "      <td>0.0</td>\n",
       "      <td>32.0</td>\n",
       "      <td>26.0</td>\n",
       "      <td>12.0</td>\n",
       "      <td>1.0</td>\n",
       "    </tr>\n",
       "  </tbody>\n",
       "</table>\n",
       "</div>"
      ],
      "text/plain": [
       "                 Player                    Club  Nationality  Goals  \\\n",
       "0        Erling Haaland         Manchester City       Norway   35.0   \n",
       "1            Harry Kane       Tottenham Hotspur      England   25.0   \n",
       "2            Ivan Toney               Brentford      England   20.0   \n",
       "3         Mohamed Salah               Liverpool        Egypt   18.0   \n",
       "4       Marcus Rashford       Manchester United      England   16.0   \n",
       "5    Gabriel Martinelli                 Arsenal       Brazil   15.0   \n",
       "6         Callum Wilson        Newcastle United      England   15.0   \n",
       "7         Ollie Watkins             Aston Villa      England   14.0   \n",
       "8       Martin Ødegaard                 Arsenal       Norway   14.0   \n",
       "9           Bukayo Saka                 Arsenal      England   13.0   \n",
       "10       Miguel Almirón        Newcastle United     Paraguay   11.0   \n",
       "11  Aleksandar Mitrovic                  Fulham       Serbia   11.0   \n",
       "12              Rodrigo            Leeds United        Spain   11.0   \n",
       "13        Harvey Barnes          Leicester City      England   10.0   \n",
       "14        Gabriel Jesus                 Arsenal       Brazil   10.0   \n",
       "15           Phil Foden         Manchester City      England   10.0   \n",
       "16       Alexander Isak        Newcastle United       Sweden   10.0   \n",
       "17        Son Heung-Min       Tottenham Hotspur  South Korea   10.0   \n",
       "18      Roberto Firmino               Liverpool       Brazil    9.0   \n",
       "19  Alexis Mac Allister  Brighton & Hove Albion    Argentina    9.0   \n",
       "\n",
       "    Total Pass  Touches  Shots  Big Chance Missed  Appearances  Total Offside  \\\n",
       "0        429.0    739.0  108.0               23.0           31            7.0   \n",
       "1        742.0   1307.0  120.0               11.0           34           15.0   \n",
       "2        718.0   1309.0   93.0               16.0           32           27.0   \n",
       "3        981.0   1547.0  107.0               17.0           34           20.0   \n",
       "4        694.0   1196.0   92.0               19.0           32           15.0   \n",
       "5        960.0   1593.0   76.0                5.0           34            8.0   \n",
       "6        201.0    462.0   60.0               12.0           26           14.0   \n",
       "7        504.0    923.0   79.0               17.0           33           17.0   \n",
       "8       1508.0   2011.0   86.0                3.0           33            1.0   \n",
       "9       1123.0   1869.0   81.0                3.0           34            9.0   \n",
       "10       800.0   1180.0   54.0                4.0           29            9.0   \n",
       "11       442.0    852.0   86.0               10.0           21           14.0   \n",
       "12       467.0    747.0   61.0                4.0           27            8.0   \n",
       "13       664.0   1125.0   65.0                8.0           30            7.0   \n",
       "14       580.0   1057.0   68.0               16.0           22           15.0   \n",
       "15       771.0   1110.0   37.0                3.0           27            4.0   \n",
       "16       227.0    442.0   38.0                4.0           17            4.0   \n",
       "17       686.0   1187.0   76.0                7.0           32           14.0   \n",
       "18       521.0    747.0   37.0                6.0           23            4.0   \n",
       "19      1523.0   1967.0   77.0                5.0           29            0.0   \n",
       "\n",
       "    Dispossessed  Total Cross  Total Through Ball  Assists  \n",
       "0           24.0         11.0                 4.0      7.0  \n",
       "1           57.0         36.0                16.0      3.0  \n",
       "2           46.0         33.0                12.0      4.0  \n",
       "3           62.0         25.0                11.0      7.0  \n",
       "4           42.0         23.0                 2.0      5.0  \n",
       "5           53.0        112.0                 8.0      5.0  \n",
       "6           28.0          5.0                 2.0      4.0  \n",
       "7           36.0          9.0                 0.0      6.0  \n",
       "8           43.0         87.0                21.0      7.0  \n",
       "9           50.0        153.0                 2.0     11.0  \n",
       "10          20.0         21.0                 1.0      1.0  \n",
       "11          53.0          4.0                 4.0      1.0  \n",
       "12          21.0         16.0                 4.0      1.0  \n",
       "13          38.0         40.0                 4.0      1.0  \n",
       "14          55.0          8.0                 4.0      5.0  \n",
       "15          27.0         79.0                 2.0      5.0  \n",
       "16          16.0          4.0                 8.0      1.0  \n",
       "17          51.0        104.0                 5.0      5.0  \n",
       "18          22.0         12.0                 7.0      4.0  \n",
       "19          32.0         26.0                12.0      1.0  "
      ]
     },
     "execution_count": 75,
     "metadata": {},
     "output_type": "execute_result"
    }
   ],
   "source": [
    "full_df=full_df.fillna(0)\n",
    "full_df.head(20)"
   ]
  },
  {
   "cell_type": "code",
   "execution_count": 64,
   "metadata": {},
   "outputs": [
    {
     "data": {
      "application/vnd.plotly.v1+json": {
       "config": {
        "plotlyServerURL": "https://plot.ly"
       },
       "data": [
        {
         "alignmentgroup": "True",
         "customdata": [
          [
           "Erling Haaland"
          ],
          [
           "Phil Foden"
          ],
          [
           "Julián Álvarez"
          ],
          [
           "Kevin De Bruyne"
          ],
          [
           "Jack Grealish"
          ],
          [
           "Riyad Mahrez"
          ],
          [
           "Ilkay Gündogan"
          ],
          [
           "Bernardo Silva"
          ],
          [
           "Rodri"
          ],
          [
           "John Stones"
          ],
          [
           "Nathan Aké"
          ],
          [
           "Rúben Dias"
          ],
          [
           "Manuel Akanji"
          ],
          [
           "Kyle Walker"
          ],
          [
           "Ederson"
          ],
          [
           "Aymeric Laporte"
          ],
          [
           "Rico Lewis"
          ],
          [
           "Sergio Gómez"
          ],
          [
           "Kalvin Phillips"
          ],
          [
           "Cole Palmer"
          ],
          [
           "Stefan Ortega"
          ],
          [
           "Máximo Perrone"
          ]
         ],
         "hovertemplate": "Club=%{x}<br>Goals=%{y}<br>Player=%{customdata[0]}<extra></extra>",
         "legendgroup": "Manchester City",
         "marker": {
          "color": "#1F77B4"
         },
         "name": "Manchester City",
         "notched": false,
         "offsetgroup": "Manchester City",
         "orientation": "v",
         "showlegend": true,
         "type": "box",
         "x": [
          "Manchester City",
          "Manchester City",
          "Manchester City",
          "Manchester City",
          "Manchester City",
          "Manchester City",
          "Manchester City",
          "Manchester City",
          "Manchester City",
          "Manchester City",
          "Manchester City",
          "Manchester City",
          "Manchester City",
          "Manchester City",
          "Manchester City",
          "Manchester City",
          "Manchester City",
          "Manchester City",
          "Manchester City",
          "Manchester City",
          "Manchester City",
          "Manchester City"
         ],
         "x0": " ",
         "xaxis": "x",
         "y": [
          35,
          10,
          8,
          7,
          5,
          5,
          4,
          4,
          2,
          2,
          1,
          0,
          0,
          0,
          0,
          0,
          0,
          0,
          0,
          0,
          0,
          0
         ],
         "y0": " ",
         "yaxis": "y"
        },
        {
         "alignmentgroup": "True",
         "customdata": [
          [
           "Harry Kane"
          ],
          [
           "Son Heung-Min"
          ],
          [
           "Rodrigo Bentancur"
          ],
          [
           "Pierre-Emile Højbjerg"
          ],
          [
           "Ben Davies"
          ],
          [
           "Eric Dier"
          ],
          [
           "Dejan Kulusevski"
          ],
          [
           "Emerson Royal"
          ],
          [
           "Pedro Porro"
          ],
          [
           "Ryan Sessegnon"
          ],
          [
           "Arnaut Danjuma"
          ],
          [
           "Richarlison"
          ],
          [
           "Ivan Perisic"
          ],
          [
           "Oliver Skipp"
          ],
          [
           "Cristian Romero"
          ],
          [
           "Clément Lenglet"
          ],
          [
           "Hugo Lloris"
          ],
          [
           "Yves Bissouma"
          ],
          [
           "Davinson Sánchez"
          ],
          [
           "Fraser Forster"
          ],
          [
           "Pape Sarr"
          ],
          [
           "Japhet Tanganga"
          ],
          [
           "Lucas Moura"
          ]
         ],
         "hovertemplate": "Club=%{x}<br>Goals=%{y}<br>Player=%{customdata[0]}<extra></extra>",
         "legendgroup": "Tottenham Hotspur",
         "marker": {
          "color": "#FF7F0E"
         },
         "name": "Tottenham Hotspur",
         "notched": false,
         "offsetgroup": "Tottenham Hotspur",
         "orientation": "v",
         "showlegend": true,
         "type": "box",
         "x": [
          "Tottenham Hotspur",
          "Tottenham Hotspur",
          "Tottenham Hotspur",
          "Tottenham Hotspur",
          "Tottenham Hotspur",
          "Tottenham Hotspur",
          "Tottenham Hotspur",
          "Tottenham Hotspur",
          "Tottenham Hotspur",
          "Tottenham Hotspur",
          "Tottenham Hotspur",
          "Tottenham Hotspur",
          "Tottenham Hotspur",
          "Tottenham Hotspur",
          "Tottenham Hotspur",
          "Tottenham Hotspur",
          "Tottenham Hotspur",
          "Tottenham Hotspur",
          "Tottenham Hotspur",
          "Tottenham Hotspur",
          "Tottenham Hotspur",
          "Tottenham Hotspur",
          "Tottenham Hotspur"
         ],
         "x0": " ",
         "xaxis": "x",
         "y": [
          25,
          10,
          5,
          4,
          2,
          2,
          2,
          2,
          2,
          2,
          1,
          1,
          1,
          1,
          0,
          0,
          0,
          0,
          0,
          0,
          0,
          0,
          0
         ],
         "y0": " ",
         "yaxis": "y"
        },
        {
         "alignmentgroup": "True",
         "customdata": [
          [
           "Ivan Toney"
          ],
          [
           "Bryan Mbeumo"
          ],
          [
           "Mathias Jensen"
          ],
          [
           "Yoane Wissa"
          ],
          [
           "Josh Dasilva"
          ],
          [
           "Vitaly Janelt"
          ],
          [
           "Ben Mee"
          ],
          [
           "Pontus Jansson"
          ],
          [
           "Christian Nørgaard"
          ],
          [
           "David Raya"
          ],
          [
           "Rico Henry"
          ],
          [
           "Aaron Hickey"
          ],
          [
           "Zanka"
          ],
          [
           "Mikkel Damsgaard"
          ],
          [
           "Shandon Baptiste"
          ],
          [
           "Mads Roerslev"
          ],
          [
           "Frank Onyeka"
          ],
          [
           "Kevin Schade"
          ],
          [
           "Keane Lewis-Potter"
          ],
          [
           "Saman Ghoddos"
          ]
         ],
         "hovertemplate": "Club=%{x}<br>Goals=%{y}<br>Player=%{customdata[0]}<extra></extra>",
         "legendgroup": "Brentford",
         "marker": {
          "color": "#2CA02C"
         },
         "name": "Brentford",
         "notched": false,
         "offsetgroup": "Brentford",
         "orientation": "v",
         "showlegend": true,
         "type": "box",
         "x": [
          "Brentford",
          "Brentford",
          "Brentford",
          "Brentford",
          "Brentford",
          "Brentford",
          "Brentford",
          "Brentford",
          "Brentford",
          "Brentford",
          "Brentford",
          "Brentford",
          "Brentford",
          "Brentford",
          "Brentford",
          "Brentford",
          "Brentford",
          "Brentford",
          "Brentford",
          "Brentford"
         ],
         "x0": " ",
         "xaxis": "x",
         "y": [
          20,
          6,
          5,
          5,
          4,
          3,
          3,
          1,
          1,
          0,
          0,
          0,
          0,
          0,
          0,
          0,
          0,
          0,
          0,
          0
         ],
         "y0": " ",
         "yaxis": "y"
        },
        {
         "alignmentgroup": "True",
         "customdata": [
          [
           "Mohamed Salah"
          ],
          [
           "Roberto Firmino"
          ],
          [
           "Darwin Núñez"
          ],
          [
           "Cody Gakpo"
          ],
          [
           "Diogo Jota"
          ],
          [
           "Luis Díaz"
          ],
          [
           "Virgil van Dijk"
          ],
          [
           "Fábio Carvalho"
          ],
          [
           "Trent Alexander-Arnold"
          ],
          [
           "Stefan Bajcetic"
          ],
          [
           "Curtis Jones"
          ],
          [
           "Joël Matip"
          ],
          [
           "Alex Oxlade-Chamberlain"
          ],
          [
           "Andrew Robertson"
          ],
          [
           "Fabinho"
          ],
          [
           "Jordan Henderson"
          ],
          [
           "Joe Gomez"
          ],
          [
           "Alisson"
          ],
          [
           "Thiago Alcântara"
          ],
          [
           "Ibrahima Konaté"
          ],
          [
           "James Milner"
          ],
          [
           "Konstantinos Tsimikas"
          ],
          [
           "Naby Keïta"
          ],
          [
           "Nathaniel Phillips"
          ],
          [
           "Ben Doak"
          ],
          [
           "Bobby Clark"
          ]
         ],
         "hovertemplate": "Club=%{x}<br>Goals=%{y}<br>Player=%{customdata[0]}<extra></extra>",
         "legendgroup": "Liverpool",
         "marker": {
          "color": "#D62728"
         },
         "name": "Liverpool",
         "notched": false,
         "offsetgroup": "Liverpool",
         "orientation": "v",
         "showlegend": true,
         "type": "box",
         "x": [
          "Liverpool",
          "Liverpool",
          "Liverpool",
          "Liverpool",
          "Liverpool",
          "Liverpool",
          "Liverpool",
          "Liverpool",
          "Liverpool",
          "Liverpool",
          "Liverpool",
          "Liverpool",
          "Liverpool",
          "Liverpool",
          "Liverpool",
          "Liverpool",
          "Liverpool",
          "Liverpool",
          "Liverpool",
          "Liverpool",
          "Liverpool",
          "Liverpool",
          "Liverpool",
          "Liverpool",
          "Liverpool",
          "Liverpool"
         ],
         "x0": " ",
         "xaxis": "x",
         "y": [
          18,
          9,
          9,
          6,
          5,
          4,
          3,
          2,
          1,
          1,
          1,
          1,
          1,
          0,
          0,
          0,
          0,
          0,
          0,
          0,
          0,
          0,
          0,
          0,
          0,
          0
         ],
         "y0": " ",
         "yaxis": "y"
        },
        {
         "alignmentgroup": "True",
         "customdata": [
          [
           "Marcus Rashford"
          ],
          [
           "Bruno Fernandes"
          ],
          [
           "Jadon Sancho"
          ],
          [
           "Antony"
          ],
          [
           "Anthony Martial"
          ],
          [
           "Casemiro"
          ],
          [
           "Alejandro Garnacho"
          ],
          [
           "Fred"
          ],
          [
           "Diogo Dalot"
          ],
          [
           "Christian Eriksen"
          ],
          [
           "Lisandro Martínez"
          ],
          [
           "Scott McTominay"
          ],
          [
           "Luke Shaw"
          ],
          [
           "David de Gea"
          ],
          [
           "Raphaël Varane"
          ],
          [
           "Victor Lindelöf"
          ],
          [
           "Tyrell Malacia"
          ],
          [
           "Aaron Wan-Bissaka"
          ],
          [
           "Harry Maguire"
          ],
          [
           "Marcel Sabitzer"
          ],
          [
           "Wout Weghorst"
          ],
          [
           "Anthony Elanga"
          ],
          [
           "Donny van de Beek"
          ],
          [
           "Facundo Pellistri"
          ],
          [
           "Kobbie Mainoo"
          ]
         ],
         "hovertemplate": "Club=%{x}<br>Goals=%{y}<br>Player=%{customdata[0]}<extra></extra>",
         "legendgroup": "Manchester United",
         "marker": {
          "color": "#9467BD"
         },
         "name": "Manchester United",
         "notched": false,
         "offsetgroup": "Manchester United",
         "orientation": "v",
         "showlegend": true,
         "type": "box",
         "x": [
          "Manchester United",
          "Manchester United",
          "Manchester United",
          "Manchester United",
          "Manchester United",
          "Manchester United",
          "Manchester United",
          "Manchester United",
          "Manchester United",
          "Manchester United",
          "Manchester United",
          "Manchester United",
          "Manchester United",
          "Manchester United",
          "Manchester United",
          "Manchester United",
          "Manchester United",
          "Manchester United",
          "Manchester United",
          "Manchester United",
          "Manchester United",
          "Manchester United",
          "Manchester United",
          "Manchester United",
          "Manchester United"
         ],
         "x0": " ",
         "xaxis": "x",
         "y": [
          16,
          6,
          5,
          4,
          4,
          2,
          2,
          2,
          1,
          1,
          1,
          1,
          1,
          0,
          0,
          0,
          0,
          0,
          0,
          0,
          0,
          0,
          0,
          0,
          0
         ],
         "y0": " ",
         "yaxis": "y"
        },
        {
         "alignmentgroup": "True",
         "customdata": [
          [
           "Gabriel Martinelli"
          ],
          [
           "Martin Ødegaard"
          ],
          [
           "Bukayo Saka"
          ],
          [
           "Gabriel Jesus"
          ],
          [
           "Leandro Trossard"
          ],
          [
           "Granit Xhaka"
          ],
          [
           "Eddie Nketiah"
          ],
          [
           "Gabriel Magalhães"
          ],
          [
           "Reiss Nelson"
          ],
          [
           "Thomas Partey"
          ],
          [
           "Jorginho"
          ],
          [
           "Ben White"
          ],
          [
           "Fábio Vieira"
          ],
          [
           "Rob Holding"
          ],
          [
           "Oleksandr Zinchenko"
          ],
          [
           "Aaron Ramsdale"
          ],
          [
           "Takehiro Tomiyasu"
          ],
          [
           "Kieran Tierney"
          ],
          [
           "Emile Smith Rowe"
          ],
          [
           "Jakub Kiwior"
          ],
          [
           "Mohamed Elneny"
          ],
          [
           "Ethan Nwaneri"
          ]
         ],
         "hovertemplate": "Club=%{x}<br>Goals=%{y}<br>Player=%{customdata[0]}<extra></extra>",
         "legendgroup": "Arsenal",
         "marker": {
          "color": "#8C564B"
         },
         "name": "Arsenal",
         "notched": false,
         "offsetgroup": "Arsenal",
         "orientation": "v",
         "showlegend": true,
         "type": "box",
         "x": [
          "Arsenal",
          "Arsenal",
          "Arsenal",
          "Arsenal",
          "Arsenal",
          "Arsenal",
          "Arsenal",
          "Arsenal",
          "Arsenal",
          "Arsenal",
          "Arsenal",
          "Arsenal",
          "Arsenal",
          "Arsenal",
          "Arsenal",
          "Arsenal",
          "Arsenal",
          "Arsenal",
          "Arsenal",
          "Arsenal",
          "Arsenal",
          "Arsenal"
         ],
         "x0": " ",
         "xaxis": "x",
         "y": [
          15,
          14,
          13,
          10,
          8,
          5,
          4,
          3,
          3,
          3,
          2,
          2,
          1,
          1,
          1,
          0,
          0,
          0,
          0,
          0,
          0,
          0
         ],
         "y0": " ",
         "yaxis": "y"
        },
        {
         "alignmentgroup": "True",
         "customdata": [
          [
           "Callum Wilson"
          ],
          [
           "Miguel Almirón"
          ],
          [
           "Alexander Isak"
          ],
          [
           "Joelinton"
          ],
          [
           "Jacob Murphy"
          ],
          [
           "Anthony Gordon"
          ],
          [
           "Bruno Guimarães"
          ],
          [
           "Joe Willock"
          ],
          [
           "Sean Longstaff"
          ],
          [
           "Allan Saint-Maximin"
          ],
          [
           "Fabian Schär"
          ],
          [
           "Kieran Trippier"
          ],
          [
           "Elliot Anderson"
          ],
          [
           "Sven Botman"
          ],
          [
           "Dan Burn"
          ],
          [
           "Nick Pope"
          ],
          [
           "Matt Targett"
          ],
          [
           "Ryan Fraser"
          ],
          [
           "Jamaal Lascelles"
          ],
          [
           "Matt Ritchie"
          ],
          [
           "Javier Manquillo"
          ],
          [
           "Martin Dúbravka"
          ],
          [
           "Jamal Lewis"
          ],
          [
           "Emil Krafth"
          ]
         ],
         "hovertemplate": "Club=%{x}<br>Goals=%{y}<br>Player=%{customdata[0]}<extra></extra>",
         "legendgroup": "Newcastle United",
         "marker": {
          "color": "#E377C2"
         },
         "name": "Newcastle United",
         "notched": false,
         "offsetgroup": "Newcastle United",
         "orientation": "v",
         "showlegend": true,
         "type": "box",
         "x": [
          "Newcastle United",
          "Newcastle United",
          "Newcastle United",
          "Newcastle United",
          "Newcastle United",
          "Newcastle United",
          "Newcastle United",
          "Newcastle United",
          "Newcastle United",
          "Newcastle United",
          "Newcastle United",
          "Newcastle United",
          "Newcastle United",
          "Newcastle United",
          "Newcastle United",
          "Newcastle United",
          "Newcastle United",
          "Newcastle United",
          "Newcastle United",
          "Newcastle United",
          "Newcastle United",
          "Newcastle United",
          "Newcastle United",
          "Newcastle United"
         ],
         "x0": " ",
         "xaxis": "x",
         "y": [
          15,
          11,
          10,
          6,
          4,
          3,
          3,
          3,
          1,
          1,
          1,
          1,
          0,
          0,
          0,
          0,
          0,
          0,
          0,
          0,
          0,
          0,
          0,
          0
         ],
         "y0": " ",
         "yaxis": "y"
        },
        {
         "alignmentgroup": "True",
         "customdata": [
          [
           "Ollie Watkins"
          ],
          [
           "Emiliano Buendía"
          ],
          [
           "Leon Bailey"
          ],
          [
           "Jacob Ramsey"
          ],
          [
           "Douglas Luiz"
          ],
          [
           "Bertrand Traoré"
          ],
          [
           "Philippe Coutinho"
          ],
          [
           "Lucas Digne"
          ],
          [
           "John McGinn"
          ],
          [
           "Tyrone Mings"
          ],
          [
           "Ashley Young"
          ],
          [
           "Ezri Konsa"
          ],
          [
           "Emiliano Martínez"
          ],
          [
           "Boubacar Kamara"
          ],
          [
           "Matty Cash"
          ],
          [
           "Álex Moreno"
          ],
          [
           "Leander Dendoncker"
          ],
          [
           "Calum Chambers"
          ],
          [
           "Diego Carlos"
          ],
          [
           "Robin Olsen"
          ],
          [
           "Jhon Durán"
          ]
         ],
         "hovertemplate": "Club=%{x}<br>Goals=%{y}<br>Player=%{customdata[0]}<extra></extra>",
         "legendgroup": "Aston Villa",
         "marker": {
          "color": "#7F7F7F"
         },
         "name": "Aston Villa",
         "notched": false,
         "offsetgroup": "Aston Villa",
         "orientation": "v",
         "showlegend": true,
         "type": "box",
         "x": [
          "Aston Villa",
          "Aston Villa",
          "Aston Villa",
          "Aston Villa",
          "Aston Villa",
          "Aston Villa",
          "Aston Villa",
          "Aston Villa",
          "Aston Villa",
          "Aston Villa",
          "Aston Villa",
          "Aston Villa",
          "Aston Villa",
          "Aston Villa",
          "Aston Villa",
          "Aston Villa",
          "Aston Villa",
          "Aston Villa",
          "Aston Villa",
          "Aston Villa",
          "Aston Villa"
         ],
         "x0": " ",
         "xaxis": "x",
         "y": [
          14,
          5,
          4,
          4,
          4,
          2,
          1,
          1,
          1,
          1,
          1,
          0,
          0,
          0,
          0,
          0,
          0,
          0,
          0,
          0,
          0
         ],
         "y0": " ",
         "yaxis": "y"
        },
        {
         "alignmentgroup": "True",
         "customdata": [
          [
           "Aleksandar Mitrovic"
          ],
          [
           "Andreas Pereira"
          ],
          [
           "Manor Solomon"
          ],
          [
           "Carlos Vinícius"
          ],
          [
           "Willian"
          ],
          [
           "João Palhinha"
          ],
          [
           "Harrison Reed"
          ],
          [
           "Dan James"
          ],
          [
           "Harry Wilson"
          ],
          [
           "Tosin Adarabioyo"
          ],
          [
           "Issa Diop"
          ],
          [
           "Tim Ream"
          ],
          [
           "Antonee Robinson"
          ],
          [
           "Bernd Leno"
          ],
          [
           "Kenny Tete"
          ],
          [
           "Tom Cairney"
          ],
          [
           "Neeskens Kebano"
          ],
          [
           "Sasa Lukic"
          ],
          [
           "Cédric Soares"
          ],
          [
           "Layvin Kurzawa"
          ],
          [
           "Luke Harris"
          ],
          [
           "Shane Duffy"
          ],
          [
           "Tyrese Francois"
          ]
         ],
         "hovertemplate": "Club=%{x}<br>Goals=%{y}<br>Player=%{customdata[0]}<extra></extra>",
         "legendgroup": "Fulham",
         "marker": {
          "color": "#BCBD22"
         },
         "name": "Fulham",
         "notched": false,
         "offsetgroup": "Fulham",
         "orientation": "v",
         "showlegend": true,
         "type": "box",
         "x": [
          "Fulham",
          "Fulham",
          "Fulham",
          "Fulham",
          "Fulham",
          "Fulham",
          "Fulham",
          "Fulham",
          "Fulham",
          "Fulham",
          "Fulham",
          "Fulham",
          "Fulham",
          "Fulham",
          "Fulham",
          "Fulham",
          "Fulham",
          "Fulham",
          "Fulham",
          "Fulham",
          "Fulham",
          "Fulham",
          "Fulham"
         ],
         "x0": " ",
         "xaxis": "x",
         "y": [
          11,
          4,
          4,
          3,
          3,
          3,
          3,
          2,
          2,
          1,
          1,
          1,
          0,
          0,
          0,
          0,
          0,
          0,
          0,
          0,
          0,
          0,
          0
         ],
         "y0": " ",
         "yaxis": "y"
        },
        {
         "alignmentgroup": "True",
         "customdata": [
          [
           "Rodrigo"
          ],
          [
           "Luis Sinisterra"
          ],
          [
           "Patrick Bamford"
          ],
          [
           "Jack Harrison"
          ],
          [
           "Crysencio Summerville"
          ],
          [
           "Wilfried Gnonto"
          ],
          [
           "Rasmus Kristensen"
          ],
          [
           "Pascal Struijk"
          ],
          [
           "Brenden Aaronson"
          ],
          [
           "Luke Ayling"
          ],
          [
           "Liam Cooper"
          ],
          [
           "Junior Firpo"
          ],
          [
           "Sam Greenwood"
          ],
          [
           "Marc Roca"
          ],
          [
           "Robin Koch"
          ],
          [
           "Tyler Adams"
          ],
          [
           "Illan Meslier"
          ],
          [
           "Maximilian Wöber"
          ],
          [
           "Weston McKennie"
          ],
          [
           "Adam Forshaw"
          ],
          [
           "Georginio Rutter"
          ],
          [
           "Darko Gyabi"
          ],
          [
           "Mateo Joseph Fernández"
          ]
         ],
         "hovertemplate": "Club=%{x}<br>Goals=%{y}<br>Player=%{customdata[0]}<extra></extra>",
         "legendgroup": "Leeds United",
         "marker": {
          "color": "#17BECF"
         },
         "name": "Leeds United",
         "notched": false,
         "offsetgroup": "Leeds United",
         "orientation": "v",
         "showlegend": true,
         "type": "box",
         "x": [
          "Leeds United",
          "Leeds United",
          "Leeds United",
          "Leeds United",
          "Leeds United",
          "Leeds United",
          "Leeds United",
          "Leeds United",
          "Leeds United",
          "Leeds United",
          "Leeds United",
          "Leeds United",
          "Leeds United",
          "Leeds United",
          "Leeds United",
          "Leeds United",
          "Leeds United",
          "Leeds United",
          "Leeds United",
          "Leeds United",
          "Leeds United",
          "Leeds United",
          "Leeds United"
         ],
         "x0": " ",
         "xaxis": "x",
         "y": [
          11,
          5,
          4,
          4,
          4,
          2,
          2,
          2,
          1,
          1,
          1,
          1,
          1,
          1,
          0,
          0,
          0,
          0,
          0,
          0,
          0,
          0,
          0
         ],
         "y0": " ",
         "yaxis": "y"
        },
        {
         "alignmentgroup": "True",
         "customdata": [
          [
           "Harvey Barnes"
          ],
          [
           "James Maddison"
          ],
          [
           "Kelechi Iheanacho"
          ],
          [
           "Patson Daka"
          ],
          [
           "Youri Tielemans"
          ],
          [
           "Jamie Vardy"
          ],
          [
           "Timothy Castagne"
          ],
          [
           "Kiernan Dewsbury-Hall"
          ],
          [
           "Ricardo Pereira"
          ],
          [
           "Tetê"
          ],
          [
           "Dennis Praet"
          ],
          [
           "Çaglar Söyüncü"
          ],
          [
           "Wout Faes"
          ],
          [
           "Wilfred Ndidi"
          ],
          [
           "Danny Ward"
          ],
          [
           "Boubakary Soumaré"
          ],
          [
           "James Justin"
          ],
          [
           "Jonny Evans"
          ],
          [
           "Harry Souttar"
          ],
          [
           "Luke Thomas"
          ],
          [
           "Victor Kristiansen"
          ],
          [
           "Daniel Iversen"
          ],
          [
           "Lewis Brunt"
          ]
         ],
         "hovertemplate": "Club=%{x}<br>Goals=%{y}<br>Player=%{customdata[0]}<extra></extra>",
         "legendgroup": "Leicester City",
         "marker": {
          "color": "#1F77B4"
         },
         "name": "Leicester City",
         "notched": false,
         "offsetgroup": "Leicester City",
         "orientation": "v",
         "showlegend": true,
         "type": "box",
         "x": [
          "Leicester City",
          "Leicester City",
          "Leicester City",
          "Leicester City",
          "Leicester City",
          "Leicester City",
          "Leicester City",
          "Leicester City",
          "Leicester City",
          "Leicester City",
          "Leicester City",
          "Leicester City",
          "Leicester City",
          "Leicester City",
          "Leicester City",
          "Leicester City",
          "Leicester City",
          "Leicester City",
          "Leicester City",
          "Leicester City",
          "Leicester City",
          "Leicester City",
          "Leicester City"
         ],
         "x0": " ",
         "xaxis": "x",
         "y": [
          10,
          9,
          5,
          4,
          3,
          3,
          2,
          2,
          1,
          1,
          1,
          1,
          0,
          0,
          0,
          0,
          0,
          0,
          0,
          0,
          0,
          0,
          0
         ],
         "y0": " ",
         "yaxis": "y"
        },
        {
         "alignmentgroup": "True",
         "customdata": [
          [
           "Alexis Mac Allister"
          ],
          [
           "Pascal Groß"
          ],
          [
           "Solly March"
          ],
          [
           "Kaoru Mitoma"
          ],
          [
           "Danny Welbeck"
          ],
          [
           "Evan Ferguson"
          ],
          [
           "Julio Enciso"
          ],
          [
           "Adam Lallana"
          ],
          [
           "Deniz Undav"
          ],
          [
           "Facundo Buonanotte"
          ],
          [
           "Moisés Caicedo"
          ],
          [
           "Lewis Dunk"
          ],
          [
           "Joël Veltman"
          ],
          [
           "Pervis Estupiñán"
          ],
          [
           "Adam Webster"
          ],
          [
           "Levi Colwill"
          ],
          [
           "Robert Sánchez"
          ],
          [
           "Jason Steele"
          ],
          [
           "Billy Gilmour"
          ],
          [
           "Tariq Lamptey"
          ],
          [
           "Jan Paul van Hecke"
          ],
          [
           "Jeremy Sarmiento"
          ],
          [
           "Yasin Ayari"
          ],
          [
           "Odeluga Offiah"
          ],
          [
           "Andrew Moran"
          ]
         ],
         "hovertemplate": "Club=%{x}<br>Goals=%{y}<br>Player=%{customdata[0]}<extra></extra>",
         "legendgroup": "Brighton & Hove Albion",
         "marker": {
          "color": "#FF7F0E"
         },
         "name": "Brighton & Hove Albion",
         "notched": false,
         "offsetgroup": "Brighton & Hove Albion",
         "orientation": "v",
         "showlegend": true,
         "type": "box",
         "x": [
          "Brighton & Hove Albion",
          "Brighton & Hove Albion",
          "Brighton & Hove Albion",
          "Brighton & Hove Albion",
          "Brighton & Hove Albion",
          "Brighton & Hove Albion",
          "Brighton & Hove Albion",
          "Brighton & Hove Albion",
          "Brighton & Hove Albion",
          "Brighton & Hove Albion",
          "Brighton & Hove Albion",
          "Brighton & Hove Albion",
          "Brighton & Hove Albion",
          "Brighton & Hove Albion",
          "Brighton & Hove Albion",
          "Brighton & Hove Albion",
          "Brighton & Hove Albion",
          "Brighton & Hove Albion",
          "Brighton & Hove Albion",
          "Brighton & Hove Albion",
          "Brighton & Hove Albion",
          "Brighton & Hove Albion",
          "Brighton & Hove Albion",
          "Brighton & Hove Albion",
          "Brighton & Hove Albion"
         ],
         "x0": " ",
         "xaxis": "x",
         "y": [
          9,
          8,
          7,
          7,
          6,
          4,
          2,
          2,
          2,
          1,
          1,
          1,
          1,
          0,
          0,
          0,
          0,
          0,
          0,
          0,
          0,
          0,
          0,
          0,
          0
         ],
         "y0": " ",
         "yaxis": "y"
        },
        {
         "alignmentgroup": "True",
         "customdata": [
          [
           "Eberechi Eze"
          ],
          [
           "Wilfried Zaha"
          ],
          [
           "Jordan Ayew"
          ],
          [
           "Odsonne Édouard"
          ],
          [
           "Jeffrey Schlupp"
          ],
          [
           "Jean-Philippe Mateta"
          ],
          [
           "Michael Olise"
          ],
          [
           "Joachim Andersen"
          ],
          [
           "Marc Guéhi"
          ],
          [
           "James Tomkins"
          ],
          [
           "Cheick Doucouré"
          ],
          [
           "Tyrick Mitchell"
          ],
          [
           "Joel Ward"
          ],
          [
           "Vicente Guaita"
          ],
          [
           "Nathaniel Clyne"
          ],
          [
           "Albert Sambi Lokonga"
          ],
          [
           "Luka Milivojevic"
          ],
          [
           "Will Hughes"
          ],
          [
           "Chris Richards"
          ],
          [
           "Sam Johnstone"
          ],
          [
           "Joe Whitworth"
          ],
          [
           "Naouirou Ahamada"
          ],
          [
           "Jairo Riedewald"
          ],
          [
           "James McArthur"
          ],
          [
           "David Ozoh"
          ]
         ],
         "hovertemplate": "Club=%{x}<br>Goals=%{y}<br>Player=%{customdata[0]}<extra></extra>",
         "legendgroup": "Crystal Palace",
         "marker": {
          "color": "#2CA02C"
         },
         "name": "Crystal Palace",
         "notched": false,
         "offsetgroup": "Crystal Palace",
         "orientation": "v",
         "showlegend": true,
         "type": "box",
         "x": [
          "Crystal Palace",
          "Crystal Palace",
          "Crystal Palace",
          "Crystal Palace",
          "Crystal Palace",
          "Crystal Palace",
          "Crystal Palace",
          "Crystal Palace",
          "Crystal Palace",
          "Crystal Palace",
          "Crystal Palace",
          "Crystal Palace",
          "Crystal Palace",
          "Crystal Palace",
          "Crystal Palace",
          "Crystal Palace",
          "Crystal Palace",
          "Crystal Palace",
          "Crystal Palace",
          "Crystal Palace",
          "Crystal Palace",
          "Crystal Palace",
          "Crystal Palace",
          "Crystal Palace",
          "Crystal Palace"
         ],
         "x0": " ",
         "xaxis": "x",
         "y": [
          8,
          7,
          4,
          4,
          3,
          2,
          2,
          1,
          1,
          1,
          0,
          0,
          0,
          0,
          0,
          0,
          0,
          0,
          0,
          0,
          0,
          0,
          0,
          0,
          0
         ],
         "y0": " ",
         "yaxis": "y"
        },
        {
         "alignmentgroup": "True",
         "customdata": [
          [
           "Danny Ings"
          ],
          [
           "Saïd Benrahma"
          ],
          [
           "Jarrod Bowen"
          ],
          [
           "Lucas Paquetá"
          ],
          [
           "Declan Rice"
          ],
          [
           "Gianluca Scamacca"
          ],
          [
           "Nayef Aguerd"
          ],
          [
           "Pablo Fornals"
          ],
          [
           "Tomás Soucek"
          ],
          [
           "Kurt Zouma"
          ],
          [
           "Emerson"
          ],
          [
           "Maxwel Cornet"
          ],
          [
           "Aaron Cresswell"
          ],
          [
           "Thilo Kehrer"
          ],
          [
           "Vladimír Coufal"
          ],
          [
           "Lukasz Fabianski"
          ],
          [
           "Ben Johnson"
          ],
          [
           "Angelo Ogbonna"
          ],
          [
           "Flynn Downes"
          ],
          [
           "Manuel Lanzini"
          ],
          [
           "Alphonse Aréola"
          ],
          [
           "Divin Mubama"
          ]
         ],
         "hovertemplate": "Club=%{x}<br>Goals=%{y}<br>Player=%{customdata[0]}<extra></extra>",
         "legendgroup": "West Ham United",
         "marker": {
          "color": "#D62728"
         },
         "name": "West Ham United",
         "notched": false,
         "offsetgroup": "West Ham United",
         "orientation": "v",
         "showlegend": true,
         "type": "box",
         "x": [
          "West Ham United",
          "West Ham United",
          "West Ham United",
          "West Ham United",
          "West Ham United",
          "West Ham United",
          "West Ham United",
          "West Ham United",
          "West Ham United",
          "West Ham United",
          "West Ham United",
          "West Ham United",
          "West Ham United",
          "West Ham United",
          "West Ham United",
          "West Ham United",
          "West Ham United",
          "West Ham United",
          "West Ham United",
          "West Ham United",
          "West Ham United",
          "West Ham United"
         ],
         "x0": " ",
         "xaxis": "x",
         "y": [
          8,
          5,
          5,
          4,
          3,
          3,
          2,
          2,
          2,
          2,
          1,
          0,
          0,
          0,
          0,
          0,
          0,
          0,
          0,
          0,
          0,
          0
         ],
         "y0": " ",
         "yaxis": "y"
        },
        {
         "alignmentgroup": "True",
         "customdata": [
          [
           "Brennan Johnson"
          ],
          [
           "Taiwo Awoniyi"
          ],
          [
           "Morgan Gibbs-White"
          ],
          [
           "Chris Wood"
          ],
          [
           "Emmanuel Dennis"
          ],
          [
           "Danilo"
          ],
          [
           "Sèrge Aurier"
          ],
          [
           "Cheikhou Kouyaté"
          ],
          [
           "Sam Surridge"
          ],
          [
           "Neco Williams"
          ],
          [
           "Joe Worrall"
          ],
          [
           "Willy Boly"
          ],
          [
           "Ryan Yates"
          ],
          [
           "Remo Freuler"
          ],
          [
           "Scott McKenna"
          ],
          [
           "Renan Lodi"
          ],
          [
           "Dean Henderson"
          ],
          [
           "Felipe"
          ],
          [
           "Steve Cook"
          ],
          [
           "Keylor Navas"
          ],
          [
           "Jonjo Shelvey"
          ],
          [
           "Jesse Lingard"
          ],
          [
           "Harry Toffolo"
          ],
          [
           "Moussa Niakhaté"
          ],
          [
           "Jack Colback"
          ],
          [
           "Gustavo Scarpa"
          ],
          [
           "André Ayew"
          ],
          [
           "Wayne Hennessey"
          ],
          [
           "Giulian Biancone"
          ],
          [
           "Cafú"
          ],
          [
           "Alex Mighten"
          ]
         ],
         "hovertemplate": "Club=%{x}<br>Goals=%{y}<br>Player=%{customdata[0]}<extra></extra>",
         "legendgroup": "Nottingham Forest",
         "marker": {
          "color": "#9467BD"
         },
         "name": "Nottingham Forest",
         "notched": false,
         "offsetgroup": "Nottingham Forest",
         "orientation": "v",
         "showlegend": true,
         "type": "box",
         "x": [
          "Nottingham Forest",
          "Nottingham Forest",
          "Nottingham Forest",
          "Nottingham Forest",
          "Nottingham Forest",
          "Nottingham Forest",
          "Nottingham Forest",
          "Nottingham Forest",
          "Nottingham Forest",
          "Nottingham Forest",
          "Nottingham Forest",
          "Nottingham Forest",
          "Nottingham Forest",
          "Nottingham Forest",
          "Nottingham Forest",
          "Nottingham Forest",
          "Nottingham Forest",
          "Nottingham Forest",
          "Nottingham Forest",
          "Nottingham Forest",
          "Nottingham Forest",
          "Nottingham Forest",
          "Nottingham Forest",
          "Nottingham Forest",
          "Nottingham Forest",
          "Nottingham Forest",
          "Nottingham Forest",
          "Nottingham Forest",
          "Nottingham Forest",
          "Nottingham Forest",
          "Nottingham Forest"
         ],
         "x0": " ",
         "xaxis": "x",
         "y": [
          8,
          4,
          4,
          3,
          2,
          2,
          1,
          1,
          1,
          1,
          1,
          0,
          0,
          0,
          0,
          0,
          0,
          0,
          0,
          0,
          0,
          0,
          0,
          0,
          0,
          0,
          0,
          0,
          0,
          0,
          0
         ],
         "y0": " ",
         "yaxis": "y"
        },
        {
         "alignmentgroup": "True",
         "customdata": [
          [
           "Philip Billing"
          ],
          [
           "Dominic Solanke"
          ],
          [
           "Jefferson Lerma"
          ],
          [
           "Marcus Tavernier"
          ],
          [
           "Kieffer Moore"
          ],
          [
           "Jaidon Anthony"
          ],
          [
           "Marcos Senesi"
          ],
          [
           "Ryan Christie"
          ],
          [
           "Dango Ouattara"
          ],
          [
           "Antoine Semenyo"
          ],
          [
           "Matías Viña"
          ],
          [
           "Chris Mepham"
          ],
          [
           "Adam Smith"
          ],
          [
           "Lloyd Kelly"
          ],
          [
           "Lewis Cook"
          ],
          [
           "Neto"
          ],
          [
           "Jack Stephens"
          ],
          [
           "Jordan Zemura"
          ],
          [
           "Joe Rothwell"
          ],
          [
           "Mark Travers"
          ],
          [
           "Ryan Fredericks"
          ],
          [
           "Hamed Traorè"
          ],
          [
           "Jack Stacey"
          ],
          [
           "Junior Stanislas"
          ],
          [
           "Illia Zabarnyi"
          ],
          [
           "David Brooks"
          ]
         ],
         "hovertemplate": "Club=%{x}<br>Goals=%{y}<br>Player=%{customdata[0]}<extra></extra>",
         "legendgroup": "Bournemouth",
         "marker": {
          "color": "#8C564B"
         },
         "name": "Bournemouth",
         "notched": false,
         "offsetgroup": "Bournemouth",
         "orientation": "v",
         "showlegend": true,
         "type": "box",
         "x": [
          "Bournemouth",
          "Bournemouth",
          "Bournemouth",
          "Bournemouth",
          "Bournemouth",
          "Bournemouth",
          "Bournemouth",
          "Bournemouth",
          "Bournemouth",
          "Bournemouth",
          "Bournemouth",
          "Bournemouth",
          "Bournemouth",
          "Bournemouth",
          "Bournemouth",
          "Bournemouth",
          "Bournemouth",
          "Bournemouth",
          "Bournemouth",
          "Bournemouth",
          "Bournemouth",
          "Bournemouth",
          "Bournemouth",
          "Bournemouth",
          "Bournemouth",
          "Bournemouth"
         ],
         "x0": " ",
         "xaxis": "x",
         "y": [
          7,
          6,
          5,
          5,
          4,
          2,
          2,
          1,
          1,
          1,
          1,
          0,
          0,
          0,
          0,
          0,
          0,
          0,
          0,
          0,
          0,
          0,
          0,
          0,
          0,
          0
         ],
         "y0": " ",
         "yaxis": "y"
        },
        {
         "alignmentgroup": "True",
         "customdata": [
          [
           "Kai Havertz"
          ],
          [
           "Raheem Sterling"
          ],
          [
           "Mason Mount"
          ],
          [
           "Ben Chilwell"
          ],
          [
           "João Félix"
          ],
          [
           "Conor Gallagher"
          ],
          [
           "Kalidou Koulibaly"
          ],
          [
           "Pierre-Emerick Aubameyang"
          ],
          [
           "Armando Broja"
          ],
          [
           "Wesley Fofana"
          ],
          [
           "Reece James"
          ],
          [
           "Mateo Kovacic"
          ],
          [
           "Noni Madueke"
          ],
          [
           "Christian Pulisic"
          ],
          [
           "Thiago Silva"
          ],
          [
           "Marc Cucurella"
          ],
          [
           "Enzo Fernández"
          ],
          [
           "Kepa Arrizabalaga"
          ],
          [
           "César Azpilicueta"
          ],
          [
           "Ruben Loftus-Cheek"
          ],
          [
           "Benoît Badiashile"
          ],
          [
           "N'Golo Kanté"
          ],
          [
           "Hakim Ziyech"
          ],
          [
           "Édouard Mendy"
          ],
          [
           "Denis Zakaria"
          ],
          [
           "Lewis Hall"
          ],
          [
           "Mykhailo Mudryk"
          ],
          [
           "Carney Chukwuemeka"
          ],
          [
           "Omari Hutchinson"
          ],
          [
           "David Datro Fofana"
          ]
         ],
         "hovertemplate": "Club=%{x}<br>Goals=%{y}<br>Player=%{customdata[0]}<extra></extra>",
         "legendgroup": "Chelsea",
         "marker": {
          "color": "#E377C2"
         },
         "name": "Chelsea",
         "notched": false,
         "offsetgroup": "Chelsea",
         "orientation": "v",
         "showlegend": true,
         "type": "box",
         "x": [
          "Chelsea",
          "Chelsea",
          "Chelsea",
          "Chelsea",
          "Chelsea",
          "Chelsea",
          "Chelsea",
          "Chelsea",
          "Chelsea",
          "Chelsea",
          "Chelsea",
          "Chelsea",
          "Chelsea",
          "Chelsea",
          "Chelsea",
          "Chelsea",
          "Chelsea",
          "Chelsea",
          "Chelsea",
          "Chelsea",
          "Chelsea",
          "Chelsea",
          "Chelsea",
          "Chelsea",
          "Chelsea",
          "Chelsea",
          "Chelsea",
          "Chelsea",
          "Chelsea",
          "Chelsea"
         ],
         "x0": " ",
         "xaxis": "x",
         "y": [
          7,
          4,
          3,
          2,
          2,
          2,
          2,
          1,
          1,
          1,
          1,
          1,
          1,
          1,
          0,
          0,
          0,
          0,
          0,
          0,
          0,
          0,
          0,
          0,
          0,
          0,
          0,
          0,
          0,
          0
         ],
         "y0": " ",
         "yaxis": "y"
        },
        {
         "alignmentgroup": "True",
         "customdata": [
          [
           "James Ward-Prowse"
          ],
          [
           "Ché Adams"
          ],
          [
           "Carlos Alcaraz"
          ],
          [
           "Joe Aribo"
          ],
          [
           "Stuart Armstrong"
          ],
          [
           "Romain Perraud"
          ],
          [
           "Theo Walcott"
          ],
          [
           "Adam Armstrong"
          ],
          [
           "Duje Caleta-Car"
          ],
          [
           "Roméo Lavia"
          ],
          [
           "Sékou Mara"
          ],
          [
           "Kyle Walker-Peters"
          ],
          [
           "Mohammed Salisu"
          ],
          [
           "Gavin Bazunu"
          ],
          [
           "Armel Bella-Kotchap"
          ],
          [
           "Jan Bednarek"
          ],
          [
           "Mohamed Elyounoussi"
          ],
          [
           "Ainsley Maitland-Niles"
          ],
          [
           "Ibrahima Diallo"
          ],
          [
           "Lyanco"
          ],
          [
           "Kamaldeen Sulemana"
          ],
          [
           "Moussa Djenepo"
          ],
          [
           "Samuel Edozie"
          ],
          [
           "James Bree"
          ],
          [
           "Alex McCarthy"
          ],
          [
           "Paul Onuachu"
          ],
          [
           "Juan Larios"
          ],
          [
           "Mislav Orsic"
          ]
         ],
         "hovertemplate": "Club=%{x}<br>Goals=%{y}<br>Player=%{customdata[0]}<extra></extra>",
         "legendgroup": "Southampton",
         "marker": {
          "color": "#7F7F7F"
         },
         "name": "Southampton",
         "notched": false,
         "offsetgroup": "Southampton",
         "orientation": "v",
         "showlegend": true,
         "type": "box",
         "x": [
          "Southampton",
          "Southampton",
          "Southampton",
          "Southampton",
          "Southampton",
          "Southampton",
          "Southampton",
          "Southampton",
          "Southampton",
          "Southampton",
          "Southampton",
          "Southampton",
          "Southampton",
          "Southampton",
          "Southampton",
          "Southampton",
          "Southampton",
          "Southampton",
          "Southampton",
          "Southampton",
          "Southampton",
          "Southampton",
          "Southampton",
          "Southampton",
          "Southampton",
          "Southampton",
          "Southampton",
          "Southampton"
         ],
         "x0": " ",
         "xaxis": "x",
         "y": [
          7,
          5,
          3,
          2,
          2,
          2,
          2,
          1,
          1,
          1,
          1,
          1,
          0,
          0,
          0,
          0,
          0,
          0,
          0,
          0,
          0,
          0,
          0,
          0,
          0,
          0,
          0,
          0
         ],
         "y0": " ",
         "yaxis": "y"
        },
        {
         "alignmentgroup": "True",
         "customdata": [
          [
           "Daniel Podence"
          ],
          [
           "Rúben Neves"
          ],
          [
           "Hwang Hee-Chan"
          ],
          [
           "Matheus Cunha"
          ],
          [
           "Adama Traoré"
          ],
          [
           "Rayan Aït-Nouri"
          ],
          [
           "Jonny"
          ],
          [
           "Diego Costa"
          ],
          [
           "Craig Dawson"
          ],
          [
           "João Gomes"
          ],
          [
           "Matheus Nunes"
          ],
          [
           "Pablo Sarabia"
          ],
          [
           "Raúl Jiménez"
          ],
          [
           "Maximilian Kilman"
          ],
          [
           "Nélson Semedo"
          ],
          [
           "Nathan Collins"
          ],
          [
           "João Moutinho"
          ],
          [
           "José Sá"
          ],
          [
           "Mario Lemina"
          ],
          [
           "Hugo Bueno"
          ],
          [
           "Toti"
          ],
          [
           "Pedro Neto"
          ],
          [
           "Boubacar Traoré"
          ],
          [
           "Joseph Hodge"
          ],
          [
           "Dexter Lembikisa"
          ],
          [
           "Sasa Kalajdzic"
          ]
         ],
         "hovertemplate": "Club=%{x}<br>Goals=%{y}<br>Player=%{customdata[0]}<extra></extra>",
         "legendgroup": "Wolverhampton Wanderers",
         "marker": {
          "color": "#BCBD22"
         },
         "name": "Wolverhampton Wanderers",
         "notched": false,
         "offsetgroup": "Wolverhampton Wanderers",
         "orientation": "v",
         "showlegend": true,
         "type": "box",
         "x": [
          "Wolverhampton Wanderers",
          "Wolverhampton Wanderers",
          "Wolverhampton Wanderers",
          "Wolverhampton Wanderers",
          "Wolverhampton Wanderers",
          "Wolverhampton Wanderers",
          "Wolverhampton Wanderers",
          "Wolverhampton Wanderers",
          "Wolverhampton Wanderers",
          "Wolverhampton Wanderers",
          "Wolverhampton Wanderers",
          "Wolverhampton Wanderers",
          "Wolverhampton Wanderers",
          "Wolverhampton Wanderers",
          "Wolverhampton Wanderers",
          "Wolverhampton Wanderers",
          "Wolverhampton Wanderers",
          "Wolverhampton Wanderers",
          "Wolverhampton Wanderers",
          "Wolverhampton Wanderers",
          "Wolverhampton Wanderers",
          "Wolverhampton Wanderers",
          "Wolverhampton Wanderers",
          "Wolverhampton Wanderers",
          "Wolverhampton Wanderers",
          "Wolverhampton Wanderers"
         ],
         "x0": " ",
         "xaxis": "x",
         "y": [
          6,
          6,
          2,
          2,
          2,
          1,
          1,
          1,
          1,
          1,
          1,
          1,
          0,
          0,
          0,
          0,
          0,
          0,
          0,
          0,
          0,
          0,
          0,
          0,
          0,
          0
         ],
         "y0": " ",
         "yaxis": "y"
        },
        {
         "alignmentgroup": "True",
         "customdata": [
          [
           "Michail Antonio"
          ],
          [
           "Bobby De Cordova-Reid"
          ],
          [
           "João Cancelo"
          ],
          [
           "Ethan Pinnock"
          ],
          [
           "William Saliba"
          ],
          [
           "Marc Albrighton"
          ],
          [
           "Séamus Coleman"
          ],
          [
           "Matt Doherty"
          ],
          [
           "Cristiano Ronaldo"
          ],
          [
           "Harvey Elliott"
          ],
          [
           "Gonçalo Guedes"
          ],
          [
           "Orel Mangala"
          ],
          [
           "Nampalys Mendy"
          ],
          [
           "Lewis O'Brien"
          ],
          [
           "Daniel Amartey"
          ],
          [
           "Trevoh Chalobah"
          ],
          [
           "Diego Llorente"
          ],
          [
           "Kristoffer Ajer"
          ],
          [
           "Ayoze Pérez"
          ],
          [
           "Mateusz Klich"
          ],
          [
           "Ben Pearson"
          ],
          [
           "Enock Mwepu"
          ],
          [
           "Joe Gelhardt"
          ],
          [
           "Kevin Mbabu"
          ],
          [
           "Marek Rodák"
          ],
          [
           "Bryan Gil"
          ],
          [
           "Siriki Dembélé"
          ],
          [
           "Sergi Canós"
          ],
          [
           "Cody Drameh"
          ],
          [
           "Ludwig Augustinsson"
          ],
          [
           "Oriol Romeu"
          ],
          [
           "Chem Campbell"
          ],
          [
           "Salomón Rondón"
          ],
          [
           "Yan Valery"
          ],
          [
           "Jay Stansfield"
          ],
          [
           "Dele Alli"
          ],
          [
           "Cameron Archer"
          ],
          [
           "Djed Spence"
          ],
          [
           "Mads Bech Sørensen"
          ],
          [
           "Malcolm Ebiowei"
          ],
          [
           "Morgan Sanson"
          ],
          [
           "Josh Onomah"
          ],
          [
           "Thomas Cannon"
          ],
          [
           "Nathaniel Chalobah"
          ],
          [
           "Harvey White"
          ],
          [
           "Jamal Lowe"
          ],
          [
           "Owen Bevan"
          ],
          [
           "Marquinhos"
          ],
          [
           "Connor Ronan"
          ],
          [
           "Emiliano Marcondes"
          ],
          [
           "Halil Dervisoglu"
          ],
          [
           "Nathan Redmond"
          ],
          [
           "Conor Coventry"
          ]
         ],
         "hovertemplate": "Club=%{x}<br>Goals=%{y}<br>Player=%{customdata[0]}<extra></extra>",
         "legendgroup": "-",
         "marker": {
          "color": "#17BECF"
         },
         "name": "-",
         "notched": false,
         "offsetgroup": "-",
         "orientation": "v",
         "showlegend": true,
         "type": "box",
         "x": [
          "-",
          "-",
          "-",
          "-",
          "-",
          "-",
          "-",
          "-",
          "-",
          "-",
          "-",
          "-",
          "-",
          "-",
          "-",
          "-",
          "-",
          "-",
          "-",
          "-",
          "-",
          "-",
          "-",
          "-",
          "-",
          "-",
          "-",
          "-",
          "-",
          "-",
          "-",
          "-",
          "-",
          "-",
          "-",
          "-",
          "-",
          "-",
          "-",
          "-",
          "-",
          "-",
          "-",
          "-",
          "-",
          "-",
          "-",
          "-",
          "-",
          "-",
          "-",
          "-",
          "-"
         ],
         "x0": " ",
         "xaxis": "x",
         "y": [
          5,
          4,
          2,
          2,
          2,
          1,
          1,
          1,
          1,
          1,
          1,
          1,
          1,
          1,
          0,
          0,
          0,
          0,
          0,
          0,
          0,
          0,
          0,
          0,
          0,
          0,
          0,
          0,
          0,
          0,
          0,
          0,
          0,
          0,
          0,
          0,
          0,
          0,
          0,
          0,
          0,
          0,
          0,
          0,
          0,
          0,
          0,
          0,
          0,
          0,
          0,
          0,
          0
         ],
         "y0": " ",
         "yaxis": "y"
        },
        {
         "alignmentgroup": "True",
         "customdata": [
          [
           "Dwight McNeil"
          ],
          [
           "Demarai Gray"
          ],
          [
           "Dominic Calvert-Lewin"
          ],
          [
           "Abdoulaye Doucouré"
          ],
          [
           "Alex Iwobi"
          ],
          [
           "Conor Coady"
          ],
          [
           "Michael Keane"
          ],
          [
           "Neal Maupay"
          ],
          [
           "Yerry Mina"
          ],
          [
           "Amadou Onana"
          ],
          [
           "Ellis Simms"
          ],
          [
           "James Tarkowski"
          ],
          [
           "Idrissa Gueye"
          ],
          [
           "Jordan Pickford"
          ],
          [
           "Vitalii Mykolenko"
          ],
          [
           "Nathan Patterson"
          ],
          [
           "Tom Davies"
          ],
          [
           "Ben Godfrey"
          ],
          [
           "James Garner"
          ],
          [
           "Mason Holgate"
          ],
          [
           "Asmir Begovic"
          ],
          [
           "Rúben Vinagre"
          ],
          [
           "Isaac Price"
          ]
         ],
         "hovertemplate": "Club=%{x}<br>Goals=%{y}<br>Player=%{customdata[0]}<extra></extra>",
         "legendgroup": "Everton",
         "marker": {
          "color": "#1F77B4"
         },
         "name": "Everton",
         "notched": false,
         "offsetgroup": "Everton",
         "orientation": "v",
         "showlegend": true,
         "type": "box",
         "x": [
          "Everton",
          "Everton",
          "Everton",
          "Everton",
          "Everton",
          "Everton",
          "Everton",
          "Everton",
          "Everton",
          "Everton",
          "Everton",
          "Everton",
          "Everton",
          "Everton",
          "Everton",
          "Everton",
          "Everton",
          "Everton",
          "Everton",
          "Everton",
          "Everton",
          "Everton",
          "Everton"
         ],
         "x0": " ",
         "xaxis": "x",
         "y": [
          5,
          4,
          2,
          2,
          2,
          1,
          1,
          1,
          1,
          1,
          1,
          1,
          0,
          0,
          0,
          0,
          0,
          0,
          0,
          0,
          0,
          0,
          0
         ],
         "y0": " ",
         "yaxis": "y"
        }
       ],
       "layout": {
        "boxmode": "overlay",
        "legend": {
         "title": {
          "text": "Club"
         },
         "tracegroupgap": 0
        },
        "template": {
         "data": {
          "bar": [
           {
            "error_x": {
             "color": "rgb(36,36,36)"
            },
            "error_y": {
             "color": "rgb(36,36,36)"
            },
            "marker": {
             "line": {
              "color": "white",
              "width": 0.5
             },
             "pattern": {
              "fillmode": "overlay",
              "size": 10,
              "solidity": 0.2
             }
            },
            "type": "bar"
           }
          ],
          "barpolar": [
           {
            "marker": {
             "line": {
              "color": "white",
              "width": 0.5
             },
             "pattern": {
              "fillmode": "overlay",
              "size": 10,
              "solidity": 0.2
             }
            },
            "type": "barpolar"
           }
          ],
          "carpet": [
           {
            "aaxis": {
             "endlinecolor": "rgb(36,36,36)",
             "gridcolor": "white",
             "linecolor": "white",
             "minorgridcolor": "white",
             "startlinecolor": "rgb(36,36,36)"
            },
            "baxis": {
             "endlinecolor": "rgb(36,36,36)",
             "gridcolor": "white",
             "linecolor": "white",
             "minorgridcolor": "white",
             "startlinecolor": "rgb(36,36,36)"
            },
            "type": "carpet"
           }
          ],
          "choropleth": [
           {
            "colorbar": {
             "outlinewidth": 1,
             "tickcolor": "rgb(36,36,36)",
             "ticks": "outside"
            },
            "type": "choropleth"
           }
          ],
          "contour": [
           {
            "colorbar": {
             "outlinewidth": 1,
             "tickcolor": "rgb(36,36,36)",
             "ticks": "outside"
            },
            "colorscale": [
             [
              0,
              "#440154"
             ],
             [
              0.1111111111111111,
              "#482878"
             ],
             [
              0.2222222222222222,
              "#3e4989"
             ],
             [
              0.3333333333333333,
              "#31688e"
             ],
             [
              0.4444444444444444,
              "#26828e"
             ],
             [
              0.5555555555555556,
              "#1f9e89"
             ],
             [
              0.6666666666666666,
              "#35b779"
             ],
             [
              0.7777777777777778,
              "#6ece58"
             ],
             [
              0.8888888888888888,
              "#b5de2b"
             ],
             [
              1,
              "#fde725"
             ]
            ],
            "type": "contour"
           }
          ],
          "contourcarpet": [
           {
            "colorbar": {
             "outlinewidth": 1,
             "tickcolor": "rgb(36,36,36)",
             "ticks": "outside"
            },
            "type": "contourcarpet"
           }
          ],
          "heatmap": [
           {
            "colorbar": {
             "outlinewidth": 1,
             "tickcolor": "rgb(36,36,36)",
             "ticks": "outside"
            },
            "colorscale": [
             [
              0,
              "#440154"
             ],
             [
              0.1111111111111111,
              "#482878"
             ],
             [
              0.2222222222222222,
              "#3e4989"
             ],
             [
              0.3333333333333333,
              "#31688e"
             ],
             [
              0.4444444444444444,
              "#26828e"
             ],
             [
              0.5555555555555556,
              "#1f9e89"
             ],
             [
              0.6666666666666666,
              "#35b779"
             ],
             [
              0.7777777777777778,
              "#6ece58"
             ],
             [
              0.8888888888888888,
              "#b5de2b"
             ],
             [
              1,
              "#fde725"
             ]
            ],
            "type": "heatmap"
           }
          ],
          "heatmapgl": [
           {
            "colorbar": {
             "outlinewidth": 1,
             "tickcolor": "rgb(36,36,36)",
             "ticks": "outside"
            },
            "colorscale": [
             [
              0,
              "#440154"
             ],
             [
              0.1111111111111111,
              "#482878"
             ],
             [
              0.2222222222222222,
              "#3e4989"
             ],
             [
              0.3333333333333333,
              "#31688e"
             ],
             [
              0.4444444444444444,
              "#26828e"
             ],
             [
              0.5555555555555556,
              "#1f9e89"
             ],
             [
              0.6666666666666666,
              "#35b779"
             ],
             [
              0.7777777777777778,
              "#6ece58"
             ],
             [
              0.8888888888888888,
              "#b5de2b"
             ],
             [
              1,
              "#fde725"
             ]
            ],
            "type": "heatmapgl"
           }
          ],
          "histogram": [
           {
            "marker": {
             "line": {
              "color": "white",
              "width": 0.6
             }
            },
            "type": "histogram"
           }
          ],
          "histogram2d": [
           {
            "colorbar": {
             "outlinewidth": 1,
             "tickcolor": "rgb(36,36,36)",
             "ticks": "outside"
            },
            "colorscale": [
             [
              0,
              "#440154"
             ],
             [
              0.1111111111111111,
              "#482878"
             ],
             [
              0.2222222222222222,
              "#3e4989"
             ],
             [
              0.3333333333333333,
              "#31688e"
             ],
             [
              0.4444444444444444,
              "#26828e"
             ],
             [
              0.5555555555555556,
              "#1f9e89"
             ],
             [
              0.6666666666666666,
              "#35b779"
             ],
             [
              0.7777777777777778,
              "#6ece58"
             ],
             [
              0.8888888888888888,
              "#b5de2b"
             ],
             [
              1,
              "#fde725"
             ]
            ],
            "type": "histogram2d"
           }
          ],
          "histogram2dcontour": [
           {
            "colorbar": {
             "outlinewidth": 1,
             "tickcolor": "rgb(36,36,36)",
             "ticks": "outside"
            },
            "colorscale": [
             [
              0,
              "#440154"
             ],
             [
              0.1111111111111111,
              "#482878"
             ],
             [
              0.2222222222222222,
              "#3e4989"
             ],
             [
              0.3333333333333333,
              "#31688e"
             ],
             [
              0.4444444444444444,
              "#26828e"
             ],
             [
              0.5555555555555556,
              "#1f9e89"
             ],
             [
              0.6666666666666666,
              "#35b779"
             ],
             [
              0.7777777777777778,
              "#6ece58"
             ],
             [
              0.8888888888888888,
              "#b5de2b"
             ],
             [
              1,
              "#fde725"
             ]
            ],
            "type": "histogram2dcontour"
           }
          ],
          "mesh3d": [
           {
            "colorbar": {
             "outlinewidth": 1,
             "tickcolor": "rgb(36,36,36)",
             "ticks": "outside"
            },
            "type": "mesh3d"
           }
          ],
          "parcoords": [
           {
            "line": {
             "colorbar": {
              "outlinewidth": 1,
              "tickcolor": "rgb(36,36,36)",
              "ticks": "outside"
             }
            },
            "type": "parcoords"
           }
          ],
          "pie": [
           {
            "automargin": true,
            "type": "pie"
           }
          ],
          "scatter": [
           {
            "fillpattern": {
             "fillmode": "overlay",
             "size": 10,
             "solidity": 0.2
            },
            "type": "scatter"
           }
          ],
          "scatter3d": [
           {
            "line": {
             "colorbar": {
              "outlinewidth": 1,
              "tickcolor": "rgb(36,36,36)",
              "ticks": "outside"
             }
            },
            "marker": {
             "colorbar": {
              "outlinewidth": 1,
              "tickcolor": "rgb(36,36,36)",
              "ticks": "outside"
             }
            },
            "type": "scatter3d"
           }
          ],
          "scattercarpet": [
           {
            "marker": {
             "colorbar": {
              "outlinewidth": 1,
              "tickcolor": "rgb(36,36,36)",
              "ticks": "outside"
             }
            },
            "type": "scattercarpet"
           }
          ],
          "scattergeo": [
           {
            "marker": {
             "colorbar": {
              "outlinewidth": 1,
              "tickcolor": "rgb(36,36,36)",
              "ticks": "outside"
             }
            },
            "type": "scattergeo"
           }
          ],
          "scattergl": [
           {
            "marker": {
             "colorbar": {
              "outlinewidth": 1,
              "tickcolor": "rgb(36,36,36)",
              "ticks": "outside"
             }
            },
            "type": "scattergl"
           }
          ],
          "scattermapbox": [
           {
            "marker": {
             "colorbar": {
              "outlinewidth": 1,
              "tickcolor": "rgb(36,36,36)",
              "ticks": "outside"
             }
            },
            "type": "scattermapbox"
           }
          ],
          "scatterpolar": [
           {
            "marker": {
             "colorbar": {
              "outlinewidth": 1,
              "tickcolor": "rgb(36,36,36)",
              "ticks": "outside"
             }
            },
            "type": "scatterpolar"
           }
          ],
          "scatterpolargl": [
           {
            "marker": {
             "colorbar": {
              "outlinewidth": 1,
              "tickcolor": "rgb(36,36,36)",
              "ticks": "outside"
             }
            },
            "type": "scatterpolargl"
           }
          ],
          "scatterternary": [
           {
            "marker": {
             "colorbar": {
              "outlinewidth": 1,
              "tickcolor": "rgb(36,36,36)",
              "ticks": "outside"
             }
            },
            "type": "scatterternary"
           }
          ],
          "surface": [
           {
            "colorbar": {
             "outlinewidth": 1,
             "tickcolor": "rgb(36,36,36)",
             "ticks": "outside"
            },
            "colorscale": [
             [
              0,
              "#440154"
             ],
             [
              0.1111111111111111,
              "#482878"
             ],
             [
              0.2222222222222222,
              "#3e4989"
             ],
             [
              0.3333333333333333,
              "#31688e"
             ],
             [
              0.4444444444444444,
              "#26828e"
             ],
             [
              0.5555555555555556,
              "#1f9e89"
             ],
             [
              0.6666666666666666,
              "#35b779"
             ],
             [
              0.7777777777777778,
              "#6ece58"
             ],
             [
              0.8888888888888888,
              "#b5de2b"
             ],
             [
              1,
              "#fde725"
             ]
            ],
            "type": "surface"
           }
          ],
          "table": [
           {
            "cells": {
             "fill": {
              "color": "rgb(237,237,237)"
             },
             "line": {
              "color": "white"
             }
            },
            "header": {
             "fill": {
              "color": "rgb(217,217,217)"
             },
             "line": {
              "color": "white"
             }
            },
            "type": "table"
           }
          ]
         },
         "layout": {
          "annotationdefaults": {
           "arrowhead": 0,
           "arrowwidth": 1
          },
          "autotypenumbers": "strict",
          "coloraxis": {
           "colorbar": {
            "outlinewidth": 1,
            "tickcolor": "rgb(36,36,36)",
            "ticks": "outside"
           }
          },
          "colorscale": {
           "diverging": [
            [
             0,
             "rgb(103,0,31)"
            ],
            [
             0.1,
             "rgb(178,24,43)"
            ],
            [
             0.2,
             "rgb(214,96,77)"
            ],
            [
             0.3,
             "rgb(244,165,130)"
            ],
            [
             0.4,
             "rgb(253,219,199)"
            ],
            [
             0.5,
             "rgb(247,247,247)"
            ],
            [
             0.6,
             "rgb(209,229,240)"
            ],
            [
             0.7,
             "rgb(146,197,222)"
            ],
            [
             0.8,
             "rgb(67,147,195)"
            ],
            [
             0.9,
             "rgb(33,102,172)"
            ],
            [
             1,
             "rgb(5,48,97)"
            ]
           ],
           "sequential": [
            [
             0,
             "#440154"
            ],
            [
             0.1111111111111111,
             "#482878"
            ],
            [
             0.2222222222222222,
             "#3e4989"
            ],
            [
             0.3333333333333333,
             "#31688e"
            ],
            [
             0.4444444444444444,
             "#26828e"
            ],
            [
             0.5555555555555556,
             "#1f9e89"
            ],
            [
             0.6666666666666666,
             "#35b779"
            ],
            [
             0.7777777777777778,
             "#6ece58"
            ],
            [
             0.8888888888888888,
             "#b5de2b"
            ],
            [
             1,
             "#fde725"
            ]
           ],
           "sequentialminus": [
            [
             0,
             "#440154"
            ],
            [
             0.1111111111111111,
             "#482878"
            ],
            [
             0.2222222222222222,
             "#3e4989"
            ],
            [
             0.3333333333333333,
             "#31688e"
            ],
            [
             0.4444444444444444,
             "#26828e"
            ],
            [
             0.5555555555555556,
             "#1f9e89"
            ],
            [
             0.6666666666666666,
             "#35b779"
            ],
            [
             0.7777777777777778,
             "#6ece58"
            ],
            [
             0.8888888888888888,
             "#b5de2b"
            ],
            [
             1,
             "#fde725"
            ]
           ]
          },
          "colorway": [
           "#1F77B4",
           "#FF7F0E",
           "#2CA02C",
           "#D62728",
           "#9467BD",
           "#8C564B",
           "#E377C2",
           "#7F7F7F",
           "#BCBD22",
           "#17BECF"
          ],
          "font": {
           "color": "rgb(36,36,36)"
          },
          "geo": {
           "bgcolor": "white",
           "lakecolor": "white",
           "landcolor": "white",
           "showlakes": true,
           "showland": true,
           "subunitcolor": "white"
          },
          "hoverlabel": {
           "align": "left"
          },
          "hovermode": "closest",
          "mapbox": {
           "style": "light"
          },
          "paper_bgcolor": "white",
          "plot_bgcolor": "white",
          "polar": {
           "angularaxis": {
            "gridcolor": "rgb(232,232,232)",
            "linecolor": "rgb(36,36,36)",
            "showgrid": false,
            "showline": true,
            "ticks": "outside"
           },
           "bgcolor": "white",
           "radialaxis": {
            "gridcolor": "rgb(232,232,232)",
            "linecolor": "rgb(36,36,36)",
            "showgrid": false,
            "showline": true,
            "ticks": "outside"
           }
          },
          "scene": {
           "xaxis": {
            "backgroundcolor": "white",
            "gridcolor": "rgb(232,232,232)",
            "gridwidth": 2,
            "linecolor": "rgb(36,36,36)",
            "showbackground": true,
            "showgrid": false,
            "showline": true,
            "ticks": "outside",
            "zeroline": false,
            "zerolinecolor": "rgb(36,36,36)"
           },
           "yaxis": {
            "backgroundcolor": "white",
            "gridcolor": "rgb(232,232,232)",
            "gridwidth": 2,
            "linecolor": "rgb(36,36,36)",
            "showbackground": true,
            "showgrid": false,
            "showline": true,
            "ticks": "outside",
            "zeroline": false,
            "zerolinecolor": "rgb(36,36,36)"
           },
           "zaxis": {
            "backgroundcolor": "white",
            "gridcolor": "rgb(232,232,232)",
            "gridwidth": 2,
            "linecolor": "rgb(36,36,36)",
            "showbackground": true,
            "showgrid": false,
            "showline": true,
            "ticks": "outside",
            "zeroline": false,
            "zerolinecolor": "rgb(36,36,36)"
           }
          },
          "shapedefaults": {
           "fillcolor": "black",
           "line": {
            "width": 0
           },
           "opacity": 0.3
          },
          "ternary": {
           "aaxis": {
            "gridcolor": "rgb(232,232,232)",
            "linecolor": "rgb(36,36,36)",
            "showgrid": false,
            "showline": true,
            "ticks": "outside"
           },
           "baxis": {
            "gridcolor": "rgb(232,232,232)",
            "linecolor": "rgb(36,36,36)",
            "showgrid": false,
            "showline": true,
            "ticks": "outside"
           },
           "bgcolor": "white",
           "caxis": {
            "gridcolor": "rgb(232,232,232)",
            "linecolor": "rgb(36,36,36)",
            "showgrid": false,
            "showline": true,
            "ticks": "outside"
           }
          },
          "title": {
           "x": 0.05
          },
          "xaxis": {
           "automargin": true,
           "gridcolor": "rgb(232,232,232)",
           "linecolor": "rgb(36,36,36)",
           "showgrid": false,
           "showline": true,
           "ticks": "outside",
           "title": {
            "standoff": 15
           },
           "zeroline": false,
           "zerolinecolor": "rgb(36,36,36)"
          },
          "yaxis": {
           "automargin": true,
           "gridcolor": "rgb(232,232,232)",
           "linecolor": "rgb(36,36,36)",
           "showgrid": false,
           "showline": true,
           "ticks": "outside",
           "title": {
            "standoff": 15
           },
           "zeroline": false,
           "zerolinecolor": "rgb(36,36,36)"
          }
         }
        },
        "title": {
         "text": "Goal Scoring Distribution Per Club"
        },
        "xaxis": {
         "anchor": "y",
         "categoryarray": [
          "Manchester City",
          "Tottenham Hotspur",
          "Brentford",
          "Liverpool",
          "Manchester United",
          "Arsenal",
          "Newcastle United",
          "Aston Villa",
          "Fulham",
          "Leeds United",
          "Leicester City",
          "Brighton & Hove Albion",
          "Crystal Palace",
          "West Ham United",
          "Nottingham Forest",
          "Bournemouth",
          "Chelsea",
          "Southampton",
          "Wolverhampton Wanderers",
          "-",
          "Everton"
         ],
         "categoryorder": "array",
         "domain": [
          0,
          1
         ],
         "title": {
          "text": "Club"
         }
        },
        "yaxis": {
         "anchor": "x",
         "domain": [
          0,
          1
         ],
         "title": {
          "text": "Goals"
         }
        }
       }
      }
     },
     "metadata": {},
     "output_type": "display_data"
    }
   ],
   "source": [
    "#Distribution of goals scored per club\n",
    "import plotly.express as px\n",
    "\n",
    "fig=px.box(full_df,y='Goals',x='Club',title='Goal Scoring Distribution Per Club',template='simple_white',hover_data=[\"Player\"],color='Club')\n",
    "fig.show()"
   ]
  },
  {
   "cell_type": "code",
   "execution_count": 49,
   "metadata": {},
   "outputs": [
    {
     "data": {
      "image/png": "[encoded data removed]",
      "text/plain": [
       "<Figure size 1200x700 with 2 Axes>"
      ]
     },
     "metadata": {},
     "output_type": "display_data"
    }
   ],
   "source": [
    "#Plotting correlation matrix for all variables\n",
    "import matplotlib.pyplot as plt\n",
    "import seaborn as sns\n",
    "plt.figure(figsize=(12,7))\n",
    "corr = full_df.corr(numeric_only=True) #Calculate pearson correlation\n",
    "# Generate a mask for the upper triangle\n",
    "mask = np.triu(np.ones_like(corr, dtype=bool))\n",
    "corrPlot=sns.heatmap(corr,mask=mask,cmap='jet',annot=True)\n",
    "plt.title(\"Correlation Matrix for Player Stats\")\n",
    "plt.show()"
   ]
  },
  {
   "cell_type": "code",
   "execution_count": 54,
   "metadata": {},
   "outputs": [
    {
     "data": {
      "image/png": "[encoded data removed]",
      "text/plain": [
       "<Figure size 1200x700 with 1 Axes>"
      ]
     },
     "metadata": {},
     "output_type": "display_data"
    }
   ],
   "source": [
    "#Histrogram of Goals Scored\n",
    "plt.figure(figsize=(12,7))\n",
    "g=sns.histplot(full_df['Goals'])\n",
    "plt.title(\"Distribution of Goals Scored\")\n",
    "plt.show()"
   ]
  },
  {
   "cell_type": "code",
   "execution_count": 71,
   "metadata": {},
   "outputs": [
    {
     "data": {
      "application/vnd.plotly.v1+json": {
       "config": {
        "plotlyServerURL": "https://plot.ly"
       },
       "data": [
        {
         "hovertemplate": "Shots=%{x}<br>Goals=%{y}<br>Player=%{text}<extra></extra>",
         "legendgroup": "",
         "marker": {
          "color": "#636efa",
          "symbol": "circle"
         },
         "mode": "markers+text",
         "name": "",
         "orientation": "v",
         "showlegend": false,
         "text": [
          "Erling Haaland",
          "Harry Kane",
          "Ivan Toney",
          "Mohamed Salah",
          "Marcus Rashford",
          "Gabriel Martinelli",
          "Callum Wilson",
          "Ollie Watkins",
          "Martin Ødegaard",
          "Bukayo Saka",
          "Miguel Almirón",
          "Aleksandar Mitrovic",
          "Rodrigo",
          "Harvey Barnes",
          "Gabriel Jesus",
          "Phil Foden",
          "Alexander Isak",
          "Son Heung-Min",
          "Roberto Firmino",
          "Alexis Mac Allister"
         ],
         "textfont": {
          "size": 8.5
         },
         "textposition": "top center",
         "type": "scatter",
         "x": [
          108,
          120,
          93,
          107,
          92,
          76,
          60,
          79,
          86,
          81,
          54,
          86,
          61,
          65,
          68,
          37,
          38,
          76,
          37,
          77
         ],
         "xaxis": "x",
         "y": [
          35,
          25,
          20,
          18,
          16,
          15,
          15,
          14,
          14,
          13,
          11,
          11,
          11,
          10,
          10,
          10,
          10,
          10,
          9,
          9
         ],
         "yaxis": "y"
        },
        {
         "hovertemplate": "<b>OLS trendline</b><br>Goals = 0.199022 * Shots + -0.636615<br>R<sup>2</sup>=0.526581<br><br>Shots=%{x}<br>Goals=%{y} <b>(trend)</b><extra></extra>",
         "legendgroup": "",
         "marker": {
          "color": "#636efa",
          "symbol": "circle"
         },
         "mode": "lines",
         "name": "",
         "orientation": "v",
         "showlegend": false,
         "textfont": {
          "size": 8.5
         },
         "textposition": "top center",
         "type": "scatter",
         "x": [
          37,
          37,
          38,
          54,
          60,
          61,
          65,
          68,
          76,
          76,
          77,
          79,
          81,
          86,
          86,
          92,
          93,
          107,
          108,
          120
         ],
         "xaxis": "x",
         "y": [
          6.7272057719050915,
          6.7272057719050915,
          6.926227959240044,
          10.110582956599272,
          11.304716080608982,
          11.503738267943934,
          12.299827017283741,
          12.896893579288596,
          14.48907107796821,
          14.48907107796821,
          14.688093265303161,
          15.086137639973066,
          15.484182014642968,
          16.479292951317728,
          16.479292951317728,
          17.673426075327438,
          17.872448262662388,
          20.658758885351713,
          20.857781072686667,
          23.246047320706086
         ],
         "yaxis": "y"
        }
       ],
       "layout": {
        "height": 800,
        "legend": {
         "tracegroupgap": 0
        },
        "template": {
         "data": {
          "bar": [
           {
            "error_x": {
             "color": "#f2f5fa"
            },
            "error_y": {
             "color": "#f2f5fa"
            },
            "marker": {
             "line": {
              "color": "rgb(17,17,17)",
              "width": 0.5
             },
             "pattern": {
              "fillmode": "overlay",
              "size": 10,
              "solidity": 0.2
             }
            },
            "type": "bar"
           }
          ],
          "barpolar": [
           {
            "marker": {
             "line": {
              "color": "rgb(17,17,17)",
              "width": 0.5
             },
             "pattern": {
              "fillmode": "overlay",
              "size": 10,
              "solidity": 0.2
             }
            },
            "type": "barpolar"
           }
          ],
          "carpet": [
           {
            "aaxis": {
             "endlinecolor": "#A2B1C6",
             "gridcolor": "#506784",
             "linecolor": "#506784",
             "minorgridcolor": "#506784",
             "startlinecolor": "#A2B1C6"
            },
            "baxis": {
             "endlinecolor": "#A2B1C6",
             "gridcolor": "#506784",
             "linecolor": "#506784",
             "minorgridcolor": "#506784",
             "startlinecolor": "#A2B1C6"
            },
            "type": "carpet"
           }
          ],
          "choropleth": [
           {
            "colorbar": {
             "outlinewidth": 0,
             "ticks": ""
            },
            "type": "choropleth"
           }
          ],
          "contour": [
           {
            "colorbar": {
             "outlinewidth": 0,
             "ticks": ""
            },
            "colorscale": [
             [
              0,
              "#0d0887"
             ],
             [
              0.1111111111111111,
              "#46039f"
             ],
             [
              0.2222222222222222,
              "#7201a8"
             ],
             [
              0.3333333333333333,
              "#9c179e"
             ],
             [
              0.4444444444444444,
              "#bd3786"
             ],
             [
              0.5555555555555556,
              "#d8576b"
             ],
             [
              0.6666666666666666,
              "#ed7953"
             ],
             [
              0.7777777777777778,
              "#fb9f3a"
             ],
             [
              0.8888888888888888,
              "#fdca26"
             ],
             [
              1,
              "#f0f921"
             ]
            ],
            "type": "contour"
           }
          ],
          "contourcarpet": [
           {
            "colorbar": {
             "outlinewidth": 0,
             "ticks": ""
            },
            "type": "contourcarpet"
           }
          ],
          "heatmap": [
           {
            "colorbar": {
             "outlinewidth": 0,
             "ticks": ""
            },
            "colorscale": [
             [
              0,
              "#0d0887"
             ],
             [
              0.1111111111111111,
              "#46039f"
             ],
             [
              0.2222222222222222,
              "#7201a8"
             ],
             [
              0.3333333333333333,
              "#9c179e"
             ],
             [
              0.4444444444444444,
              "#bd3786"
             ],
             [
              0.5555555555555556,
              "#d8576b"
             ],
             [
              0.6666666666666666,
              "#ed7953"
             ],
             [
              0.7777777777777778,
              "#fb9f3a"
             ],
             [
              0.8888888888888888,
              "#fdca26"
             ],
             [
              1,
              "#f0f921"
             ]
            ],
            "type": "heatmap"
           }
          ],
          "heatmapgl": [
           {
            "colorbar": {
             "outlinewidth": 0,
             "ticks": ""
            },
            "colorscale": [
             [
              0,
              "#0d0887"
             ],
             [
              0.1111111111111111,
              "#46039f"
             ],
             [
              0.2222222222222222,
              "#7201a8"
             ],
             [
              0.3333333333333333,
              "#9c179e"
             ],
             [
              0.4444444444444444,
              "#bd3786"
             ],
             [
              0.5555555555555556,
              "#d8576b"
             ],
             [
              0.6666666666666666,
              "#ed7953"
             ],
             [
              0.7777777777777778,
              "#fb9f3a"
             ],
             [
              0.8888888888888888,
              "#fdca26"
             ],
             [
              1,
              "#f0f921"
             ]
            ],
            "type": "heatmapgl"
           }
          ],
          "histogram": [
           {
            "marker": {
             "pattern": {
              "fillmode": "overlay",
              "size": 10,
              "solidity": 0.2
             }
            },
            "type": "histogram"
           }
          ],
          "histogram2d": [
           {
            "colorbar": {
             "outlinewidth": 0,
             "ticks": ""
            },
            "colorscale": [
             [
              0,
              "#0d0887"
             ],
             [
              0.1111111111111111,
              "#46039f"
             ],
             [
              0.2222222222222222,
              "#7201a8"
             ],
             [
              0.3333333333333333,
              "#9c179e"
             ],
             [
              0.4444444444444444,
              "#bd3786"
             ],
             [
              0.5555555555555556,
              "#d8576b"
             ],
             [
              0.6666666666666666,
              "#ed7953"
             ],
             [
              0.7777777777777778,
              "#fb9f3a"
             ],
             [
              0.8888888888888888,
              "#fdca26"
             ],
             [
              1,
              "#f0f921"
             ]
            ],
            "type": "histogram2d"
           }
          ],
          "histogram2dcontour": [
           {
            "colorbar": {
             "outlinewidth": 0,
             "ticks": ""
            },
            "colorscale": [
             [
              0,
              "#0d0887"
             ],
             [
              0.1111111111111111,
              "#46039f"
             ],
             [
              0.2222222222222222,
              "#7201a8"
             ],
             [
              0.3333333333333333,
              "#9c179e"
             ],
             [
              0.4444444444444444,
              "#bd3786"
             ],
             [
              0.5555555555555556,
              "#d8576b"
             ],
             [
              0.6666666666666666,
              "#ed7953"
             ],
             [
              0.7777777777777778,
              "#fb9f3a"
             ],
             [
              0.8888888888888888,
              "#fdca26"
             ],
             [
              1,
              "#f0f921"
             ]
            ],
            "type": "histogram2dcontour"
           }
          ],
          "mesh3d": [
           {
            "colorbar": {
             "outlinewidth": 0,
             "ticks": ""
            },
            "type": "mesh3d"
           }
          ],
          "parcoords": [
           {
            "line": {
             "colorbar": {
              "outlinewidth": 0,
              "ticks": ""
             }
            },
            "type": "parcoords"
           }
          ],
          "pie": [
           {
            "automargin": true,
            "type": "pie"
           }
          ],
          "scatter": [
           {
            "marker": {
             "line": {
              "color": "#283442"
             }
            },
            "type": "scatter"
           }
          ],
          "scatter3d": [
           {
            "line": {
             "colorbar": {
              "outlinewidth": 0,
              "ticks": ""
             }
            },
            "marker": {
             "colorbar": {
              "outlinewidth": 0,
              "ticks": ""
             }
            },
            "type": "scatter3d"
           }
          ],
          "scattercarpet": [
           {
            "marker": {
             "colorbar": {
              "outlinewidth": 0,
              "ticks": ""
             }
            },
            "type": "scattercarpet"
           }
          ],
          "scattergeo": [
           {
            "marker": {
             "colorbar": {
              "outlinewidth": 0,
              "ticks": ""
             }
            },
            "type": "scattergeo"
           }
          ],
          "scattergl": [
           {
            "marker": {
             "line": {
              "color": "#283442"
             }
            },
            "type": "scattergl"
           }
          ],
          "scattermapbox": [
           {
            "marker": {
             "colorbar": {
              "outlinewidth": 0,
              "ticks": ""
             }
            },
            "type": "scattermapbox"
           }
          ],
          "scatterpolar": [
           {
            "marker": {
             "colorbar": {
              "outlinewidth": 0,
              "ticks": ""
             }
            },
            "type": "scatterpolar"
           }
          ],
          "scatterpolargl": [
           {
            "marker": {
             "colorbar": {
              "outlinewidth": 0,
              "ticks": ""
             }
            },
            "type": "scatterpolargl"
           }
          ],
          "scatterternary": [
           {
            "marker": {
             "colorbar": {
              "outlinewidth": 0,
              "ticks": ""
             }
            },
            "type": "scatterternary"
           }
          ],
          "surface": [
           {
            "colorbar": {
             "outlinewidth": 0,
             "ticks": ""
            },
            "colorscale": [
             [
              0,
              "#0d0887"
             ],
             [
              0.1111111111111111,
              "#46039f"
             ],
             [
              0.2222222222222222,
              "#7201a8"
             ],
             [
              0.3333333333333333,
              "#9c179e"
             ],
             [
              0.4444444444444444,
              "#bd3786"
             ],
             [
              0.5555555555555556,
              "#d8576b"
             ],
             [
              0.6666666666666666,
              "#ed7953"
             ],
             [
              0.7777777777777778,
              "#fb9f3a"
             ],
             [
              0.8888888888888888,
              "#fdca26"
             ],
             [
              1,
              "#f0f921"
             ]
            ],
            "type": "surface"
           }
          ],
          "table": [
           {
            "cells": {
             "fill": {
              "color": "#506784"
             },
             "line": {
              "color": "rgb(17,17,17)"
             }
            },
            "header": {
             "fill": {
              "color": "#2a3f5f"
             },
             "line": {
              "color": "rgb(17,17,17)"
             }
            },
            "type": "table"
           }
          ]
         },
         "layout": {
          "annotationdefaults": {
           "arrowcolor": "#f2f5fa",
           "arrowhead": 0,
           "arrowwidth": 1
          },
          "autotypenumbers": "strict",
          "coloraxis": {
           "colorbar": {
            "outlinewidth": 0,
            "ticks": ""
           }
          },
          "colorscale": {
           "diverging": [
            [
             0,
             "#8e0152"
            ],
            [
             0.1,
             "#c51b7d"
            ],
            [
             0.2,
             "#de77ae"
            ],
            [
             0.3,
             "#f1b6da"
            ],
            [
             0.4,
             "#fde0ef"
            ],
            [
             0.5,
             "#f7f7f7"
            ],
            [
             0.6,
             "#e6f5d0"
            ],
            [
             0.7,
             "#b8e186"
            ],
            [
             0.8,
             "#7fbc41"
            ],
            [
             0.9,
             "#4d9221"
            ],
            [
             1,
             "#276419"
            ]
           ],
           "sequential": [
            [
             0,
             "#0d0887"
            ],
            [
             0.1111111111111111,
             "#46039f"
            ],
            [
             0.2222222222222222,
             "#7201a8"
            ],
            [
             0.3333333333333333,
             "#9c179e"
            ],
            [
             0.4444444444444444,
             "#bd3786"
            ],
            [
             0.5555555555555556,
             "#d8576b"
            ],
            [
             0.6666666666666666,
             "#ed7953"
            ],
            [
             0.7777777777777778,
             "#fb9f3a"
            ],
            [
             0.8888888888888888,
             "#fdca26"
            ],
            [
             1,
             "#f0f921"
            ]
           ],
           "sequentialminus": [
            [
             0,
             "#0d0887"
            ],
            [
             0.1111111111111111,
             "#46039f"
            ],
            [
             0.2222222222222222,
             "#7201a8"
            ],
            [
             0.3333333333333333,
             "#9c179e"
            ],
            [
             0.4444444444444444,
             "#bd3786"
            ],
            [
             0.5555555555555556,
             "#d8576b"
            ],
            [
             0.6666666666666666,
             "#ed7953"
            ],
            [
             0.7777777777777778,
             "#fb9f3a"
            ],
            [
             0.8888888888888888,
             "#fdca26"
            ],
            [
             1,
             "#f0f921"
            ]
           ]
          },
          "colorway": [
           "#636efa",
           "#EF553B",
           "#00cc96",
           "#ab63fa",
           "#FFA15A",
           "#19d3f3",
           "#FF6692",
           "#B6E880",
           "#FF97FF",
           "#FECB52"
          ],
          "font": {
           "color": "#f2f5fa"
          },
          "geo": {
           "bgcolor": "rgb(17,17,17)",
           "lakecolor": "rgb(17,17,17)",
           "landcolor": "rgb(17,17,17)",
           "showlakes": true,
           "showland": true,
           "subunitcolor": "#506784"
          },
          "hoverlabel": {
           "align": "left"
          },
          "hovermode": "closest",
          "mapbox": {
           "style": "dark"
          },
          "paper_bgcolor": "rgb(17,17,17)",
          "plot_bgcolor": "rgb(17,17,17)",
          "polar": {
           "angularaxis": {
            "gridcolor": "#506784",
            "linecolor": "#506784",
            "ticks": ""
           },
           "bgcolor": "rgb(17,17,17)",
           "radialaxis": {
            "gridcolor": "#506784",
            "linecolor": "#506784",
            "ticks": ""
           }
          },
          "scene": {
           "xaxis": {
            "backgroundcolor": "rgb(17,17,17)",
            "gridcolor": "#506784",
            "gridwidth": 2,
            "linecolor": "#506784",
            "showbackground": true,
            "ticks": "",
            "zerolinecolor": "#C8D4E3"
           },
           "yaxis": {
            "backgroundcolor": "rgb(17,17,17)",
            "gridcolor": "#506784",
            "gridwidth": 2,
            "linecolor": "#506784",
            "showbackground": true,
            "ticks": "",
            "zerolinecolor": "#C8D4E3"
           },
           "zaxis": {
            "backgroundcolor": "rgb(17,17,17)",
            "gridcolor": "#506784",
            "gridwidth": 2,
            "linecolor": "#506784",
            "showbackground": true,
            "ticks": "",
            "zerolinecolor": "#C8D4E3"
           }
          },
          "shapedefaults": {
           "line": {
            "color": "#f2f5fa"
           }
          },
          "sliderdefaults": {
           "bgcolor": "#C8D4E3",
           "bordercolor": "rgb(17,17,17)",
           "borderwidth": 1,
           "tickwidth": 0
          },
          "ternary": {
           "aaxis": {
            "gridcolor": "#506784",
            "linecolor": "#506784",
            "ticks": ""
           },
           "baxis": {
            "gridcolor": "#506784",
            "linecolor": "#506784",
            "ticks": ""
           },
           "bgcolor": "rgb(17,17,17)",
           "caxis": {
            "gridcolor": "#506784",
            "linecolor": "#506784",
            "ticks": ""
           }
          },
          "title": {
           "x": 0.05
          },
          "updatemenudefaults": {
           "bgcolor": "#506784",
           "borderwidth": 0
          },
          "xaxis": {
           "automargin": true,
           "gridcolor": "#283442",
           "linecolor": "#506784",
           "ticks": "",
           "title": {
            "standoff": 15
           },
           "zerolinecolor": "#283442",
           "zerolinewidth": 2
          },
          "yaxis": {
           "automargin": true,
           "gridcolor": "#283442",
           "linecolor": "#506784",
           "ticks": "",
           "title": {
            "standoff": 15
           },
           "zerolinecolor": "#283442",
           "zerolinewidth": 2
          }
         }
        },
        "title": {
         "text": "Top 20 Goals Vs Total Shots"
        },
        "width": 1100,
        "xaxis": {
         "anchor": "y",
         "domain": [
          0,
          1
         ],
         "title": {
          "text": "Shots"
         }
        },
        "yaxis": {
         "anchor": "x",
         "domain": [
          0,
          1
         ],
         "title": {
          "text": "Goals"
         }
        }
       }
      }
     },
     "metadata": {},
     "output_type": "display_data"
    }
   ],
   "source": [
    "#Scatterplot of Goals vs Total Shots\n",
    "fig = px.scatter(full_df[:20],x=\"Shots\", y=\"Goals\",title='Top 20 Goals Vs Total Shots',height=800,width=1100,text=\"Player\",template='plotly_dark',trendline=\"ols\")\n",
    "fig.update_traces(textposition=\"top center\",orientation='v',textfont_size=8.5,)\n",
    "fig.show()"
   ]
  },
  {
   "cell_type": "code",
   "execution_count": 70,
   "metadata": {},
   "outputs": [
    {
     "data": {
      "application/vnd.plotly.v1+json": {
       "config": {
        "plotlyServerURL": "https://plot.ly"
       },
       "data": [
        {
         "hovertemplate": "Shots_per_Goal=%{x}<br>Goals=%{y}<br>Player=%{text}<extra></extra>",
         "legendgroup": "",
         "marker": {
          "color": "#636efa",
          "symbol": "circle"
         },
         "mode": "markers+text",
         "name": "",
         "orientation": "v",
         "showlegend": false,
         "text": [
          "Erling Haaland",
          "Harry Kane",
          "Ivan Toney",
          "Mohamed Salah",
          "Marcus Rashford",
          "Gabriel Martinelli",
          "Callum Wilson",
          "Ollie Watkins",
          "Martin Ødegaard",
          "Bukayo Saka",
          "Miguel Almirón",
          "Aleksandar Mitrovic",
          "Rodrigo",
          "Harvey Barnes",
          "Gabriel Jesus",
          "Phil Foden",
          "Alexander Isak",
          "Son Heung-Min",
          "Roberto Firmino",
          "Alexis Mac Allister"
         ],
         "textfont": {
          "size": 8.5
         },
         "textposition": "top center",
         "type": "scatter",
         "x": [
          3.085714285714286,
          4.8,
          4.65,
          5.944444444444445,
          5.75,
          5.066666666666666,
          4,
          5.642857142857143,
          6.142857142857143,
          6.230769230769231,
          4.909090909090909,
          7.818181818181818,
          5.545454545454546,
          6.5,
          6.8,
          3.7,
          3.8,
          7.6,
          4.111111111111111,
          8.555555555555555
         ],
         "xaxis": "x",
         "y": [
          35,
          25,
          20,
          18,
          16,
          15,
          15,
          14,
          14,
          13,
          11,
          11,
          11,
          10,
          10,
          10,
          10,
          10,
          9,
          9
         ],
         "yaxis": "y"
        },
        {
         "hovertemplate": "<b>OLS trendline</b><br>Goals = -1.9883 * Shots_per_Goal + 25.3005<br>R<sup>2</sup>=0.208343<br><br>Shots_per_Goal=%{x}<br>Goals=%{y} <b>(trend)</b><extra></extra>",
         "legendgroup": "",
         "marker": {
          "color": "#636efa",
          "symbol": "circle"
         },
         "mode": "lines",
         "name": "",
         "orientation": "v",
         "showlegend": false,
         "textfont": {
          "size": 8.5
         },
         "textposition": "top center",
         "type": "scatter",
         "x": [
          3.085714285714286,
          3.7,
          3.8,
          4,
          4.111111111111111,
          4.65,
          4.8,
          4.909090909090909,
          5.066666666666666,
          5.545454545454546,
          5.642857142857143,
          5.75,
          5.944444444444445,
          6.142857142857143,
          6.230769230769231,
          6.5,
          6.8,
          7.6,
          7.818181818181818,
          8.555555555555555
         ],
         "xaxis": "x",
         "y": [
          19.16521360631923,
          17.94382910307412,
          17.744999067662125,
          17.347338996838133,
          17.12641673526925,
          16.054943766660163,
          15.756698713542171,
          15.53979322036545,
          15.226485285776851,
          14.27451117683457,
          14.080845557926782,
          13.867813377128217,
          13.481199419382671,
          13.086695380866807,
          12.91189974533978,
          12.376588111538254,
          11.780098005302268,
          10.189457722006306,
          9.755646735652862,
          8.289526272513909
         ],
         "yaxis": "y"
        }
       ],
       "layout": {
        "height": 800,
        "legend": {
         "tracegroupgap": 0
        },
        "template": {
         "data": {
          "bar": [
           {
            "error_x": {
             "color": "#f2f5fa"
            },
            "error_y": {
             "color": "#f2f5fa"
            },
            "marker": {
             "line": {
              "color": "rgb(17,17,17)",
              "width": 0.5
             },
             "pattern": {
              "fillmode": "overlay",
              "size": 10,
              "solidity": 0.2
             }
            },
            "type": "bar"
           }
          ],
          "barpolar": [
           {
            "marker": {
             "line": {
              "color": "rgb(17,17,17)",
              "width": 0.5
             },
             "pattern": {
              "fillmode": "overlay",
              "size": 10,
              "solidity": 0.2
             }
            },
            "type": "barpolar"
           }
          ],
          "carpet": [
           {
            "aaxis": {
             "endlinecolor": "#A2B1C6",
             "gridcolor": "#506784",
             "linecolor": "#506784",
             "minorgridcolor": "#506784",
             "startlinecolor": "#A2B1C6"
            },
            "baxis": {
             "endlinecolor": "#A2B1C6",
             "gridcolor": "#506784",
             "linecolor": "#506784",
             "minorgridcolor": "#506784",
             "startlinecolor": "#A2B1C6"
            },
            "type": "carpet"
           }
          ],
          "choropleth": [
           {
            "colorbar": {
             "outlinewidth": 0,
             "ticks": ""
            },
            "type": "choropleth"
           }
          ],
          "contour": [
           {
            "colorbar": {
             "outlinewidth": 0,
             "ticks": ""
            },
            "colorscale": [
             [
              0,
              "#0d0887"
             ],
             [
              0.1111111111111111,
              "#46039f"
             ],
             [
              0.2222222222222222,
              "#7201a8"
             ],
             [
              0.3333333333333333,
              "#9c179e"
             ],
             [
              0.4444444444444444,
              "#bd3786"
             ],
             [
              0.5555555555555556,
              "#d8576b"
             ],
             [
              0.6666666666666666,
              "#ed7953"
             ],
             [
              0.7777777777777778,
              "#fb9f3a"
             ],
             [
              0.8888888888888888,
              "#fdca26"
             ],
             [
              1,
              "#f0f921"
             ]
            ],
            "type": "contour"
           }
          ],
          "contourcarpet": [
           {
            "colorbar": {
             "outlinewidth": 0,
             "ticks": ""
            },
            "type": "contourcarpet"
           }
          ],
          "heatmap": [
           {
            "colorbar": {
             "outlinewidth": 0,
             "ticks": ""
            },
            "colorscale": [
             [
              0,
              "#0d0887"
             ],
             [
              0.1111111111111111,
              "#46039f"
             ],
             [
              0.2222222222222222,
              "#7201a8"
             ],
             [
              0.3333333333333333,
              "#9c179e"
             ],
             [
              0.4444444444444444,
              "#bd3786"
             ],
             [
              0.5555555555555556,
              "#d8576b"
             ],
             [
              0.6666666666666666,
              "#ed7953"
             ],
             [
              0.7777777777777778,
              "#fb9f3a"
             ],
             [
              0.8888888888888888,
              "#fdca26"
             ],
             [
              1,
              "#f0f921"
             ]
            ],
            "type": "heatmap"
           }
          ],
          "heatmapgl": [
           {
            "colorbar": {
             "outlinewidth": 0,
             "ticks": ""
            },
            "colorscale": [
             [
              0,
              "#0d0887"
             ],
             [
              0.1111111111111111,
              "#46039f"
             ],
             [
              0.2222222222222222,
              "#7201a8"
             ],
             [
              0.3333333333333333,
              "#9c179e"
             ],
             [
              0.4444444444444444,
              "#bd3786"
             ],
             [
              0.5555555555555556,
              "#d8576b"
             ],
             [
              0.6666666666666666,
              "#ed7953"
             ],
             [
              0.7777777777777778,
              "#fb9f3a"
             ],
             [
              0.8888888888888888,
              "#fdca26"
             ],
             [
              1,
              "#f0f921"
             ]
            ],
            "type": "heatmapgl"
           }
          ],
          "histogram": [
           {
            "marker": {
             "pattern": {
              "fillmode": "overlay",
              "size": 10,
              "solidity": 0.2
             }
            },
            "type": "histogram"
           }
          ],
          "histogram2d": [
           {
            "colorbar": {
             "outlinewidth": 0,
             "ticks": ""
            },
            "colorscale": [
             [
              0,
              "#0d0887"
             ],
             [
              0.1111111111111111,
              "#46039f"
             ],
             [
              0.2222222222222222,
              "#7201a8"
             ],
             [
              0.3333333333333333,
              "#9c179e"
             ],
             [
              0.4444444444444444,
              "#bd3786"
             ],
             [
              0.5555555555555556,
              "#d8576b"
             ],
             [
              0.6666666666666666,
              "#ed7953"
             ],
             [
              0.7777777777777778,
              "#fb9f3a"
             ],
             [
              0.8888888888888888,
              "#fdca26"
             ],
             [
              1,
              "#f0f921"
             ]
            ],
            "type": "histogram2d"
           }
          ],
          "histogram2dcontour": [
           {
            "colorbar": {
             "outlinewidth": 0,
             "ticks": ""
            },
            "colorscale": [
             [
              0,
              "#0d0887"
             ],
             [
              0.1111111111111111,
              "#46039f"
             ],
             [
              0.2222222222222222,
              "#7201a8"
             ],
             [
              0.3333333333333333,
              "#9c179e"
             ],
             [
              0.4444444444444444,
              "#bd3786"
             ],
             [
              0.5555555555555556,
              "#d8576b"
             ],
             [
              0.6666666666666666,
              "#ed7953"
             ],
             [
              0.7777777777777778,
              "#fb9f3a"
             ],
             [
              0.8888888888888888,
              "#fdca26"
             ],
             [
              1,
              "#f0f921"
             ]
            ],
            "type": "histogram2dcontour"
           }
          ],
          "mesh3d": [
           {
            "colorbar": {
             "outlinewidth": 0,
             "ticks": ""
            },
            "type": "mesh3d"
           }
          ],
          "parcoords": [
           {
            "line": {
             "colorbar": {
              "outlinewidth": 0,
              "ticks": ""
             }
            },
            "type": "parcoords"
           }
          ],
          "pie": [
           {
            "automargin": true,
            "type": "pie"
           }
          ],
          "scatter": [
           {
            "marker": {
             "line": {
              "color": "#283442"
             }
            },
            "type": "scatter"
           }
          ],
          "scatter3d": [
           {
            "line": {
             "colorbar": {
              "outlinewidth": 0,
              "ticks": ""
             }
            },
            "marker": {
             "colorbar": {
              "outlinewidth": 0,
              "ticks": ""
             }
            },
            "type": "scatter3d"
           }
          ],
          "scattercarpet": [
           {
            "marker": {
             "colorbar": {
              "outlinewidth": 0,
              "ticks": ""
             }
            },
            "type": "scattercarpet"
           }
          ],
          "scattergeo": [
           {
            "marker": {
             "colorbar": {
              "outlinewidth": 0,
              "ticks": ""
             }
            },
            "type": "scattergeo"
           }
          ],
          "scattergl": [
           {
            "marker": {
             "line": {
              "color": "#283442"
             }
            },
            "type": "scattergl"
           }
          ],
          "scattermapbox": [
           {
            "marker": {
             "colorbar": {
              "outlinewidth": 0,
              "ticks": ""
             }
            },
            "type": "scattermapbox"
           }
          ],
          "scatterpolar": [
           {
            "marker": {
             "colorbar": {
              "outlinewidth": 0,
              "ticks": ""
             }
            },
            "type": "scatterpolar"
           }
          ],
          "scatterpolargl": [
           {
            "marker": {
             "colorbar": {
              "outlinewidth": 0,
              "ticks": ""
             }
            },
            "type": "scatterpolargl"
           }
          ],
          "scatterternary": [
           {
            "marker": {
             "colorbar": {
              "outlinewidth": 0,
              "ticks": ""
             }
            },
            "type": "scatterternary"
           }
          ],
          "surface": [
           {
            "colorbar": {
             "outlinewidth": 0,
             "ticks": ""
            },
            "colorscale": [
             [
              0,
              "#0d0887"
             ],
             [
              0.1111111111111111,
              "#46039f"
             ],
             [
              0.2222222222222222,
              "#7201a8"
             ],
             [
              0.3333333333333333,
              "#9c179e"
             ],
             [
              0.4444444444444444,
              "#bd3786"
             ],
             [
              0.5555555555555556,
              "#d8576b"
             ],
             [
              0.6666666666666666,
              "#ed7953"
             ],
             [
              0.7777777777777778,
              "#fb9f3a"
             ],
             [
              0.8888888888888888,
              "#fdca26"
             ],
             [
              1,
              "#f0f921"
             ]
            ],
            "type": "surface"
           }
          ],
          "table": [
           {
            "cells": {
             "fill": {
              "color": "#506784"
             },
             "line": {
              "color": "rgb(17,17,17)"
             }
            },
            "header": {
             "fill": {
              "color": "#2a3f5f"
             },
             "line": {
              "color": "rgb(17,17,17)"
             }
            },
            "type": "table"
           }
          ]
         },
         "layout": {
          "annotationdefaults": {
           "arrowcolor": "#f2f5fa",
           "arrowhead": 0,
           "arrowwidth": 1
          },
          "autotypenumbers": "strict",
          "coloraxis": {
           "colorbar": {
            "outlinewidth": 0,
            "ticks": ""
           }
          },
          "colorscale": {
           "diverging": [
            [
             0,
             "#8e0152"
            ],
            [
             0.1,
             "#c51b7d"
            ],
            [
             0.2,
             "#de77ae"
            ],
            [
             0.3,
             "#f1b6da"
            ],
            [
             0.4,
             "#fde0ef"
            ],
            [
             0.5,
             "#f7f7f7"
            ],
            [
             0.6,
             "#e6f5d0"
            ],
            [
             0.7,
             "#b8e186"
            ],
            [
             0.8,
             "#7fbc41"
            ],
            [
             0.9,
             "#4d9221"
            ],
            [
             1,
             "#276419"
            ]
           ],
           "sequential": [
            [
             0,
             "#0d0887"
            ],
            [
             0.1111111111111111,
             "#46039f"
            ],
            [
             0.2222222222222222,
             "#7201a8"
            ],
            [
             0.3333333333333333,
             "#9c179e"
            ],
            [
             0.4444444444444444,
             "#bd3786"
            ],
            [
             0.5555555555555556,
             "#d8576b"
            ],
            [
             0.6666666666666666,
             "#ed7953"
            ],
            [
             0.7777777777777778,
             "#fb9f3a"
            ],
            [
             0.8888888888888888,
             "#fdca26"
            ],
            [
             1,
             "#f0f921"
            ]
           ],
           "sequentialminus": [
            [
             0,
             "#0d0887"
            ],
            [
             0.1111111111111111,
             "#46039f"
            ],
            [
             0.2222222222222222,
             "#7201a8"
            ],
            [
             0.3333333333333333,
             "#9c179e"
            ],
            [
             0.4444444444444444,
             "#bd3786"
            ],
            [
             0.5555555555555556,
             "#d8576b"
            ],
            [
             0.6666666666666666,
             "#ed7953"
            ],
            [
             0.7777777777777778,
             "#fb9f3a"
            ],
            [
             0.8888888888888888,
             "#fdca26"
            ],
            [
             1,
             "#f0f921"
            ]
           ]
          },
          "colorway": [
           "#636efa",
           "#EF553B",
           "#00cc96",
           "#ab63fa",
           "#FFA15A",
           "#19d3f3",
           "#FF6692",
           "#B6E880",
           "#FF97FF",
           "#FECB52"
          ],
          "font": {
           "color": "#f2f5fa"
          },
          "geo": {
           "bgcolor": "rgb(17,17,17)",
           "lakecolor": "rgb(17,17,17)",
           "landcolor": "rgb(17,17,17)",
           "showlakes": true,
           "showland": true,
           "subunitcolor": "#506784"
          },
          "hoverlabel": {
           "align": "left"
          },
          "hovermode": "closest",
          "mapbox": {
           "style": "dark"
          },
          "paper_bgcolor": "rgb(17,17,17)",
          "plot_bgcolor": "rgb(17,17,17)",
          "polar": {
           "angularaxis": {
            "gridcolor": "#506784",
            "linecolor": "#506784",
            "ticks": ""
           },
           "bgcolor": "rgb(17,17,17)",
           "radialaxis": {
            "gridcolor": "#506784",
            "linecolor": "#506784",
            "ticks": ""
           }
          },
          "scene": {
           "xaxis": {
            "backgroundcolor": "rgb(17,17,17)",
            "gridcolor": "#506784",
            "gridwidth": 2,
            "linecolor": "#506784",
            "showbackground": true,
            "ticks": "",
            "zerolinecolor": "#C8D4E3"
           },
           "yaxis": {
            "backgroundcolor": "rgb(17,17,17)",
            "gridcolor": "#506784",
            "gridwidth": 2,
            "linecolor": "#506784",
            "showbackground": true,
            "ticks": "",
            "zerolinecolor": "#C8D4E3"
           },
           "zaxis": {
            "backgroundcolor": "rgb(17,17,17)",
            "gridcolor": "#506784",
            "gridwidth": 2,
            "linecolor": "#506784",
            "showbackground": true,
            "ticks": "",
            "zerolinecolor": "#C8D4E3"
           }
          },
          "shapedefaults": {
           "line": {
            "color": "#f2f5fa"
           }
          },
          "sliderdefaults": {
           "bgcolor": "#C8D4E3",
           "bordercolor": "rgb(17,17,17)",
           "borderwidth": 1,
           "tickwidth": 0
          },
          "ternary": {
           "aaxis": {
            "gridcolor": "#506784",
            "linecolor": "#506784",
            "ticks": ""
           },
           "baxis": {
            "gridcolor": "#506784",
            "linecolor": "#506784",
            "ticks": ""
           },
           "bgcolor": "rgb(17,17,17)",
           "caxis": {
            "gridcolor": "#506784",
            "linecolor": "#506784",
            "ticks": ""
           }
          },
          "title": {
           "x": 0.05
          },
          "updatemenudefaults": {
           "bgcolor": "#506784",
           "borderwidth": 0
          },
          "xaxis": {
           "automargin": true,
           "gridcolor": "#283442",
           "linecolor": "#506784",
           "ticks": "",
           "title": {
            "standoff": 15
           },
           "zerolinecolor": "#283442",
           "zerolinewidth": 2
          },
          "yaxis": {
           "automargin": true,
           "gridcolor": "#283442",
           "linecolor": "#506784",
           "ticks": "",
           "title": {
            "standoff": 15
           },
           "zerolinecolor": "#283442",
           "zerolinewidth": 2
          }
         }
        },
        "title": {
         "text": "Top 20 Goals Vs Total Shots"
        },
        "width": 1100,
        "xaxis": {
         "anchor": "y",
         "domain": [
          0,
          1
         ],
         "title": {
          "text": "Shots_per_Goal"
         }
        },
        "yaxis": {
         "anchor": "x",
         "domain": [
          0,
          1
         ],
         "title": {
          "text": "Goals"
         }
        }
       }
      }
     },
     "metadata": {},
     "output_type": "display_data"
    }
   ],
   "source": [
    "# Create a new column 'Shots_per_Goal' by dividing the 'Shots' column by the 'Goals' column\n",
    "full_df['Shots_per_Goal'] = full_df['Shots'] / full_df['Goals']\n",
    "\n",
    "# Create a scatterplot of the top 20 players by Shots_per_Goal vs Goals\n",
    "fig = px.scatter(\n",
    "    full_df[:20],\n",
    "    x=\"Shots_per_Goal\",\n",
    "    y=\"Goals\",\n",
    "    title=\"Top 20 Goals Vs Total Shots\",\n",
    "    height=800,\n",
    "    width=1100,\n",
    "    text=\"Player\",\n",
    "    template=\"plotly_dark\",trendline=\"ols\"\n",
    ")\n",
    "fig.update_traces(textposition=\"top center\", orientation=\"v\", textfont_size=8.5)\n",
    "fig.show()\n"
   ]
  },
  {
   "cell_type": "code",
   "execution_count": 68,
   "metadata": {},
   "outputs": [
    {
     "data": {
      "application/vnd.plotly.v1+json": {
       "config": {
        "plotlyServerURL": "https://plot.ly"
       },
       "data": [
        {
         "hovertemplate": "Big Chance Missed=%{x}<br>Goals=%{y}<br>Player=%{text}<extra></extra>",
         "legendgroup": "",
         "marker": {
          "color": "#636efa",
          "symbol": "circle"
         },
         "mode": "markers+text",
         "name": "",
         "orientation": "v",
         "showlegend": false,
         "text": [
          "Erling Haaland",
          "Harry Kane",
          "Ivan Toney",
          "Mohamed Salah",
          "Marcus Rashford",
          "Gabriel Martinelli",
          "Callum Wilson",
          "Ollie Watkins",
          "Martin Ødegaard",
          "Bukayo Saka",
          "Miguel Almirón",
          "Aleksandar Mitrovic",
          "Rodrigo",
          "Harvey Barnes",
          "Gabriel Jesus",
          "Phil Foden",
          "Alexander Isak",
          "Son Heung-Min",
          "Roberto Firmino",
          "Alexis Mac Allister"
         ],
         "textfont": {
          "size": 8.5
         },
         "textposition": "top center",
         "type": "scatter",
         "x": [
          23,
          11,
          16,
          17,
          19,
          5,
          12,
          17,
          3,
          3,
          4,
          10,
          4,
          8,
          16,
          3,
          4,
          7,
          6,
          5
         ],
         "xaxis": "x",
         "y": [
          35,
          25,
          20,
          18,
          16,
          15,
          15,
          14,
          14,
          13,
          11,
          11,
          11,
          10,
          10,
          10,
          10,
          10,
          9,
          9
         ],
         "yaxis": "y"
        },
        {
         "hovertemplate": "<b>OLS trendline</b><br>Goals = 0.662349 * Big Chance Missed + 7.90833<br>R<sup>2</sup>=0.427600<br><br>Big Chance Missed=%{x}<br>Goals=%{y} <b>(trend)</b><extra></extra>",
         "legendgroup": "",
         "marker": {
          "color": "#636efa",
          "symbol": "circle"
         },
         "mode": "lines",
         "name": "",
         "orientation": "v",
         "showlegend": false,
         "textfont": {
          "size": 8.5
         },
         "textposition": "top center",
         "type": "scatter",
         "x": [
          3,
          3,
          3,
          4,
          4,
          4,
          5,
          5,
          6,
          7,
          8,
          10,
          11,
          12,
          16,
          16,
          17,
          17,
          19,
          23
         ],
         "xaxis": "x",
         "y": [
          9.895380344987112,
          9.895380344987112,
          9.895380344987112,
          10.557729165289802,
          10.557729165289802,
          10.557729165289802,
          11.220077985592491,
          11.220077985592491,
          11.88242680589518,
          12.54477562619787,
          13.20712444650056,
          14.531822087105938,
          15.194170907408628,
          15.856519727711317,
          18.505915008922074,
          18.505915008922074,
          19.168263829224763,
          19.168263829224763,
          20.492961469830142,
          23.1423567510409
         ],
         "yaxis": "y"
        }
       ],
       "layout": {
        "height": 800,
        "legend": {
         "tracegroupgap": 0
        },
        "template": {
         "data": {
          "bar": [
           {
            "error_x": {
             "color": "#f2f5fa"
            },
            "error_y": {
             "color": "#f2f5fa"
            },
            "marker": {
             "line": {
              "color": "rgb(17,17,17)",
              "width": 0.5
             },
             "pattern": {
              "fillmode": "overlay",
              "size": 10,
              "solidity": 0.2
             }
            },
            "type": "bar"
           }
          ],
          "barpolar": [
           {
            "marker": {
             "line": {
              "color": "rgb(17,17,17)",
              "width": 0.5
             },
             "pattern": {
              "fillmode": "overlay",
              "size": 10,
              "solidity": 0.2
             }
            },
            "type": "barpolar"
           }
          ],
          "carpet": [
           {
            "aaxis": {
             "endlinecolor": "#A2B1C6",
             "gridcolor": "#506784",
             "linecolor": "#506784",
             "minorgridcolor": "#506784",
             "startlinecolor": "#A2B1C6"
            },
            "baxis": {
             "endlinecolor": "#A2B1C6",
             "gridcolor": "#506784",
             "linecolor": "#506784",
             "minorgridcolor": "#506784",
             "startlinecolor": "#A2B1C6"
            },
            "type": "carpet"
           }
          ],
          "choropleth": [
           {
            "colorbar": {
             "outlinewidth": 0,
             "ticks": ""
            },
            "type": "choropleth"
           }
          ],
          "contour": [
           {
            "colorbar": {
             "outlinewidth": 0,
             "ticks": ""
            },
            "colorscale": [
             [
              0,
              "#0d0887"
             ],
             [
              0.1111111111111111,
              "#46039f"
             ],
             [
              0.2222222222222222,
              "#7201a8"
             ],
             [
              0.3333333333333333,
              "#9c179e"
             ],
             [
              0.4444444444444444,
              "#bd3786"
             ],
             [
              0.5555555555555556,
              "#d8576b"
             ],
             [
              0.6666666666666666,
              "#ed7953"
             ],
             [
              0.7777777777777778,
              "#fb9f3a"
             ],
             [
              0.8888888888888888,
              "#fdca26"
             ],
             [
              1,
              "#f0f921"
             ]
            ],
            "type": "contour"
           }
          ],
          "contourcarpet": [
           {
            "colorbar": {
             "outlinewidth": 0,
             "ticks": ""
            },
            "type": "contourcarpet"
           }
          ],
          "heatmap": [
           {
            "colorbar": {
             "outlinewidth": 0,
             "ticks": ""
            },
            "colorscale": [
             [
              0,
              "#0d0887"
             ],
             [
              0.1111111111111111,
              "#46039f"
             ],
             [
              0.2222222222222222,
              "#7201a8"
             ],
             [
              0.3333333333333333,
              "#9c179e"
             ],
             [
              0.4444444444444444,
              "#bd3786"
             ],
             [
              0.5555555555555556,
              "#d8576b"
             ],
             [
              0.6666666666666666,
              "#ed7953"
             ],
             [
              0.7777777777777778,
              "#fb9f3a"
             ],
             [
              0.8888888888888888,
              "#fdca26"
             ],
             [
              1,
              "#f0f921"
             ]
            ],
            "type": "heatmap"
           }
          ],
          "heatmapgl": [
           {
            "colorbar": {
             "outlinewidth": 0,
             "ticks": ""
            },
            "colorscale": [
             [
              0,
              "#0d0887"
             ],
             [
              0.1111111111111111,
              "#46039f"
             ],
             [
              0.2222222222222222,
              "#7201a8"
             ],
             [
              0.3333333333333333,
              "#9c179e"
             ],
             [
              0.4444444444444444,
              "#bd3786"
             ],
             [
              0.5555555555555556,
              "#d8576b"
             ],
             [
              0.6666666666666666,
              "#ed7953"
             ],
             [
              0.7777777777777778,
              "#fb9f3a"
             ],
             [
              0.8888888888888888,
              "#fdca26"
             ],
             [
              1,
              "#f0f921"
             ]
            ],
            "type": "heatmapgl"
           }
          ],
          "histogram": [
           {
            "marker": {
             "pattern": {
              "fillmode": "overlay",
              "size": 10,
              "solidity": 0.2
             }
            },
            "type": "histogram"
           }
          ],
          "histogram2d": [
           {
            "colorbar": {
             "outlinewidth": 0,
             "ticks": ""
            },
            "colorscale": [
             [
              0,
              "#0d0887"
             ],
             [
              0.1111111111111111,
              "#46039f"
             ],
             [
              0.2222222222222222,
              "#7201a8"
             ],
             [
              0.3333333333333333,
              "#9c179e"
             ],
             [
              0.4444444444444444,
              "#bd3786"
             ],
             [
              0.5555555555555556,
              "#d8576b"
             ],
             [
              0.6666666666666666,
              "#ed7953"
             ],
             [
              0.7777777777777778,
              "#fb9f3a"
             ],
             [
              0.8888888888888888,
              "#fdca26"
             ],
             [
              1,
              "#f0f921"
             ]
            ],
            "type": "histogram2d"
           }
          ],
          "histogram2dcontour": [
           {
            "colorbar": {
             "outlinewidth": 0,
             "ticks": ""
            },
            "colorscale": [
             [
              0,
              "#0d0887"
             ],
             [
              0.1111111111111111,
              "#46039f"
             ],
             [
              0.2222222222222222,
              "#7201a8"
             ],
             [
              0.3333333333333333,
              "#9c179e"
             ],
             [
              0.4444444444444444,
              "#bd3786"
             ],
             [
              0.5555555555555556,
              "#d8576b"
             ],
             [
              0.6666666666666666,
              "#ed7953"
             ],
             [
              0.7777777777777778,
              "#fb9f3a"
             ],
             [
              0.8888888888888888,
              "#fdca26"
             ],
             [
              1,
              "#f0f921"
             ]
            ],
            "type": "histogram2dcontour"
           }
          ],
          "mesh3d": [
           {
            "colorbar": {
             "outlinewidth": 0,
             "ticks": ""
            },
            "type": "mesh3d"
           }
          ],
          "parcoords": [
           {
            "line": {
             "colorbar": {
              "outlinewidth": 0,
              "ticks": ""
             }
            },
            "type": "parcoords"
           }
          ],
          "pie": [
           {
            "automargin": true,
            "type": "pie"
           }
          ],
          "scatter": [
           {
            "marker": {
             "line": {
              "color": "#283442"
             }
            },
            "type": "scatter"
           }
          ],
          "scatter3d": [
           {
            "line": {
             "colorbar": {
              "outlinewidth": 0,
              "ticks": ""
             }
            },
            "marker": {
             "colorbar": {
              "outlinewidth": 0,
              "ticks": ""
             }
            },
            "type": "scatter3d"
           }
          ],
          "scattercarpet": [
           {
            "marker": {
             "colorbar": {
              "outlinewidth": 0,
              "ticks": ""
             }
            },
            "type": "scattercarpet"
           }
          ],
          "scattergeo": [
           {
            "marker": {
             "colorbar": {
              "outlinewidth": 0,
              "ticks": ""
             }
            },
            "type": "scattergeo"
           }
          ],
          "scattergl": [
           {
            "marker": {
             "line": {
              "color": "#283442"
             }
            },
            "type": "scattergl"
           }
          ],
          "scattermapbox": [
           {
            "marker": {
             "colorbar": {
              "outlinewidth": 0,
              "ticks": ""
             }
            },
            "type": "scattermapbox"
           }
          ],
          "scatterpolar": [
           {
            "marker": {
             "colorbar": {
              "outlinewidth": 0,
              "ticks": ""
             }
            },
            "type": "scatterpolar"
           }
          ],
          "scatterpolargl": [
           {
            "marker": {
             "colorbar": {
              "outlinewidth": 0,
              "ticks": ""
             }
            },
            "type": "scatterpolargl"
           }
          ],
          "scatterternary": [
           {
            "marker": {
             "colorbar": {
              "outlinewidth": 0,
              "ticks": ""
             }
            },
            "type": "scatterternary"
           }
          ],
          "surface": [
           {
            "colorbar": {
             "outlinewidth": 0,
             "ticks": ""
            },
            "colorscale": [
             [
              0,
              "#0d0887"
             ],
             [
              0.1111111111111111,
              "#46039f"
             ],
             [
              0.2222222222222222,
              "#7201a8"
             ],
             [
              0.3333333333333333,
              "#9c179e"
             ],
             [
              0.4444444444444444,
              "#bd3786"
             ],
             [
              0.5555555555555556,
              "#d8576b"
             ],
             [
              0.6666666666666666,
              "#ed7953"
             ],
             [
              0.7777777777777778,
              "#fb9f3a"
             ],
             [
              0.8888888888888888,
              "#fdca26"
             ],
             [
              1,
              "#f0f921"
             ]
            ],
            "type": "surface"
           }
          ],
          "table": [
           {
            "cells": {
             "fill": {
              "color": "#506784"
             },
             "line": {
              "color": "rgb(17,17,17)"
             }
            },
            "header": {
             "fill": {
              "color": "#2a3f5f"
             },
             "line": {
              "color": "rgb(17,17,17)"
             }
            },
            "type": "table"
           }
          ]
         },
         "layout": {
          "annotationdefaults": {
           "arrowcolor": "#f2f5fa",
           "arrowhead": 0,
           "arrowwidth": 1
          },
          "autotypenumbers": "strict",
          "coloraxis": {
           "colorbar": {
            "outlinewidth": 0,
            "ticks": ""
           }
          },
          "colorscale": {
           "diverging": [
            [
             0,
             "#8e0152"
            ],
            [
             0.1,
             "#c51b7d"
            ],
            [
             0.2,
             "#de77ae"
            ],
            [
             0.3,
             "#f1b6da"
            ],
            [
             0.4,
             "#fde0ef"
            ],
            [
             0.5,
             "#f7f7f7"
            ],
            [
             0.6,
             "#e6f5d0"
            ],
            [
             0.7,
             "#b8e186"
            ],
            [
             0.8,
             "#7fbc41"
            ],
            [
             0.9,
             "#4d9221"
            ],
            [
             1,
             "#276419"
            ]
           ],
           "sequential": [
            [
             0,
             "#0d0887"
            ],
            [
             0.1111111111111111,
             "#46039f"
            ],
            [
             0.2222222222222222,
             "#7201a8"
            ],
            [
             0.3333333333333333,
             "#9c179e"
            ],
            [
             0.4444444444444444,
             "#bd3786"
            ],
            [
             0.5555555555555556,
             "#d8576b"
            ],
            [
             0.6666666666666666,
             "#ed7953"
            ],
            [
             0.7777777777777778,
             "#fb9f3a"
            ],
            [
             0.8888888888888888,
             "#fdca26"
            ],
            [
             1,
             "#f0f921"
            ]
           ],
           "sequentialminus": [
            [
             0,
             "#0d0887"
            ],
            [
             0.1111111111111111,
             "#46039f"
            ],
            [
             0.2222222222222222,
             "#7201a8"
            ],
            [
             0.3333333333333333,
             "#9c179e"
            ],
            [
             0.4444444444444444,
             "#bd3786"
            ],
            [
             0.5555555555555556,
             "#d8576b"
            ],
            [
             0.6666666666666666,
             "#ed7953"
            ],
            [
             0.7777777777777778,
             "#fb9f3a"
            ],
            [
             0.8888888888888888,
             "#fdca26"
            ],
            [
             1,
             "#f0f921"
            ]
           ]
          },
          "colorway": [
           "#636efa",
           "#EF553B",
           "#00cc96",
           "#ab63fa",
           "#FFA15A",
           "#19d3f3",
           "#FF6692",
           "#B6E880",
           "#FF97FF",
           "#FECB52"
          ],
          "font": {
           "color": "#f2f5fa"
          },
          "geo": {
           "bgcolor": "rgb(17,17,17)",
           "lakecolor": "rgb(17,17,17)",
           "landcolor": "rgb(17,17,17)",
           "showlakes": true,
           "showland": true,
           "subunitcolor": "#506784"
          },
          "hoverlabel": {
           "align": "left"
          },
          "hovermode": "closest",
          "mapbox": {
           "style": "dark"
          },
          "paper_bgcolor": "rgb(17,17,17)",
          "plot_bgcolor": "rgb(17,17,17)",
          "polar": {
           "angularaxis": {
            "gridcolor": "#506784",
            "linecolor": "#506784",
            "ticks": ""
           },
           "bgcolor": "rgb(17,17,17)",
           "radialaxis": {
            "gridcolor": "#506784",
            "linecolor": "#506784",
            "ticks": ""
           }
          },
          "scene": {
           "xaxis": {
            "backgroundcolor": "rgb(17,17,17)",
            "gridcolor": "#506784",
            "gridwidth": 2,
            "linecolor": "#506784",
            "showbackground": true,
            "ticks": "",
            "zerolinecolor": "#C8D4E3"
           },
           "yaxis": {
            "backgroundcolor": "rgb(17,17,17)",
            "gridcolor": "#506784",
            "gridwidth": 2,
            "linecolor": "#506784",
            "showbackground": true,
            "ticks": "",
            "zerolinecolor": "#C8D4E3"
           },
           "zaxis": {
            "backgroundcolor": "rgb(17,17,17)",
            "gridcolor": "#506784",
            "gridwidth": 2,
            "linecolor": "#506784",
            "showbackground": true,
            "ticks": "",
            "zerolinecolor": "#C8D4E3"
           }
          },
          "shapedefaults": {
           "line": {
            "color": "#f2f5fa"
           }
          },
          "sliderdefaults": {
           "bgcolor": "#C8D4E3",
           "bordercolor": "rgb(17,17,17)",
           "borderwidth": 1,
           "tickwidth": 0
          },
          "ternary": {
           "aaxis": {
            "gridcolor": "#506784",
            "linecolor": "#506784",
            "ticks": ""
           },
           "baxis": {
            "gridcolor": "#506784",
            "linecolor": "#506784",
            "ticks": ""
           },
           "bgcolor": "rgb(17,17,17)",
           "caxis": {
            "gridcolor": "#506784",
            "linecolor": "#506784",
            "ticks": ""
           }
          },
          "title": {
           "x": 0.05
          },
          "updatemenudefaults": {
           "bgcolor": "#506784",
           "borderwidth": 0
          },
          "xaxis": {
           "automargin": true,
           "gridcolor": "#283442",
           "linecolor": "#506784",
           "ticks": "",
           "title": {
            "standoff": 15
           },
           "zerolinecolor": "#283442",
           "zerolinewidth": 2
          },
          "yaxis": {
           "automargin": true,
           "gridcolor": "#283442",
           "linecolor": "#506784",
           "ticks": "",
           "title": {
            "standoff": 15
           },
           "zerolinecolor": "#283442",
           "zerolinewidth": 2
          }
         }
        },
        "title": {
         "text": "Top 20 Goals Vs Big Change Missed"
        },
        "width": 1100,
        "xaxis": {
         "anchor": "y",
         "domain": [
          0,
          1
         ],
         "title": {
          "text": "Big Chance Missed"
         }
        },
        "yaxis": {
         "anchor": "x",
         "domain": [
          0,
          1
         ],
         "title": {
          "text": "Goals"
         }
        }
       }
      }
     },
     "metadata": {},
     "output_type": "display_data"
    }
   ],
   "source": [
    "\n",
    "\n",
    "# Create a scatterplot of the top 20 players by Shots_per_Goal vs Goals\n",
    "fig = px.scatter(\n",
    "    full_df[:20],\n",
    "    x=\"Big Chance Missed\",\n",
    "    y=\"Goals\",\n",
    "    title=\"Top 20 Goals Vs Big Change Missed\",\n",
    "    height=800,\n",
    "    width=1100,\n",
    "    text=\"Player\",\n",
    "    template=\"plotly_dark\",trendline=\"ols\"\n",
    ")\n",
    "fig.update_traces(textposition=\"top center\", orientation=\"v\", textfont_size=8.5)\n",
    "fig.show()\n"
   ]
  },
  {
   "cell_type": "code",
   "execution_count": 67,
   "metadata": {},
   "outputs": [
    {
     "data": {
      "application/vnd.plotly.v1+json": {
       "config": {
        "plotlyServerURL": "https://plot.ly"
       },
       "data": [
        {
         "hovertemplate": "Total Offside=%{x}<br>Goals=%{y}<br>Player=%{text}<extra></extra>",
         "legendgroup": "",
         "marker": {
          "color": "#636efa",
          "symbol": "circle"
         },
         "mode": "markers+text",
         "name": "",
         "orientation": "v",
         "showlegend": false,
         "text": [
          "Erling Haaland",
          "Harry Kane",
          "Ivan Toney",
          "Mohamed Salah",
          "Marcus Rashford",
          "Gabriel Martinelli",
          "Callum Wilson",
          "Ollie Watkins",
          "Martin Ødegaard",
          "Bukayo Saka",
          "Miguel Almirón",
          "Aleksandar Mitrovic",
          "Rodrigo",
          "Harvey Barnes",
          "Gabriel Jesus",
          "Phil Foden",
          "Alexander Isak",
          "Son Heung-Min",
          "Roberto Firmino",
          "Alexis Mac Allister"
         ],
         "textfont": {
          "size": 8.5
         },
         "textposition": "top center",
         "type": "scatter",
         "x": [
          7,
          15,
          27,
          20,
          15,
          8,
          14,
          17,
          1,
          9,
          9,
          14,
          8,
          7,
          15,
          4,
          4,
          14,
          4,
          0
         ],
         "xaxis": "x",
         "y": [
          35,
          25,
          20,
          18,
          16,
          15,
          15,
          14,
          14,
          13,
          11,
          11,
          11,
          10,
          10,
          10,
          10,
          10,
          9,
          9
         ],
         "yaxis": "y"
        },
        {
         "hovertemplate": "<b>OLS trendline</b><br>Goals = 0.280661 * Total Offside + 11.325<br>R<sup>2</sup>=0.088371<br><br>Total Offside=%{x}<br>Goals=%{y} <b>(trend)</b><extra></extra>",
         "legendgroup": "",
         "marker": {
          "color": "#636efa",
          "symbol": "circle"
         },
         "mode": "lines",
         "name": "",
         "orientation": "v",
         "showlegend": false,
         "textfont": {
          "size": 8.5
         },
         "textposition": "top center",
         "type": "scatter",
         "x": [
          0,
          1,
          4,
          4,
          4,
          7,
          7,
          8,
          8,
          9,
          9,
          14,
          14,
          14,
          15,
          15,
          15,
          17,
          20,
          27
         ],
         "xaxis": "x",
         "y": [
          11.324988516306842,
          11.605649977032611,
          12.44763435920992,
          12.44763435920992,
          12.44763435920992,
          13.289618741387228,
          13.289618741387228,
          13.570280202112997,
          13.570280202112997,
          13.850941662838766,
          13.850941662838766,
          15.254248966467612,
          15.254248966467612,
          15.254248966467612,
          15.534910427193381,
          15.534910427193381,
          15.534910427193381,
          16.09623334864492,
          16.938217730822227,
          18.90284795590261
         ],
         "yaxis": "y"
        }
       ],
       "layout": {
        "height": 800,
        "legend": {
         "tracegroupgap": 0
        },
        "template": {
         "data": {
          "bar": [
           {
            "error_x": {
             "color": "#f2f5fa"
            },
            "error_y": {
             "color": "#f2f5fa"
            },
            "marker": {
             "line": {
              "color": "rgb(17,17,17)",
              "width": 0.5
             },
             "pattern": {
              "fillmode": "overlay",
              "size": 10,
              "solidity": 0.2
             }
            },
            "type": "bar"
           }
          ],
          "barpolar": [
           {
            "marker": {
             "line": {
              "color": "rgb(17,17,17)",
              "width": 0.5
             },
             "pattern": {
              "fillmode": "overlay",
              "size": 10,
              "solidity": 0.2
             }
            },
            "type": "barpolar"
           }
          ],
          "carpet": [
           {
            "aaxis": {
             "endlinecolor": "#A2B1C6",
             "gridcolor": "#506784",
             "linecolor": "#506784",
             "minorgridcolor": "#506784",
             "startlinecolor": "#A2B1C6"
            },
            "baxis": {
             "endlinecolor": "#A2B1C6",
             "gridcolor": "#506784",
             "linecolor": "#506784",
             "minorgridcolor": "#506784",
             "startlinecolor": "#A2B1C6"
            },
            "type": "carpet"
           }
          ],
          "choropleth": [
           {
            "colorbar": {
             "outlinewidth": 0,
             "ticks": ""
            },
            "type": "choropleth"
           }
          ],
          "contour": [
           {
            "colorbar": {
             "outlinewidth": 0,
             "ticks": ""
            },
            "colorscale": [
             [
              0,
              "#0d0887"
             ],
             [
              0.1111111111111111,
              "#46039f"
             ],
             [
              0.2222222222222222,
              "#7201a8"
             ],
             [
              0.3333333333333333,
              "#9c179e"
             ],
             [
              0.4444444444444444,
              "#bd3786"
             ],
             [
              0.5555555555555556,
              "#d8576b"
             ],
             [
              0.6666666666666666,
              "#ed7953"
             ],
             [
              0.7777777777777778,
              "#fb9f3a"
             ],
             [
              0.8888888888888888,
              "#fdca26"
             ],
             [
              1,
              "#f0f921"
             ]
            ],
            "type": "contour"
           }
          ],
          "contourcarpet": [
           {
            "colorbar": {
             "outlinewidth": 0,
             "ticks": ""
            },
            "type": "contourcarpet"
           }
          ],
          "heatmap": [
           {
            "colorbar": {
             "outlinewidth": 0,
             "ticks": ""
            },
            "colorscale": [
             [
              0,
              "#0d0887"
             ],
             [
              0.1111111111111111,
              "#46039f"
             ],
             [
              0.2222222222222222,
              "#7201a8"
             ],
             [
              0.3333333333333333,
              "#9c179e"
             ],
             [
              0.4444444444444444,
              "#bd3786"
             ],
             [
              0.5555555555555556,
              "#d8576b"
             ],
             [
              0.6666666666666666,
              "#ed7953"
             ],
             [
              0.7777777777777778,
              "#fb9f3a"
             ],
             [
              0.8888888888888888,
              "#fdca26"
             ],
             [
              1,
              "#f0f921"
             ]
            ],
            "type": "heatmap"
           }
          ],
          "heatmapgl": [
           {
            "colorbar": {
             "outlinewidth": 0,
             "ticks": ""
            },
            "colorscale": [
             [
              0,
              "#0d0887"
             ],
             [
              0.1111111111111111,
              "#46039f"
             ],
             [
              0.2222222222222222,
              "#7201a8"
             ],
             [
              0.3333333333333333,
              "#9c179e"
             ],
             [
              0.4444444444444444,
              "#bd3786"
             ],
             [
              0.5555555555555556,
              "#d8576b"
             ],
             [
              0.6666666666666666,
              "#ed7953"
             ],
             [
              0.7777777777777778,
              "#fb9f3a"
             ],
             [
              0.8888888888888888,
              "#fdca26"
             ],
             [
              1,
              "#f0f921"
             ]
            ],
            "type": "heatmapgl"
           }
          ],
          "histogram": [
           {
            "marker": {
             "pattern": {
              "fillmode": "overlay",
              "size": 10,
              "solidity": 0.2
             }
            },
            "type": "histogram"
           }
          ],
          "histogram2d": [
           {
            "colorbar": {
             "outlinewidth": 0,
             "ticks": ""
            },
            "colorscale": [
             [
              0,
              "#0d0887"
             ],
             [
              0.1111111111111111,
              "#46039f"
             ],
             [
              0.2222222222222222,
              "#7201a8"
             ],
             [
              0.3333333333333333,
              "#9c179e"
             ],
             [
              0.4444444444444444,
              "#bd3786"
             ],
             [
              0.5555555555555556,
              "#d8576b"
             ],
             [
              0.6666666666666666,
              "#ed7953"
             ],
             [
              0.7777777777777778,
              "#fb9f3a"
             ],
             [
              0.8888888888888888,
              "#fdca26"
             ],
             [
              1,
              "#f0f921"
             ]
            ],
            "type": "histogram2d"
           }
          ],
          "histogram2dcontour": [
           {
            "colorbar": {
             "outlinewidth": 0,
             "ticks": ""
            },
            "colorscale": [
             [
              0,
              "#0d0887"
             ],
             [
              0.1111111111111111,
              "#46039f"
             ],
             [
              0.2222222222222222,
              "#7201a8"
             ],
             [
              0.3333333333333333,
              "#9c179e"
             ],
             [
              0.4444444444444444,
              "#bd3786"
             ],
             [
              0.5555555555555556,
              "#d8576b"
             ],
             [
              0.6666666666666666,
              "#ed7953"
             ],
             [
              0.7777777777777778,
              "#fb9f3a"
             ],
             [
              0.8888888888888888,
              "#fdca26"
             ],
             [
              1,
              "#f0f921"
             ]
            ],
            "type": "histogram2dcontour"
           }
          ],
          "mesh3d": [
           {
            "colorbar": {
             "outlinewidth": 0,
             "ticks": ""
            },
            "type": "mesh3d"
           }
          ],
          "parcoords": [
           {
            "line": {
             "colorbar": {
              "outlinewidth": 0,
              "ticks": ""
             }
            },
            "type": "parcoords"
           }
          ],
          "pie": [
           {
            "automargin": true,
            "type": "pie"
           }
          ],
          "scatter": [
           {
            "marker": {
             "line": {
              "color": "#283442"
             }
            },
            "type": "scatter"
           }
          ],
          "scatter3d": [
           {
            "line": {
             "colorbar": {
              "outlinewidth": 0,
              "ticks": ""
             }
            },
            "marker": {
             "colorbar": {
              "outlinewidth": 0,
              "ticks": ""
             }
            },
            "type": "scatter3d"
           }
          ],
          "scattercarpet": [
           {
            "marker": {
             "colorbar": {
              "outlinewidth": 0,
              "ticks": ""
             }
            },
            "type": "scattercarpet"
           }
          ],
          "scattergeo": [
           {
            "marker": {
             "colorbar": {
              "outlinewidth": 0,
              "ticks": ""
             }
            },
            "type": "scattergeo"
           }
          ],
          "scattergl": [
           {
            "marker": {
             "line": {
              "color": "#283442"
             }
            },
            "type": "scattergl"
           }
          ],
          "scattermapbox": [
           {
            "marker": {
             "colorbar": {
              "outlinewidth": 0,
              "ticks": ""
             }
            },
            "type": "scattermapbox"
           }
          ],
          "scatterpolar": [
           {
            "marker": {
             "colorbar": {
              "outlinewidth": 0,
              "ticks": ""
             }
            },
            "type": "scatterpolar"
           }
          ],
          "scatterpolargl": [
           {
            "marker": {
             "colorbar": {
              "outlinewidth": 0,
              "ticks": ""
             }
            },
            "type": "scatterpolargl"
           }
          ],
          "scatterternary": [
           {
            "marker": {
             "colorbar": {
              "outlinewidth": 0,
              "ticks": ""
             }
            },
            "type": "scatterternary"
           }
          ],
          "surface": [
           {
            "colorbar": {
             "outlinewidth": 0,
             "ticks": ""
            },
            "colorscale": [
             [
              0,
              "#0d0887"
             ],
             [
              0.1111111111111111,
              "#46039f"
             ],
             [
              0.2222222222222222,
              "#7201a8"
             ],
             [
              0.3333333333333333,
              "#9c179e"
             ],
             [
              0.4444444444444444,
              "#bd3786"
             ],
             [
              0.5555555555555556,
              "#d8576b"
             ],
             [
              0.6666666666666666,
              "#ed7953"
             ],
             [
              0.7777777777777778,
              "#fb9f3a"
             ],
             [
              0.8888888888888888,
              "#fdca26"
             ],
             [
              1,
              "#f0f921"
             ]
            ],
            "type": "surface"
           }
          ],
          "table": [
           {
            "cells": {
             "fill": {
              "color": "#506784"
             },
             "line": {
              "color": "rgb(17,17,17)"
             }
            },
            "header": {
             "fill": {
              "color": "#2a3f5f"
             },
             "line": {
              "color": "rgb(17,17,17)"
             }
            },
            "type": "table"
           }
          ]
         },
         "layout": {
          "annotationdefaults": {
           "arrowcolor": "#f2f5fa",
           "arrowhead": 0,
           "arrowwidth": 1
          },
          "autotypenumbers": "strict",
          "coloraxis": {
           "colorbar": {
            "outlinewidth": 0,
            "ticks": ""
           }
          },
          "colorscale": {
           "diverging": [
            [
             0,
             "#8e0152"
            ],
            [
             0.1,
             "#c51b7d"
            ],
            [
             0.2,
             "#de77ae"
            ],
            [
             0.3,
             "#f1b6da"
            ],
            [
             0.4,
             "#fde0ef"
            ],
            [
             0.5,
             "#f7f7f7"
            ],
            [
             0.6,
             "#e6f5d0"
            ],
            [
             0.7,
             "#b8e186"
            ],
            [
             0.8,
             "#7fbc41"
            ],
            [
             0.9,
             "#4d9221"
            ],
            [
             1,
             "#276419"
            ]
           ],
           "sequential": [
            [
             0,
             "#0d0887"
            ],
            [
             0.1111111111111111,
             "#46039f"
            ],
            [
             0.2222222222222222,
             "#7201a8"
            ],
            [
             0.3333333333333333,
             "#9c179e"
            ],
            [
             0.4444444444444444,
             "#bd3786"
            ],
            [
             0.5555555555555556,
             "#d8576b"
            ],
            [
             0.6666666666666666,
             "#ed7953"
            ],
            [
             0.7777777777777778,
             "#fb9f3a"
            ],
            [
             0.8888888888888888,
             "#fdca26"
            ],
            [
             1,
             "#f0f921"
            ]
           ],
           "sequentialminus": [
            [
             0,
             "#0d0887"
            ],
            [
             0.1111111111111111,
             "#46039f"
            ],
            [
             0.2222222222222222,
             "#7201a8"
            ],
            [
             0.3333333333333333,
             "#9c179e"
            ],
            [
             0.4444444444444444,
             "#bd3786"
            ],
            [
             0.5555555555555556,
             "#d8576b"
            ],
            [
             0.6666666666666666,
             "#ed7953"
            ],
            [
             0.7777777777777778,
             "#fb9f3a"
            ],
            [
             0.8888888888888888,
             "#fdca26"
            ],
            [
             1,
             "#f0f921"
            ]
           ]
          },
          "colorway": [
           "#636efa",
           "#EF553B",
           "#00cc96",
           "#ab63fa",
           "#FFA15A",
           "#19d3f3",
           "#FF6692",
           "#B6E880",
           "#FF97FF",
           "#FECB52"
          ],
          "font": {
           "color": "#f2f5fa"
          },
          "geo": {
           "bgcolor": "rgb(17,17,17)",
           "lakecolor": "rgb(17,17,17)",
           "landcolor": "rgb(17,17,17)",
           "showlakes": true,
           "showland": true,
           "subunitcolor": "#506784"
          },
          "hoverlabel": {
           "align": "left"
          },
          "hovermode": "closest",
          "mapbox": {
           "style": "dark"
          },
          "paper_bgcolor": "rgb(17,17,17)",
          "plot_bgcolor": "rgb(17,17,17)",
          "polar": {
           "angularaxis": {
            "gridcolor": "#506784",
            "linecolor": "#506784",
            "ticks": ""
           },
           "bgcolor": "rgb(17,17,17)",
           "radialaxis": {
            "gridcolor": "#506784",
            "linecolor": "#506784",
            "ticks": ""
           }
          },
          "scene": {
           "xaxis": {
            "backgroundcolor": "rgb(17,17,17)",
            "gridcolor": "#506784",
            "gridwidth": 2,
            "linecolor": "#506784",
            "showbackground": true,
            "ticks": "",
            "zerolinecolor": "#C8D4E3"
           },
           "yaxis": {
            "backgroundcolor": "rgb(17,17,17)",
            "gridcolor": "#506784",
            "gridwidth": 2,
            "linecolor": "#506784",
            "showbackground": true,
            "ticks": "",
            "zerolinecolor": "#C8D4E3"
           },
           "zaxis": {
            "backgroundcolor": "rgb(17,17,17)",
            "gridcolor": "#506784",
            "gridwidth": 2,
            "linecolor": "#506784",
            "showbackground": true,
            "ticks": "",
            "zerolinecolor": "#C8D4E3"
           }
          },
          "shapedefaults": {
           "line": {
            "color": "#f2f5fa"
           }
          },
          "sliderdefaults": {
           "bgcolor": "#C8D4E3",
           "bordercolor": "rgb(17,17,17)",
           "borderwidth": 1,
           "tickwidth": 0
          },
          "ternary": {
           "aaxis": {
            "gridcolor": "#506784",
            "linecolor": "#506784",
            "ticks": ""
           },
           "baxis": {
            "gridcolor": "#506784",
            "linecolor": "#506784",
            "ticks": ""
           },
           "bgcolor": "rgb(17,17,17)",
           "caxis": {
            "gridcolor": "#506784",
            "linecolor": "#506784",
            "ticks": ""
           }
          },
          "title": {
           "x": 0.05
          },
          "updatemenudefaults": {
           "bgcolor": "#506784",
           "borderwidth": 0
          },
          "xaxis": {
           "automargin": true,
           "gridcolor": "#283442",
           "linecolor": "#506784",
           "ticks": "",
           "title": {
            "standoff": 15
           },
           "zerolinecolor": "#283442",
           "zerolinewidth": 2
          },
          "yaxis": {
           "automargin": true,
           "gridcolor": "#283442",
           "linecolor": "#506784",
           "ticks": "",
           "title": {
            "standoff": 15
           },
           "zerolinecolor": "#283442",
           "zerolinewidth": 2
          }
         }
        },
        "title": {
         "text": "Top 20 Goals Vs Offsite"
        },
        "width": 1100,
        "xaxis": {
         "anchor": "y",
         "domain": [
          0,
          1
         ],
         "title": {
          "text": "Total Offside"
         }
        },
        "yaxis": {
         "anchor": "x",
         "domain": [
          0,
          1
         ],
         "title": {
          "text": "Goals"
         }
        }
       }
      }
     },
     "metadata": {},
     "output_type": "display_data"
    }
   ],
   "source": [
    "\n",
    "\n",
    "# Create a scatterplot of the top 20 players by Shots_per_Goal vs Goals\n",
    "fig = px.scatter(\n",
    "    full_df[:20],\n",
    "    x=\"Total Offside\",\n",
    "    y=\"Goals\",\n",
    "    title=\"Top 20 Goals Vs Offsite\",\n",
    "    height=800,\n",
    "    width=1100,\n",
    "    text=\"Player\",\n",
    "    template=\"plotly_dark\",trendline=\"ols\"\n",
    ")\n",
    "fig.update_traces(textposition=\"top center\", orientation=\"v\", textfont_size=8.5)\n",
    "fig.show()\n"
   ]
  },
  {
   "cell_type": "code",
   "execution_count": 83,
   "metadata": {},
   "outputs": [],
   "source": [
    "import pandas as pd\n",
    "import plotly.express as px\n",
    "from geopy.geocoders import OpenCage\n",
    "\n",
    "api_key = '25afb28d7fe94da28398368ce7761d86'\n",
    "\n",
    "# Assuming you have already loaded the data into a DataFrame called full_df\n",
    "\n",
    "# Group the data by Nationality and calculate the total goals for each country\n",
    "grouped_data = full_df.groupby('Nationality')['Goals'].sum().reset_index()\n",
    "\n",
    "# Initialize a geolocator object to obtain the latitude and longitude of countries\n",
    "geolocator = OpenCage(api_key)\n",
    "\n",
    "# Function to get the latitude and longitude of a country\n",
    "def get_latitude_longitude(country):\n",
    "    location = geolocator.geocode(country)\n",
    "    if location is None:\n",
    "        return pd.Series([None, None])\n",
    "    return pd.Series([location.latitude, location.longitude])\n",
    "\n",
    "# Add latitude and longitude columns to the grouped_data DataFrame\n",
    "grouped_data[['Latitude', 'Longitude']] = grouped_data['Nationality'].apply(get_latitude_longitude)\n",
    "\n",
    "# Remove rows with missing latitude and longitude values\n",
    "grouped_data = grouped_data.dropna(subset=['Latitude', 'Longitude'])\n",
    "\n",
    "# Create the scatter_geo plot\n",
    "\n"
   ]
  },
  {
   "cell_type": "code",
   "execution_count": 91,
   "metadata": {},
   "outputs": [
    {
     "data": {
      "application/vnd.plotly.v1+json": {
       "config": {
        "plotlyServerURL": "https://plot.ly"
       },
       "data": [
        {
         "geo": "geo",
         "hovertemplate": "<b>%{hovertext}</b><br><br>Nationality=Albania<br>Goals=%{marker.size}<br>Latitude=%{lat}<br>Longitude=%{lon}<extra></extra>",
         "hovertext": [
          "Albania"
         ],
         "lat": [
          41.000028
         ],
         "legendgroup": "Albania",
         "lon": [
          19.9999619
         ],
         "marker": {
          "color": "#636efa",
          "size": [
           1
          ],
          "sizemode": "area",
          "sizeref": 0.7775,
          "symbol": "circle"
         },
         "mode": "markers",
         "name": "Albania",
         "showlegend": true,
         "type": "scattergeo"
        },
        {
         "geo": "geo",
         "hovertemplate": "<b>%{hovertext}</b><br><br>Nationality=Algeria<br>Goals=%{marker.size}<br>Latitude=%{lat}<br>Longitude=%{lon}<extra></extra>",
         "hovertext": [
          "Algeria"
         ],
         "lat": [
          28.0000272
         ],
         "legendgroup": "Algeria",
         "lon": [
          2.9999825
         ],
         "marker": {
          "color": "#EF553B",
          "size": [
           11
          ],
          "sizemode": "area",
          "sizeref": 0.7775,
          "symbol": "circle"
         },
         "mode": "markers",
         "name": "Algeria",
         "showlegend": true,
         "type": "scattergeo"
        },
        {
         "geo": "geo",
         "hovertemplate": "<b>%{hovertext}</b><br><br>Nationality=Argentina<br>Goals=%{marker.size}<br>Latitude=%{lat}<br>Longitude=%{lon}<extra></extra>",
         "hovertext": [
          "Argentina"
         ],
         "lat": [
          -34.9964963
         ],
         "legendgroup": "Argentina",
         "lon": [
          -64.9672817
         ],
         "marker": {
          "color": "#00cc96",
          "size": [
           31
          ],
          "sizemode": "area",
          "sizeref": 0.7775,
          "symbol": "circle"
         },
         "mode": "markers",
         "name": "Argentina",
         "showlegend": true,
         "type": "scattergeo"
        },
        {
         "geo": "geo",
         "hovertemplate": "<b>%{hovertext}</b><br><br>Nationality=Australia<br>Goals=%{marker.size}<br>Latitude=%{lat}<br>Longitude=%{lon}<extra></extra>",
         "hovertext": [
          "Australia"
         ],
         "lat": [
          -24.7761086
         ],
         "legendgroup": "Australia",
         "lon": [
          134.755
         ],
         "marker": {
          "color": "#ab63fa",
          "size": [
           0
          ],
          "sizemode": "area",
          "sizeref": 0.7775,
          "symbol": "circle"
         },
         "mode": "markers",
         "name": "Australia",
         "showlegend": true,
         "type": "scattergeo"
        },
        {
         "geo": "geo",
         "hovertemplate": "<b>%{hovertext}</b><br><br>Nationality=Austria<br>Goals=%{marker.size}<br>Latitude=%{lat}<br>Longitude=%{lon}<extra></extra>",
         "hovertext": [
          "Austria"
         ],
         "lat": [
          47.59397
         ],
         "legendgroup": "Austria",
         "lon": [
          14.12456
         ],
         "marker": {
          "color": "#FFA15A",
          "size": [
           0
          ],
          "sizemode": "area",
          "sizeref": 0.7775,
          "symbol": "circle"
         },
         "mode": "markers",
         "name": "Austria",
         "showlegend": true,
         "type": "scattergeo"
        },
        {
         "geo": "geo",
         "hovertemplate": "<b>%{hovertext}</b><br><br>Nationality=Belgium<br>Goals=%{marker.size}<br>Latitude=%{lat}<br>Longitude=%{lon}<extra></extra>",
         "hovertext": [
          "Belgium"
         ],
         "lat": [
          50.6402809
         ],
         "legendgroup": "Belgium",
         "lon": [
          4.6667145
         ],
         "marker": {
          "color": "#19d3f3",
          "size": [
           24
          ],
          "sizemode": "area",
          "sizeref": 0.7775,
          "symbol": "circle"
         },
         "mode": "markers",
         "name": "Belgium",
         "showlegend": true,
         "type": "scattergeo"
        },
        {
         "geo": "geo",
         "hovertemplate": "<b>%{hovertext}</b><br><br>Nationality=Bosnia & Herzegovina<br>Goals=%{marker.size}<br>Latitude=%{lat}<br>Longitude=%{lon}<extra></extra>",
         "hovertext": [
          "Bosnia & Herzegovina"
         ],
         "lat": [
          44.3053476
         ],
         "legendgroup": "Bosnia & Herzegovina",
         "lon": [
          17.5961467
         ],
         "marker": {
          "color": "#FF6692",
          "size": [
           0
          ],
          "sizemode": "area",
          "sizeref": 0.7775,
          "symbol": "circle"
         },
         "mode": "markers",
         "name": "Bosnia & Herzegovina",
         "showlegend": true,
         "type": "scattergeo"
        },
        {
         "geo": "geo",
         "hovertemplate": "<b>%{hovertext}</b><br><br>Nationality=Brazil<br>Goals=%{marker.size}<br>Latitude=%{lat}<br>Longitude=%{lon}<extra></extra>",
         "hovertext": [
          "Brazil"
         ],
         "lat": [
          -10.3333333
         ],
         "legendgroup": "Brazil",
         "lon": [
          -53.2
         ],
         "marker": {
          "color": "#B6E880",
          "size": [
           82
          ],
          "sizemode": "area",
          "sizeref": 0.7775,
          "symbol": "circle"
         },
         "mode": "markers",
         "name": "Brazil",
         "showlegend": true,
         "type": "scattergeo"
        },
        {
         "geo": "geo",
         "hovertemplate": "<b>%{hovertext}</b><br><br>Nationality=Burkina Faso<br>Goals=%{marker.size}<br>Latitude=%{lat}<br>Longitude=%{lon}<extra></extra>",
         "hovertext": [
          "Burkina Faso"
         ],
         "lat": [
          12.0753083
         ],
         "legendgroup": "Burkina Faso",
         "lon": [
          -1.6880314
         ],
         "marker": {
          "color": "#FF97FF",
          "size": [
           3
          ],
          "sizemode": "area",
          "sizeref": 0.7775,
          "symbol": "circle"
         },
         "mode": "markers",
         "name": "Burkina Faso",
         "showlegend": true,
         "type": "scattergeo"
        },
        {
         "geo": "geo",
         "hovertemplate": "<b>%{hovertext}</b><br><br>Nationality=Cameroon<br>Goals=%{marker.size}<br>Latitude=%{lat}<br>Longitude=%{lon}<extra></extra>",
         "hovertext": [
          "Cameroon"
         ],
         "lat": [
          4.6125522
         ],
         "legendgroup": "Cameroon",
         "lon": [
          13.1535811
         ],
         "marker": {
          "color": "#FECB52",
          "size": [
           7
          ],
          "sizemode": "area",
          "sizeref": 0.7775,
          "symbol": "circle"
         },
         "mode": "markers",
         "name": "Cameroon",
         "showlegend": true,
         "type": "scattergeo"
        },
        {
         "geo": "geo",
         "hovertemplate": "<b>%{hovertext}</b><br><br>Nationality=Colombia<br>Goals=%{marker.size}<br>Latitude=%{lat}<br>Longitude=%{lon}<extra></extra>",
         "hovertext": [
          "Colombia"
         ],
         "lat": [
          4.099917
         ],
         "legendgroup": "Colombia",
         "lon": [
          -72.9088133
         ],
         "marker": {
          "color": "#636efa",
          "size": [
           15
          ],
          "sizemode": "area",
          "sizeref": 0.7775,
          "symbol": "circle"
         },
         "mode": "markers",
         "name": "Colombia",
         "showlegend": true,
         "type": "scattergeo"
        },
        {
         "geo": "geo",
         "hovertemplate": "<b>%{hovertext}</b><br><br>Nationality=Costa Rica<br>Goals=%{marker.size}<br>Latitude=%{lat}<br>Longitude=%{lon}<extra></extra>",
         "hovertext": [
          "Costa Rica"
         ],
         "lat": [
          10.2735633
         ],
         "legendgroup": "Costa Rica",
         "lon": [
          -84.0739102
         ],
         "marker": {
          "color": "#EF553B",
          "size": [
           0
          ],
          "sizemode": "area",
          "sizeref": 0.7775,
          "symbol": "circle"
         },
         "mode": "markers",
         "name": "Costa Rica",
         "showlegend": true,
         "type": "scattergeo"
        },
        {
         "geo": "geo",
         "hovertemplate": "<b>%{hovertext}</b><br><br>Nationality=Cote D’Ivoire<br>Goals=%{marker.size}<br>Latitude=%{lat}<br>Longitude=%{lon}<extra></extra>",
         "hovertext": [
          "Cote D’Ivoire"
         ],
         "lat": [
          7.9897371
         ],
         "legendgroup": "Cote D’Ivoire",
         "lon": [
          -5.5679458
         ],
         "marker": {
          "color": "#00cc96",
          "size": [
           8
          ],
          "sizemode": "area",
          "sizeref": 0.7775,
          "symbol": "circle"
         },
         "mode": "markers",
         "name": "Cote D’Ivoire",
         "showlegend": true,
         "type": "scattergeo"
        },
        {
         "geo": "geo",
         "hovertemplate": "<b>%{hovertext}</b><br><br>Nationality=Croatia<br>Goals=%{marker.size}<br>Latitude=%{lat}<br>Longitude=%{lon}<extra></extra>",
         "hovertext": [
          "Croatia"
         ],
         "lat": [
          45.3658443
         ],
         "legendgroup": "Croatia",
         "lon": [
          15.6575209
         ],
         "marker": {
          "color": "#ab63fa",
          "size": [
           3
          ],
          "sizemode": "area",
          "sizeref": 0.7775,
          "symbol": "circle"
         },
         "mode": "markers",
         "name": "Croatia",
         "showlegend": true,
         "type": "scattergeo"
        },
        {
         "geo": "geo",
         "hovertemplate": "<b>%{hovertext}</b><br><br>Nationality=DR Congo<br>Goals=%{marker.size}<br>Latitude=%{lat}<br>Longitude=%{lon}<extra></extra>",
         "hovertext": [
          "DR Congo"
         ],
         "lat": [
          -2.9814344
         ],
         "legendgroup": "DR Congo",
         "lon": [
          23.8222636
         ],
         "marker": {
          "color": "#FFA15A",
          "size": [
           5
          ],
          "sizemode": "area",
          "sizeref": 0.7775,
          "symbol": "circle"
         },
         "mode": "markers",
         "name": "DR Congo",
         "showlegend": true,
         "type": "scattergeo"
        },
        {
         "geo": "geo",
         "hovertemplate": "<b>%{hovertext}</b><br><br>Nationality=Denmark<br>Goals=%{marker.size}<br>Latitude=%{lat}<br>Longitude=%{lon}<extra></extra>",
         "hovertext": [
          "Denmark"
         ],
         "lat": [
          55.670249
         ],
         "legendgroup": "Denmark",
         "lon": [
          10.3333283
         ],
         "marker": {
          "color": "#19d3f3",
          "size": [
           21
          ],
          "sizemode": "area",
          "sizeref": 0.7775,
          "symbol": "circle"
         },
         "mode": "markers",
         "name": "Denmark",
         "showlegend": true,
         "type": "scattergeo"
        },
        {
         "geo": "geo",
         "hovertemplate": "<b>%{hovertext}</b><br><br>Nationality=Ecuador<br>Goals=%{marker.size}<br>Latitude=%{lat}<br>Longitude=%{lon}<extra></extra>",
         "hovertext": [
          "Ecuador"
         ],
         "lat": [
          -1.3397668
         ],
         "legendgroup": "Ecuador",
         "lon": [
          -79.3666965
         ],
         "marker": {
          "color": "#FF6692",
          "size": [
           1
          ],
          "sizemode": "area",
          "sizeref": 0.7775,
          "symbol": "circle"
         },
         "mode": "markers",
         "name": "Ecuador",
         "showlegend": true,
         "type": "scattergeo"
        },
        {
         "geo": "geo",
         "hovertemplate": "<b>%{hovertext}</b><br><br>Nationality=Egypt<br>Goals=%{marker.size}<br>Latitude=%{lat}<br>Longitude=%{lon}<extra></extra>",
         "hovertext": [
          "Egypt"
         ],
         "lat": [
          26.2540493
         ],
         "legendgroup": "Egypt",
         "lon": [
          29.2675469
         ],
         "marker": {
          "color": "#B6E880",
          "size": [
           18
          ],
          "sizemode": "area",
          "sizeref": 0.7775,
          "symbol": "circle"
         },
         "mode": "markers",
         "name": "Egypt",
         "showlegend": true,
         "type": "scattergeo"
        },
        {
         "geo": "geo",
         "hovertemplate": "<b>%{hovertext}</b><br><br>Nationality=England<br>Goals=%{marker.size}<br>Latitude=%{lat}<br>Longitude=%{lon}<extra></extra>",
         "hovertext": [
          "England"
         ],
         "lat": [
          52.5310214
         ],
         "legendgroup": "England",
         "lon": [
          -1.2649062
         ],
         "marker": {
          "color": "#FF97FF",
          "size": [
           311
          ],
          "sizemode": "area",
          "sizeref": 0.7775,
          "symbol": "circle"
         },
         "mode": "markers",
         "name": "England",
         "showlegend": true,
         "type": "scattergeo"
        },
        {
         "geo": "geo",
         "hovertemplate": "<b>%{hovertext}</b><br><br>Nationality=France<br>Goals=%{marker.size}<br>Latitude=%{lat}<br>Longitude=%{lon}<extra></extra>",
         "hovertext": [
          "France"
         ],
         "lat": [
          46.603354
         ],
         "legendgroup": "France",
         "lon": [
          1.8883335
         ],
         "marker": {
          "color": "#FECB52",
          "size": [
           24
          ],
          "sizemode": "area",
          "sizeref": 0.7775,
          "symbol": "circle"
         },
         "mode": "markers",
         "name": "France",
         "showlegend": true,
         "type": "scattergeo"
        },
        {
         "geo": "geo",
         "hovertemplate": "<b>%{hovertext}</b><br><br>Nationality=Gabon<br>Goals=%{marker.size}<br>Latitude=%{lat}<br>Longitude=%{lon}<extra></extra>",
         "hovertext": [
          "Gabon"
         ],
         "lat": [
          -0.8999695
         ],
         "legendgroup": "Gabon",
         "lon": [
          11.6899699
         ],
         "marker": {
          "color": "#636efa",
          "size": [
           1
          ],
          "sizemode": "area",
          "sizeref": 0.7775,
          "symbol": "circle"
         },
         "mode": "markers",
         "name": "Gabon",
         "showlegend": true,
         "type": "scattergeo"
        },
        {
         "geo": "geo",
         "hovertemplate": "<b>%{hovertext}</b><br><br>Nationality=Germany<br>Goals=%{marker.size}<br>Latitude=%{lat}<br>Longitude=%{lon}<extra></extra>",
         "hovertext": [
          "Germany"
         ],
         "lat": [
          51.1638175
         ],
         "legendgroup": "Germany",
         "lon": [
          10.4478313
         ],
         "marker": {
          "color": "#EF553B",
          "size": [
           24
          ],
          "sizemode": "area",
          "sizeref": 0.7775,
          "symbol": "circle"
         },
         "mode": "markers",
         "name": "Germany",
         "showlegend": true,
         "type": "scattergeo"
        },
        {
         "geo": "geo",
         "hovertemplate": "<b>%{hovertext}</b><br><br>Nationality=Ghana<br>Goals=%{marker.size}<br>Latitude=%{lat}<br>Longitude=%{lon}<extra></extra>",
         "hovertext": [
          "Ghana"
         ],
         "lat": [
          8.0300284
         ],
         "legendgroup": "Ghana",
         "lon": [
          -1.0800271
         ],
         "marker": {
          "color": "#00cc96",
          "size": [
           11
          ],
          "sizemode": "area",
          "sizeref": 0.7775,
          "symbol": "circle"
         },
         "mode": "markers",
         "name": "Ghana",
         "showlegend": true,
         "type": "scattergeo"
        },
        {
         "geo": "geo",
         "hovertemplate": "<b>%{hovertext}</b><br><br>Nationality=Greece<br>Goals=%{marker.size}<br>Latitude=%{lat}<br>Longitude=%{lon}<extra></extra>",
         "hovertext": [
          "Greece"
         ],
         "lat": [
          38.9953683
         ],
         "legendgroup": "Greece",
         "lon": [
          21.9877132
         ],
         "marker": {
          "color": "#ab63fa",
          "size": [
           0
          ],
          "sizemode": "area",
          "sizeref": 0.7775,
          "symbol": "circle"
         },
         "mode": "markers",
         "name": "Greece",
         "showlegend": true,
         "type": "scattergeo"
        },
        {
         "geo": "geo",
         "hovertemplate": "<b>%{hovertext}</b><br><br>Nationality=Grenada<br>Goals=%{marker.size}<br>Latitude=%{lat}<br>Longitude=%{lon}<extra></extra>",
         "hovertext": [
          "Grenada"
         ],
         "lat": [
          12.1360374
         ],
         "legendgroup": "Grenada",
         "lon": [
          -61.6904045
         ],
         "marker": {
          "color": "#FFA15A",
          "size": [
           0
          ],
          "sizemode": "area",
          "sizeref": 0.7775,
          "symbol": "circle"
         },
         "mode": "markers",
         "name": "Grenada",
         "showlegend": true,
         "type": "scattergeo"
        },
        {
         "geo": "geo",
         "hovertemplate": "<b>%{hovertext}</b><br><br>Nationality=Guinea<br>Goals=%{marker.size}<br>Latitude=%{lat}<br>Longitude=%{lon}<extra></extra>",
         "hovertext": [
          "Guinea"
         ],
         "lat": [
          10.7226226
         ],
         "legendgroup": "Guinea",
         "lon": [
          -10.7083587
         ],
         "marker": {
          "color": "#19d3f3",
          "size": [
           0
          ],
          "sizemode": "area",
          "sizeref": 0.7775,
          "symbol": "circle"
         },
         "mode": "markers",
         "name": "Guinea",
         "showlegend": true,
         "type": "scattergeo"
        },
        {
         "geo": "geo",
         "hovertemplate": "<b>%{hovertext}</b><br><br>Nationality=Iran<br>Goals=%{marker.size}<br>Latitude=%{lat}<br>Longitude=%{lon}<extra></extra>",
         "hovertext": [
          "Iran"
         ],
         "lat": [
          32.6475314
         ],
         "legendgroup": "Iran",
         "lon": [
          54.5643516
         ],
         "marker": {
          "color": "#FF6692",
          "size": [
           0
          ],
          "sizemode": "area",
          "sizeref": 0.7775,
          "symbol": "circle"
         },
         "mode": "markers",
         "name": "Iran",
         "showlegend": true,
         "type": "scattergeo"
        },
        {
         "geo": "geo",
         "hovertemplate": "<b>%{hovertext}</b><br><br>Nationality=Ireland<br>Goals=%{marker.size}<br>Latitude=%{lat}<br>Longitude=%{lon}<extra></extra>",
         "hovertext": [
          "Ireland"
         ],
         "lat": [
          52.865196
         ],
         "legendgroup": "Ireland",
         "lon": [
          -7.9794599
         ],
         "marker": {
          "color": "#B6E880",
          "size": [
           6
          ],
          "sizemode": "area",
          "sizeref": 0.7775,
          "symbol": "circle"
         },
         "mode": "markers",
         "name": "Ireland",
         "showlegend": true,
         "type": "scattergeo"
        },
        {
         "geo": "geo",
         "hovertemplate": "<b>%{hovertext}</b><br><br>Nationality=Israel<br>Goals=%{marker.size}<br>Latitude=%{lat}<br>Longitude=%{lon}<extra></extra>",
         "hovertext": [
          "Israel"
         ],
         "lat": [
          30.8124247
         ],
         "legendgroup": "Israel",
         "lon": [
          34.8594762
         ],
         "marker": {
          "color": "#FF97FF",
          "size": [
           4
          ],
          "sizemode": "area",
          "sizeref": 0.7775,
          "symbol": "circle"
         },
         "mode": "markers",
         "name": "Israel",
         "showlegend": true,
         "type": "scattergeo"
        },
        {
         "geo": "geo",
         "hovertemplate": "<b>%{hovertext}</b><br><br>Nationality=Italy<br>Goals=%{marker.size}<br>Latitude=%{lat}<br>Longitude=%{lon}<extra></extra>",
         "hovertext": [
          "Italy"
         ],
         "lat": [
          42.6384261
         ],
         "legendgroup": "Italy",
         "lon": [
          12.674297
         ],
         "marker": {
          "color": "#FECB52",
          "size": [
           8
          ],
          "sizemode": "area",
          "sizeref": 0.7775,
          "symbol": "circle"
         },
         "mode": "markers",
         "name": "Italy",
         "showlegend": true,
         "type": "scattergeo"
        },
        {
         "geo": "geo",
         "hovertemplate": "<b>%{hovertext}</b><br><br>Nationality=Jamaica<br>Goals=%{marker.size}<br>Latitude=%{lat}<br>Longitude=%{lon}<extra></extra>",
         "hovertext": [
          "Jamaica"
         ],
         "lat": [
          18.1850507
         ],
         "legendgroup": "Jamaica",
         "lon": [
          -77.3947693
         ],
         "marker": {
          "color": "#636efa",
          "size": [
           15
          ],
          "sizemode": "area",
          "sizeref": 0.7775,
          "symbol": "circle"
         },
         "mode": "markers",
         "name": "Jamaica",
         "showlegend": true,
         "type": "scattergeo"
        },
        {
         "geo": "geo",
         "hovertemplate": "<b>%{hovertext}</b><br><br>Nationality=Japan<br>Goals=%{marker.size}<br>Latitude=%{lat}<br>Longitude=%{lon}<extra></extra>",
         "hovertext": [
          "Japan"
         ],
         "lat": [
          36.5748441
         ],
         "legendgroup": "Japan",
         "lon": [
          139.2394179
         ],
         "marker": {
          "color": "#EF553B",
          "size": [
           7
          ],
          "sizemode": "area",
          "sizeref": 0.7775,
          "symbol": "circle"
         },
         "mode": "markers",
         "name": "Japan",
         "showlegend": true,
         "type": "scattergeo"
        },
        {
         "geo": "geo",
         "hovertemplate": "<b>%{hovertext}</b><br><br>Nationality=Mali<br>Goals=%{marker.size}<br>Latitude=%{lat}<br>Longitude=%{lon}<extra></extra>",
         "hovertext": [
          "Mali"
         ],
         "lat": [
          16.3700359
         ],
         "legendgroup": "Mali",
         "lon": [
          -2.2900239
         ],
         "marker": {
          "color": "#00cc96",
          "size": [
           2
          ],
          "sizemode": "area",
          "sizeref": 0.7775,
          "symbol": "circle"
         },
         "mode": "markers",
         "name": "Mali",
         "showlegend": true,
         "type": "scattergeo"
        },
        {
         "geo": "geo",
         "hovertemplate": "<b>%{hovertext}</b><br><br>Nationality=Mexico<br>Goals=%{marker.size}<br>Latitude=%{lat}<br>Longitude=%{lon}<extra></extra>",
         "hovertext": [
          "Mexico"
         ],
         "lat": [
          23.6585116
         ],
         "legendgroup": "Mexico",
         "lon": [
          -102.0077097
         ],
         "marker": {
          "color": "#ab63fa",
          "size": [
           0
          ],
          "sizemode": "area",
          "sizeref": 0.7775,
          "symbol": "circle"
         },
         "mode": "markers",
         "name": "Mexico",
         "showlegend": true,
         "type": "scattergeo"
        },
        {
         "geo": "geo",
         "hovertemplate": "<b>%{hovertext}</b><br><br>Nationality=Morocco<br>Goals=%{marker.size}<br>Latitude=%{lat}<br>Longitude=%{lon}<extra></extra>",
         "hovertext": [
          "Morocco"
         ],
         "lat": [
          31.1728205
         ],
         "legendgroup": "Morocco",
         "lon": [
          -7.3362482
         ],
         "marker": {
          "color": "#FFA15A",
          "size": [
           2
          ],
          "sizemode": "area",
          "sizeref": 0.7775,
          "symbol": "circle"
         },
         "mode": "markers",
         "name": "Morocco",
         "showlegend": true,
         "type": "scattergeo"
        },
        {
         "geo": "geo",
         "hovertemplate": "<b>%{hovertext}</b><br><br>Nationality=Netherlands<br>Goals=%{marker.size}<br>Latitude=%{lat}<br>Longitude=%{lon}<extra></extra>",
         "hovertext": [
          "Netherlands"
         ],
         "lat": [
          52.2434979
         ],
         "legendgroup": "Netherlands",
         "lon": [
          5.6343227
         ],
         "marker": {
          "color": "#19d3f3",
          "size": [
           18
          ],
          "sizemode": "area",
          "sizeref": 0.7775,
          "symbol": "circle"
         },
         "mode": "markers",
         "name": "Netherlands",
         "showlegend": true,
         "type": "scattergeo"
        },
        {
         "geo": "geo",
         "hovertemplate": "<b>%{hovertext}</b><br><br>Nationality=New Zealand<br>Goals=%{marker.size}<br>Latitude=%{lat}<br>Longitude=%{lon}<extra></extra>",
         "hovertext": [
          "New Zealand"
         ],
         "lat": [
          -41.5000831
         ],
         "legendgroup": "New Zealand",
         "lon": [
          172.8344077
         ],
         "marker": {
          "color": "#FF6692",
          "size": [
           3
          ],
          "sizemode": "area",
          "sizeref": 0.7775,
          "symbol": "circle"
         },
         "mode": "markers",
         "name": "New Zealand",
         "showlegend": true,
         "type": "scattergeo"
        },
        {
         "geo": "geo",
         "hovertemplate": "<b>%{hovertext}</b><br><br>Nationality=Nigeria<br>Goals=%{marker.size}<br>Latitude=%{lat}<br>Longitude=%{lon}<extra></extra>",
         "hovertext": [
          "Nigeria"
         ],
         "lat": [
          9.6000359
         ],
         "legendgroup": "Nigeria",
         "lon": [
          7.9999721
         ],
         "marker": {
          "color": "#B6E880",
          "size": [
           15
          ],
          "sizemode": "area",
          "sizeref": 0.7775,
          "symbol": "circle"
         },
         "mode": "markers",
         "name": "Nigeria",
         "showlegend": true,
         "type": "scattergeo"
        },
        {
         "geo": "geo",
         "hovertemplate": "<b>%{hovertext}</b><br><br>Nationality=Northern Ireland<br>Goals=%{marker.size}<br>Latitude=%{lat}<br>Longitude=%{lon}<extra></extra>",
         "hovertext": [
          "Northern Ireland"
         ],
         "lat": [
          54.5859836
         ],
         "legendgroup": "Northern Ireland",
         "lon": [
          -6.9591554
         ],
         "marker": {
          "color": "#FF97FF",
          "size": [
           0
          ],
          "sizemode": "area",
          "sizeref": 0.7775,
          "symbol": "circle"
         },
         "mode": "markers",
         "name": "Northern Ireland",
         "showlegend": true,
         "type": "scattergeo"
        },
        {
         "geo": "geo",
         "hovertemplate": "<b>%{hovertext}</b><br><br>Nationality=Norway<br>Goals=%{marker.size}<br>Latitude=%{lat}<br>Longitude=%{lon}<extra></extra>",
         "hovertext": [
          "Norway"
         ],
         "lat": [
          61.1529386
         ],
         "legendgroup": "Norway",
         "lon": [
          8.7876653
         ],
         "marker": {
          "color": "#FECB52",
          "size": [
           49
          ],
          "sizemode": "area",
          "sizeref": 0.7775,
          "symbol": "circle"
         },
         "mode": "markers",
         "name": "Norway",
         "showlegend": true,
         "type": "scattergeo"
        },
        {
         "geo": "geo",
         "hovertemplate": "<b>%{hovertext}</b><br><br>Nationality=Paraguay<br>Goals=%{marker.size}<br>Latitude=%{lat}<br>Longitude=%{lon}<extra></extra>",
         "hovertext": [
          "Paraguay"
         ],
         "lat": [
          -23.3165935
         ],
         "legendgroup": "Paraguay",
         "lon": [
          -58.1693445
         ],
         "marker": {
          "color": "#636efa",
          "size": [
           13
          ],
          "sizemode": "area",
          "sizeref": 0.7775,
          "symbol": "circle"
         },
         "mode": "markers",
         "name": "Paraguay",
         "showlegend": true,
         "type": "scattergeo"
        },
        {
         "geo": "geo",
         "hovertemplate": "<b>%{hovertext}</b><br><br>Nationality=Poland<br>Goals=%{marker.size}<br>Latitude=%{lat}<br>Longitude=%{lon}<extra></extra>",
         "hovertext": [
          "Poland"
         ],
         "lat": [
          52.215933
         ],
         "legendgroup": "Poland",
         "lon": [
          19.134422
         ],
         "marker": {
          "color": "#EF553B",
          "size": [
           0
          ],
          "sizemode": "area",
          "sizeref": 0.7775,
          "symbol": "circle"
         },
         "mode": "markers",
         "name": "Poland",
         "showlegend": true,
         "type": "scattergeo"
        },
        {
         "geo": "geo",
         "hovertemplate": "<b>%{hovertext}</b><br><br>Nationality=Portugal<br>Goals=%{marker.size}<br>Latitude=%{lat}<br>Longitude=%{lon}<extra></extra>",
         "hovertext": [
          "Portugal"
         ],
         "lat": [
          39.6621648
         ],
         "legendgroup": "Portugal",
         "lon": [
          -8.1353519
         ],
         "marker": {
          "color": "#00cc96",
          "size": [
           42
          ],
          "sizemode": "area",
          "sizeref": 0.7775,
          "symbol": "circle"
         },
         "mode": "markers",
         "name": "Portugal",
         "showlegend": true,
         "type": "scattergeo"
        },
        {
         "geo": "geo",
         "hovertemplate": "<b>%{hovertext}</b><br><br>Nationality=Scotland<br>Goals=%{marker.size}<br>Latitude=%{lat}<br>Longitude=%{lon}<extra></extra>",
         "hovertext": [
          "Scotland"
         ],
         "lat": [
          56.7861112
         ],
         "legendgroup": "Scotland",
         "lon": [
          -4.1140518
         ],
         "marker": {
          "color": "#ab63fa",
          "size": [
           11
          ],
          "sizemode": "area",
          "sizeref": 0.7775,
          "symbol": "circle"
         },
         "mode": "markers",
         "name": "Scotland",
         "showlegend": true,
         "type": "scattergeo"
        },
        {
         "geo": "geo",
         "hovertemplate": "<b>%{hovertext}</b><br><br>Nationality=Senegal<br>Goals=%{marker.size}<br>Latitude=%{lat}<br>Longitude=%{lon}<extra></extra>",
         "hovertext": [
          "Senegal"
         ],
         "lat": [
          14.4750607
         ],
         "legendgroup": "Senegal",
         "lon": [
          -14.4529612
         ],
         "marker": {
          "color": "#FFA15A",
          "size": [
           4
          ],
          "sizemode": "area",
          "sizeref": 0.7775,
          "symbol": "circle"
         },
         "mode": "markers",
         "name": "Senegal",
         "showlegend": true,
         "type": "scattergeo"
        },
        {
         "geo": "geo",
         "hovertemplate": "<b>%{hovertext}</b><br><br>Nationality=Serbia<br>Goals=%{marker.size}<br>Latitude=%{lat}<br>Longitude=%{lon}<extra></extra>",
         "hovertext": [
          "Serbia"
         ],
         "lat": [
          44.1534121
         ],
         "legendgroup": "Serbia",
         "lon": [
          20.55144
         ],
         "marker": {
          "color": "#19d3f3",
          "size": [
           11
          ],
          "sizemode": "area",
          "sizeref": 0.7775,
          "symbol": "circle"
         },
         "mode": "markers",
         "name": "Serbia",
         "showlegend": true,
         "type": "scattergeo"
        },
        {
         "geo": "geo",
         "hovertemplate": "<b>%{hovertext}</b><br><br>Nationality=Slovakia<br>Goals=%{marker.size}<br>Latitude=%{lat}<br>Longitude=%{lon}<extra></extra>",
         "hovertext": [
          "Slovakia"
         ],
         "lat": [
          48.7411522
         ],
         "legendgroup": "Slovakia",
         "lon": [
          19.4528646
         ],
         "marker": {
          "color": "#FF6692",
          "size": [
           0
          ],
          "sizemode": "area",
          "sizeref": 0.7775,
          "symbol": "circle"
         },
         "mode": "markers",
         "name": "Slovakia",
         "showlegend": true,
         "type": "scattergeo"
        },
        {
         "geo": "geo",
         "hovertemplate": "<b>%{hovertext}</b><br><br>Nationality=South Korea<br>Goals=%{marker.size}<br>Latitude=%{lat}<br>Longitude=%{lon}<extra></extra>",
         "hovertext": [
          "South Korea"
         ],
         "lat": [
          36.638392
         ],
         "legendgroup": "South Korea",
         "lon": [
          127.6961188
         ],
         "marker": {
          "color": "#B6E880",
          "size": [
           12
          ],
          "sizemode": "area",
          "sizeref": 0.7775,
          "symbol": "circle"
         },
         "mode": "markers",
         "name": "South Korea",
         "showlegend": true,
         "type": "scattergeo"
        },
        {
         "geo": "geo",
         "hovertemplate": "<b>%{hovertext}</b><br><br>Nationality=Spain<br>Goals=%{marker.size}<br>Latitude=%{lat}<br>Longitude=%{lon}<extra></extra>",
         "hovertext": [
          "Spain"
         ],
         "lat": [
          39.3260685
         ],
         "legendgroup": "Spain",
         "lon": [
          -4.8379791
         ],
         "marker": {
          "color": "#FF97FF",
          "size": [
           25
          ],
          "sizemode": "area",
          "sizeref": 0.7775,
          "symbol": "circle"
         },
         "mode": "markers",
         "name": "Spain",
         "showlegend": true,
         "type": "scattergeo"
        },
        {
         "geo": "geo",
         "hovertemplate": "<b>%{hovertext}</b><br><br>Nationality=Sweden<br>Goals=%{marker.size}<br>Latitude=%{lat}<br>Longitude=%{lon}<extra></extra>",
         "hovertext": [
          "Sweden"
         ],
         "lat": [
          59.6749712
         ],
         "legendgroup": "Sweden",
         "lon": [
          14.5208584
         ],
         "marker": {
          "color": "#FECB52",
          "size": [
           13
          ],
          "sizemode": "area",
          "sizeref": 0.7775,
          "symbol": "circle"
         },
         "mode": "markers",
         "name": "Sweden",
         "showlegend": true,
         "type": "scattergeo"
        },
        {
         "geo": "geo",
         "hovertemplate": "<b>%{hovertext}</b><br><br>Nationality=Switzerland<br>Goals=%{marker.size}<br>Latitude=%{lat}<br>Longitude=%{lon}<extra></extra>",
         "hovertext": [
          "Switzerland"
         ],
         "lat": [
          46.7985624
         ],
         "legendgroup": "Switzerland",
         "lon": [
          8.2319736
         ],
         "marker": {
          "color": "#636efa",
          "size": [
           6
          ],
          "sizemode": "area",
          "sizeref": 0.7775,
          "symbol": "circle"
         },
         "mode": "markers",
         "name": "Switzerland",
         "showlegend": true,
         "type": "scattergeo"
        },
        {
         "geo": "geo",
         "hovertemplate": "<b>%{hovertext}</b><br><br>Nationality=Tunisia<br>Goals=%{marker.size}<br>Latitude=%{lat}<br>Longitude=%{lon}<extra></extra>",
         "hovertext": [
          "Tunisia"
         ],
         "lat": [
          33.8439408
         ],
         "legendgroup": "Tunisia",
         "lon": [
          9.400138
         ],
         "marker": {
          "color": "#EF553B",
          "size": [
           0
          ],
          "sizemode": "area",
          "sizeref": 0.7775,
          "symbol": "circle"
         },
         "mode": "markers",
         "name": "Tunisia",
         "showlegend": true,
         "type": "scattergeo"
        },
        {
         "geo": "geo",
         "hovertemplate": "<b>%{hovertext}</b><br><br>Nationality=Ukraine<br>Goals=%{marker.size}<br>Latitude=%{lat}<br>Longitude=%{lon}<extra></extra>",
         "hovertext": [
          "Ukraine"
         ],
         "lat": [
          49.4871968
         ],
         "legendgroup": "Ukraine",
         "lon": [
          31.2718321
         ],
         "marker": {
          "color": "#00cc96",
          "size": [
           1
          ],
          "sizemode": "area",
          "sizeref": 0.7775,
          "symbol": "circle"
         },
         "mode": "markers",
         "name": "Ukraine",
         "showlegend": true,
         "type": "scattergeo"
        },
        {
         "geo": "geo",
         "hovertemplate": "<b>%{hovertext}</b><br><br>Nationality=United States<br>Goals=%{marker.size}<br>Latitude=%{lat}<br>Longitude=%{lon}<extra></extra>",
         "hovertext": [
          "United States"
         ],
         "lat": [
          39.7837304
         ],
         "legendgroup": "United States",
         "lon": [
          -100.445882
         ],
         "marker": {
          "color": "#ab63fa",
          "size": [
           3
          ],
          "sizemode": "area",
          "sizeref": 0.7775,
          "symbol": "circle"
         },
         "mode": "markers",
         "name": "United States",
         "showlegend": true,
         "type": "scattergeo"
        },
        {
         "geo": "geo",
         "hovertemplate": "<b>%{hovertext}</b><br><br>Nationality=Uruguay<br>Goals=%{marker.size}<br>Latitude=%{lat}<br>Longitude=%{lon}<extra></extra>",
         "hovertext": [
          "Uruguay"
         ],
         "lat": [
          -32.8755548
         ],
         "legendgroup": "Uruguay",
         "lon": [
          -56.0201525
         ],
         "marker": {
          "color": "#FFA15A",
          "size": [
           15
          ],
          "sizemode": "area",
          "sizeref": 0.7775,
          "symbol": "circle"
         },
         "mode": "markers",
         "name": "Uruguay",
         "showlegend": true,
         "type": "scattergeo"
        },
        {
         "geo": "geo",
         "hovertemplate": "<b>%{hovertext}</b><br><br>Nationality=Venezuela<br>Goals=%{marker.size}<br>Latitude=%{lat}<br>Longitude=%{lon}<extra></extra>",
         "hovertext": [
          "Venezuela"
         ],
         "lat": [
          8.0018709
         ],
         "legendgroup": "Venezuela",
         "lon": [
          -66.1109318
         ],
         "marker": {
          "color": "#19d3f3",
          "size": [
           0
          ],
          "sizemode": "area",
          "sizeref": 0.7775,
          "symbol": "circle"
         },
         "mode": "markers",
         "name": "Venezuela",
         "showlegend": true,
         "type": "scattergeo"
        },
        {
         "geo": "geo",
         "hovertemplate": "<b>%{hovertext}</b><br><br>Nationality=Wales<br>Goals=%{marker.size}<br>Latitude=%{lat}<br>Longitude=%{lon}<extra></extra>",
         "hovertext": [
          "Wales"
         ],
         "lat": [
          52.2928116
         ],
         "legendgroup": "Wales",
         "lon": [
          -3.73893
         ],
         "marker": {
          "color": "#FF6692",
          "size": [
           19
          ],
          "sizemode": "area",
          "sizeref": 0.7775,
          "symbol": "circle"
         },
         "mode": "markers",
         "name": "Wales",
         "showlegend": true,
         "type": "scattergeo"
        },
        {
         "geo": "geo",
         "hovertemplate": "<b>%{hovertext}</b><br><br>Nationality=Zambia<br>Goals=%{marker.size}<br>Latitude=%{lat}<br>Longitude=%{lon}<extra></extra>",
         "hovertext": [
          "Zambia"
         ],
         "lat": [
          -14.5189121
         ],
         "legendgroup": "Zambia",
         "lon": [
          27.5589884
         ],
         "marker": {
          "color": "#B6E880",
          "size": [
           4
          ],
          "sizemode": "area",
          "sizeref": 0.7775,
          "symbol": "circle"
         },
         "mode": "markers",
         "name": "Zambia",
         "showlegend": true,
         "type": "scattergeo"
        },
        {
         "geo": "geo",
         "hovertemplate": "<b>%{hovertext}</b><br><br>Nationality=Zimbabwe<br>Goals=%{marker.size}<br>Latitude=%{lat}<br>Longitude=%{lon}<extra></extra>",
         "hovertext": [
          "Zimbabwe"
         ],
         "lat": [
          -18.4554963
         ],
         "legendgroup": "Zimbabwe",
         "lon": [
          29.7468414
         ],
         "marker": {
          "color": "#FF97FF",
          "size": [
           0
          ],
          "sizemode": "area",
          "sizeref": 0.7775,
          "symbol": "circle"
         },
         "mode": "markers",
         "name": "Zimbabwe",
         "showlegend": true,
         "type": "scattergeo"
        }
       ],
       "layout": {
        "geo": {
         "center": {},
         "domain": {
          "x": [
           0,
           1
          ],
          "y": [
           0,
           1
          ]
         },
         "projection": {
          "type": "natural earth"
         }
        },
        "legend": {
         "itemsizing": "constant",
         "title": {
          "text": "Nationality"
         },
         "tracegroupgap": 0
        },
        "template": {
         "data": {
          "bar": [
           {
            "error_x": {
             "color": "#2a3f5f"
            },
            "error_y": {
             "color": "#2a3f5f"
            },
            "marker": {
             "line": {
              "color": "#E5ECF6",
              "width": 0.5
             },
             "pattern": {
              "fillmode": "overlay",
              "size": 10,
              "solidity": 0.2
             }
            },
            "type": "bar"
           }
          ],
          "barpolar": [
           {
            "marker": {
             "line": {
              "color": "#E5ECF6",
              "width": 0.5
             },
             "pattern": {
              "fillmode": "overlay",
              "size": 10,
              "solidity": 0.2
             }
            },
            "type": "barpolar"
           }
          ],
          "carpet": [
           {
            "aaxis": {
             "endlinecolor": "#2a3f5f",
             "gridcolor": "white",
             "linecolor": "white",
             "minorgridcolor": "white",
             "startlinecolor": "#2a3f5f"
            },
            "baxis": {
             "endlinecolor": "#2a3f5f",
             "gridcolor": "white",
             "linecolor": "white",
             "minorgridcolor": "white",
             "startlinecolor": "#2a3f5f"
            },
            "type": "carpet"
           }
          ],
          "choropleth": [
           {
            "colorbar": {
             "outlinewidth": 0,
             "ticks": ""
            },
            "type": "choropleth"
           }
          ],
          "contour": [
           {
            "colorbar": {
             "outlinewidth": 0,
             "ticks": ""
            },
            "colorscale": [
             [
              0,
              "#0d0887"
             ],
             [
              0.1111111111111111,
              "#46039f"
             ],
             [
              0.2222222222222222,
              "#7201a8"
             ],
             [
              0.3333333333333333,
              "#9c179e"
             ],
             [
              0.4444444444444444,
              "#bd3786"
             ],
             [
              0.5555555555555556,
              "#d8576b"
             ],
             [
              0.6666666666666666,
              "#ed7953"
             ],
             [
              0.7777777777777778,
              "#fb9f3a"
             ],
             [
              0.8888888888888888,
              "#fdca26"
             ],
             [
              1,
              "#f0f921"
             ]
            ],
            "type": "contour"
           }
          ],
          "contourcarpet": [
           {
            "colorbar": {
             "outlinewidth": 0,
             "ticks": ""
            },
            "type": "contourcarpet"
           }
          ],
          "heatmap": [
           {
            "colorbar": {
             "outlinewidth": 0,
             "ticks": ""
            },
            "colorscale": [
             [
              0,
              "#0d0887"
             ],
             [
              0.1111111111111111,
              "#46039f"
             ],
             [
              0.2222222222222222,
              "#7201a8"
             ],
             [
              0.3333333333333333,
              "#9c179e"
             ],
             [
              0.4444444444444444,
              "#bd3786"
             ],
             [
              0.5555555555555556,
              "#d8576b"
             ],
             [
              0.6666666666666666,
              "#ed7953"
             ],
             [
              0.7777777777777778,
              "#fb9f3a"
             ],
             [
              0.8888888888888888,
              "#fdca26"
             ],
             [
              1,
              "#f0f921"
             ]
            ],
            "type": "heatmap"
           }
          ],
          "heatmapgl": [
           {
            "colorbar": {
             "outlinewidth": 0,
             "ticks": ""
            },
            "colorscale": [
             [
              0,
              "#0d0887"
             ],
             [
              0.1111111111111111,
              "#46039f"
             ],
             [
              0.2222222222222222,
              "#7201a8"
             ],
             [
              0.3333333333333333,
              "#9c179e"
             ],
             [
              0.4444444444444444,
              "#bd3786"
             ],
             [
              0.5555555555555556,
              "#d8576b"
             ],
             [
              0.6666666666666666,
              "#ed7953"
             ],
             [
              0.7777777777777778,
              "#fb9f3a"
             ],
             [
              0.8888888888888888,
              "#fdca26"
             ],
             [
              1,
              "#f0f921"
             ]
            ],
            "type": "heatmapgl"
           }
          ],
          "histogram": [
           {
            "marker": {
             "pattern": {
              "fillmode": "overlay",
              "size": 10,
              "solidity": 0.2
             }
            },
            "type": "histogram"
           }
          ],
          "histogram2d": [
           {
            "colorbar": {
             "outlinewidth": 0,
             "ticks": ""
            },
            "colorscale": [
             [
              0,
              "#0d0887"
             ],
             [
              0.1111111111111111,
              "#46039f"
             ],
             [
              0.2222222222222222,
              "#7201a8"
             ],
             [
              0.3333333333333333,
              "#9c179e"
             ],
             [
              0.4444444444444444,
              "#bd3786"
             ],
             [
              0.5555555555555556,
              "#d8576b"
             ],
             [
              0.6666666666666666,
              "#ed7953"
             ],
             [
              0.7777777777777778,
              "#fb9f3a"
             ],
             [
              0.8888888888888888,
              "#fdca26"
             ],
             [
              1,
              "#f0f921"
             ]
            ],
            "type": "histogram2d"
           }
          ],
          "histogram2dcontour": [
           {
            "colorbar": {
             "outlinewidth": 0,
             "ticks": ""
            },
            "colorscale": [
             [
              0,
              "#0d0887"
             ],
             [
              0.1111111111111111,
              "#46039f"
             ],
             [
              0.2222222222222222,
              "#7201a8"
             ],
             [
              0.3333333333333333,
              "#9c179e"
             ],
             [
              0.4444444444444444,
              "#bd3786"
             ],
             [
              0.5555555555555556,
              "#d8576b"
             ],
             [
              0.6666666666666666,
              "#ed7953"
             ],
             [
              0.7777777777777778,
              "#fb9f3a"
             ],
             [
              0.8888888888888888,
              "#fdca26"
             ],
             [
              1,
              "#f0f921"
             ]
            ],
            "type": "histogram2dcontour"
           }
          ],
          "mesh3d": [
           {
            "colorbar": {
             "outlinewidth": 0,
             "ticks": ""
            },
            "type": "mesh3d"
           }
          ],
          "parcoords": [
           {
            "line": {
             "colorbar": {
              "outlinewidth": 0,
              "ticks": ""
             }
            },
            "type": "parcoords"
           }
          ],
          "pie": [
           {
            "automargin": true,
            "type": "pie"
           }
          ],
          "scatter": [
           {
            "fillpattern": {
             "fillmode": "overlay",
             "size": 10,
             "solidity": 0.2
            },
            "type": "scatter"
           }
          ],
          "scatter3d": [
           {
            "line": {
             "colorbar": {
              "outlinewidth": 0,
              "ticks": ""
             }
            },
            "marker": {
             "colorbar": {
              "outlinewidth": 0,
              "ticks": ""
             }
            },
            "type": "scatter3d"
           }
          ],
          "scattercarpet": [
           {
            "marker": {
             "colorbar": {
              "outlinewidth": 0,
              "ticks": ""
             }
            },
            "type": "scattercarpet"
           }
          ],
          "scattergeo": [
           {
            "marker": {
             "colorbar": {
              "outlinewidth": 0,
              "ticks": ""
             }
            },
            "type": "scattergeo"
           }
          ],
          "scattergl": [
           {
            "marker": {
             "colorbar": {
              "outlinewidth": 0,
              "ticks": ""
             }
            },
            "type": "scattergl"
           }
          ],
          "scattermapbox": [
           {
            "marker": {
             "colorbar": {
              "outlinewidth": 0,
              "ticks": ""
             }
            },
            "type": "scattermapbox"
           }
          ],
          "scatterpolar": [
           {
            "marker": {
             "colorbar": {
              "outlinewidth": 0,
              "ticks": ""
             }
            },
            "type": "scatterpolar"
           }
          ],
          "scatterpolargl": [
           {
            "marker": {
             "colorbar": {
              "outlinewidth": 0,
              "ticks": ""
             }
            },
            "type": "scatterpolargl"
           }
          ],
          "scatterternary": [
           {
            "marker": {
             "colorbar": {
              "outlinewidth": 0,
              "ticks": ""
             }
            },
            "type": "scatterternary"
           }
          ],
          "surface": [
           {
            "colorbar": {
             "outlinewidth": 0,
             "ticks": ""
            },
            "colorscale": [
             [
              0,
              "#0d0887"
             ],
             [
              0.1111111111111111,
              "#46039f"
             ],
             [
              0.2222222222222222,
              "#7201a8"
             ],
             [
              0.3333333333333333,
              "#9c179e"
             ],
             [
              0.4444444444444444,
              "#bd3786"
             ],
             [
              0.5555555555555556,
              "#d8576b"
             ],
             [
              0.6666666666666666,
              "#ed7953"
             ],
             [
              0.7777777777777778,
              "#fb9f3a"
             ],
             [
              0.8888888888888888,
              "#fdca26"
             ],
             [
              1,
              "#f0f921"
             ]
            ],
            "type": "surface"
           }
          ],
          "table": [
           {
            "cells": {
             "fill": {
              "color": "#EBF0F8"
             },
             "line": {
              "color": "white"
             }
            },
            "header": {
             "fill": {
              "color": "#C8D4E3"
             },
             "line": {
              "color": "white"
             }
            },
            "type": "table"
           }
          ]
         },
         "layout": {
          "annotationdefaults": {
           "arrowcolor": "#2a3f5f",
           "arrowhead": 0,
           "arrowwidth": 1
          },
          "autotypenumbers": "strict",
          "coloraxis": {
           "colorbar": {
            "outlinewidth": 0,
            "ticks": ""
           }
          },
          "colorscale": {
           "diverging": [
            [
             0,
             "#8e0152"
            ],
            [
             0.1,
             "#c51b7d"
            ],
            [
             0.2,
             "#de77ae"
            ],
            [
             0.3,
             "#f1b6da"
            ],
            [
             0.4,
             "#fde0ef"
            ],
            [
             0.5,
             "#f7f7f7"
            ],
            [
             0.6,
             "#e6f5d0"
            ],
            [
             0.7,
             "#b8e186"
            ],
            [
             0.8,
             "#7fbc41"
            ],
            [
             0.9,
             "#4d9221"
            ],
            [
             1,
             "#276419"
            ]
           ],
           "sequential": [
            [
             0,
             "#0d0887"
            ],
            [
             0.1111111111111111,
             "#46039f"
            ],
            [
             0.2222222222222222,
             "#7201a8"
            ],
            [
             0.3333333333333333,
             "#9c179e"
            ],
            [
             0.4444444444444444,
             "#bd3786"
            ],
            [
             0.5555555555555556,
             "#d8576b"
            ],
            [
             0.6666666666666666,
             "#ed7953"
            ],
            [
             0.7777777777777778,
             "#fb9f3a"
            ],
            [
             0.8888888888888888,
             "#fdca26"
            ],
            [
             1,
             "#f0f921"
            ]
           ],
           "sequentialminus": [
            [
             0,
             "#0d0887"
            ],
            [
             0.1111111111111111,
             "#46039f"
            ],
            [
             0.2222222222222222,
             "#7201a8"
            ],
            [
             0.3333333333333333,
             "#9c179e"
            ],
            [
             0.4444444444444444,
             "#bd3786"
            ],
            [
             0.5555555555555556,
             "#d8576b"
            ],
            [
             0.6666666666666666,
             "#ed7953"
            ],
            [
             0.7777777777777778,
             "#fb9f3a"
            ],
            [
             0.8888888888888888,
             "#fdca26"
            ],
            [
             1,
             "#f0f921"
            ]
           ]
          },
          "colorway": [
           "#636efa",
           "#EF553B",
           "#00cc96",
           "#ab63fa",
           "#FFA15A",
           "#19d3f3",
           "#FF6692",
           "#B6E880",
           "#FF97FF",
           "#FECB52"
          ],
          "font": {
           "color": "#2a3f5f"
          },
          "geo": {
           "bgcolor": "white",
           "lakecolor": "white",
           "landcolor": "#E5ECF6",
           "showlakes": true,
           "showland": true,
           "subunitcolor": "white"
          },
          "hoverlabel": {
           "align": "left"
          },
          "hovermode": "closest",
          "mapbox": {
           "style": "light"
          },
          "paper_bgcolor": "white",
          "plot_bgcolor": "#E5ECF6",
          "polar": {
           "angularaxis": {
            "gridcolor": "white",
            "linecolor": "white",
            "ticks": ""
           },
           "bgcolor": "#E5ECF6",
           "radialaxis": {
            "gridcolor": "white",
            "linecolor": "white",
            "ticks": ""
           }
          },
          "scene": {
           "xaxis": {
            "backgroundcolor": "#E5ECF6",
            "gridcolor": "white",
            "gridwidth": 2,
            "linecolor": "white",
            "showbackground": true,
            "ticks": "",
            "zerolinecolor": "white"
           },
           "yaxis": {
            "backgroundcolor": "#E5ECF6",
            "gridcolor": "white",
            "gridwidth": 2,
            "linecolor": "white",
            "showbackground": true,
            "ticks": "",
            "zerolinecolor": "white"
           },
           "zaxis": {
            "backgroundcolor": "#E5ECF6",
            "gridcolor": "white",
            "gridwidth": 2,
            "linecolor": "white",
            "showbackground": true,
            "ticks": "",
            "zerolinecolor": "white"
           }
          },
          "shapedefaults": {
           "line": {
            "color": "#2a3f5f"
           }
          },
          "ternary": {
           "aaxis": {
            "gridcolor": "white",
            "linecolor": "white",
            "ticks": ""
           },
           "baxis": {
            "gridcolor": "white",
            "linecolor": "white",
            "ticks": ""
           },
           "bgcolor": "#E5ECF6",
           "caxis": {
            "gridcolor": "white",
            "linecolor": "white",
            "ticks": ""
           }
          },
          "title": {
           "x": 0.05
          },
          "xaxis": {
           "automargin": true,
           "gridcolor": "white",
           "linecolor": "white",
           "ticks": "",
           "title": {
            "standoff": 15
           },
           "zerolinecolor": "white",
           "zerolinewidth": 2
          },
          "yaxis": {
           "automargin": true,
           "gridcolor": "white",
           "linecolor": "white",
           "ticks": "",
           "title": {
            "standoff": 15
           },
           "zerolinecolor": "white",
           "zerolinewidth": 2
          }
         }
        },
        "title": {
         "text": "Total Goals by Nationality"
        }
       }
      }
     },
     "metadata": {},
     "output_type": "display_data"
    }
   ],
   "source": [
    "fig = px.scatter_geo(grouped_data, lat='Latitude', lon='Longitude', color='Nationality',\n",
    "                     hover_name='Nationality', size='Goals',\n",
    "                     title='Total Goals by Nationality', projection=\"natural earth\" )\n",
    "\n",
    "fig.show()"
   ]
  },
  {
   "cell_type": "code",
   "execution_count": 125,
   "metadata": {},
   "outputs": [
    {
     "data": {
      "application/vnd.plotly.v1+json": {
       "config": {
        "plotlyServerURL": "https://plot.ly"
       },
       "data": [
        {
         "geo": "geo",
         "hoverinfo": "text",
         "lat": [
          41.000028,
          28.0000272,
          -34.9964963,
          -24.7761086,
          47.59397,
          50.6402809,
          44.3053476,
          -10.3333333,
          12.0753083,
          4.6125522,
          4.099917,
          10.2735633,
          7.9897371,
          45.3658443,
          -2.9814344,
          55.670249,
          -1.3397668,
          26.2540493,
          52.5310214,
          46.603354,
          -0.8999695,
          51.1638175,
          8.0300284,
          38.9953683,
          12.1360374,
          10.7226226,
          32.6475314,
          52.865196,
          30.8124247,
          42.6384261,
          18.1850507,
          36.5748441,
          16.3700359,
          23.6585116,
          31.1728205,
          52.2434979,
          -41.5000831,
          9.6000359,
          54.5859836,
          61.1529386,
          -23.3165935,
          52.215933,
          39.6621648,
          56.7861112,
          14.4750607,
          44.1534121,
          48.7411522,
          36.638392,
          39.3260685,
          59.6749712,
          46.7985624,
          33.8439408,
          49.4871968,
          39.7837304,
          -32.8755548,
          8.0018709,
          52.2928116,
          -14.5189121,
          -18.4554963
         ],
         "lon": [
          19.9999619,
          2.9999825,
          -64.9672817,
          134.755,
          14.12456,
          4.6667145,
          17.5961467,
          -53.2,
          -1.6880314,
          13.1535811,
          -72.9088133,
          -84.0739102,
          -5.5679458,
          15.6575209,
          23.8222636,
          10.3333283,
          -79.3666965,
          29.2675469,
          -1.2649062,
          1.8883335,
          11.6899699,
          10.4478313,
          -1.0800271,
          21.9877132,
          -61.6904045,
          -10.7083587,
          54.5643516,
          -7.9794599,
          34.8594762,
          12.674297,
          -77.3947693,
          139.2394179,
          -2.2900239,
          -102.0077097,
          -7.3362482,
          5.6343227,
          172.8344077,
          7.9999721,
          -6.9591554,
          8.7876653,
          -58.1693445,
          19.134422,
          -8.1353519,
          -4.1140518,
          -14.4529612,
          20.55144,
          19.4528646,
          127.6961188,
          -4.8379791,
          14.5208584,
          8.2319736,
          9.400138,
          31.2718321,
          -100.445882,
          -56.0201525,
          -66.1109318,
          -3.73893,
          27.5589884,
          29.7468414
         ],
         "marker": {
          "color": "crimson",
          "opacity": 0.8,
          "size": 10
         },
         "mode": "markers",
         "showlegend": false,
         "text": [
          "Albania",
          "Algeria",
          "Argentina",
          "Australia",
          "Austria",
          "Belgium",
          "Bosnia & Herzegovina",
          "Brazil",
          "Burkina Faso",
          "Cameroon",
          "Colombia",
          "Costa Rica",
          "Cote D’Ivoire",
          "Croatia",
          "DR Congo",
          "Denmark",
          "Ecuador",
          "Egypt",
          "England",
          "France",
          "Gabon",
          "Germany",
          "Ghana",
          "Greece",
          "Grenada",
          "Guinea",
          "Iran",
          "Ireland",
          "Israel",
          "Italy",
          "Jamaica",
          "Japan",
          "Mali",
          "Mexico",
          "Morocco",
          "Netherlands",
          "New Zealand",
          "Nigeria",
          "Northern Ireland",
          "Norway",
          "Paraguay",
          "Poland",
          "Portugal",
          "Scotland",
          "Senegal",
          "Serbia",
          "Slovakia",
          "South Korea",
          "Spain",
          "Sweden",
          "Switzerland",
          "Tunisia",
          "Ukraine",
          "United States",
          "Uruguay",
          "Venezuela",
          "Wales",
          "Zambia",
          "Zimbabwe"
         ],
         "type": "scattergeo"
        },
        {
         "marker": {
          "color": "crimson"
         },
         "showlegend": false,
         "type": "bar",
         "x": [
          "England",
          "Brazil",
          "Norway",
          "Portugal",
          "Argentina",
          "Spain",
          "France",
          "Germany",
          "Belgium",
          "Denmark",
          "Wales",
          "Egypt",
          "Netherlands",
          "Nigeria",
          "Colombia",
          "Uruguay",
          "Jamaica",
          "Paraguay",
          "Sweden",
          "South Korea"
         ],
         "xaxis": "x",
         "y": [
          311,
          82,
          49,
          42,
          31,
          25,
          24,
          24,
          24,
          21,
          19,
          18,
          18,
          15,
          15,
          15,
          15,
          13,
          13,
          12
         ],
         "yaxis": "y"
        }
       ],
       "layout": {
        "annotations": [
         {
          "showarrow": false,
          "text": "Source: Premier League",
          "x": 0,
          "xref": "paper",
          "y": -0.1,
          "yref": "paper"
         }
        ],
        "geo": {
         "domain": {
          "x": [
           0,
           0.54
          ],
          "y": [
           0,
           1
          ]
         },
         "lakecolor": "LightBlue",
         "landcolor": "white",
         "oceancolor": "MidnightBlue",
         "projection": {
          "type": "orthographic"
         },
         "showocean": true
        },
        "margin": {
         "b": 40,
         "l": 60,
         "r": 10,
         "t": 50
        },
        "template": {
         "data": {
          "bar": [
           {
            "error_x": {
             "color": "#f2f5fa"
            },
            "error_y": {
             "color": "#f2f5fa"
            },
            "marker": {
             "line": {
              "color": "rgb(17,17,17)",
              "width": 0.5
             },
             "pattern": {
              "fillmode": "overlay",
              "size": 10,
              "solidity": 0.2
             }
            },
            "type": "bar"
           }
          ],
          "barpolar": [
           {
            "marker": {
             "line": {
              "color": "rgb(17,17,17)",
              "width": 0.5
             },
             "pattern": {
              "fillmode": "overlay",
              "size": 10,
              "solidity": 0.2
             }
            },
            "type": "barpolar"
           }
          ],
          "carpet": [
           {
            "aaxis": {
             "endlinecolor": "#A2B1C6",
             "gridcolor": "#506784",
             "linecolor": "#506784",
             "minorgridcolor": "#506784",
             "startlinecolor": "#A2B1C6"
            },
            "baxis": {
             "endlinecolor": "#A2B1C6",
             "gridcolor": "#506784",
             "linecolor": "#506784",
             "minorgridcolor": "#506784",
             "startlinecolor": "#A2B1C6"
            },
            "type": "carpet"
           }
          ],
          "choropleth": [
           {
            "colorbar": {
             "outlinewidth": 0,
             "ticks": ""
            },
            "type": "choropleth"
           }
          ],
          "contour": [
           {
            "colorbar": {
             "outlinewidth": 0,
             "ticks": ""
            },
            "colorscale": [
             [
              0,
              "#0d0887"
             ],
             [
              0.1111111111111111,
              "#46039f"
             ],
             [
              0.2222222222222222,
              "#7201a8"
             ],
             [
              0.3333333333333333,
              "#9c179e"
             ],
             [
              0.4444444444444444,
              "#bd3786"
             ],
             [
              0.5555555555555556,
              "#d8576b"
             ],
             [
              0.6666666666666666,
              "#ed7953"
             ],
             [
              0.7777777777777778,
              "#fb9f3a"
             ],
             [
              0.8888888888888888,
              "#fdca26"
             ],
             [
              1,
              "#f0f921"
             ]
            ],
            "type": "contour"
           }
          ],
          "contourcarpet": [
           {
            "colorbar": {
             "outlinewidth": 0,
             "ticks": ""
            },
            "type": "contourcarpet"
           }
          ],
          "heatmap": [
           {
            "colorbar": {
             "outlinewidth": 0,
             "ticks": ""
            },
            "colorscale": [
             [
              0,
              "#0d0887"
             ],
             [
              0.1111111111111111,
              "#46039f"
             ],
             [
              0.2222222222222222,
              "#7201a8"
             ],
             [
              0.3333333333333333,
              "#9c179e"
             ],
             [
              0.4444444444444444,
              "#bd3786"
             ],
             [
              0.5555555555555556,
              "#d8576b"
             ],
             [
              0.6666666666666666,
              "#ed7953"
             ],
             [
              0.7777777777777778,
              "#fb9f3a"
             ],
             [
              0.8888888888888888,
              "#fdca26"
             ],
             [
              1,
              "#f0f921"
             ]
            ],
            "type": "heatmap"
           }
          ],
          "heatmapgl": [
           {
            "colorbar": {
             "outlinewidth": 0,
             "ticks": ""
            },
            "colorscale": [
             [
              0,
              "#0d0887"
             ],
             [
              0.1111111111111111,
              "#46039f"
             ],
             [
              0.2222222222222222,
              "#7201a8"
             ],
             [
              0.3333333333333333,
              "#9c179e"
             ],
             [
              0.4444444444444444,
              "#bd3786"
             ],
             [
              0.5555555555555556,
              "#d8576b"
             ],
             [
              0.6666666666666666,
              "#ed7953"
             ],
             [
              0.7777777777777778,
              "#fb9f3a"
             ],
             [
              0.8888888888888888,
              "#fdca26"
             ],
             [
              1,
              "#f0f921"
             ]
            ],
            "type": "heatmapgl"
           }
          ],
          "histogram": [
           {
            "marker": {
             "pattern": {
              "fillmode": "overlay",
              "size": 10,
              "solidity": 0.2
             }
            },
            "type": "histogram"
           }
          ],
          "histogram2d": [
           {
            "colorbar": {
             "outlinewidth": 0,
             "ticks": ""
            },
            "colorscale": [
             [
              0,
              "#0d0887"
             ],
             [
              0.1111111111111111,
              "#46039f"
             ],
             [
              0.2222222222222222,
              "#7201a8"
             ],
             [
              0.3333333333333333,
              "#9c179e"
             ],
             [
              0.4444444444444444,
              "#bd3786"
             ],
             [
              0.5555555555555556,
              "#d8576b"
             ],
             [
              0.6666666666666666,
              "#ed7953"
             ],
             [
              0.7777777777777778,
              "#fb9f3a"
             ],
             [
              0.8888888888888888,
              "#fdca26"
             ],
             [
              1,
              "#f0f921"
             ]
            ],
            "type": "histogram2d"
           }
          ],
          "histogram2dcontour": [
           {
            "colorbar": {
             "outlinewidth": 0,
             "ticks": ""
            },
            "colorscale": [
             [
              0,
              "#0d0887"
             ],
             [
              0.1111111111111111,
              "#46039f"
             ],
             [
              0.2222222222222222,
              "#7201a8"
             ],
             [
              0.3333333333333333,
              "#9c179e"
             ],
             [
              0.4444444444444444,
              "#bd3786"
             ],
             [
              0.5555555555555556,
              "#d8576b"
             ],
             [
              0.6666666666666666,
              "#ed7953"
             ],
             [
              0.7777777777777778,
              "#fb9f3a"
             ],
             [
              0.8888888888888888,
              "#fdca26"
             ],
             [
              1,
              "#f0f921"
             ]
            ],
            "type": "histogram2dcontour"
           }
          ],
          "mesh3d": [
           {
            "colorbar": {
             "outlinewidth": 0,
             "ticks": ""
            },
            "type": "mesh3d"
           }
          ],
          "parcoords": [
           {
            "line": {
             "colorbar": {
              "outlinewidth": 0,
              "ticks": ""
             }
            },
            "type": "parcoords"
           }
          ],
          "pie": [
           {
            "automargin": true,
            "type": "pie"
           }
          ],
          "scatter": [
           {
            "marker": {
             "line": {
              "color": "#283442"
             }
            },
            "type": "scatter"
           }
          ],
          "scatter3d": [
           {
            "line": {
             "colorbar": {
              "outlinewidth": 0,
              "ticks": ""
             }
            },
            "marker": {
             "colorbar": {
              "outlinewidth": 0,
              "ticks": ""
             }
            },
            "type": "scatter3d"
           }
          ],
          "scattercarpet": [
           {
            "marker": {
             "colorbar": {
              "outlinewidth": 0,
              "ticks": ""
             }
            },
            "type": "scattercarpet"
           }
          ],
          "scattergeo": [
           {
            "marker": {
             "colorbar": {
              "outlinewidth": 0,
              "ticks": ""
             }
            },
            "type": "scattergeo"
           }
          ],
          "scattergl": [
           {
            "marker": {
             "line": {
              "color": "#283442"
             }
            },
            "type": "scattergl"
           }
          ],
          "scattermapbox": [
           {
            "marker": {
             "colorbar": {
              "outlinewidth": 0,
              "ticks": ""
             }
            },
            "type": "scattermapbox"
           }
          ],
          "scatterpolar": [
           {
            "marker": {
             "colorbar": {
              "outlinewidth": 0,
              "ticks": ""
             }
            },
            "type": "scatterpolar"
           }
          ],
          "scatterpolargl": [
           {
            "marker": {
             "colorbar": {
              "outlinewidth": 0,
              "ticks": ""
             }
            },
            "type": "scatterpolargl"
           }
          ],
          "scatterternary": [
           {
            "marker": {
             "colorbar": {
              "outlinewidth": 0,
              "ticks": ""
             }
            },
            "type": "scatterternary"
           }
          ],
          "surface": [
           {
            "colorbar": {
             "outlinewidth": 0,
             "ticks": ""
            },
            "colorscale": [
             [
              0,
              "#0d0887"
             ],
             [
              0.1111111111111111,
              "#46039f"
             ],
             [
              0.2222222222222222,
              "#7201a8"
             ],
             [
              0.3333333333333333,
              "#9c179e"
             ],
             [
              0.4444444444444444,
              "#bd3786"
             ],
             [
              0.5555555555555556,
              "#d8576b"
             ],
             [
              0.6666666666666666,
              "#ed7953"
             ],
             [
              0.7777777777777778,
              "#fb9f3a"
             ],
             [
              0.8888888888888888,
              "#fdca26"
             ],
             [
              1,
              "#f0f921"
             ]
            ],
            "type": "surface"
           }
          ],
          "table": [
           {
            "cells": {
             "fill": {
              "color": "#506784"
             },
             "line": {
              "color": "rgb(17,17,17)"
             }
            },
            "header": {
             "fill": {
              "color": "#2a3f5f"
             },
             "line": {
              "color": "rgb(17,17,17)"
             }
            },
            "type": "table"
           }
          ]
         },
         "layout": {
          "annotationdefaults": {
           "arrowcolor": "#f2f5fa",
           "arrowhead": 0,
           "arrowwidth": 1
          },
          "autotypenumbers": "strict",
          "coloraxis": {
           "colorbar": {
            "outlinewidth": 0,
            "ticks": ""
           }
          },
          "colorscale": {
           "diverging": [
            [
             0,
             "#8e0152"
            ],
            [
             0.1,
             "#c51b7d"
            ],
            [
             0.2,
             "#de77ae"
            ],
            [
             0.3,
             "#f1b6da"
            ],
            [
             0.4,
             "#fde0ef"
            ],
            [
             0.5,
             "#f7f7f7"
            ],
            [
             0.6,
             "#e6f5d0"
            ],
            [
             0.7,
             "#b8e186"
            ],
            [
             0.8,
             "#7fbc41"
            ],
            [
             0.9,
             "#4d9221"
            ],
            [
             1,
             "#276419"
            ]
           ],
           "sequential": [
            [
             0,
             "#0d0887"
            ],
            [
             0.1111111111111111,
             "#46039f"
            ],
            [
             0.2222222222222222,
             "#7201a8"
            ],
            [
             0.3333333333333333,
             "#9c179e"
            ],
            [
             0.4444444444444444,
             "#bd3786"
            ],
            [
             0.5555555555555556,
             "#d8576b"
            ],
            [
             0.6666666666666666,
             "#ed7953"
            ],
            [
             0.7777777777777778,
             "#fb9f3a"
            ],
            [
             0.8888888888888888,
             "#fdca26"
            ],
            [
             1,
             "#f0f921"
            ]
           ],
           "sequentialminus": [
            [
             0,
             "#0d0887"
            ],
            [
             0.1111111111111111,
             "#46039f"
            ],
            [
             0.2222222222222222,
             "#7201a8"
            ],
            [
             0.3333333333333333,
             "#9c179e"
            ],
            [
             0.4444444444444444,
             "#bd3786"
            ],
            [
             0.5555555555555556,
             "#d8576b"
            ],
            [
             0.6666666666666666,
             "#ed7953"
            ],
            [
             0.7777777777777778,
             "#fb9f3a"
            ],
            [
             0.8888888888888888,
             "#fdca26"
            ],
            [
             1,
             "#f0f921"
            ]
           ]
          },
          "colorway": [
           "#636efa",
           "#EF553B",
           "#00cc96",
           "#ab63fa",
           "#FFA15A",
           "#19d3f3",
           "#FF6692",
           "#B6E880",
           "#FF97FF",
           "#FECB52"
          ],
          "font": {
           "color": "#f2f5fa"
          },
          "geo": {
           "bgcolor": "rgb(17,17,17)",
           "lakecolor": "rgb(17,17,17)",
           "landcolor": "rgb(17,17,17)",
           "showlakes": true,
           "showland": true,
           "subunitcolor": "#506784"
          },
          "hoverlabel": {
           "align": "left"
          },
          "hovermode": "closest",
          "mapbox": {
           "style": "dark"
          },
          "paper_bgcolor": "rgb(17,17,17)",
          "plot_bgcolor": "rgb(17,17,17)",
          "polar": {
           "angularaxis": {
            "gridcolor": "#506784",
            "linecolor": "#506784",
            "ticks": ""
           },
           "bgcolor": "rgb(17,17,17)",
           "radialaxis": {
            "gridcolor": "#506784",
            "linecolor": "#506784",
            "ticks": ""
           }
          },
          "scene": {
           "xaxis": {
            "backgroundcolor": "rgb(17,17,17)",
            "gridcolor": "#506784",
            "gridwidth": 2,
            "linecolor": "#506784",
            "showbackground": true,
            "ticks": "",
            "zerolinecolor": "#C8D4E3"
           },
           "yaxis": {
            "backgroundcolor": "rgb(17,17,17)",
            "gridcolor": "#506784",
            "gridwidth": 2,
            "linecolor": "#506784",
            "showbackground": true,
            "ticks": "",
            "zerolinecolor": "#C8D4E3"
           },
           "zaxis": {
            "backgroundcolor": "rgb(17,17,17)",
            "gridcolor": "#506784",
            "gridwidth": 2,
            "linecolor": "#506784",
            "showbackground": true,
            "ticks": "",
            "zerolinecolor": "#C8D4E3"
           }
          },
          "shapedefaults": {
           "line": {
            "color": "#f2f5fa"
           }
          },
          "sliderdefaults": {
           "bgcolor": "#C8D4E3",
           "bordercolor": "rgb(17,17,17)",
           "borderwidth": 1,
           "tickwidth": 0
          },
          "ternary": {
           "aaxis": {
            "gridcolor": "#506784",
            "linecolor": "#506784",
            "ticks": ""
           },
           "baxis": {
            "gridcolor": "#506784",
            "linecolor": "#506784",
            "ticks": ""
           },
           "bgcolor": "rgb(17,17,17)",
           "caxis": {
            "gridcolor": "#506784",
            "linecolor": "#506784",
            "ticks": ""
           }
          },
          "title": {
           "x": 0.05
          },
          "updatemenudefaults": {
           "bgcolor": "#506784",
           "borderwidth": 0
          },
          "xaxis": {
           "automargin": true,
           "gridcolor": "#283442",
           "linecolor": "#506784",
           "ticks": "",
           "title": {
            "standoff": 15
           },
           "zerolinecolor": "#283442",
           "zerolinewidth": 2
          },
          "yaxis": {
           "automargin": true,
           "gridcolor": "#283442",
           "linecolor": "#506784",
           "ticks": "",
           "title": {
            "standoff": 15
           },
           "zerolinecolor": "#283442",
           "zerolinewidth": 2
          }
         }
        },
        "title": {
         "font": {
          "size": 24
         },
         "text": "Football Players' Nationalities and Total Goals"
        },
        "xaxis": {
         "anchor": "y",
         "domain": [
          0.64,
          1
         ],
         "tickangle": 45
        },
        "yaxis": {
         "anchor": "x",
         "domain": [
          0,
          1
         ]
        }
       }
      }
     },
     "metadata": {},
     "output_type": "display_data"
    }
   ],
   "source": [
    "import plotly.graph_objects as go\n",
    "from plotly.subplots import make_subplots\n",
    "\n",
    "# Assuming you have already loaded the data into a DataFrame called full_df\n",
    "# and grouped_data has been prepared with the latitude and longitude\n",
    "\n",
    "# Initialize figure with subplots\n",
    "fig = make_subplots(\n",
    "    rows=2, cols=2,\n",
    "    column_widths=[0.6, 0.4],\n",
    "    row_heights=[0.5, 0.5],\n",
    "    specs=[[{\"type\": \"scattergeo\", \"rowspan\": 2}, {\"type\": \"bar\", \"rowspan\": 2}],\n",
    "           [None, None]]\n",
    ")\n",
    "\n",
    "top_20 = grouped_data.sort_values(by='Goals', ascending=False).head(20)\n",
    "\n",
    "# Add scattergeo globe map of football player nationalities\n",
    "fig.add_trace(\n",
    "    go.Scattergeo(lat=grouped_data['Latitude'],\n",
    "                  lon=grouped_data['Longitude'],\n",
    "                  mode=\"markers\",\n",
    "                  hoverinfo=\"text\",\n",
    "                  text=grouped_data['Nationality'],\n",
    "                  showlegend=False,\n",
    "                  marker=dict(color=\"crimson\", size=10, opacity=0.8)),\n",
    "    row=1, col=1\n",
    ")\n",
    "\n",
    "# Add bar chart of the total goals by nationality\n",
    "fig.add_trace(\n",
    "    go.Bar(x=top_20['Nationality'], y=top_20['Goals'], marker=dict(color=\"crimson\"), showlegend=False),\n",
    "    row=1, col=2\n",
    ")\n",
    "\n",
    "# Update geo subplot properties\n",
    "fig.update_geos(\n",
    "    projection_type=\"orthographic\",\n",
    "    landcolor=\"white\",\n",
    "    oceancolor=\"MidnightBlue\",\n",
    "    showocean=True,\n",
    "    lakecolor=\"LightBlue\"\n",
    ")\n",
    "\n",
    "# Rotate x-axis labels\n",
    "fig.update_xaxes(tickangle=45)\n",
    "\n",
    "# Set theme, margin, and annotation in layout\n",
    "fig.update_layout(\n",
    "    template=\"plotly_dark\",\n",
    "    title=\"Football Players' Nationalities and Total Goals\",\n",
    "    title_font=dict(size=24),\n",
    "    margin=dict(r=10, t=50, b=40, l=60),\n",
    "    annotations=[\n",
    "        dict(\n",
    "            text=\"Source: Premier League\",\n",
    "            showarrow=False,\n",
    "            xref=\"paper\",\n",
    "            yref=\"paper\",\n",
    "            x=0,\n",
    "            y=-0.1)\n",
    "    ]\n",
    ")\n",
    "\n",
    "fig.show()\n"
   ]
  }
 ],
 "metadata": {
  "kernelspec": {
   "display_name": "Python 3",
   "language": "python",
   "name": "python3"
  },
  "language_info": {
   "codemirror_mode": {
    "name": "ipython",
    "version": 3
   },
   "file_extension": ".py",
   "mimetype": "text/x-python",
   "name": "python",
   "nbconvert_exporter": "python",
   "pygments_lexer": "ipython3",
   "version": "3.11.2"
  },
  "orig_nbformat": 4
 },
 "nbformat": 4,
 "nbformat_minor": 2
}
